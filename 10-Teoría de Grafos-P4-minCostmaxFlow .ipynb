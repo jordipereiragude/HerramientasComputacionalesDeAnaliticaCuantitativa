{
 "cells": [
  {
   "cell_type": "code",
   "execution_count": 1,
   "metadata": {},
   "outputs": [
    {
     "ename": "LoadError",
     "evalue": "LoadError: UndefVarError: arcoFlow not defined\nwhile loading /home/jovyan/HerramientasComputacionalesDeAnaliticaCuantitativa/mcmf.jl, in expression starting on line 8",
     "output_type": "error",
     "traceback": [
      "LoadError: UndefVarError: arcoFlow not defined\nwhile loading /home/jovyan/HerramientasComputacionalesDeAnaliticaCuantitativa/mcmf.jl, in expression starting on line 8",
      "",
      " in include_from_node1(::String) at ./loading.jl:488",
      " in include_string(::String, ::String) at ./loading.jl:441"
     ]
    }
   ],
   "source": [
    "# declaraciones de librerías\n",
    "using DataStructures\n",
    "include(\"mcmf.jl\")\n",
    "#type arcoMCMF\n",
    "#    origen::Int64\n",
    "#    destino::Int64\n",
    "#    capacidad::Int64\n",
    "#    cost::Int64\n",
    "#end\n",
    "\n",
    "#type gMCMF\n",
    "#    nVertices::Int64\n",
    "#    nArcos::Int64\n",
    "#    arcos::Array{arcoFlow,1} #arco[i,j] indica la distancia entre i y j\n",
    "#end"
   ]
  },
  {
   "cell_type": "markdown",
   "metadata": {},
   "source": [
    "# Min cost max flow\n",
    "\n",
    "El problema de min cost max flow es una extensión natural del problema de flujo máximo que tiene en cuenta los costes de transporte. El objetivo será ahora transportar la máxima cantidad de flujo posible (o la cantidad de flujo necesaria) intentando minimizar los costos de transporte asociados a cada arco.\n",
    "\n",
    "Aparte de su interés como problema práctico, el modelo generaliza a otros problemas que han sido extensamente estudiados en la literatura como el problema de asignación y el problema de transporte (problema de Hitchcock).\n",
    "\n",
    "Mostraremos un algoritmo aunque usaremos dos algoritmos diferentes para resolver el problema y aprovecharemos para tratar dos temas secundarios (importar archivos con código en Julia y ejecutar código programado en C).\n",
    "\n",
    "# Algoritmo de cancelación de ciclos \n",
    "\n",
    "Uno de los algoritmos más simples tanto en idea, implementación y uso para el problema se basa en el siguiente concepto: <br><br>\n",
    "\n",
    "<center><b>\"Si en el grafo residual de una solución de flujo máximo existe un circuito de costo no negativo, la solución actual no es óptima y puede mejorarse redirigiendo el flujo según indica el circuito.\"</b></center>\n",
    "\n",
    "Este circuito marca una reconducción de flujo (un cambio) que, sin variar el flujo total que llega al destino, disminuye el coste. \n",
    "\n",
    "De forma esquemática, el algoritmo resultante de usar esta propiedad sería:\n",
    "\n",
    "<b>P1. Inicialización:</b> Encontramos un flujo máximo\n",
    "\n",
    "<b>P2. Buscar ciclos:</b> Buscamos ciclos en el grafo residual (p.ej. mediante el algoritmo de Bellman-Ford visto con anterioridad, o resolviendo un problema conocido como el \"mean cycle problem\", lo que reporta una algoritmo fuertemente polinomial)\n",
    "\n",
    "<b>P3. Update:</b> Si no hay ciclos de costo negativo fin, si no actualizar el grafo residual.\n",
    "\n",
    "<b>P4. Recalcular:</b> Ir a paso 2.\n",
    "\n",
    "El funcionamiento del algoritmo puede visualizarse en: https://www-m9.ma.tum.de/graph-algorithms/flow-cycle-cancelling/index_en.html"
   ]
  },
  {
   "cell_type": "code",
   "execution_count": null,
   "metadata": {
    "collapsed": true
   },
   "outputs": [],
   "source": []
  },
  {
   "cell_type": "markdown",
   "metadata": {},
   "source": [
    "# Llamando a una rutina escrita en C (scaling algorithm de Goldberg)\n",
    "\n",
    "En ocasiones un procedimiento o rutina ya existe en otro lenguaje (en nuestra área típicamente en C o en Fortran) y uno quiere hacer uso del mismo en vez de entrar en detalles de implementación.\n",
    "\n",
    "Este es el caso de los algoritmos de cost scaling para max-flow min-cost. Es un algoritmo difícil de implementar que requiere mucho cuidado para obtener implementaciones verdaderamente eficientes (esto es, implementaciones que superen los resultados obtenidos por algoritmos más simples o por el uso de Cplex). \n",
    "\n",
    "Goldberg publicó una implementación de su algoritmo que utlizaremos aquí (saltándonos ligeramente las leyes de copyright ya que el código no es estrictamente libre y consideraré que se trata de \"abandonware\").  \n",
    "\n",
    "Nosotros usaremos la implementación para demostrar cómo llamar a una función en C. \n",
    "\n",
    "El código de C tiene dos archivos y ha sido retocado lo mínimo posible (por lo que es un \"pequeño caos\"). La función más importante es la función de c llamada: <b>XXXX</b>\n",
    "\n",
    "Para compilar el código como una librería: gcc -Wall -shared -o cs2.so -lm -fPIC cs2.c"
   ]
  },
  {
   "cell_type": "code",
   "execution_count": null,
   "metadata": {
    "collapsed": true
   },
   "outputs": [],
   "source": []
  },
  {
   "cell_type": "markdown",
   "metadata": {},
   "source": [
    "# ¿Qué se nos ha quedado en el tintero?\n",
    "\n",
    "La respuesta es sí, lógicamente. Entre las cosas que podrían haberse visto pero no ha dado tiempo:\n",
    "\n",
    "* Branch and bound. Una buena manera de empezar sería a partir del problema de las n-reinas visto con anterioridad. La interelación entre branch and bound y programación dinámica también es un tópico que podríamos haber estudiado y analizado.\n",
    "* Benders decomposition. Aunque no se ha visto como implementación, sí se ha tratado del tema durante la descripción de JuMP y los planos cortantes.\n",
    "* Branch and price y branch, cut and price. Aunque forman parte del toolbox, es un algoritmo difícil de programar y optimizar.\n",
    "* Asignación, transporte y matching. Hemos visto un caso más general que los anteriores (excepto matching no bipartito), pero estos problemas acostumbran a tratarse como subproblemas y no se han visto en el curso\n",
    "* Heurísticas y metaheurísticas."
   ]
  }
 ],
 "metadata": {
  "kernelspec": {
   "display_name": "Julia 0.5.2",
   "language": "julia",
   "name": "julia-0.5"
  },
  "language_info": {
   "file_extension": ".jl",
   "mimetype": "application/julia",
   "name": "julia",
   "version": "0.5.2"
  }
 },
 "nbformat": 4,
 "nbformat_minor": 2
}
