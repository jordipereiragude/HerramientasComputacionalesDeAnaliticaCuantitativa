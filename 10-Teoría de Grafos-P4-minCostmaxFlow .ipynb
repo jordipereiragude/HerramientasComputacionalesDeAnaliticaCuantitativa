{
 "cells": [
  {
   "cell_type": "code",
   "execution_count": 1,
   "metadata": {
    "collapsed": true
   },
   "outputs": [],
   "source": [
    "# declaraciones de librerías\n",
    "using DataStructures\n",
    "#include(\"mcmf.jl\")\n",
    "type arcoMCMF\n",
    "    origen::Int64\n",
    "    destino::Int64\n",
    "    flow::Int64\n",
    "    capacidad::Int64\n",
    "    cost::Int64\n",
    "    rev::Int64  # index of reverse edge\n",
    "end\n",
    "type gMCMF\n",
    "    nVertices::Int64\n",
    "    nArcos::Array{Int64,1}\n",
    "    adj::Array{arcoMCMF,2}  #adjacency\n",
    "end"
   ]
  },
  {
   "cell_type": "code",
   "execution_count": 2,
   "metadata": {},
   "outputs": [
    {
     "data": {
      "text/plain": [
       "GTMaxFlow!"
      ]
     },
     "execution_count": 2,
     "metadata": {},
     "output_type": "execute_result"
    }
   ],
   "source": [
    "\"\"\"\n",
    "Rutina para generar instancias\n",
    "\"\"\"\n",
    "function generarGrafoSparse(n::Int64,sp::Float64,maxValue::Int64,maxCost::Int64)\n",
    "    a=arcoMCMF[]\n",
    "    for i in 1:n\n",
    "        for j in i+1:n\n",
    "            if rand() <= 2.0*sp\n",
    "                if randn() < 0.0\n",
    "                    push!(a,arcoMCMF(i,j,0,rand(1:maxValue),rand(1:maxCost),0))\n",
    "                else\n",
    "                    push!(a,arcoMCMF(j,i,0,rand(1:maxValue),rand(1:maxCost),0))\n",
    "                end\n",
    "            end\n",
    "        end\n",
    "    end\n",
    "    nArcos=zeros(Int64,n)\n",
    "    for arco in a\n",
    "        nArcos[arco.origen] += 1\n",
    "        nArcos[arco.destino] += 1\n",
    "    end\n",
    "    adj = Array{arcoMCMF}(n,maximum(nArcos))\n",
    "    nArcos=zeros(Int64,n)\n",
    "    for arco in a\n",
    "        u=arco.origen\n",
    "        v=arco.destino\n",
    "        nArcos[u] += 1\n",
    "        nArcos[v] += 1\n",
    "        adj[u,nArcos[u]]=arcoMCMF(u,v,0,arco.capacidad,arco.cost,nArcos[v])\n",
    "        adj[v,nArcos[v]]=arcoMCMF(v,u,0,0,arco.cost,nArcos[u])\n",
    "    end\n",
    "    return gMCMF(n,nArcos,adj)\n",
    "end\n",
    "\n",
    "\"\"\"\n",
    "Rutina para resolver el problema de maxflow. Otorga una solución inicial y calcula el flujo máximo\n",
    "\"\"\"\n",
    "function GTMaxFlow!(g::gMCMF,s::Int64,t::Int64)\n",
    "    #inicialización\n",
    "    for i in 1:G.nVertices\n",
    "        for j in 1:G.nArcos[i]\n",
    "            G.adj[i,j].flow=0\n",
    "        end\n",
    "    end\n",
    "    maxflow=0\n",
    "    label=zeros(Int64,g.nVertices)\n",
    "    label[s]=g.nVertices\n",
    "    exflow=PriorityQueue(Int64,Int64,Base.Order.Reverse)\n",
    "    for i in 1:g.nVertices\n",
    "        enqueue!(exflow,i,0)\n",
    "    end\n",
    "    for i in 1:g.nArcos[s]\n",
    "        exflow[g.adj[s,i].destino]=g.adj[s,i].capacidad\n",
    "        g.adj[s,i].flow=g.adj[s,i].capacidad\n",
    "        g.adj[ g.adj[s,i].destino , g.adj[s,i].rev ].flow = 0 - g.adj[s,i].capacidad\n",
    "    end\n",
    "    node,value = peek(exflow)\n",
    "    while value>0\n",
    "        done=false\n",
    "        #push\n",
    "        # set γ=min{excess(node),u_f(e)} where v is the source of e and e is (u,v) and Ψ(u)=Ψ(v)+1\n",
    "        # aument f along e by γ\n",
    "        for c in 1:g.nArcos[node]\n",
    "            if (done==false) && (label[node]>label[g.adj[node,c].destino]) && (g.adj[node,c].flow<g.adj[node,c].capacidad)\n",
    "                #podemos hacer push de flow\n",
    "                amount=min(value,g.adj[node,c].capacidad-g.adj[node,c].flow)\n",
    "                #println(\"push de flow entre \",node,\" y \",g.adj[node,c].destino,\"\\t\",amount)\n",
    "                #actualizamos\n",
    "                exflow[node] = value - amount\n",
    "                if g.adj[node,c].destino == t\n",
    "                    maxflow += amount\n",
    "                else\n",
    "                    if g.adj[node,c].destino != s\n",
    "                        exflow[g.adj[node,c].destino] += amount\n",
    "                    end\n",
    "                end\n",
    "                g.adj[node,c].flow += amount\n",
    "                g.adj[g.adj[node,c].destino,g.adj[node,c].rev].flow -= amount\n",
    "                done=true\n",
    "            end\n",
    "        end\n",
    "        #relabel\n",
    "        if done==false\n",
    "        #set Ψ(v)= 1 + min{ ψ(w) : (v,w)∈δ^+_G_f(v)}\n",
    "            minvalor=g.nVertices*2\n",
    "            for c in 1:g.nArcos[node]\n",
    "                if (g.adj[node,c].flow<g.adj[node,c].capacidad) && minvalor>label[g.adj[node,c].destino]\n",
    "                    minvalor=label[g.adj[node,c].destino]\n",
    "                end\n",
    "            end\n",
    "            minvalor += 1\n",
    "            #println(\"update label \",node,\" de \",label[node],\" a \",minvalor)\n",
    "            if minvalor<=label[node]\n",
    "                println(\"gazapo\\n\")\n",
    "                return -1\n",
    "            else\n",
    "                label[node]=minvalor\n",
    "            end\n",
    "        end\n",
    "        node,value = peek(exflow)\n",
    "    end\n",
    "    return maxflow\n",
    "end"
   ]
  },
  {
   "cell_type": "code",
   "execution_count": 3,
   "metadata": {},
   "outputs": [
    {
     "name": "stdout",
     "output_type": "stream",
     "text": [
      "sol: 843\n"
     ]
    }
   ],
   "source": [
    "G=generarGrafoSparse(10,0.4,1000,1000)\n",
    "#println(G)\n",
    "println(\"sol: \",GTMaxFlow!(G,1,2))"
   ]
  },
  {
   "cell_type": "markdown",
   "metadata": {},
   "source": [
    "# Min cost max flow\n",
    "\n",
    "El problema de min cost max flow es una extensión natural del problema de flujo máximo que tiene en cuenta los costes de transporte. El objetivo será ahora transportar la máxima cantidad de flujo posible (o la cantidad de flujo necesaria) intentando minimizar los costos de transporte asociados a cada arco.\n",
    "\n",
    "Aparte de su interés como problema práctico, el modelo generaliza a otros problemas que han sido extensamente estudiados en la literatura como el problema de asignación y el problema de transporte (problema de Hitchcock).\n",
    "\n",
    "Mostraremos un algoritmo aunque usaremos dos algoritmos diferentes para resolver el problema y aprovecharemos para tratar dos temas secundarios (importar archivos con código en Julia y ejecutar código programado en C).\n",
    "\n",
    "# Algoritmo de cancelación de ciclos \n",
    "\n",
    "Uno de los algoritmos más simples tanto en idea, implementación y uso para el problema se basa en el siguiente concepto: <br><br>\n",
    "\n",
    "<center><b>\"Si en el grafo residual de una solución de flujo máximo existe un circuito de costo no negativo, la solución actual no es óptima y puede mejorarse redirigiendo el flujo según indica el circuito.\"</b></center>\n",
    "\n",
    "Este circuito marca una reconducción de flujo (un cambio) que, sin variar el flujo total que llega al destino, disminuye el coste. \n",
    "\n",
    "De forma esquemática, el algoritmo resultante de usar esta propiedad sería:\n",
    "\n",
    "<b>P1. Inicialización:</b> Encontramos un flujo máximo\n",
    "\n",
    "<b>P2. Buscar ciclos:</b> Buscamos ciclos en el grafo residual (p.ej. mediante el algoritmo de Bellman-Ford visto con anterioridad, o resolviendo un problema conocido como el \"mean cycle problem\", lo que reporta una algoritmo fuertemente polinomial)\n",
    "\n",
    "<b>P3. Update:</b> Si no hay ciclos de costo negativo fin, si no actualizar el grafo residual.\n",
    "\n",
    "<b>P4. Recalcular:</b> Ir a paso 2.\n",
    "\n",
    "El funcionamiento del algoritmo puede visualizarse en: https://www-m9.ma.tum.de/graph-algorithms/flow-cycle-cancelling/index_en.html"
   ]
  },
  {
   "cell_type": "code",
   "execution_count": 10,
   "metadata": {},
   "outputs": [
    {
     "data": {
      "text/plain": [
       "cycleCancelling! (generic function with 1 method)"
      ]
     },
     "execution_count": 10,
     "metadata": {},
     "output_type": "execute_result"
    }
   ],
   "source": [
    "function meanCycle(g::gMCMF,s::Int64)\n",
    "\n",
    "end\n",
    "function cycleCancelling!(g::gMCMF,s::Int64,t::Int64)\n",
    "    #paso 1. flujo maximo\n",
    "    GTMaxFlow!(g,s,t)\n",
    "    #loop\n",
    "    while true\n",
    "        break\n",
    "    end\n",
    "end"
   ]
  },
  {
   "cell_type": "code",
   "execution_count": 11,
   "metadata": {
    "collapsed": true
   },
   "outputs": [],
   "source": [
    "cycleCancelling!(G,1,2)"
   ]
  },
  {
   "cell_type": "markdown",
   "metadata": {},
   "source": [
    "# Llamando a una rutina escrita en C (scaling algorithm de Goldberg)\n",
    "\n",
    "En ocasiones un procedimiento o rutina ya existe en otro lenguaje (en nuestra área, típicamente en C o en Fortran) y uno quiere hacer uso del mismo en vez de entrar en detalles de implementación.\n",
    "\n",
    "Para mostrar cómo implementar y utilizar rutinas escritas en C, el repositorio incluye, además de las hojas de Jupyter, dos archivos de C (un archivo de declaración types_cs2.h y un archivo de código cs2.c) que serán utilizados para el ejemplo.\n",
    "\n",
    "Primero debemos compilar el archivo de código como una librería compartida utilizando la siguiente orden en el terminal:\n",
    "\n",
    "gcc -Wall -shared -o libcs2.so -lm -fPIC cs2.c"
   ]
  },
  {
   "cell_type": "code",
   "execution_count": 4,
   "metadata": {},
   "outputs": [
    {
     "name": "stderr",
     "output_type": "stream",
     "text": [
      "cs2.c: In function ‘parse’:\n",
      "cs2.c:431:9: warning: unused variable ‘err_no’ [-Wunused-variable]\n",
      "         err_no;                 /* no of detected error */\n",
      "         ^\n",
      "cs2.c:428:9: warning: unused variable ‘pr_type’ [-Wunused-variable]\n",
      "         pr_type[3];             /* for reading type of the problem */\n",
      "         ^\n",
      "cs2.c:427:9: warning: unused variable ‘in_line’ [-Wunused-variable]\n",
      " char    in_line[MAXLINE],       /* for reading input line */\n",
      "         ^\n",
      "cs2.c:424:9: warning: unused variable ‘no_alines’ [-Wunused-variable]\n",
      "         no_alines=0,            /* no of arc-lines */\n",
      "         ^\n",
      "cs2.c:423:9: warning: unused variable ‘no_nlines’ [-Wunused-variable]\n",
      "         no_nlines=0,            /* no of node lines */\n",
      "         ^\n",
      "cs2.c:422:9: warning: unused variable ‘no_plines’ [-Wunused-variable]\n",
      "         no_plines=0,            /* no of problem-lines */\n",
      "         ^\n",
      "cs2.c:421:9: warning: unused variable ‘no_lines’ [-Wunused-variable]\n",
      " long    no_lines=0,             /* no of current input line */\n",
      "         ^\n",
      "cs2.c:381:6: warning: unused variable ‘inf_cap’ [-Wunused-variable]\n",
      " long inf_cap = 0;\n",
      "      ^\n",
      "cs2.c: In function ‘refine’:\n",
      "cs2.c:1184:16: warning: variable ‘ns’ set but not used [-Wunused-but-set-variable]\n",
      " long   np, nr, ns;  /* variables for additional print */\n",
      "                ^\n",
      "cs2.c:1184:12: warning: variable ‘nr’ set but not used [-Wunused-but-set-variable]\n",
      " long   np, nr, ns;  /* variables for additional print */\n",
      "            ^\n",
      "cs2.c:1184:8: warning: variable ‘np’ set but not used [-Wunused-but-set-variable]\n",
      " long   np, nr, ns;  /* variables for additional print */\n",
      "        ^\n",
      "cs2.c: In function ‘print_solution’:\n",
      "cs2.c:2153:11: warning: unused variable ‘cost2’ [-Wunused-variable]\n",
      "   price_t cost2;\n",
      "           ^\n",
      "cs2.c: In function ‘simpleprint’:\n",
      "cs2.c:2349:1: warning: control reaches end of non-void function [-Wreturn-type]\n",
      " }\n",
      " ^\n"
     ]
    }
   ],
   "source": [
    "run(`gcc -Wall -shared -o libcs2.so -lm -fPIC cs2.c`)"
   ]
  },
  {
   "cell_type": "markdown",
   "metadata": {},
   "source": [
    "Esta librería tiene dos funciones importantes para nosotros, una es un ejemplo muy simple de una rutina\n",
    "\n",
    "int simpleprint()\n",
    "{\n",
    "  printf(\"imprimo\\n\");\n",
    "}\n",
    "\n",
    "Que básicamente imprime la palabra imprimo. Para llamar rutina es suficiente con invocar la orden ccall con el nombre de la función, la localización de la librería, el tipo de retorno (Int32) y la lista de parámetros de entrada (en este caso vacía)."
   ]
  },
  {
   "cell_type": "code",
   "execution_count": 5,
   "metadata": {},
   "outputs": [
    {
     "name": "stdout",
     "output_type": "stream",
     "text": [
      "imprimo\n"
     ]
    },
    {
     "data": {
      "text/plain": [
       "8"
      ]
     },
     "execution_count": 5,
     "metadata": {},
     "output_type": "execute_result"
    }
   ],
   "source": [
    "ccall((:simpleprint,\"/home/jovyan/HerramientasComputacionalesDeAnaliticaCuantitativa/libcs2.so\"),Int32,())"
   ]
  },
  {
   "cell_type": "markdown",
   "metadata": {
    "collapsed": true
   },
   "source": [
    "# Utilizando una implementación de cost scaling programada en C\n",
    "\n",
    "Vamos a mostrar cómo utilizar un algoritmo de cost scaling desarrollado por Goldberg para el problema de max-flow mincost.\n",
    "\n",
    "Se trata de un algoritmo difícil de implementar que requiere mucho cuidado para obtener implementaciones verdaderamente eficientes (esto es, implementaciones que superen los resultados obtenidos por algoritmos más simples o por el uso de Cplex) y por tanto no intentaremos analizar el algoritmo sino analizar cómo aprovechar el código. \n",
    "\n",
    "Nótese que Goldberg publicó una implementación de su algoritmo que utlizaremos aquí únicamente para fines de evaluación (por lo que estrictamente nos estamos saltando ligeramente las leyes de copyright porque el código no es libre. Debido a que ya no está disponible en la página asociada a la empresa que distrubuía comercial ese código y que parece que ya no comercialicen el código, lo consideraré como \"abandonware\").  \n",
    "\n",
    "El código de C tiene dos archivos y ha sido retocado lo mínimo posible (por lo que es un \"pequeño caos\"). La función que llama el código es la función: <b>functMain</b>\n",
    "\n",
    "Esta función toma múltiples variables de entrada y salida que discutiremos a continuación:\n",
    "\n",
    "int InN: Número de vértices\n",
    "int InM: Número de arcos\n",
    "int countSP: Número de vertices origen y destino (el código acepta varios orígenes y destinos)\n",
    "int* sP: Puntero a los vértices origen y destino\n",
    "int* sPV: Puntero a las demandas de los vértices origen y destino (si el valor es negativo, se trata de demanda\n",
    "int* or: Puntero con la lista de orígenes de los arcos del grafo\n",
    "int* des: Puntero con la lista de orígenes de los arcos del grafo\n",
    "int* lower: Puntero con la cantidad mínima de flujo necesario en el arco\n",
    "int* upper: Puntero con la cantidad máxima de flujo por el arco \n",
    "int* costOut: Puntero con el costo por unidad que pasa por el arco\n",
    "\n",
    "Retorna dos elementos:\n",
    "\n",
    "int* flowRetorno: Puntero con los flujos en cada arco\n",
    "int* totFlowRetorno: \"Puntero\"(en realidad es una variable) para guardar el valor del costo de la solución\n",
    "\n",
    "Los punteros en Julia se anotan como matrices normales y se indica en Julia que C los quiere tratar como variables (Nótese que int* totFlowRetorno es una variable pero en C para que cambie el valor de una variable la tenemos que pasar como un puntero, que para Julia será una matriz de 1x1.\n",
    "\n",
    "Veamos ahora el código de un ejemplo simple:"
   ]
  },
  {
   "cell_type": "code",
   "execution_count": 8,
   "metadata": {},
   "outputs": [
    {
     "name": "stderr",
     "output_type": "stream",
     "text": [
      "\n",
      "WARNING: deprecated syntax \"InN::Int32\".\n",
      "Use \"local InN::Int32\" instead.\n",
      "\n",
      "WARNING: deprecated syntax \"InM::Int32\".\n",
      "Use \"local InM::Int32\" instead.\n",
      "\n",
      "WARNING: deprecated syntax \"countSP::Int32\".\n",
      "Use \"local countSP::Int32\" instead.\n",
      "WARNING: Method definition cs2wrapper(Main.gMCMF, Int64, Int64) in module Main at In[6]:2 overwritten at In[8]:2.\n"
     ]
    },
    {
     "data": {
      "text/plain": [
       "\"function cs2wrapper(a::Int64,b::Int64,c::Int64)\\n    InN::Int32\\n    InM::Int32\\n    countSP::Int32\\n    #,sP,sPV,or,des,lower,upper,costOut,flowRetorno,&totFlowRetorno\\n    InN=a\\n    InM=b\\n    countSP=c\\n    sp=zeros(Int32,countSP)\\n    sp[1]=1\\n    sp[2]=6\\n    spV=zeros(Int32,countSP)\\n    spV[1]=10\\n    spV[2]=(-10)\\n    or=zeros(Int32,InM)\\n    or[1]=1\\n    or[2]=1\\n    or[3]=2\\n    or[4]=3\\n    or[5]=5\\n    or[6]=5\\n    or[7]=4\\n    or[8]=4\\n    des=zeros(Int32,InM)\\n    des[1]=2\\n    des[2]=3\\n    des[3]=3\\n    des[4]=5\\n    des[5]=4\\n    des[6]=6\\n    des[7]=2\\n    des[8]=6\\n    lower=zeros(Int32,InM)\\n    lower[1]=0\\n    lower[2]=0\\n    lower[3]=0\\n    lower[4]=0\\n    lower[5]=0\\n    lower[6]=0\\n    lower[7]=0\\n    lower[8]=0\\n    upper=zeros(Int32,InM)\\n    upper[1]=4\\n    upper[2]=8\\n    upper[3]=5\\n    upper[4]=10\\n    upper[5]=8\\n    upper[6]=8\\n    upper[7]=8\\n    upper[8]=8\\n    costOut=zeros(Int32,InM)\\n    costOut[1]=1\\n    costOut[2]=5\\n    costOut[3]=0\\n    costOut[4]=1\\n    costOut[5]=0\\n    costOut[6]=9\\n    costOut[7]=1\\n    costOut[8]=1    \\n    flowRetorno=zeros(Int32,InM)\\n    totalFlowretorno=Array{Int32}(1) #es el int que hay que pasar como un puntero\\n    println(InN,\\\" \\\",InM)\\n    println(\\\"******\\\")\\n    ccall((:functMain,\\\"/home/jovyan/HerramientasComputacionalesDeAnaliticaCuantitativa/libcs2.so\\\"),Int32,(\\n            Int32, #InN\\n            Int32, #InM\\n            Int32, #countSP\\n            Ptr{Cint}, #sP\\n            Ptr{Cint}, #sPV\\n            Ptr{Cint}, #or\\n            Ptr{Cint}, #des\\n            Ptr{Cint}, #lower\\n            Ptr{Cint}, #upper\\n            Ptr{Cint}, #costOut\\n            Ptr{Cint}, #flowRetorno\\n            Ptr{Cint}, #totalFlowretorno\\n            ),\\n            InN,InM,countSP,sp,spV,or,des,lower,upper,costOut,flowRetorno,totalFlowretorno)\\n    println(\\\"******\\\")\\n    println(flowRetorno)\\n    println(totalFlowretorno)\\nend\\n\""
      ]
     },
     "execution_count": 8,
     "metadata": {},
     "output_type": "execute_result"
    }
   ],
   "source": [
    "function cs2wrapper(g::gMCMF,s::Int64,t::Int64)\n",
    "  InN::Int32\n",
    "  InM::Int32\n",
    "  countSP::Int32\n",
    "  #,sP,sPV,or,des,lower,upper,costOut,flowRetorno,&totFlowRetorno\n",
    "  InN=g.nVertices\n",
    "  InM=sum(g.nArcos)/2\n",
    "  countSP=2\n",
    "  sp=zeros(Int32,countSP)\n",
    "  spV=zeros(Int32,countSP)\n",
    "  sp[1]=s\n",
    "  sp[2]=t\n",
    "  maxFlow=GTMaxFlow!(g,s,t)\n",
    "  println(\"maxFlow: \",maxFlow)\n",
    "  spV[1]=maxFlow\n",
    "  spV[2]=0-maxFlow\n",
    "  count=1\n",
    "  or=zeros(Int32,InM)\n",
    "  des=zeros(Int32,InM)\n",
    "  lower=zeros(Int32,InM)\n",
    "  upper=zeros(Int32,InM)\n",
    "  costOut=zeros(Int32,InM)\n",
    "  flowRetorno=zeros(Int32,InM)\n",
    "  totalFlowretorno=zeros(Int32,1) #es el int que hay que pasar como un puntero\n",
    "  for i in 1:g.nVertices\n",
    "      for j in 1:g.nArcos[i]\n",
    "          if g.adj[i,j].capacidad>0\n",
    "              or[count]=g.adj[i,j].origen\n",
    "              des[count]=g.adj[i,j].destino\n",
    "              lower[count]=0\n",
    "              upper[count]=g.adj[i,j].capacidad\n",
    "              costOut[count]=g.adj[i,j].cost\n",
    "              count += 1\n",
    "          end\n",
    "      end\n",
    "  end\n",
    "  if count<InM\n",
    "      println(\"ALGO MALO ->\",count,\"\\t\",InM)\n",
    "  end\n",
    "  println(\"******\")\n",
    "  println(\"inN: \",InN)\n",
    "  println(\"inM: \",InM)\n",
    "  println(\"sp: \",sp)\n",
    "  println(\"spV: \",spV)\n",
    "  println(\"or: \",or)\n",
    "  println(\"des: \",des)\n",
    "  println(\"lower: \",lower)\n",
    "  println(\"upper: \",upper)\n",
    "  println(\"costOut: \",costOut)\n",
    "  ccall((:functMain,\"//home/jovyan/HerramientasComputacionalesDeAnaliticaCuantitativa/libcs2.so\"),Int32,(\n",
    "          Int32, #InN\n",
    "          Int32, #InM\n",
    "          Int32, #countSP\n",
    "          Ptr{Cint}, #sP\n",
    "          Ptr{Cint}, #sPV\n",
    "          Ptr{Cint}, #or\n",
    "          Ptr{Cint}, #des\n",
    "          Ptr{Cint}, #lower\n",
    "          Ptr{Cint}, #upper\n",
    "          Ptr{Cint}, #costOut\n",
    "          Ptr{Cint}, #flowRetorno\n",
    "          Ptr{Cint}, #totalFlowretorno\n",
    "          ),\n",
    "          InN,InM,countSP,sp,spV,or,des,lower,upper,costOut,flowRetorno,totalFlowretorno)\n",
    "  #println(\"******\")\n",
    "  println(flowRetorno)\n",
    "  println(totalFlowretorno)\n",
    "  return totalFlowretorno[1]\n",
    "end\n",
    "\n",
    "\n",
    "\"\"\"\n",
    "function cs2wrapper(a::Int64,b::Int64,c::Int64)\n",
    "    InN::Int32\n",
    "    InM::Int32\n",
    "    countSP::Int32\n",
    "    #,sP,sPV,or,des,lower,upper,costOut,flowRetorno,&totFlowRetorno\n",
    "    InN=a\n",
    "    InM=b\n",
    "    countSP=c\n",
    "    sp=zeros(Int32,countSP)\n",
    "    sp[1]=1\n",
    "    sp[2]=6\n",
    "    spV=zeros(Int32,countSP)\n",
    "    spV[1]=10\n",
    "    spV[2]=(-10)\n",
    "    or=zeros(Int32,InM)\n",
    "    or[1]=1\n",
    "    or[2]=1\n",
    "    or[3]=2\n",
    "    or[4]=3\n",
    "    or[5]=5\n",
    "    or[6]=5\n",
    "    or[7]=4\n",
    "    or[8]=4\n",
    "    des=zeros(Int32,InM)\n",
    "    des[1]=2\n",
    "    des[2]=3\n",
    "    des[3]=3\n",
    "    des[4]=5\n",
    "    des[5]=4\n",
    "    des[6]=6\n",
    "    des[7]=2\n",
    "    des[8]=6\n",
    "    lower=zeros(Int32,InM)\n",
    "    lower[1]=0\n",
    "    lower[2]=0\n",
    "    lower[3]=0\n",
    "    lower[4]=0\n",
    "    lower[5]=0\n",
    "    lower[6]=0\n",
    "    lower[7]=0\n",
    "    lower[8]=0\n",
    "    upper=zeros(Int32,InM)\n",
    "    upper[1]=4\n",
    "    upper[2]=8\n",
    "    upper[3]=5\n",
    "    upper[4]=10\n",
    "    upper[5]=8\n",
    "    upper[6]=8\n",
    "    upper[7]=8\n",
    "    upper[8]=8\n",
    "    costOut=zeros(Int32,InM)\n",
    "    costOut[1]=1\n",
    "    costOut[2]=5\n",
    "    costOut[3]=0\n",
    "    costOut[4]=1\n",
    "    costOut[5]=0\n",
    "    costOut[6]=9\n",
    "    costOut[7]=1\n",
    "    costOut[8]=1    \n",
    "    flowRetorno=zeros(Int32,InM)\n",
    "    totalFlowretorno=Array{Int32}(1) #es el int que hay que pasar como un puntero\n",
    "    println(InN,\" \",InM)\n",
    "    println(\"******\")\n",
    "    ccall((:functMain,\"/home/jovyan/HerramientasComputacionalesDeAnaliticaCuantitativa/libcs2.so\"),Int32,(\n",
    "            Int32, #InN\n",
    "            Int32, #InM\n",
    "            Int32, #countSP\n",
    "            Ptr{Cint}, #sP\n",
    "            Ptr{Cint}, #sPV\n",
    "            Ptr{Cint}, #or\n",
    "            Ptr{Cint}, #des\n",
    "            Ptr{Cint}, #lower\n",
    "            Ptr{Cint}, #upper\n",
    "            Ptr{Cint}, #costOut\n",
    "            Ptr{Cint}, #flowRetorno\n",
    "            Ptr{Cint}, #totalFlowretorno\n",
    "            ),\n",
    "            InN,InM,countSP,sp,spV,or,des,lower,upper,costOut,flowRetorno,totalFlowretorno)\n",
    "    println(\"******\")\n",
    "    println(flowRetorno)\n",
    "    println(totalFlowretorno)\n",
    "end\n",
    "\"\"\""
   ]
  },
  {
   "cell_type": "code",
   "execution_count": 9,
   "metadata": {},
   "outputs": [
    {
     "name": "stdout",
     "output_type": "stream",
     "text": [
      "maxFlow: 843\n",
      "******\n",
      "inN: 10\n",
      "inM: 39\n",
      "sp: Int32[1,2]\n",
      "spV: Int32[843,-843]\n",
      "or: Int32[1,2,2,2,3,3,3,3,3,4,4,5,5,5,6,6,6,6,6,6,6,7,7,7,7,7,7,8,8,8,9,9,9,9,9,9,10,10,10]\n",
      "des: Int32[8,1,5,8,1,4,5,7,10,1,2,6,7,8,1,2,3,7,8,9,10,1,2,4,8,9,10,3,4,10,1,2,3,4,5,10,2,4,5]\n",
      "lower: Int32[0,0,0,0,0,0,0,0,0,0,0,0,0,0,0,0,0,0,0,0,0,0,0,0,0,0,0,0,0,0,0,0,0,0,0,0,0,0,0]\n",
      "upper: Int32[843,875,820,880,47,675,385,945,362,558,542,167,7,780,120,797,126,983,956,567,260,753,249,356,92,658,562,853,252,584,407,120,561,93,73,838,2,988,476]\n",
      "costOut: Int32[388,632,922,320,894,946,380,202,180,759,863,508,774,165,376,249,41,190,647,541,541,485,420,653,914,171,286,296,869,352,547,773,857,433,874,730,515,970,86]\n",
      "Int32[843,0,0,0,0,0,0,422,0,0,305,167,0,0,0,167,0,0,0,0,0,0,249,0,0,173,0,422,252,169,0,120,0,53,0,0,2,0,167]\n",
      "Int32[1470614]\n"
     ]
    },
    {
     "data": {
      "text/plain": [
       "1470614"
      ]
     },
     "execution_count": 9,
     "metadata": {},
     "output_type": "execute_result"
    }
   ],
   "source": [
    "cs2wrapper(G,1,2)"
   ]
  },
  {
   "cell_type": "markdown",
   "metadata": {},
   "source": [
    "# ¿Qué se nos ha quedado en el tintero?\n",
    "\n",
    "La respuesta es sí, lógicamente. Entre las cosas que podrían haberse visto pero no ha dado tiempo:\n",
    "\n",
    "* <b>Branch and bound</b>. Una buena manera de empezar sería a partir del problema de las n-reinas visto con anterioridad. La interelación entre branch and bound y programación dinámica también es un tópico que podríamos haber estudiado y analizado.\n",
    "* <b>Benders decomposition</b>. Aunque no se ha visto como implementación, sí se ha tratado del tema durante la descripción de JuMP y los planos cortantes.\n",
    "* <b>Branch and price y branch, cut and price</b>. Aunque forman parte del toolbox, es un algoritmo difícil de programar y optimizar.\n",
    "* <b>Asignación, transporte y matching</b>. Hemos visto un caso más general que los anteriores (excepto matching no bipartito), pero estos problemas acostumbran a tratarse como subproblemas y no se han visto en el curso\n",
    "* <b>Heurísticas y metaheurísticas</b>.\n",
    "* <b>Programación no lineal</b>\n",
    "* Limpieza y estructura de código. Específicamente hay tres problemas graves en los códigos desarrollados: <b>(1)</b> uso de castellano e inglés indistintamente; <b>(2)</b> cambios en la notación (uso de mayúscula y minúscula indistintamente); y <b>(3)</b> mala documentación."
   ]
  },
  {
   "cell_type": "code",
   "execution_count": null,
   "metadata": {
    "collapsed": true
   },
   "outputs": [],
   "source": []
  }
 ],
 "metadata": {
  "kernelspec": {
   "display_name": "Julia 0.5.2",
   "language": "julia",
   "name": "julia-0.5"
  },
  "language_info": {
   "file_extension": ".jl",
   "mimetype": "application/julia",
   "name": "julia",
   "version": "0.5.2"
  }
 },
 "nbformat": 4,
 "nbformat_minor": 2
}
