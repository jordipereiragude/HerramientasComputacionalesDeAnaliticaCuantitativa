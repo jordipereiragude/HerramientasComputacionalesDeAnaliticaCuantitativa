{
 "cells": [
  {
   "cell_type": "code",
   "execution_count": 1,
   "metadata": {
    "collapsed": true
   },
   "outputs": [],
   "source": [
    "# declaraciones de librerías\n",
    "using DataStructures"
   ]
  },
  {
   "cell_type": "markdown",
   "metadata": {},
   "source": [
    "# Cycle-cancelling"
   ]
  },
  {
   "cell_type": "code",
   "execution_count": null,
   "metadata": {
    "collapsed": true
   },
   "outputs": [],
   "source": []
  },
  {
   "cell_type": "markdown",
   "metadata": {},
   "source": [
    "# Llamando a una rutina escrita en C (scaling algorithm de Goldberg)\n",
    "\n",
    "En ocasiones un procedimiento o rutina ya existe en otro lenguaje (en nuestra área típicamente en C o en Fortran) y uno quiere hacer uso del mismo en vez de entrar en detalles de implementación.\n",
    "\n",
    "Este es el caso de los algoritmos de cost scaling para max-flow min-cost. Es un algoritmo difícil de implementar que requiere mucho cuidado para obtener implementaciones verdaderamente eficientes (esto es, implementaciones que superen los resultados obtenidos por algoritmos más simples o por el uso de Cplex). \n",
    "\n",
    "Goldberg publicó una implementación de su algoritmo que utlizaremos aquí (saltándonos ligeramente las leyes de copyright ya que el código no es estrictamente libre y consideraré que se trata de \"abandonware\").  \n",
    "\n",
    "Nosotros únicamente llamaremos a esa implementación "
   ]
  },
  {
   "cell_type": "code",
   "execution_count": null,
   "metadata": {
    "collapsed": true
   },
   "outputs": [],
   "source": []
  },
  {
   "cell_type": "markdown",
   "metadata": {},
   "source": [
    "# ¿Qué se nos ha quedado en el tintero?"
   ]
  },
  {
   "cell_type": "code",
   "execution_count": null,
   "metadata": {
    "collapsed": true
   },
   "outputs": [],
   "source": []
  }
 ],
 "metadata": {
  "kernelspec": {
   "display_name": "Julia 0.5.2",
   "language": "julia",
   "name": "julia-0.5"
  },
  "language_info": {
   "file_extension": ".jl",
   "mimetype": "application/julia",
   "name": "julia",
   "version": "0.5.2"
  }
 },
 "nbformat": 4,
 "nbformat_minor": 2
}
