{
 "cells": [
  {
   "cell_type": "code",
   "execution_count": null,
   "metadata": {},
   "outputs": [],
   "source": [
    "using JuMP\n",
    "using CPLEX\n",
    "Pkg.add(\"OffsetArrays\") # -> Nos permitirá usar matrices que empiecen con índice 0 \n",
    "using OffsetArrays"
   ]
  },
  {
   "cell_type": "markdown",
   "metadata": {},
   "source": [
    "# 0-1 Knapsack\n",
    "\n",
    "El problema de knapsack es posiblemente uno de los modelos clásicos más simples que hay. Ofrece una formulación de programación entera simple que además ha sido muy tratada en la literatura. Antes de nada veamos un modelo (sacado de la documentación de JuMP https://github.com/JuliaOpt/JuMP.jl/blob/master/examples/knapsack.jl)\n",
    "\n",
    "Trataremos la versión 0-1 que es la que aparece en el modelo y luego veremos los cambios necesarios para tratar la versión general (que usamos en el ejemplo de column generation)"
   ]
  },
  {
   "cell_type": "code",
   "execution_count": null,
   "metadata": {},
   "outputs": [],
   "source": [
    "m = Model(solver=CplexSolver())\n",
    "\n",
    "@variable(m, xVariables[1:5], Bin)\n",
    "\n",
    "profit = [ 5, 3, 2, 7, 4 ]\n",
    "weight = [ 2, 8, 4, 2, 5 ]\n",
    "capacity = 10\n",
    "\n",
    "# Objective: maximize profit\n",
    "@objective(m, Max, dot(profit, xVariables))\n",
    "\n",
    "# Constraint: can carry all\n",
    "@constraint(m, dot(weight, xVariables) <= capacity)\n",
    "\n",
    "# Solve problem using MIP solver\n",
    "status = solve(m)\n",
    "\n",
    "println(\"Objective is: \", getobjectivevalue(m))\n",
    "println(\"Solution is:\")\n",
    "for i = 1:5\n",
    "    print(\"x[$i] = \", getvalue(xVariables[i]),\"\\n\")\n",
    "end"
   ]
  },
  {
   "cell_type": "markdown",
   "metadata": {},
   "source": [
    "## 0-1 Knapsack. Método 1. Tabla completa\n",
    "\n",
    "Cada etapa (columna de la tabla) corresponde a un item. Los estados representan la disponibilidad.\n",
    "\n",
    "No se muestra cómo reconstruir los valores porque es algo tedioso y la verdad no muy útil como se verá en la siguiente implementación"
   ]
  },
  {
   "cell_type": "code",
   "execution_count": null,
   "metadata": {},
   "outputs": [],
   "source": [
    "function knapsack_m1(p,w,c)\n",
    "    T=size(p,1)\n",
    "    tableProfit = OffsetArray(Int64, 1:T, 0:c)\n",
    "    for t in 1:T\n",
    "        for s in 0:c\n",
    "            tableProfit[t,s]=0\n",
    "        end\n",
    "    end\n",
    "    #etapa 1\n",
    "    tableProfit[1,0]=0\n",
    "    tableProfit[1,w[1]]=p[1]\n",
    "    #etapa 2 to T\n",
    "    for t in 2:T\n",
    "        s=c-w[t]\n",
    "        while s>=0\n",
    "            if tableProfit[t-1,s]>0 \n",
    "                if tableProfit[t,s] < tableProfit[t-1,s]\n",
    "                    tableProfit[t,s] = tableProfit[t-1,s]\n",
    "                end\n",
    "                if tableProfit[t,s+w[t]]<(tableProfit[t-1,s]+p[t])\n",
    "                    tableProfit[t,s+w[t]]=tableProfit[t-1,s]+p[t]\n",
    "                end\n",
    "            end\n",
    "            s -= 1\n",
    "        end\n",
    "    end\n",
    "    beneficio=0\n",
    "    maxLoad=0\n",
    "    previous=0\n",
    "    for s in 0:c\n",
    "        if beneficio < tableProfit[T,s]\n",
    "            beneficio=tableProfit[T,s]\n",
    "        end\n",
    "    end\n",
    "    return beneficio\n",
    "end"
   ]
  },
  {
   "cell_type": "code",
   "execution_count": null,
   "metadata": {},
   "outputs": [],
   "source": [
    "beneficio = knapsack_m1(profit,weight,capacity)\n",
    "println(beneficio)"
   ]
  },
  {
   "cell_type": "markdown",
   "metadata": {},
   "source": [
    "## 0-1 Knapsack. Método 2. Tabla reducida\n",
    "\n",
    "En realidad no es necesario tener en cuenta cada etapa por separado. Veremos que es suficiente con vectores si vamos con cuidado en el orden de las operaciones"
   ]
  },
  {
   "cell_type": "code",
   "execution_count": null,
   "metadata": {},
   "outputs": [],
   "source": [
    "function knapsack_m2(p,w,c)\n",
    "    T=size(p,1)\n",
    "    items=collect(1:T)\n",
    "    sort!(items,by=a->(p[a]/w[a]),rev=true) #https://rosettacode.org/wiki/Sort_an_array_of_composite_structures#Julia    \n",
    "    Profit = OffsetArray(Int64, 0:c)\n",
    "    Path = OffsetArray(Int64, 0:c)\n",
    "    Profit[0]=0\n",
    "    Path[0]=0\n",
    "    for i in 1:c\n",
    "        Profit[i]= -1\n",
    "    end\n",
    "    for i in 1:c\n",
    "        Path[i]= -1\n",
    "    end\n",
    "    for t in 1:T\n",
    "        i=items[t]\n",
    "        s=c-w[i]\n",
    "        while s>=0\n",
    "            #first check if current assignment is feasible\n",
    "            if Path[s]>=0 #first check if current assignment is feasible\n",
    "                if Profit[s+w[i]]< (Profit[s]+p[i])\n",
    "                    Profit[s+w[i]]=Profit[s]+p[i]\n",
    "                    Path[s+w[i]]=i\n",
    "                end\n",
    "            end\n",
    "            s -= 1\n",
    "        end\n",
    "        #println(t,\"\\tusing \",i,\"\\t\",Profit,\"\\t\\t\",Path)\n",
    "    end\n",
    "    ySol=zeros(Int64,T)\n",
    "    #first find position, then backtrack\n",
    "    ind=indmax(Profit)-1 #rectificar el -1 porque el vector va de 0 a c, no de 1 a c\n",
    "    #println(\"index: \",ind,\"\\t\",Profit[ind])\n",
    "    while ind!=0\n",
    "        ySol[Path[ind]]=1\n",
    "        ind -= w[Path[ind]]\n",
    "    end\n",
    "    return maximum(Profit),ySol\n",
    "end"
   ]
  },
  {
   "cell_type": "code",
   "execution_count": null,
   "metadata": {},
   "outputs": [],
   "source": [
    "beneficio, ySol = knapsack_m2(profit,weight,capacity)\n",
    "println(beneficio,\"\\t\",ySol)"
   ]
  },
  {
   "cell_type": "markdown",
   "metadata": {
    "collapsed": true
   },
   "source": [
    "### Pregunta\n",
    "\n",
    "¿Por qué ha sido necesario reordenar los items?"
   ]
  },
  {
   "cell_type": "markdown",
   "metadata": {},
   "source": [
    "## integer Knapsack. Programación entera\n",
    "\n",
    "Sólo debemos cambiar del programa entero la declaración de las variables. Suponiendo que tenemos el modelo anterior cargado y ejecutado..."
   ]
  },
  {
   "cell_type": "code",
   "execution_count": null,
   "metadata": {},
   "outputs": [],
   "source": [
    "for i=1:length(xVariables)\n",
    "    setcategory(xVariables[i], :Int)\n",
    "    setlowerbound(xVariables[i],0.0)\n",
    "    setupperbound(xVariables[i],10000.0)\n",
    "end\n",
    "status = solve(m)\n",
    "println(\"Objective is: \", getobjectivevalue(m))\n",
    "println(\"Objective is: \", getobjectivevalue(model))\n",
    "println(\"Solution is:\")\n",
    "for i = 1:5\n",
    "    print(\"x[$i] = \", getvalue(xVariables[i]),\"\\n\")\n",
    "end"
   ]
  },
  {
   "cell_type": "markdown",
   "metadata": {},
   "source": [
    "## Integer Knapsack. Tabla reducida\n",
    "\n",
    "Ahora el método cambiará en el orden de exploración de los estados"
   ]
  },
  {
   "cell_type": "code",
   "execution_count": null,
   "metadata": {},
   "outputs": [],
   "source": [
    "function knapsackInt(p,w,c)\n",
    "    T=size(p,1)\n",
    "    Profit = OffsetArray(Int64, 0:c)\n",
    "    Path = OffsetArray(Int64, 0:c)\n",
    "    Profit[0]=0\n",
    "    Path[0]=0\n",
    "    for i in 1:c\n",
    "        Profit[i]= -1\n",
    "    end\n",
    "    for i in 1:c\n",
    "        Path[i]= -1\n",
    "    end\n",
    "    for t in 1:T\n",
    "        s=0\n",
    "        while s<=(c-w[t])\n",
    "            #first check if current assignment is feasible\n",
    "            if Path[s]>=0 #first check if current assignment is feasible\n",
    "                if Profit[s+w[t]]< (Profit[s]+p[t])\n",
    "                    Profit[s+w[t]]=Profit[s]+p[t]\n",
    "                    Path[s+w[t]]=t\n",
    "                end\n",
    "            end\n",
    "            s += w[t]\n",
    "        end\n",
    "        println(t,\"\\t\",Profit,\"\\t\\t\",Path)\n",
    "    end\n",
    "    ySol=zeros(Int64,T)\n",
    "    #first find position, then backtrack\n",
    "    ind=indmax(Profit)-1 #rectificar el -1 porque el vector va de 0 a c, no de 1 a c\n",
    "    #println(\"index: \",ind,\"\\t\",Profit[ind])\n",
    "    while ind!=0\n",
    "        ySol[Path[ind]] += 1\n",
    "        ind -= w[Path[ind]]\n",
    "    end\n",
    "    return maximum(Profit),ySol\n",
    "end"
   ]
  },
  {
   "cell_type": "code",
   "execution_count": null,
   "metadata": {},
   "outputs": [],
   "source": [
    "beneficio, ySol = knapsackInt(profit,weight,capacity)\n",
    "println(beneficio,\"\\t\",ySol)"
   ]
  },
  {
   "cell_type": "markdown",
   "metadata": {},
   "source": [
    "### Pregunta\n",
    "\n",
    "¿Por qué aquí el procedimiento no funcionaría si la exploración de estados se hubiera ordenado como en el knapsack 0-1?"
   ]
  },
  {
   "cell_type": "markdown",
   "metadata": {},
   "source": [
    "## Ejercicio\n",
    "\n",
    "Integrar la función knapsackInt con el problema de generación de columnas"
   ]
  },
  {
   "cell_type": "code",
   "execution_count": null,
   "metadata": {
    "collapsed": true
   },
   "outputs": [],
   "source": []
  }
 ],
 "metadata": {
  "kernelspec": {
   "display_name": "Julia 0.5.2",
   "language": "julia",
   "name": "julia-0.5"
  },
  "language_info": {
   "file_extension": ".jl",
   "mimetype": "application/julia",
   "name": "julia",
   "version": "0.5.2"
  }
 },
 "nbformat": 4,
 "nbformat_minor": 2
}
