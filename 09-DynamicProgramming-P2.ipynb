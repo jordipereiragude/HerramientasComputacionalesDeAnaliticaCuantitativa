{
 "cells": [
  {
   "cell_type": "code",
   "execution_count": 7,
   "metadata": {},
   "outputs": [
    {
     "name": "stderr",
     "output_type": "stream",
     "text": [
      "\u001b[1m\u001b[34mINFO: Cloning cache of OffsetArrays from https://github.com/JuliaArrays/OffsetArrays.jl.git\n",
      "\u001b[0m\u001b[1m\u001b[34mINFO: Installing OffsetArrays v0.3.0\n",
      "\u001b[0m\u001b[1m\u001b[34mINFO: Package database updated\n",
      "\u001b[0m\u001b[1m\u001b[34mINFO: METADATA is out-of-date — you may not have the latest version of OffsetArrays\n",
      "\u001b[0m\u001b[1m\u001b[34mINFO: Use `Pkg.update()` to get the latest versions of your packages\n",
      "\u001b[0m\u001b[1m\u001b[34mINFO: Precompiling module OffsetArrays.\n",
      "\u001b[0m"
     ]
    }
   ],
   "source": [
    "using JuMP\n",
    "using CPLEX\n",
    "Pkg.add(\"OffsetArrays\") # -> Nos permitirá usar matrices que empiecen con índice 0 \n",
    "using OffsetArrays"
   ]
  },
  {
   "cell_type": "markdown",
   "metadata": {},
   "source": [
    "# Programación dinámica\n",
    "\n",
    "Veremos únicamente casos que se calificarían como programación dinámica determinista en horizonte finito (categoría en la que caen la mayoría de problemas de optimización combinatoria determinista).\n",
    "\n",
    "Utilizaremos dos ejemplos (knapsack y lot sizing) que ya hemos visto y que luego intentaremos combinar/comparar con los métodos expuestos con anterioridad. \n",
    "\n",
    "No voy a repasar los fundamentos de la programación dinámica. Si alguien necesita un repaso más allá del nivel introductorio, recomiendo el libro de Denardo porque es uno de los más accesibles y baratos (E. Denardo, Dynamic Programming: Models and Applications)."
   ]
  },
  {
   "cell_type": "markdown",
   "metadata": {},
   "source": [
    "El problema de knapsack es posiblemente uno de los modelos clásicos más simples que hay. Ofrece una formulación de programación entera simple que además ha sido muy tratada en la literatura. Antes de nada veamos un modelo (sacado de la documentación de JuMP https://github.com/JuliaOpt/JuMP.jl/blob/master/examples/knapsack.jl)\n",
    "\n",
    "Trataremos la versión 0-1 que es la que aparece en el modelo y luego veremos los cambios necesarios para tratar la versión general (que usamos en el ejemplo de column generation)"
   ]
  },
  {
   "cell_type": "code",
   "execution_count": 2,
   "metadata": {},
   "outputs": [
    {
     "name": "stdout",
     "output_type": "stream",
     "text": [
      "Found incumbent of value 0.000000 after 0.00 sec. (0.00 ticks)\n",
      "Tried aggregator 1 time.\n",
      "MIP Presolve added 1 rows and 1 columns.\n",
      "MIP Presolve modified 5 coefficients.\n",
      "Reduced MIP has 2 rows, 6 columns, and 10 nonzeros.\n",
      "Reduced MIP has 5 binaries, 1 generals, 0 SOSs, and 0 indicators.\n",
      "Presolve time = 0.00 sec. (0.01 ticks)\n",
      "Probing fixed 0 vars, tightened 1 bounds.\n",
      "Probing time = 0.00 sec. (0.00 ticks)\n",
      "Tried aggregator 1 time.\n",
      "MIP Presolve eliminated 1 rows and 1 columns.\n",
      "MIP Presolve added 1 rows and 1 columns.\n",
      "Reduced MIP has 2 rows, 6 columns, and 10 nonzeros.\n",
      "Reduced MIP has 5 binaries, 1 generals, 0 SOSs, and 0 indicators.\n",
      "Presolve time = 0.00 sec. (0.01 ticks)\n",
      "Probing time = 0.00 sec. (0.00 ticks)\n",
      "Clique table members: 2.\n",
      "MIP emphasis: balance optimality and feasibility.\n",
      "MIP search method: dynamic search.\n",
      "Parallel mode: deterministic, using up to 2 threads.\n",
      "Root relaxation solution time = 0.00 sec. (0.00 ticks)\n",
      "\n",
      "        Nodes                                         Cuts/\n",
      "   Node  Left     Objective  IInf  Best Integer    Best Bound    ItCnt     Gap\n",
      "\n",
      "*     0+    0                            0.0000       21.0000              --- \n",
      "*     0+    0                           10.0000       21.0000           110.00%\n",
      "*     0     0      integral     0       16.0000       16.0000        1    0.00%\n",
      "Elapsed time = 0.00 sec. (0.04 ticks, tree = 0.00 MB, solutions = 3)\n",
      "Objective is: 16.0\n",
      "Solution is:\n",
      "x[1] = 1.0\n",
      "x[2] = -0.0\n",
      "x[3] = 0.0\n",
      "x[4] = 1.0\n",
      "x[5] = 1.0\n",
      "\n",
      "Root node processing (before b&c):\n",
      "  Real time             =    0.00 sec. (0.04 ticks)\n",
      "Parallel b&c, 2 threads:\n",
      "  Real time             =    0.00 sec. (0.00 ticks)\n",
      "  Sync time (average)   =    0.00 sec.\n",
      "  Wait time (average)   =    0.00 sec.\n",
      "                          ------------\n",
      "Total (root+branch&cut) =    0.00 sec. (0.04 ticks)\n"
     ]
    }
   ],
   "source": [
    "m = Model(solver=CplexSolver())\n",
    "\n",
    "@variable(m, x[1:5], Bin)\n",
    "\n",
    "profit = [ 5, 3, 2, 7, 4 ]\n",
    "weight = [ 2, 8, 4, 2, 5 ]\n",
    "capacity = 10\n",
    "\n",
    "# Objective: maximize profit\n",
    "@objective(m, Max, dot(profit, x))\n",
    "\n",
    "# Constraint: can carry all\n",
    "@constraint(m, dot(weight, x) <= capacity)\n",
    "\n",
    "# Solve problem using MIP solver\n",
    "status = solve(m)\n",
    "\n",
    "println(\"Objective is: \", getobjectivevalue(m))\n",
    "println(\"Solution is:\")\n",
    "for i = 1:5\n",
    "    print(\"x[$i] = \", getvalue(x[i]),\"\\n\")\n",
    "end"
   ]
  },
  {
   "cell_type": "markdown",
   "metadata": {},
   "source": [
    "## 0-1 Knapsack. Método 1. Tabla completa\n",
    "\n",
    "Cada etapa (columna de la tabla) corresponde a un item. Los estados representan la disponibilidad.\n",
    "\n",
    "No se muestra cómo reconstruir los valores porque es algo tedioso y la verdad no muy útil como se verá en la siguiente implementación"
   ]
  },
  {
   "cell_type": "code",
   "execution_count": 8,
   "metadata": {},
   "outputs": [
    {
     "name": "stderr",
     "output_type": "stream",
     "text": [
      "WARNING: Method definition knapsack_m1(Any, Any, Any) in module Main at In[3]:2 overwritten at In[8]:2.\n"
     ]
    },
    {
     "data": {
      "text/plain": [
       "knapsack_m1 (generic function with 1 method)"
      ]
     },
     "execution_count": 8,
     "metadata": {},
     "output_type": "execute_result"
    }
   ],
   "source": [
    "function knapsack_m1(p,w,c)\n",
    "    T=size(p,1)\n",
    "    tableProfit = OffsetArray(Int64, 1:T, 0:c)\n",
    "    for t in 1:T\n",
    "        for s in 0:c\n",
    "            tableProfit[t,s]=0\n",
    "        end\n",
    "    end\n",
    "    #etapa 1\n",
    "    tableProfit[1,0]=0\n",
    "    tableProfit[1,w[1]]=p[1]\n",
    "    #etapa 2 to T\n",
    "    for t in 2:T\n",
    "        s=c-w[t]\n",
    "        while s>=0\n",
    "            if tableProfit[t-1,s]>0 \n",
    "                if tableProfit[t,s] < tableProfit[t-1,s]\n",
    "                    tableProfit[t,s] = tableProfit[t-1,s]\n",
    "                end\n",
    "                if tableProfit[t,s+w[t]]<(tableProfit[t-1,s]+p[t])\n",
    "                    tableProfit[t,s+w[t]]=tableProfit[t-1,s]+p[t]\n",
    "                end\n",
    "            end\n",
    "            s -= 1\n",
    "        end\n",
    "    end\n",
    "    beneficio=0\n",
    "    maxLoad=0\n",
    "    previous=0\n",
    "    for s in 0:c\n",
    "        if beneficio < tableProfit[T,s]\n",
    "            beneficio=tableProfit[T,s]\n",
    "        end\n",
    "    end\n",
    "    return beneficio\n",
    "end"
   ]
  },
  {
   "cell_type": "code",
   "execution_count": 9,
   "metadata": {},
   "outputs": [
    {
     "name": "stdout",
     "output_type": "stream",
     "text": [
      "16\n"
     ]
    }
   ],
   "source": [
    "beneficio = knapsack_m1(profit,weight,capacity)\n",
    "println(beneficio)"
   ]
  },
  {
   "cell_type": "markdown",
   "metadata": {},
   "source": [
    "## 0-1 Knapsack. Método 2. Tabla reducida\n",
    "\n",
    "En realidad no es necesario tener en cuenta cada etapa por separado. Veremos que es suficiente con vectores si vamos con cuidado en el orden de las operaciones"
   ]
  },
  {
   "cell_type": "code",
   "execution_count": 22,
   "metadata": {},
   "outputs": [
    {
     "name": "stderr",
     "output_type": "stream",
     "text": [
      "WARNING: Method definition knapsack_m2(Any, Any, Any) in module Main at In[20]:2 overwritten at In[22]:2.\n"
     ]
    },
    {
     "data": {
      "text/plain": [
       "knapsack_m2 (generic function with 1 method)"
      ]
     },
     "execution_count": 22,
     "metadata": {},
     "output_type": "execute_result"
    }
   ],
   "source": [
    "function knapsack_m2(p,w,c)\n",
    "    T=size(p,1)\n",
    "    Profit = OffsetArray(Int64, 0:c)\n",
    "    Path = OffsetArray(Int64, 0:c)\n",
    "    Profit[0]=0\n",
    "    Path[0]=0\n",
    "    for i in 1:c\n",
    "        Profit[i]= -1\n",
    "    end\n",
    "    for i in 1:c\n",
    "        Path[i]= -1\n",
    "    end\n",
    "    for t in 1:T\n",
    "        s=c-w[t]\n",
    "        while s>=0\n",
    "            #first check if current assignment is feasible\n",
    "            if Path[s]>=0 #first check if current assignment is feasible\n",
    "                if Profit[s+w[t]]< (Profit[s]+p[t])\n",
    "                    Profit[s+w[t]]=Profit[s]+p[t]\n",
    "                    Path[s+w[t]]=t\n",
    "                end\n",
    "            end\n",
    "            s -= 1\n",
    "        end\n",
    "        println(t,\"\\t\",Profit,\"\\t\\t\",Path)\n",
    "    end\n",
    "    ySol=zeros(Int64,T)\n",
    "    #first find position, then backtrack\n",
    "    return maximum(Profit)\n",
    "end\n",
    "\n",
    "#profit = [ 5, 3, 2, 7, 4 ]\n",
    "#weight = [ 2, 8, 4, 2, 5 ]\n"
   ]
  },
  {
   "cell_type": "code",
   "execution_count": 23,
   "metadata": {},
   "outputs": [
    {
     "name": "stdout",
     "output_type": "stream",
     "text": [
      "1\t[0,-1,5,-1,-1,-1,-1,-1,-1,-1,-1]\t\t[0,-1,1,-1,-1,-1,-1,-1,-1,-1,-1]\n",
      "2\t[0,-1,5,-1,-1,-1,-1,-1,3,-1,8]\t\t[0,-1,1,-1,-1,-1,-1,-1,2,-1,2]\n",
      "3\t[0,-1,5,-1,2,-1,7,-1,3,-1,8]\t\t[0,-1,1,-1,3,-1,3,-1,2,-1,2]\n",
      "4\t[0,-1,7,-1,12,-1,9,-1,14,-1,10]\t\t[0,-1,4,-1,4,-1,4,-1,4,-1,4]\n",
      "5\t[0,-1,7,-1,12,4,9,11,14,16,10]\t\t[0,-1,4,-1,4,5,4,5,4,5,4]\n",
      "16\n"
     ]
    }
   ],
   "source": [
    "beneficio, ySol = knapsack_m2(profit,weight,capacity)\n",
    "println(beneficio)"
   ]
  },
  {
   "cell_type": "code",
   "execution_count": null,
   "metadata": {
    "collapsed": true
   },
   "outputs": [],
   "source": []
  }
 ],
 "metadata": {
  "kernelspec": {
   "display_name": "Julia 0.5.2",
   "language": "julia",
   "name": "julia-0.5"
  },
  "language_info": {
   "file_extension": ".jl",
   "mimetype": "application/julia",
   "name": "julia",
   "version": "0.5.2"
  }
 },
 "nbformat": 4,
 "nbformat_minor": 2
}
