{
 "cells": [
  {
   "cell_type": "code",
   "execution_count": 21,
   "metadata": {
    "collapsed": true
   },
   "outputs": [],
   "source": [
    "using JuMP\n",
    "#using GLPKMathProgInterface\n",
    "using CPLEX"
   ]
  },
  {
   "cell_type": "markdown",
   "metadata": {},
   "source": [
    "# Usar callbacks\n",
    "\n",
    "Una de las grandes ventajas de JuMP es la facilidad con la que podemos llamar a callbacks. Construiremos dos ejemplos.\n"
   ]
  },
  {
   "cell_type": "markdown",
   "metadata": {},
   "source": [
    "## Uncapacitated lot-sizing problem\n",
    "\n",
    "El modelo es el siguiente:\n",
    "\n",
    "$\\mbox{[MIN]} \\sum_{t\\in T} (K_t y_t + c_t x_t + h_t s_t )$ \n",
    "\n",
    "$s_{t-1}+x_t = s_t+d_t \\qquad t\\in T$\n",
    "\n",
    "$0\\leq x_t\\leq My_t \\qquad t\\in T$\n",
    "\n",
    "$x_t,s_t \\geq 0\\qquad t\\in T$\n",
    "\n",
    "$y_t \\in \\{0,1\\}\\qquad t\\in T$\n",
    "\n",
    "Hay un conjunto de desigualdades para este problema que cumplen:\n",
    "\n",
    "\\begin{equation}\n",
    "\\sum_{j\\in L\\setminus S}x_j + \\sum_{j\\in S}d_{jl} y_{j} \\geq d_{1l},\\qquad \\forall L\\in \\{1,...,l\\}, S\\subseteq L\n",
    "\\end{equation}\n",
    "\n",
    "(Explicación de la restricción en: http://www.dcc.fc.up.pt/~jpp/WOW/Wolsey-LS2.pdf página 16, podemos mirarlo como lo que se fabrica en unos periodos más lo máximo que se puede fabricar en otros debe cubrir la demanda hasta un periodo). Específicamente, conviene recordar que $d_{jl}=\\sum_{t=j}^{l} d_t$.\n",
    "\n",
    "Ejemplo tomado de: http://sbebo.github.io/blog/blog/2015/06/10/julia/"
   ]
  },
  {
   "cell_type": "code",
   "execution_count": null,
   "metadata": {},
   "outputs": [],
   "source": [
    "function separate(T::Int64, sumd::Array{Float64, 2}, y_val, x_val, y, x)\n",
    "    TOL=1E-6\n",
    "    S = zeros(Bool, T)\n",
    "    for l in 1:T\n",
    "        fill!(S, false)\n",
    "        lhsvalue = 0.  #x(L\\S) + sum{d[j:l]*y[j] for j in S}\n",
    "        empty = true\n",
    "        for j in 1:l\n",
    "            if x_val[j] > sumd[j,l]*y_val[j] + TOL\n",
    "                S[j] = true\n",
    "                empty = false\n",
    "                lhsvalue += sumd[j,l]*y_val[j]\n",
    "            else\n",
    "                lhsvalue += x_val[j]\n",
    "            end\n",
    "        end\n",
    "        if empty #fuerza que haya algo en S, si no la igualdad es trivial\n",
    "            continue\n",
    "        end\n",
    "        if lhsvalue < sumd[1,l] - TOL\n",
    "            lhs = sum(x[1:l])\n",
    "            for j = (1:T)[S]\n",
    "                lhs += sumd[j,l]*y[j] - x[j]\n",
    "            end\n",
    "            return lhs - sumd[1,l] #para retornar mayor que 0\n",
    "        end\n",
    "    end\n",
    "    return\n",
    "end\n",
    "\n",
    "function readULS(path::String)\n",
    "    f = open(path,\"r\")\n",
    "    T = parse(Int64,readline(f))\n",
    "    c = map(float,split(strip(readline(f))))\n",
    "    h = map(float,split(strip(readline(f))))\n",
    "    K = map(float,split(strip(readline(f))))\n",
    "    d = map(float,split(strip(readline(f))))\n",
    "    close(f)\n",
    "    T, c, h, K, d\n",
    "end\n",
    "\n",
    "function solveULS(path::String; solver=CplexSolver(), valid::Bool = true)\n",
    "\n",
    "    T, c, h, K, d = readULS(path)\n",
    "    m = Model(solver = solver)\n",
    "    @variable(m, y[1:T], Bin)\n",
    "    @variable(m, x[i = 1:T] >= 0)\n",
    "    @variable(m, s[1:T] >= 0)\n",
    "\n",
    "    @objective(m, Min, sum(c[t]*x[t] + K[t]*y[t] + h[t]*s[t] for t in 1:T))\n",
    "    @constraint(m, activation[t = 1:T], x[t] <= sum(d[t:T])*y[t])\n",
    "    @constraint(m, balance[t = 1:T], (t>1?s[t-1]:0) + x[t] == s[t] + d[t])\n",
    "\n",
    "    #precompute sum(d[j:l])\n",
    "    sumd = zeros(Float64, T, T)\n",
    "    for l = 1:T, j = 1:l\n",
    "        sumd[j,l] = sum(d[j:l])\n",
    "    end\n",
    "    \n",
    "    separationtime = 0.\n",
    "    separated = 0\n",
    "    called = 0\n",
    "    function lSgenerator(cb)\n",
    "        tt = time()\n",
    "        called += 1\n",
    "        y_val = getvalue(y)\n",
    "        x_val = getvalue(x)\n",
    "     \n",
    "        expr = separate(T, sumd, y_val, x_val, y, x)\n",
    "        if expr != nothing\n",
    "            @usercut(cb, expr >= 0)\n",
    "            separated += 1\n",
    "        end\n",
    "        separationtime += time()-tt\n",
    "    end\n",
    "    if valid\n",
    "        addcutcallback(m, lSgenerator)\n",
    "    end\n",
    "    status = solve(m)\n",
    "    println(\"Objective value: \", getobjectivevalue(m))\n",
    "    println(\"Separation time: $separationtime seconds\")\n",
    "    println(\"Separated: $separated\")\n",
    "    status\n",
    "end"
   ]
  },
  {
   "cell_type": "code",
   "execution_count": 3,
   "metadata": {},
   "outputs": [
    {
     "name": "stderr",
     "output_type": "stream",
     "text": [
      "--2017-10-17 19:59:48--  https://raw.githubusercontent.com/sbebo/julia-cuts/master/test.dat\n",
      "Resolving raw.githubusercontent.com (raw.githubusercontent.com)... 151.101.0.133, 151.101.64.133, 151.101.128.133, ...\n",
      "Connecting to raw.githubusercontent.com (raw.githubusercontent.com)|151.101.0.133|:443... connected.\n",
      "HTTP request sent, awaiting response... 200 OK\n",
      "Length: 1666 (1.6K) [text/plain]\n",
      "Saving to: ‘test.dat’\n",
      "\n",
      "     0K .                                                     100%  730M=0s\n",
      "\n",
      "2017-10-17 19:59:49 (730 MB/s) - ‘test.dat’ saved [1666/1666]\n",
      "\n"
     ]
    }
   ],
   "source": [
    "run(`wget -O test.dat https://raw.githubusercontent.com/sbebo/julia-cuts/master/test.dat`)"
   ]
  },
  {
   "cell_type": "code",
   "execution_count": null,
   "metadata": {},
   "outputs": [],
   "source": [
    "#solveULS(\"test.dat\",solver=CplexSolver(CPX_PARAM_CUTSFACTOR=1,CPX_PARAM_SCRIND=0),valid=false)\n",
    "solveULS(\"test.dat\",solver=CplexSolver(CPX_PARAM_CUTSFACTOR=0,CPX_PARAM_SCRIND=1),valid=false)"
   ]
  },
  {
   "cell_type": "markdown",
   "metadata": {},
   "source": [
    "## Absolute MMR Assignment Problem\n",
    "\n",
    "Basado en Jordi Pereira, Igor Averbakh, Exact and heuristic algorithms for the interval data robust assignment problem, In Computers & Operations Research, Volume 38, Issue 8, 2011, Pages 1153-1163, ISSN 0305-0548, https://doi.org/10.1016/j.cor.2010.11.009.\n",
    "\n",
    "Utilizaremos el siguiente modelo\n",
    "\n",
    "$\\min \\sum_{(u,v)\\in E} c_{uv}^+ x_{uv} - \\theta$\n",
    "\n",
    "\n",
    "s.t.\n",
    "\n",
    "$\\theta \\leq \\sum_{(u,v)\\in E} c_{uv}^- y_{uv} + \\sum_{(u,v)\\in E} y_{uv} (c_{uv}^+ - c_{uv}^-) x_{uv}\\qquad \\forall Y\\in A$\n",
    "\n",
    "$\\sum_{u\\in U} x_{uv} = 1, \\qquad v\\in V$;\n",
    "\n",
    "$\\sum_{v\\in V} x_{uv} = 1, \\qquad u\\in U$;\n",
    "\n",
    "$x_{uv}\\in \\{0,1\\}, \\qquad u\\in U, v\\in V$.\n",
    "\n",
    "Nótese que la restricción que calcula $\\theta$ hace uso de diversas propiedades del problema (sabemos que el escenario que maximiza la diferencia entre dos soluciones es un escenario extremo de características concretas y que una de esas soluciones define la peor alternativa y por tanto el worst-case regret de una solución $X$.\n",
    "\n",
    "En realidad es más conveniente implementar como:\n",
    "\n",
    "$\\min \\theta$\n",
    "\n",
    "\n",
    "s.t.\n",
    "\n",
    "$\\theta \\geq \\sum_{(u,v)\\in E} c_{uv}^s x_{uv} - c_{uv}^s x_{uv}^{\\ast}\\forall s\\in S$\n",
    "\n",
    "y específicamente definir $s$ para una solución $x$ como su caso extremo. Esto es, $c_{uv}^s= c_{uv}^+$ si $x_{uv}=1$ y $c_{uv}^s= c_{uv}^-$ en el resto de los casos."
   ]
  },
  {
   "cell_type": "code",
   "execution_count": 130,
   "metadata": {},
   "outputs": [
    {
     "name": "stderr",
     "output_type": "stream",
     "text": [
      "WARNING: Method definition doInstanciaAleatoria(Int64) in module Main at In[53]:2 overwritten at In[130]:2.\n"
     ]
    },
    {
     "data": {
      "text/plain": [
       "doInstanciaAleatoria (generic function with 1 method)"
      ]
     },
     "execution_count": 130,
     "metadata": {},
     "output_type": "execute_result"
    }
   ],
   "source": [
    "function doInstanciaAleatoria(n::Int64)\n",
    "    cminus = rand(1:10, n*n)\n",
    "    cplus=map(x -> rand(x:x+100), cminus)\n",
    "    return reshape(cminus,n,n),reshape(cplus,n,n)\n",
    "end"
   ]
  },
  {
   "cell_type": "code",
   "execution_count": 131,
   "metadata": {},
   "outputs": [
    {
     "data": {
      "text/plain": [
       "(\n",
       "[1 6 … 9 2; 7 8 … 2 3; … ; 6 7 … 7 9; 9 1 … 6 9],\n",
       "\n",
       "[61 86 … 64 97; 60 66 … 91 37; … ; 25 46 … 66 79; 17 74 … 57 100])"
      ]
     },
     "execution_count": 131,
     "metadata": {},
     "output_type": "execute_result"
    }
   ],
   "source": [
    "srand(0)\n",
    "cminus,cplus=doInstanciaAleatoria(10)"
   ]
  },
  {
   "cell_type": "code",
   "execution_count": 132,
   "metadata": {},
   "outputs": [
    {
     "name": "stderr",
     "output_type": "stream",
     "text": [
      "WARNING: Method definition solveAP(Any, Int64, Any) in module Main at In[128]:2 overwritten at In[132]:2.\n",
      "WARNING: Method definition solveRAP(Any, Any, Int64) in module Main at In[128]:15 overwritten at In[132]:15.\n",
      "WARNING: Method definition solveRAP(Any, Any, Int64, Any) in module Main at In[128]:15 overwritten at In[132]:15.\n"
     ]
    },
    {
     "data": {
      "text/plain": [
       "solveRAP (generic function with 2 methods)"
      ]
     },
     "execution_count": 132,
     "metadata": {},
     "output_type": "execute_result"
    }
   ],
   "source": [
    "function solveAP(c,n::Int64,solver)\n",
    "    submodel = Model(solver = solver)\n",
    "    @variable(submodel, x[1:n,1:n],Bin)\n",
    "    @objective(submodel,Min, sum(c[i,j]*x[i,j] for i in 1:n, j in 1:n) )\n",
    "    \n",
    "    @constraint(submodel, origin[i = 1:n], sum(x[i,1:n]) == 1)\n",
    "    @constraint(submodel, destination[j = 1:n], sum(x[1:n,j]) == 1)\n",
    "    status = solve(submodel)\n",
    "    #print(\"solucion: \",status,\"\\n\\n\\n\")\n",
    "    valor=getobjectivevalue(submodel)\n",
    "    return valor\n",
    "end\n",
    "\n",
    "function solveRAP(cminus, cplus, n::Int64, solver=CplexSolver())\n",
    "    m = Model(solver = solver)\n",
    "    \n",
    "    @variable(m, x[1:n,1:n], Bin)\n",
    "    @variable(m,θ >= 0)\n",
    "\n",
    "    @objective(m, Min, θ )\n",
    "    \n",
    "    @constraint(m, origin[i = 1:n], sum(x[i,1:n]) == 1)\n",
    "    @constraint(m, destination[j = 1:n], sum(x[1:n,j]) == 1)\n",
    "    tt = 0.0\n",
    "    called = 0.0\n",
    "    separationtime=0.0\n",
    "    separated=0\n",
    "    print(m)\n",
    "    \n",
    "    function cutGenerator(m)\n",
    "        print(\"\\n\\n entro en generador de cortes\")\n",
    "        EPSILON=0.00001\n",
    "        tt = time()\n",
    "        called += 1\n",
    "        x_val = getvalue(x)\n",
    "                \n",
    "        for i in 1:n\n",
    "            for j in 1:n\n",
    "                if x_val[i,j]>EPSILON && x_val[i,j]<(1.0-EPSILON)\n",
    "                    return\n",
    "                end\n",
    "            end\n",
    "        end\n",
    "        # tenemos una solucion entera, buscamos los costos\n",
    "        cost=deepcopy(cminus)\n",
    "        for i in 1:n\n",
    "            for j in 1:n\n",
    "                if x_val[i,j]>EPSILON\n",
    "                    cost[i,j]=cplus[i,j]\n",
    "                end\n",
    "            end\n",
    "        end\n",
    "        optimalCost = solveAP(cost,n,CplexSolver(CPX_PARAM_SCRIND=0))\n",
    "        println(\"\\t\\t\",optimalCost,\"\\n\")\n",
    "       \n",
    "        rhs = - optimalCost \n",
    "        for i in 1:n\n",
    "            for j in 1:n\n",
    "                rhs += cost[i,j]*x[i,j]\n",
    "            end\n",
    "        end\n",
    "        println(rhs)\n",
    "        @usercut(m, θ >= rhs )\n",
    "        separated += 1\n",
    "        separationtime += time()-tt\n",
    "    end\n",
    "    addlazycallback(m, cutGenerator) #es necesario un corte lazy ya que le indica al programa que no la he incluido\n",
    "\n",
    "    status = solve(m)\n",
    "    println(status)\n",
    "end"
   ]
  },
  {
   "cell_type": "code",
   "execution_count": 134,
   "metadata": {},
   "outputs": [
    {
     "name": "stdout",
     "output_type": "stream",
     "text": [
      "Min θ\n",
      "Subject to\n",
      " x[1,1] + x[1,2] + x[1,3] + x[1,4] + x[1,5] + x[1,6] + x[1,7] + x[1,8] + x[1,9] + x[1,10] = 1\n",
      " x[2,1] + x[2,2] + x[2,3] + x[2,4] + x[2,5] + x[2,6] + x[2,7] + x[2,8] + x[2,9] + x[2,10] = 1\n",
      " x[3,1] + x[3,2] + x[3,3] + x[3,4] + x[3,5] + x[3,6] + x[3,7] + x[3,8] + x[3,9] + x[3,10] = 1\n",
      " x[4,1] + x[4,2] + x[4,3] + x[4,4] + x[4,5] + x[4,6] + x[4,7] + x[4,8] + x[4,9] + x[4,10] = 1\n",
      " x[5,1] + x[5,2] + x[5,3] + x[5,4] + x[5,5] + x[5,6] + x[5,7] + x[5,8] + x[5,9] + x[5,10] = 1\n",
      " x[6,1] + x[6,2] + x[6,3] + x[6,4] + x[6,5] + x[6,6] + x[6,7] + x[6,8] + x[6,9] + x[6,10] = 1\n",
      " x[7,1] + x[7,2] + x[7,3] + x[7,4] + x[7,5] + x[7,6] + x[7,7] + x[7,8] + x[7,9] + x[7,10] = 1\n",
      " x[8,1] + x[8,2] + x[8,3] + x[8,4] + x[8,5] + x[8,6] + x[8,7] + x[8,8] + x[8,9] + x[8,10] = 1\n",
      " x[9,1] + x[9,2] + x[9,3] + x[9,4] + x[9,5] + x[9,6] + x[9,7] + x[9,8] + x[9,9] + x[9,10] = 1\n",
      " x[10,1] + x[10,2] + x[10,3] + x[10,4] + x[10,5] + x[10,6] + x[10,7] + x[10,8] + x[10,9] + x[10,10] = 1\n",
      " x[1,1] + x[2,1] + x[3,1] + x[4,1] + x[5,1] + x[6,1] + x[7,1] + x[8,1] + x[9,1] + x[10,1] = 1\n",
      " x[1,2] + x[2,2] + x[3,2] + x[4,2] + x[5,2] + x[6,2] + x[7,2] + x[8,2] + x[9,2] + x[10,2] = 1\n",
      " x[1,3] + x[2,3] + x[3,3] + x[4,3] + x[5,3] + x[6,3] + x[7,3] + x[8,3] + x[9,3] + x[10,3] = 1\n",
      " x[1,4] + x[2,4] + x[3,4] + x[4,4] + x[5,4] + x[6,4] + x[7,4] + x[8,4] + x[9,4] + x[10,4] = 1\n",
      " x[1,5] + x[2,5] + x[3,5] + x[4,5] + x[5,5] + x[6,5] + x[7,5] + x[8,5] + x[9,5] + x[10,5] = 1\n",
      " x[1,6] + x[2,6] + x[3,6] + x[4,6] + x[5,6] + x[6,6] + x[7,6] + x[8,6] + x[9,6] + x[10,6] = 1\n",
      " x[1,7] + x[2,7] + x[3,7] + x[4,7] + x[5,7] + x[6,7] + x[7,7] + x[8,7] + x[9,7] + x[10,7] = 1\n",
      " x[1,8] + x[2,8] + x[3,8] + x[4,8] + x[5,8] + x[6,8] + x[7,8] + x[8,8] + x[9,8] + x[10,8] = 1\n",
      " x[1,9] + x[2,9] + x[3,9] + x[4,9] + x[5,9] + x[6,9] + x[7,9] + x[8,9] + x[9,9] + x[10,9] = 1\n",
      " x[1,10] + x[2,10] + x[3,10] + x[4,10] + x[5,10] + x[6,10] + x[7,10] + x[8,10] + x[9,10] + x[10,10] = 1\n",
      " x[i,j] ∈ {0,1} ∀ i ∈ {1,2,…,9,10}, j ∈ {1,2,…,9,10}\n",
      " θ ≥ 0\n",
      "CPXPARAM_Preprocessing_Reduce                    1\n",
      "CPXPARAM_Preprocessing_Linear                    0\n",
      "CPXPARAM_MIP_Strategy_CallbackReducedLP          0\n",
      "Warning: Control callbacks may disable some MIP features.\n",
      "Tried aggregator 1 time.\n",
      "Reduced MIP has 20 rows, 101 columns, and 200 nonzeros.\n",
      "Reduced MIP has 100 binaries, 0 generals, 0 SOSs, and 0 indicators.\n",
      "Presolve time = 0.00 sec. (0.07 ticks)\n",
      "Probing time = 0.00 sec. (0.11 ticks)\n",
      "Clique table members: 20.\n",
      "MIP emphasis: balance optimality and feasibility.\n",
      "MIP search method: traditional branch-and-cut.\n",
      "Parallel mode: none, using 1 thread.\n",
      "Root relaxation solution time = 0.00 sec. (0.12 ticks)\n",
      "\n",
      "\n",
      " entro en generador de cortes\t\t26.0\n",
      "\n",
      "x[1,1] + 6 x[1,2] + 6 x[1,3] + 10 x[1,4] + 9 x[1,5] + x[1,6] + 6 x[1,7] + x[1,8] + 9 x[1,9] + 97 x[1,10] + 7 x[2,1] + 8 x[2,2] + 4 x[2,3] + x[2,4] + 7 x[2,5] + x[2,6] + 2 x[2,7] + 3 x[2,8] + 91 x[2,9] + 3 x[2,10] + 10 x[3,1] + 3 x[3,2] + 4 x[3,3] + 5 x[3,4] + 10 x[3,5] + 9 x[3,6] + 4 x[3,7] + 24 x[3,8] + 6 x[3,9] + 10 x[3,10] + 8 x[4,1] + x[4,2] + 3 x[4,3] + 3 x[4,4] + 3 x[4,5] + 6 x[4,6] + 30 x[4,7] + 3 x[4,8] + 8 x[4,9] + 9 x[4,10] + 5 x[5,1] + 2 x[5,2] + 2 x[5,3] + 2 x[5,4] + 8 x[5,5] + 84 x[5,6] + 10 x[5,7] + 7 x[5,8] + 9 x[5,9] + 3 x[5,10] + 5 x[6,1] + 8 x[6,2] + 9 x[6,3] + 5 x[6,4] + 87 x[6,5] + 6 x[6,6] + 10 x[6,7] + 10 x[6,8] + 7 x[6,9] + 3 x[6,10] + 5 x[7,1] + 6 x[7,2] + x[7,3] + 93 x[7,4] + 10 x[7,5] + 6 x[7,6] + 8 x[7,7] + 5 x[7,8] + 7 x[7,9] + 7 x[7,10] + 4 x[8,1] + 10 x[8,2] + 74 x[8,3] + 8 x[8,4] + 9 x[8,5] + 7 x[8,6] + 10 x[8,7] + 6 x[8,8] + 8 x[8,9] + 10 x[8,10] + 6 x[9,1] + 46 x[9,2] + 9 x[9,3] + 6 x[9,4] + 8 x[9,5] + 6 x[9,6] + 8 x[9,7] + 3 x[9,8] + 7 x[9,9] + 9 x[9,10] + 17 x[10,1] + x[10,2] + 9 x[10,3] + 9 x[10,4] + 8 x[10,5] + 10 x[10,6] + 8 x[10,7] + 4 x[10,8] + 6 x[10,9] + 9 x[10,10] - 26\n",
      "Caught exception\n"
     ]
    },
    {
     "ename": "LoadError",
     "evalue": "AssertionError: d.state == :MIPNode",
     "output_type": "error",
     "traceback": [
      "AssertionError: d.state == :MIPNode",
      ""
     ]
    }
   ],
   "source": [
    "solveRAP(cminus,cplus,10)"
   ]
  },
  {
   "cell_type": "code",
   "execution_count": null,
   "metadata": {
    "collapsed": true
   },
   "outputs": [],
   "source": []
  }
 ],
 "metadata": {
  "kernelspec": {
   "display_name": "Julia 0.5.2",
   "language": "julia",
   "name": "julia-0.5"
  },
  "language_info": {
   "file_extension": ".jl",
   "mimetype": "application/julia",
   "name": "julia",
   "version": "0.5.2"
  }
 },
 "nbformat": 4,
 "nbformat_minor": 2
}
