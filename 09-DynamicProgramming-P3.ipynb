{
 "cells": [
  {
   "cell_type": "markdown",
   "metadata": {},
   "source": [
    "# Programación Dinámica\n",
    "\n",
    "Vamos a ver una aplicación más compleja y con muchos más requerimientos"
   ]
  },
  {
   "cell_type": "code",
   "execution_count": null,
   "metadata": {},
   "outputs": [],
   "source": [
    "#  el número de variables explicativas **nPredictores**\n",
    "#  un vector **y** de variable a explicar\n",
    "#  una matriz **x** de variables explicativas, se construye columna a columna usando variables aleatorias\n",
    "#  calcula la suma de cuadrados totales usando aritmética vectorial\n",
    "#  esta función debería sustituirse por la lectura de datos desde un fichero\n",
    "function init_data()\n",
    "    nObservaciones=25\n",
    "    nPredictores=15\n",
    "    x=ones(nObservaciones)\n",
    "    for i in 1:nPredictores\n",
    "        x = [x rand(nObservaciones) ]\n",
    "    end\n",
    "    y = rand(nObservaciones)\n",
    "    calculoMedia= Array(Float64,nObservaciones)\n",
    "    fill!(calculoMedia,mean(y))\n",
    "    calculoMedia = calculoMedia .- y # suma de cuadrados totales\n",
    "    nObservaciones,nPredictores,x, y,dot(calculoMedia,calculoMedia)\n",
    "end"
   ]
  },
  {
   "cell_type": "code",
   "execution_count": null,
   "metadata": {},
   "outputs": [],
   "source": [
    "# función que selecciona un subconjunto de la matriz X.\n",
    "# input:\n",
    "#    matriz: la matriz de variables explicativas\n",
    "#    nPredictores: el número total de variables explicativas que podemos seleccionar (se usa para recorrer por todas y ver si son activas)\n",
    "#    seleccion: vector 0/1 que tiene valor igual a 1 si la variable debe estra dentro del modelo\n",
    "#\n",
    "# output:\n",
    "#    ret: matriz con el subconjunto de variables a usar\n",
    "#\n",
    "# notas:\n",
    "#   al menos uno de los coeficientes de selección debe valer 1 para crear una matriz de dos dimensiones, en caso contrario el codigo falla\n",
    "#   Siempre se considera que hay término independiente en el cálculo, que corresponde a la posición 1 de la matriz (columna de 1's)\n",
    "#   no es lo más \"limpio\" pero como proof-of-concept es suficiente\n",
    "function sub_data(matriz,nPredictores,seleccion)\n",
    "    count=1\n",
    "    ret = matriz[:,1]\n",
    "    for i in 1:nPredictores\n",
    "        if seleccion[i]==1\n",
    "            ret=vcat(ret,matriz[:,i+1])\n",
    "            count += 1\n",
    "            #ret = [ ret ; matriz[:,i+1] ]\n",
    "        end\n",
    "    end\n",
    "    ret=reshape(ret,size(matriz,1),count)\n",
    "    ret\n",
    "end"
   ]
  },
  {
   "cell_type": "code",
   "execution_count": null,
   "metadata": {},
   "outputs": [],
   "source": [
    "function determinarR2(nObservaciones,nPredictores,X,y,SStot)\n",
    "    #println(\"\\nX: \",X)\n",
    "    #println(\"\\ny: \",y)\n",
    "    b = X\\y\n",
    "    #println(\"\\nb:\",b)\n",
    "    estimados= X * b\n",
    "    error= dot(y-estimados,y-estimados)\n",
    "    1.0-error/SStot\n",
    "end"
   ]
  },
  {
   "cell_type": "code",
   "execution_count": null,
   "metadata": {},
   "outputs": [],
   "source": [
    "function main()   #inicio del programa principal\n",
    "    srand(0) #inicializa la semilla aleatoria para reproducibilidad\n",
    "    maxNumEnPQ = 500 #valor de control de uso de memoria en el algoritmo\n",
    "    nObservaciones,nPredictores,X, y,SStot = init_data()\n",
    "    println(\"SStot: \",SStot)\n",
    "    selector = zeros(Int,nPredictores)\n",
    "\n",
    "    enPQ = Dict()\n",
    "    numEnPQ = 0\n",
    "    pqAnterior = Collections.PriorityQueue(Array{Int},Float64)\n",
    "    Collections.enqueue!(pqAnterior,selector,0.0)\n",
    "    pqPosterior = Collections.PriorityQueue(Array{Int},Float64)\n",
    "    etapa = 1\n",
    "    for etapa in 1:nPredictores\n",
    "        @printf(\"etapa: %d  \",etapa)\n",
    "        println(Collections.length(pqAnterior))\n",
    "        #se van seleccionando los vertices en pAnterior, se desarrollan y se dejan en pqPosterior\n",
    "        while Collections.isempty(pqAnterior) == false       \n",
    "            selector = Collections.dequeue!(pqAnterior)\n",
    "            for i in 1:nPredictores\n",
    "                if selector[i] == 0 #si no se había escogido\n",
    "                    selector[i] = 1 # lo incluyo en la lista\n",
    "                    retorno=get!(enPQ,selector,0)\n",
    "                    if(retorno==0)  #no está en la memoria (es nueva) y hay que mirar si se guarda\n",
    "                        #la guardo en el diccionario de referencia rápida con un 1 que significa que está\n",
    "                        enPQ[copy(selector)]=1 \n",
    "                        Xalterado = sub_data(X,nPredictores,selector) #determino r2 (paso 1)\n",
    "                        r2 = determinarR2(nObservaciones,nPredictores,Xalterado,y,SStot) #determino r2 (paso 2)\n",
    "                        #println(\"r2: \",r2)\n",
    "                        if numEnPQ < maxNumEnPQ  #lo guardo siempre porque faltan alternativas\n",
    "                            Collections.enqueue!(pqPosterior,deepcopy(selector),r2)\n",
    "                            numEnPQ += 1\n",
    "                        else #tengo que ver si es mejor que el peor en PQ\n",
    "                            descarte, comparacion = Collections.peek(pqPosterior) #leo el valor de la peor\n",
    "                            if comparacion < r2 #si es mejor, entonces elimino la peor y añado la nueva\n",
    "                                Collections.dequeue!(pqPosterior)\n",
    "                                Collections.enqueue!(pqPosterior,deepcopy(selector),r2)\n",
    "                            end\n",
    "                        end\n",
    "                    end\n",
    "                    selector[i]=0 #para volver a inicio\n",
    "                end\n",
    "            end #for\n",
    "        end #while\n",
    "      \n",
    "        while isempty(pqPosterior) == false\n",
    "            selector,valor = Collections.peek(pqPosterior)\n",
    "            println(\"selector: \",selector,\" valor: \",valor)\n",
    "            Collections.enqueue!(pqAnterior,Collections.dequeue!(pqPosterior),0.0)\n",
    "        end\n",
    "        Collections.empty!(enPQ)       # y hay que vaciar la memoria\n",
    "        numEnPQ = 0\n",
    "    end\n",
    "end"
   ]
  },
  {
   "cell_type": "code",
   "execution_count": null,
   "metadata": {},
   "outputs": [],
   "source": [
    "main()"
   ]
  }
 ],
 "metadata": {
  "kernelspec": {
   "display_name": "Julia 0.5.2",
   "language": "julia",
   "name": "julia-0.5"
  },
  "language_info": {
   "file_extension": ".jl",
   "mimetype": "application/julia",
   "name": "julia",
   "version": "0.5.2"
  }
 },
 "nbformat": 4,
 "nbformat_minor": 2
}
