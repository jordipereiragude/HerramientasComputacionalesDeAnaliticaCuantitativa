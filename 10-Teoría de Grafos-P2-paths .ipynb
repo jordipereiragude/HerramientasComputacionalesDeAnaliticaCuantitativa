{
 "cells": [
  {
   "cell_type": "code",
   "execution_count": 1,
   "metadata": {
    "collapsed": true
   },
   "outputs": [],
   "source": [
    "# declaraciones de librerías\n",
    "using DataStructures"
   ]
  },
  {
   "cell_type": "code",
   "execution_count": 12,
   "metadata": {},
   "outputs": [
    {
     "name": "stderr",
     "output_type": "stream",
     "text": [
      "WARNING: Method definition (::Type{Main.gPaths})(Int64, Array{Int64, 2}) in module Main at In[6]:2 overwritten at In[12]:2.\n",
      "WARNING: Method definition (::Type{Main.gPaths})(Any, Any) in module Main at In[6]:2 overwritten at In[12]:2.\n",
      "WARNING: Method definition (::Type{Main.arcoPaths})(Int64, Int64, Int64) in module Main at In[6]:7 overwritten at In[12]:7.\n",
      "WARNING: Method definition (::Type{Main.arcoPaths})(Any, Any, Any) in module Main at In[6]:7 overwritten at In[12]:7.\n",
      "WARNING: Method definition (::Type{Main.gPathsSparse})(Int64, Int64, Array{Int64, 1}, Array{Main.arcoPaths, 1}) in module Main at In[6]:13 overwritten at In[12]:13.\n",
      "WARNING: Method definition (::Type{Main.gPathsSparse})(Any, Any, Any, Any) in module Main at In[6]:13 overwritten at In[12]:13.\n",
      "WARNING: Method definition generarGrafoDense(Int64, Int64) in module Main at In[6]:20 overwritten at In[12]:20.\n",
      "WARNING: Method definition generarGrafoSparse(Int64, Float64, Int64) in module Main at In[6]:29 overwritten at In[12]:29.\n",
      "WARNING: Method definition fromDenseToSparse(Main.gPaths) in module Main at In[6]:48 overwritten at In[12]:48.\n",
      "WARNING: Method definition fromSparseToDense(Main.gPathsSparse) in module Main at In[6]:65 overwritten at In[12]:65.\n"
     ]
    },
    {
     "data": {
      "text/plain": [
       "fromSparseToDense (generic function with 1 method)"
      ]
     },
     "execution_count": 12,
     "metadata": {},
     "output_type": "execute_result"
    }
   ],
   "source": [
    "type gPaths\n",
    "    nVertices::Int64\n",
    "    arcos::Array{Int64,2} #arco[i,j] indica la distancia entre i y j \n",
    "end\n",
    "\n",
    "type arcoPaths\n",
    "    origen::Int64\n",
    "    destino::Int64\n",
    "    longitud::Int64\n",
    "end\n",
    "\n",
    "type gPathsSparse\n",
    "    nVertices::Int64\n",
    "    nArcos::Int64\n",
    "    pOrigen::Array{Int64,1}\n",
    "    arcos::Array{arcoPaths,1} #arco[i,j] indica la distancia entre i y j \n",
    "end\n",
    "\n",
    "function generarGrafoDense(n::Int64,maxValue::Int64)\n",
    "    a=Array{Int64}(n,n)\n",
    "    rand!(a,1:maxValue)\n",
    "    for i in 1:n\n",
    "        a[i,i]=0\n",
    "    end\n",
    "    return gPaths(n,a) \n",
    "end\n",
    "\n",
    "function generarGrafoSparse(n::Int64,sp::Float64,maxValue::Int64)\n",
    "    a=arcoPaths[]\n",
    "    pOrigen=Int64[]\n",
    "    nArcos=1\n",
    "    for i in 1:n\n",
    "        push!(pOrigen,nArcos)\n",
    "        for j in 1:n\n",
    "            if i!=j\n",
    "                if rand()<sp\n",
    "                    push!(a,arcoPaths(i,j,rand(1:maxValue)))\n",
    "                    nArcos += 1\n",
    "                end\n",
    "            end\n",
    "        end\n",
    "    end\n",
    "    push!(pOrigen,nArcos)\n",
    "    return gPathsSparse(n,nArcos-1,pOrigen,a) \n",
    "end\n",
    "\n",
    "function fromDenseToSparse(g::gPaths)\n",
    "    a=arcoPaths[]\n",
    "    pOrigen=Int64[]\n",
    "    nArcos=1\n",
    "    for i in 1:g.nVertices\n",
    "        push!(pOrigen,nArcos)\n",
    "        for j in 1:g.nVertices\n",
    "            if g.arcos[i,j]!=0\n",
    "                push!(a,arcoPaths(i,j,g.arcos[i,j]))\n",
    "                nArcos += 1\n",
    "            end\n",
    "        end\n",
    "    end    \n",
    "    push!(pOrigen,nArcos)        \n",
    "    return gPathsSparse(g.nVertices,nArcos-1,pOrigen,a)\n",
    "end\n",
    "\n",
    "function fromSparseToDense(g::gPathsSparse)\n",
    "    ∞=1000000000\n",
    "    a=Array{Int64}(g.nVertices,g.nVertices)\n",
    "    fill!(a,∞)\n",
    "    for i in 1:g.nArcos\n",
    "        a[g.arcos[i].origen,g.arcos[i].destino]=g.arcos[i].longitud\n",
    "    end\n",
    "    return gPaths(g.nVertices,a)\n",
    "end"
   ]
  },
  {
   "cell_type": "markdown",
   "metadata": {},
   "source": [
    "# Djikstra"
   ]
  },
  {
   "cell_type": "code",
   "execution_count": 13,
   "metadata": {},
   "outputs": [
    {
     "name": "stderr",
     "output_type": "stream",
     "text": [
      "WARNING: Method definition dijkstraDense(Main.gPaths, Int64) in module Main at In[7]:2 overwritten at In[13]:2.\n",
      "WARNING: Method definition dijkstraSparse(Main.gPathsSparse, Int64) in module Main at In[7]:27 overwritten at In[13]:27.\n"
     ]
    },
    {
     "data": {
      "text/plain": [
       "dijkstraSparse (generic function with 1 method)"
      ]
     },
     "execution_count": 13,
     "metadata": {},
     "output_type": "execute_result"
    }
   ],
   "source": [
    "function dijkstraDense(g::gPaths,origin::Int64)\n",
    "    ∞=1000000\n",
    "    π=zeros(Int64,g.nVertices)\n",
    "    l=Array{Int64}(g.nVertices)\n",
    "    fill!(l,∞)\n",
    "    l[origin]=0\n",
    "    Q=PriorityQueue()\n",
    "    enqueue!(Q,origin,0)\n",
    "    while isempty(Q)==false\n",
    "        v=dequeue!(Q)\n",
    "        for w in 1:g.nVertices\n",
    "            if l[w] > (l[v]+g.arcos[v,w])\n",
    "                l[w]=l[v]+g.arcos[v,w]\n",
    "                π[w]=v\n",
    "                if haskey(Q,w)\n",
    "                    Q[w]=l[w]\n",
    "                else\n",
    "                    enqueue!(Q,w,l[w])\n",
    "                end\n",
    "            end\n",
    "        end\n",
    "    end\n",
    "    return l\n",
    "end\n",
    "\n",
    "function dijkstraSparse(g::gPathsSparse,origin::Int64)\n",
    "    ∞=1000000\n",
    "    π=zeros(Int64,g.nVertices)\n",
    "    l=Array{Int64}(g.nVertices)\n",
    "    fill!(l,∞)\n",
    "    l[origin]=0\n",
    "    Q=PriorityQueue()\n",
    "    enqueue!(Q,origin,0)\n",
    "    while isempty(Q)==false\n",
    "        v=dequeue!(Q)\n",
    "        for c in g.pOrigen[v]:g.pOrigen[v+1]-1\n",
    "            w=g.arcos[c].destino\n",
    "            longitud=g.arcos[c].longitud\n",
    "            if l[w] > (l[v]+longitud)\n",
    "                l[w]=l[v]+longitud\n",
    "                π[w]=v\n",
    "                if haskey(Q,w)\n",
    "                    Q[w]=l[w]\n",
    "                else\n",
    "                    enqueue!(Q,w,l[w])\n",
    "                end\n",
    "            end\n",
    "        end\n",
    "    end\n",
    "    return l\n",
    "end"
   ]
  },
  {
   "cell_type": "code",
   "execution_count": 14,
   "metadata": {},
   "outputs": [
    {
     "name": "stdout",
     "output_type": "stream",
     "text": [
      "  0.699061 seconds (7.14 M allocations: 109.532 MB, 3.81% gc time)\n",
      "  1.837482 seconds (19.14 M allocations: 353.596 MB, 22.02% gc time)\n"
     ]
    }
   ],
   "source": [
    "G=generarGrafoDense(2000,1000);\n",
    "@time(dijkstraDense(G,1));\n",
    "#l=dijkstraDense(G,1)\n",
    "#println(\"in: \",l)\n",
    "gS=fromDenseToSparse(G);\n",
    "@time(dijkstraSparse(gS,1));\n",
    "#lS=dijkstraSparse(gS,1)\n",
    "#println(\"in: \",lS)\n"
   ]
  },
  {
   "cell_type": "code",
   "execution_count": null,
   "metadata": {},
   "outputs": [],
   "source": [
    "gS=generarGrafoSparse(2500,0.25,1000)\n",
    "@time(dijkstraSparse(gS,1))\n",
    "G=fromSparseToDense(gS)\n",
    "@time(dijkstraDense(G,1))"
   ]
  },
  {
   "cell_type": "code",
   "execution_count": null,
   "metadata": {
    "collapsed": true
   },
   "outputs": [],
   "source": []
  }
 ],
 "metadata": {
  "kernelspec": {
   "display_name": "Julia 0.5.2",
   "language": "julia",
   "name": "julia-0.5"
  },
  "language_info": {
   "file_extension": ".jl",
   "mimetype": "application/julia",
   "name": "julia",
   "version": "0.5.2"
  }
 },
 "nbformat": 4,
 "nbformat_minor": 2
}
