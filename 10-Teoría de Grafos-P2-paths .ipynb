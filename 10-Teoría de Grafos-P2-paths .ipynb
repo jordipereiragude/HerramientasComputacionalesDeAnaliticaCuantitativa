{
 "cells": [
  {
   "cell_type": "code",
   "execution_count": 1,
   "metadata": {
    "collapsed": true
   },
   "outputs": [],
   "source": [
    "# declaraciones de librerías\n",
    "using DataStructures"
   ]
  },
  {
   "cell_type": "code",
   "execution_count": 2,
   "metadata": {},
   "outputs": [
    {
     "data": {
      "text/plain": [
       "fromSparseToDense (generic function with 1 method)"
      ]
     },
     "execution_count": 2,
     "metadata": {},
     "output_type": "execute_result"
    }
   ],
   "source": [
    "type gPaths\n",
    "    nVertices::Int64\n",
    "    arcos::Array{Int64,2} #arco[i,j] indica la distancia entre i y j \n",
    "end\n",
    "\n",
    "type arcoPaths\n",
    "    origen::Int64\n",
    "    destino::Int64\n",
    "    longitud::Int64\n",
    "end\n",
    "\n",
    "type gPathsSparse\n",
    "    nVertices::Int64\n",
    "    nArcos::Int64\n",
    "    pOrigen::Array{Int64,1}\n",
    "    arcos::Array{arcoPaths,1} #arco[i,j] indica la distancia entre i y j \n",
    "end\n",
    "\n",
    "function generarGrafoDense(n::Int64,maxValue::Int64)\n",
    "    a=Array{Int64}(n,n)\n",
    "    rand!(a,1:maxValue)\n",
    "    for i in 1:n\n",
    "        a[i,i]=0\n",
    "    end\n",
    "    return gPaths(n,a) \n",
    "end\n",
    "\n",
    "function generarGrafoSparse(n::Int64,sp::Float64,maxValue::Int64)\n",
    "    a=arcoPaths[]\n",
    "    pOrigen=Int64[]\n",
    "    nArcos=1\n",
    "    for i in 1:n\n",
    "        push!(pOrigen,nArcos)\n",
    "        for j in 1:n\n",
    "            if i!=j\n",
    "                if rand()<sp\n",
    "                    push!(a,arcoPaths(i,j,rand(1:maxValue)))\n",
    "                    nArcos += 1\n",
    "                end\n",
    "            end\n",
    "        end\n",
    "    end\n",
    "    push!(pOrigen,nArcos)\n",
    "    return gPathsSparse(n,nArcos-1,pOrigen,a) \n",
    "end\n",
    "\n",
    "function fromDenseToSparse(g::gPaths)\n",
    "    a=arcoPaths[]\n",
    "    pOrigen=Int64[]\n",
    "    nArcos=1\n",
    "    for i in 1:g.nVertices\n",
    "        push!(pOrigen,nArcos)\n",
    "        for j in 1:g.nVertices\n",
    "            if g.arcos[i,j]!=0\n",
    "                push!(a,arcoPaths(i,j,g.arcos[i,j]))\n",
    "                nArcos += 1\n",
    "            end\n",
    "        end\n",
    "    end    \n",
    "    push!(pOrigen,nArcos)        \n",
    "    return gPathsSparse(g.nVertices,nArcos-1,pOrigen,a)\n",
    "end\n",
    "\n",
    "function fromSparseToDense(g::gPathsSparse)\n",
    "    ∞=1000000000\n",
    "    a=Array{Int64}(g.nVertices,g.nVertices)\n",
    "    fill!(a,∞)\n",
    "    for i in 1:g.nArcos\n",
    "        a[g.arcos[i].origen,g.arcos[i].destino]=g.arcos[i].longitud\n",
    "    end\n",
    "    return gPaths(g.nVertices,a)\n",
    "end"
   ]
  },
  {
   "cell_type": "markdown",
   "metadata": {},
   "source": [
    "# Djikstra\n",
    "\n",
    "Implementación\n",
    "\n",
    "<b>P1. Inicialización:</b> l(s):=0, l(v):=$\\infty$ para todo $v\\in V \\setminus \\{s\\}$, R:=$\\emptyset$\n",
    "\n",
    "<b>P2. Buscar Probe:</b> Buscar un vértice $v\\in V \\setminus R$ tal que $l(v):=\\min_{w\\in V\\setminus R} l(w)$\n",
    "\n",
    "<b>P3. Update R:</b> Sea $R:=R\\cup \\{v\\}$ \n",
    "\n",
    "<b>P4. actualizar:</b> \n",
    "\n",
    "Para todo $w\\in V \\setminus R$ tal que $(v,w)\\in A$ hacer:<br>\n",
    "$~~~$Si $l(w)>l(v)+c(v,w)$ entonces <br>\n",
    "$~~~~~~$sea $l(w):=l(v)+c(v,w)$ y $\\pi(w):=v$ <br>\n",
    "$~~~$Fin Si <br>\n",
    "Fin Para <br>\n",
    "\n",
    "<b>P5. Condición de final:</b> Si $R\\neq V$ ir a paso 2.\n",
    "\n",
    "La implementación actual sólo sirve si no hay circuitos, ya que $R$ no se mantiene (una opción es contar el número de vértices considerados en el <b>paso 4</b>.\n",
    "\n",
    "La implementación propuesta es suficientemente eficiente para la mayoría de problemas y la recomendada si los arcos no pueden tener valores negativos (excepto en la forma de guardar los arcos y de mirar el $\\delta^+$ de un vértice que puede mejorarse). "
   ]
  },
  {
   "cell_type": "code",
   "execution_count": 3,
   "metadata": {},
   "outputs": [
    {
     "data": {
      "text/plain": [
       "dijkstraSparse (generic function with 1 method)"
      ]
     },
     "execution_count": 3,
     "metadata": {},
     "output_type": "execute_result"
    }
   ],
   "source": [
    "function dijkstraDense(g::gPaths,origin::Int64)\n",
    "    ∞=1000000\n",
    "    π=zeros(Int64,g.nVertices)\n",
    "    l=Array{Int64}(g.nVertices)\n",
    "    fill!(l,∞)\n",
    "    l[origin]=0\n",
    "    Q=PriorityQueue()\n",
    "    enqueue!(Q,origin,0)\n",
    "    while isempty(Q)==false\n",
    "        v=dequeue!(Q)\n",
    "        for w in 1:g.nVertices\n",
    "            if l[w] > (l[v]+g.arcos[v,w])\n",
    "                l[w]=l[v]+g.arcos[v,w]\n",
    "                π[w]=v\n",
    "                if haskey(Q,w)\n",
    "                    Q[w]=l[w]\n",
    "                else\n",
    "                    enqueue!(Q,w,l[w])\n",
    "                end\n",
    "            end\n",
    "        end\n",
    "    end\n",
    "    return l,π\n",
    "end\n",
    "\n",
    "function dijkstraSparse(g::gPathsSparse,origin::Int64)\n",
    "    ∞=1000000\n",
    "    π=zeros(Int64,g.nVertices)\n",
    "    l=Array{Int64}(g.nVertices)\n",
    "    fill!(l,∞)\n",
    "    l[origin]=0\n",
    "    Q=PriorityQueue()\n",
    "    enqueue!(Q,origin,0)\n",
    "    while isempty(Q)==false\n",
    "        v=dequeue!(Q)\n",
    "        for c in g.pOrigen[v]:g.pOrigen[v+1]-1\n",
    "            w=g.arcos[c].destino\n",
    "            longitud=g.arcos[c].longitud\n",
    "            if l[w] > (l[v]+longitud)\n",
    "                l[w]=l[v]+longitud\n",
    "                π[w]=v\n",
    "                if haskey(Q,w)\n",
    "                    Q[w]=l[w]\n",
    "                else\n",
    "                    enqueue!(Q,w,l[w])\n",
    "                end\n",
    "            end\n",
    "        end\n",
    "    end\n",
    "    return l,π\n",
    "end"
   ]
  },
  {
   "cell_type": "code",
   "execution_count": 57,
   "metadata": {},
   "outputs": [
    {
     "name": "stdout",
     "output_type": "stream",
     "text": [
      "  0.158427 seconds (1.54 M allocations: 23.770 MB, 2.42% gc time)\n",
      "  0.569042 seconds (4.54 M allocations: 84.798 MB, 36.20% gc time)\n"
     ]
    }
   ],
   "source": [
    "G=generarGrafoDense(1000,1000);\n",
    "@time(dijkstraDense(G,1));\n",
    "#l=dijkstraDense(G,1)\n",
    "#println(\"in: \",l)\n",
    "gS=fromDenseToSparse(G);\n",
    "@time(dijkstraSparse(gS,1));\n",
    "#lS=dijkstraSparse(gS,1)\n",
    "#println(\"in: \",lS)\n"
   ]
  },
  {
   "cell_type": "code",
   "execution_count": 5,
   "metadata": {},
   "outputs": [
    {
     "name": "stdout",
     "output_type": "stream",
     "text": [
      "  0.039571 seconds (510.38 k allocations: 9.521 MB, 11.07% gc time)\n",
      "  0.607310 seconds (2.46 M allocations: 37.791 MB, 4.15% gc time)\n"
     ]
    }
   ],
   "source": [
    "gS=generarGrafoSparse(1000,0.1,1000);\n",
    "@time(dijkstraSparse(gS,1));\n",
    "G=fromSparseToDense(gS);\n",
    "@time(dijkstraDense(G,1));"
   ]
  },
  {
   "cell_type": "markdown",
   "metadata": {},
   "source": [
    "# Bellman-Ford\n",
    "\n",
    "Alternativamente y si se cree que puede haber circuitos (o es lo que se busca) es preferible usar Bellman-Ford. La recurrencia (recordemos que los problemas de caminos son programas dinámicos) se reordena para analizar arcos. \n",
    "\n",
    "Analizando los arcos en un máximo de ($n$-1) comprobaciones, aseguramos que se exploran caminos de la longitud máxima posible y que si existe un circuito éste puede trazarse (no hay circuitos hamiltonianos con más de ese número de arcos).\n",
    "Implementación\n",
    "\n",
    "<b>P1. Inicialización:</b> l(s):=0, l(v):=$\\infty$ para todo $v\\in V \\setminus \\{s\\}$\n",
    "\n",
    "<b>P2. Iteración:</b> \n",
    "\n",
    "Para i=1,...,|V|-1<br>\n",
    "$~~~$Para todo arco $(v,w)\\in A$ <br>\n",
    "$~~~~~~$Si $l(w)>l(v)+c(v,w)$ entonces <br>\n",
    "$~~~~~~~~~$sea $l(w):=l(v)+c(v,w)$ y $\\pi(w):=v$\n",
    "$~~~~~~$Fin Si<br>\n",
    "$~~~$Fin Para<br>\n",
    "Fin Para\n",
    "\n",
    "<b>P3. Circuitos:</b> Si existe un arco (v,w) tal que $l(w)>l(v)+c(v,w)$<br>\n",
    "$~~~$Reportar que existe un circuito que empieza en $w$"
   ]
  },
  {
   "cell_type": "code",
   "execution_count": 28,
   "metadata": {},
   "outputs": [
    {
     "name": "stderr",
     "output_type": "stream",
     "text": [
      "WARNING: Method definition BellmanFordDense(Main.gPaths, Int64) in module Main at In[26]:3 overwritten at In[28]:3.\n",
      "WARNING: Method definition BellmanFordSparse(Main.gPathsSparse, Int64) in module Main at In[26]:34 overwritten at In[28]:34.\n"
     ]
    },
    {
     "data": {
      "text/plain": [
       "BellmanFordSparse (generic function with 1 method)"
      ]
     },
     "execution_count": 28,
     "metadata": {},
     "output_type": "execute_result"
    }
   ],
   "source": [
    "function BellmanFordDense(g::gPaths,origin::Int64)\n",
    "    #paso 1\n",
    "    ∞=1000000\n",
    "    π=zeros(Int64,g.nVertices)\n",
    "    l=Array{Int64}(g.nVertices)\n",
    "    fill!(l,∞)\n",
    "    l[origin]=0\n",
    "    #paso 2\n",
    "    for i = 1:g.nVertices-1\n",
    "        for v in 1:g.nVertices\n",
    "            for w in 1:g.nVertices\n",
    "                if l[w]> (l[v]+g.arcos[v,w])\n",
    "                    l[w]=l[v]+g.arcos[v,w]\n",
    "                    π[w]=v\n",
    "                end\n",
    "            end\n",
    "        end\n",
    "    end\n",
    "    #paso 3\n",
    "    conCircuito=0\n",
    "    for v in 1:g.nVertices\n",
    "        for w in 1:g.nVertices\n",
    "            if l[w]> (l[v]+g.arcos[v,w])\n",
    "                conCircuito=w\n",
    "                break\n",
    "            end\n",
    "        end\n",
    "    end\n",
    "    return conCircuito,l,π\n",
    "end\n",
    "\n",
    "function BellmanFordSparse(g::gPathsSparse,origin::Int64)\n",
    "    #paso 1\n",
    "    ∞=1000000\n",
    "    π=zeros(Int64,g.nVertices)\n",
    "    l=Array{Int64}(g.nVertices)\n",
    "    fill!(l,∞)\n",
    "    l[origin]=0\n",
    "    #paso 2\n",
    "    for i = 1:g.nVertices-1\n",
    "        for c in 1:g.nArcos\n",
    "            v=g.arcos[c].origen\n",
    "            w=g.arcos[c].destino\n",
    "            longitud=g.arcos[c].longitud\n",
    "            if l[w]> (l[v]+longitud)\n",
    "                l[w]=l[v]+longitud\n",
    "                π[w]=v\n",
    "            end\n",
    "        end\n",
    "    end\n",
    "    #paso 3\n",
    "    conCircuito=0\n",
    "    for c in 1:g.nArcos\n",
    "        v=g.arcos[c].origen\n",
    "        w=g.arcos[c].destino\n",
    "        longitud=g.arcos[c].longitud\n",
    "        if l[w]> (l[v]+longitud)\n",
    "            conCircuito=w\n",
    "            break\n",
    "        end\n",
    "    end\n",
    "    return conCircuito,l,π\n",
    "end"
   ]
  },
  {
   "cell_type": "code",
   "execution_count": 8,
   "metadata": {},
   "outputs": [
    {
     "name": "stdout",
     "output_type": "stream",
     "text": [
      "  6.049673 seconds (10.99 k allocations: 470.653 KB)\n",
      "  0.133434 seconds (5.50 k allocations: 259.228 KB)\n"
     ]
    }
   ],
   "source": [
    "#conCircuito,l,π=BellmanFordDense(G,1)\n",
    "#println(\"conCircuito: \",conCircuito,\" l: \",l,\"\\t π \\t\",π)\n",
    "@time(BellmanFordDense(G,1));\n",
    "@time(BellmanFordSparse(gS,1));"
   ]
  },
  {
   "cell_type": "markdown",
   "metadata": {},
   "source": [
    "La reconstrucción del camino requiere reseguir desde el vértice conCircuito hasta que se repita un vértice en la traza"
   ]
  },
  {
   "cell_type": "code",
   "execution_count": 45,
   "metadata": {},
   "outputs": [
    {
     "name": "stdout",
     "output_type": "stream",
     "text": [
      "circuito en: 18 17 16 12 24 23 25 .\n"
     ]
    }
   ],
   "source": [
    "gS2=generarGrafoSparse(25,0.75,10);\n",
    "\n",
    "conCircuito,l,π = BellmanFordSparse(gS2,1)\n",
    "while conCircuito==0\n",
    "    for c in 1:gS2.nArcos\n",
    "        gS2.arcos[c].longitud -= 1\n",
    "    end\n",
    "    conCircuito,l,π=BellmanFordSparse(gS2,1)\n",
    "end\n",
    "#tenemos un circuito\n",
    "inCircuit=zeros(gS2.nVertices)\n",
    "current=conCircuito\n",
    "while inCircuit[current]==0\n",
    "    inCircuit[current]=1\n",
    "    current=π[current]\n",
    "end\n",
    "#empieza\n",
    "print(\"circuito en: \",current,\" \")\n",
    "curr=π[current]\n",
    "while curr!=current\n",
    "    print(curr,\" \")\n",
    "    curr=π[curr]\n",
    "end\n",
    "println(\".\")"
   ]
  },
  {
   "cell_type": "markdown",
   "metadata": {},
   "source": [
    "# Floyd-Warshall\n",
    "\n",
    "El procedimiento para caminos extremos entre toda pareja de vértices es un algoritmo de programación dinámica que recuerda la multiplicación de matrices.\n",
    "\n",
    "En formato denso, el algoritmo resulta trivial, en formato disperso es preferible computar Djikstra repetidas veces (existe una manera de evitar circuitos que no requiere n ejecuciones de Bellman-Ford).\n",
    "\n",
    "<b>P1. Inicialización:</b> $l_{ij}:=c_{ij}$ para todo $(i,j)\\in A$, $l_{ij}:=\\infty$ para todo $(i,j)\\notin A$, $l_{ii}=0$ para todo $i\\in V$, $\\pi_{ij}=i$ para todo $(i,j)\\in A$. \n",
    "\n",
    "<b>P2. Iteración:</b> \n",
    "\n",
    "Para j=1,...,|V|<br>\n",
    "$~~~$Para i=1,...,|V|, si $j\\neq i$<br>\n",
    "$~~~~~~$Para todo k=1,...,|V|, si $k\\neq j$<br>\n",
    "$~~~~~~~~~$Si $l_{ik}>l_{ij}+l_{jk}$ entonces <br>\n",
    "$~~~~~~~~~~~~$Sea $l_{ik}:=l_{ij}+l_{jk}$ y $p_{ik}:=p_{jk}$ <br>\n",
    "$~~~~~~~~~$Fin Si <br>\n",
    "$~~~~~~$Fin Para <br>\n",
    "$~~~$Fin Para <br>\n",
    "Fin Para"
   ]
  },
  {
   "cell_type": "code",
   "execution_count": 60,
   "metadata": {},
   "outputs": [
    {
     "name": "stderr",
     "output_type": "stream",
     "text": [
      "WARNING: Method definition FloydWarshallDense(Main.gPaths) in module Main at In[54]:3 overwritten at In[60]:3.\n",
      "WARNING: Method definition FloydWarshallSparse(Main.gPathsSparse) in module Main at In[54]:35 overwritten at In[60]:36.\n"
     ]
    },
    {
     "data": {
      "text/plain": [
       "FloydWarshallSparse (generic function with 1 method)"
      ]
     },
     "execution_count": 60,
     "metadata": {},
     "output_type": "execute_result"
    }
   ],
   "source": [
    "function FloydWarshallDense(g::gPaths)\n",
    "    #paso 1\n",
    "    ∞=1000000\n",
    "    π=zeros(Int64,g.nVertices,g.nVertices)\n",
    "    l=Array{Int64}(g.nVertices,g.nVertices)\n",
    "    l=deepcopy(g.arcos)\n",
    "    for i in 1:g.nVertices\n",
    "        l[i,i]=0\n",
    "    end\n",
    "    for i = 1:g.nVertices\n",
    "        for j = 1:g.nVertices\n",
    "            π[i,j]=i\n",
    "        end\n",
    "    end\n",
    "\n",
    "    #paso 2\n",
    "    for j in 1:g.nVertices\n",
    "        for i in 1:g.nVertices\n",
    "            if i!=j\n",
    "                for k in 1:g.nVertices\n",
    "                    if k!=j\n",
    "                        if l[i,k]>l[i,j]+l[j,k]\n",
    "                            l[i,k]=l[i,j]+l[j,k]\n",
    "                            π[i,k]=π[j,k]\n",
    "                        end\n",
    "                    end\n",
    "                end\n",
    "            end\n",
    "        end\n",
    "    end\n",
    "    return l,π\n",
    "end\n",
    "\n",
    "function FloydWarshallSparse(g::gPathsSparse)\n",
    "    #paso 1\n",
    "    ∞=1000000\n",
    "    π=zeros(Int64,g.nVertices,g.nVertices)\n",
    "    l=Array{Int64}(g.nVertices,g.nVertices)\n",
    "    fill!(l,∞)\n",
    "    for i in 1:g.nArcos\n",
    "        l[g.arcos[i].origen,g.arcos[i].destino]=g.arcos[i].longitud\n",
    "    end\n",
    "    for i in 1:g.nVertices\n",
    "        l[i,i]=0\n",
    "    end\n",
    "    for i = 1:g.nVertices\n",
    "        for j = 1:g.nVertices\n",
    "            π[i,j]=i\n",
    "        end\n",
    "    end\n",
    "    #paso 2\n",
    "    for j in 1:g.nVertices\n",
    "        for i in 1:g.nVertices\n",
    "            if i!=j\n",
    "                for k in 1:g.nVertices\n",
    "                    if k!=j\n",
    "                        if l[i,k]>l[i,j]+l[j,k]\n",
    "                            l[i,k]=l[i,j]+l[j,k]\n",
    "                            π[i,k]=π[j,k]\n",
    "                        end\n",
    "                    end\n",
    "                end\n",
    "            end\n",
    "        end\n",
    "    end\n",
    "    return l,π\n",
    "end"
   ]
  },
  {
   "cell_type": "code",
   "execution_count": 61,
   "metadata": {},
   "outputs": [
    {
     "name": "stdout",
     "output_type": "stream",
     "text": [
      " 16.416649 seconds (12.39 k allocations: 23.373 MB, 0.01% gc time)\n",
      " 15.717187 seconds (15.09 k allocations: 15.837 MB)\n"
     ]
    }
   ],
   "source": [
    "@time(FloydWarshallDense(G));\n",
    "@time(FloydWarshallSparse(gS));"
   ]
  },
  {
   "cell_type": "code",
   "execution_count": null,
   "metadata": {
    "collapsed": true
   },
   "outputs": [],
   "source": []
  }
 ],
 "metadata": {
  "kernelspec": {
   "display_name": "Julia 0.5.2",
   "language": "julia",
   "name": "julia-0.5"
  },
  "language_info": {
   "file_extension": ".jl",
   "mimetype": "application/julia",
   "name": "julia",
   "version": "0.5.2"
  }
 },
 "nbformat": 4,
 "nbformat_minor": 2
}
