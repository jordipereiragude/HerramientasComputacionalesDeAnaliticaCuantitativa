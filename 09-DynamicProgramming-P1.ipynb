{
 "cells": [
  {
   "cell_type": "code",
   "execution_count": 36,
   "metadata": {
    "collapsed": true
   },
   "outputs": [],
   "source": [
    "#Pkg.add(\"OffsetArrays\") # -> Nos permitirá usar matrices que empiecen con índice 0 \n",
    "using OffsetArrays"
   ]
  },
  {
   "cell_type": "markdown",
   "metadata": {},
   "source": [
    "# Programación dinámica\n",
    "\n",
    "Veremos únicamente casos que se calificarían como programación dinámica determinista en horizonte finito (categoría en la que caen la mayoría de problemas de optimización combinatoria determinista).\n",
    "\n",
    "Utilizaremos dos ejemplos (knapsack y lot sizing) que ya hemos visto y que luego intentaremos combinar/comparar con los métodos expuestos con anterioridad. \n",
    "\n",
    "No voy a repasar los fundamentos de la programación dinámica. Si alguien necesita un repaso más allá del nivel introductorio, recomiendo el libro de Denardo porque es uno de los más accesibles y además es barato (E. Denardo, Dynamic Programming: Models and Applications)."
   ]
  },
  {
   "cell_type": "markdown",
   "metadata": {},
   "source": [
    "# Uncapacitated Lot sizing\n",
    "\n",
    "Este problema ya lo hemos visto en el diseño de cortes, así que hemos trasladado algunas funciones de la página anterior que nos resultarán útiles\n"
   ]
  },
  {
   "cell_type": "code",
   "execution_count": 28,
   "metadata": {},
   "outputs": [
    {
     "name": "stderr",
     "output_type": "stream",
     "text": [
      "WARNING: Method definition readULS(String) in module Main at In[22]:2 overwritten at In[28]:2.\n"
     ]
    },
    {
     "data": {
      "text/plain": [
       "readULS (generic function with 1 method)"
      ]
     },
     "execution_count": 28,
     "metadata": {},
     "output_type": "execute_result"
    }
   ],
   "source": [
    "function readULS(path::String)\n",
    "    f = open(path,\"r\")\n",
    "    T = parse(Int64,readline(f)) \n",
    "    c=map(x->parse(Int64,x),split(strip(readline(f))))\n",
    "    h=map(x->parse(Int64,x),split(strip(readline(f))))\n",
    "    K=map(x->parse(Int64,x),split(strip(readline(f))))\n",
    "    d=map(x->parse(Int64,x),split(strip(readline(f))))\n",
    "    close(f)\n",
    "    T, c, h, K, d\n",
    "end\n",
    "# T -> número de periodos\n",
    "# c_t -> costo de comprar una unidad en el periodo t\n",
    "# h_t -> costo de inventariar una unidad en el periodo t\n",
    "# K_t -> costo de realizar un pedido en el periodo t\n",
    "# d_t -> demanda en el periodo t"
   ]
  },
  {
   "cell_type": "code",
   "execution_count": 29,
   "metadata": {},
   "outputs": [
    {
     "data": {
      "text/plain": [
       "(200,[1,4,1,2,4,4,1,4,1,3  …  2,1,1,1,4,3,3,3,3,2],[2,3,2,2,3,2,3,2,1,1  …  3,2,2,1,2,3,1,1,2,1],[10,8,6,6,10,8,9,5,10,10  …  7,9,6,6,7,7,7,5,7,10],[4,10,5,4,9,7,2,8,4,7  …  9,4,2,2,10,10,4,7,8,3])"
      ]
     },
     "execution_count": 29,
     "metadata": {},
     "output_type": "execute_result"
    }
   ],
   "source": [
    "#run(`wget -O test.dat https://raw.githubusercontent.com/sbebo/julia-cuts/master/test.dat`)\n",
    "#run(`cat test.dat`)\n",
    "T, c, h, K, d = readULS(\"test.dat\")"
   ]
  },
  {
   "cell_type": "markdown",
   "metadata": {},
   "source": [
    "## Uncapacitated Lot Sizing. Método 1. Estados asociados al nivel de inventario y recurrencia backward\n",
    "\n",
    "Éste sería el método tradicional para empezar en clase. Sabemos que en el periodo T+1 el costo es 0 y la última decisión corresponde al periodo T. "
   ]
  },
  {
   "cell_type": "code",
   "execution_count": 43,
   "metadata": {},
   "outputs": [
    {
     "name": "stdout",
     "output_type": "stream",
     "text": [
      "[180,170,160,150,140,130,120,110,100,101,102,103,104,105,106,107,108,109,110,111,112,113,114,115,116,117,118,119,120,121,122,123,124,125,126,127,128,129,130]\n",
      "\n",
      "\n",
      "\n",
      "[400,390,380,370,360,350,340,330,320,310,300,290,180,171,162,153,144,135,126,117,108,110,112,114,116,118,120,122,124,126,128,130,132,134,136,138,140,142,144]\n",
      "\n",
      "\n",
      "\n",
      "[482,472,462,452,442,432,422,400,391,382,373,364,355,346,337,328,319,310,301,192,184,176,168,160,152,144,136,128,131,134,137,140,143,146,149,152,155,158,161]\n",
      "\n",
      "\n",
      "\n",
      "[561,551,541,531,521,511,482,473,464,455,446,437,428,407,399,391,383,375,367,359,351,343,335,327,319,211,204,197,190,183,176,169,162,155,159,163,167,171,175]\n",
      "\n",
      "\n",
      "\n",
      "[636,626,616,606,596,561,552,543,534,525,516,488,480,472,464,456,448,440,420,413,406,399,392,385,378,371,364,357,350,343,236,230,224,218,212,206,200,194,188]\n"
     ]
    },
    {
     "name": "stderr",
     "output_type": "stream",
     "text": [
      "WARNING: Method definition DP_m1(Any, Any, Any, Any, Any) in module Main at In[42]:4 overwritten at In[43]:4.\n"
     ]
    }
   ],
   "source": [
    "#Pkg.add(\"OffsetArrays\")\n",
    "\n",
    "function DP_m1(T,c,h,K,d)\n",
    "    D=sum(d)\n",
    "    tableCosts = OffsetArray(Int64, 1:T, 0:D)\n",
    "    tablePath = OffsetArray(Int64, 1:T, 0:D)\n",
    "    for i=0:d[T]-1\n",
    "        tableCosts[1,i]=K[T]+c[T]*(d[T]-i) #hacer un pedido y comprar lo que falta hasta d[T]\n",
    "    end\n",
    "    for i=d[T]:D\n",
    "        tableCosts[1,i]=K[T]+h[T]*(i-d[T]) #hacer un pedido y comprar lo que falta hasta d[T]\n",
    "    end\n",
    "    for t=2:T #para cada etapa\n",
    "        period=T-t+1\n",
    "        for st=0:D\n",
    "            #hay que diferenciar dos casos\n",
    "            if st<d[period] #es obligatorio comprar\n",
    "                #iniciamos con la opción de comprar justo para la semana\n",
    "                tableCosts[t,st]=K[period]+c[period]*(d[period]-st)+tableCosts[t-1,0]\n",
    "                tablePath[t,st]=0\n",
    "                #resto de opciones consisten en comprar desde d[period]-st+1 hasta D-st\n",
    "                for tr=d[period]-st+1:D-st\n",
    "                    cost=K[period]+c[period]*tr+h[period]*(st+tr-d[period])+tableCosts[t-1,st+tr-d[period]]\n",
    "                    if cost < tableCosts[t,st]\n",
    "                        tableCosts[t,st]=cost\n",
    "                        tablePath[t,st]=st+tr-d[period]\n",
    "                    end\n",
    "                end\n",
    "            else\n",
    "                #inicializamos con la opción de no comprar\n",
    "                tableCosts[t,st]=h[period]*(st-d[period])+tableCosts[t-1,st-d[period]]\n",
    "                tablePath[t,st]=st-d[period]\n",
    "                #resto de opciones consisten en comprar desde 1 hasta D-st\n",
    "                for tr=1:D-st\n",
    "                    cost=K[period]+c[period]*tr+h[period]*(st+tr-d[period])+tableCosts[t-1,st+tr-d[period]]\n",
    "                    if cost<tableCosts[t,st]\n",
    "                        tableCosts[t,st]=cost\n",
    "                        tablePath[t,st]=st+tr-d[period]\n",
    "                    end\n",
    "                end\n",
    "            end\n",
    "        end\n",
    "    end\n",
    "    println(tableCosts[1,:])\n",
    "    println(\"\\n\\n\")\n",
    "    println(tableCosts[2,:])\n",
    "    println(\"\\n\\n\")\n",
    "    println(tableCosts[3,:])\n",
    "    println(\"\\n\\n\")\n",
    "    println(tableCosts[4,:])\n",
    "    println(\"\\n\\n\")\n",
    "    println(tableCosts[5,:])\n",
    "\n",
    "end\n",
    "T=5\n",
    "c=[10 10 10 10 10]\n",
    "h=[1 1 1 1 1 ]\n",
    "K=[100 100 100 100 100]\n",
    "d=[5 6 7 12 8]\n",
    "DP_m1(T,c,h,K,d)\n"
   ]
  },
  {
   "cell_type": "markdown",
   "metadata": {},
   "source": [
    "## Uncapacitated Lot Sizing. Método 2. Estados asociados al nivel de inventario y recurrencia forward\n"
   ]
  },
  {
   "cell_type": "markdown",
   "metadata": {},
   "source": [
    "## Uncapacitated Lot Sizing. Método 3. Estados asociados al nivel de inventario, recurrencia forward y transiciones limitadas "
   ]
  },
  {
   "cell_type": "markdown",
   "metadata": {},
   "source": [
    "## Uncapacitated Lot Sizing. Método 4. Estados asociados a los periodos y recurrencia forward\n"
   ]
  },
  {
   "cell_type": "code",
   "execution_count": null,
   "metadata": {
    "collapsed": true
   },
   "outputs": [],
   "source": []
  }
 ],
 "metadata": {
  "kernelspec": {
   "display_name": "Julia 0.5.2",
   "language": "julia",
   "name": "julia-0.5"
  },
  "language_info": {
   "file_extension": ".jl",
   "mimetype": "application/julia",
   "name": "julia",
   "version": "0.5.2"
  }
 },
 "nbformat": 4,
 "nbformat_minor": 2
}
