{
 "cells": [
  {
   "cell_type": "markdown",
   "metadata": {},
   "source": [
    "# Programación dinámica\n",
    "\n",
    "Veremos únicamente casos que se calificarían como programación dinámica determinista en horizonte finito (categoría en la que caen la mayoría de problemas de optimización combinatoria determinista).\n",
    "\n",
    "Utilizaremos dos ejemplos (knapsack y lot sizing) que ya hemos visto y que luego intentaremos combinar/comparar con los métodos expuestos con anterioridad. \n",
    "\n",
    "No voy a repasar los fundamentos de la programación dinámica. Si alguien necesita un repaso más allá del nivel introductorio, recomiendo el libro de Denardo porque es uno de los más accesibles y además es barato (E. Denardo, Dynamic Programming: Models and Applications)."
   ]
  },
  {
   "cell_type": "markdown",
   "metadata": {},
   "source": [
    "# Uncapacitated Lot sizing\n",
    "\n",
    "Este problema ya lo hemos visto en el diseño de cortes, así que hemos trasladado algunas funciones de la página anterior que nos resultarán útiles\n"
   ]
  },
  {
   "cell_type": "code",
   "execution_count": 22,
   "metadata": {},
   "outputs": [
    {
     "name": "stderr",
     "output_type": "stream",
     "text": [
      "WARNING: Method definition readULS(String) in module Main at In[20]:2 overwritten at In[22]:2.\n"
     ]
    },
    {
     "data": {
      "text/plain": [
       "readULS (generic function with 1 method)"
      ]
     },
     "execution_count": 22,
     "metadata": {},
     "output_type": "execute_result"
    }
   ],
   "source": [
    "function readULS(path::String)\n",
    "    f = open(path,\"r\")\n",
    "    T = parse(Int64,readline(f)) \n",
    "    c=map(x->parse(Int64,x),split(strip(readline(f))))\n",
    "    h=map(x->parse(Int64,x),split(strip(readline(f))))\n",
    "    K=map(x->parse(Int64,x),split(strip(readline(f))))\n",
    "    d=map(x->parse(Int64,x),split(strip(readline(f))))\n",
    "    close(f)\n",
    "    T, c, h, K, d\n",
    "end\n",
    "# T -> número de periodos\n",
    "# c_t -> costo de comprar una unidad en el periodo t\n",
    "# h_t -> costo de inventariar una unidad en el periodo t\n",
    "# K_t -> costo de realizar un pedido en el periodo t\n",
    "# d_t -> demanda en el periodo t"
   ]
  },
  {
   "cell_type": "code",
   "execution_count": 23,
   "metadata": {},
   "outputs": [
    {
     "data": {
      "text/plain": [
       "(200,[1,4,1,2,4,4,1,4,1,3  …  2,1,1,1,4,3,3,3,3,2],[2,3,2,2,3,2,3,2,1,1  …  3,2,2,1,2,3,1,1,2,1],[10,8,6,6,10,8,9,5,10,10  …  7,9,6,6,7,7,7,5,7,10],[4,10,5,4,9,7,2,8,4,7  …  9,4,2,2,10,10,4,7,8,3])"
      ]
     },
     "execution_count": 23,
     "metadata": {},
     "output_type": "execute_result"
    }
   ],
   "source": [
    "#run(`wget -O test.dat https://raw.githubusercontent.com/sbebo/julia-cuts/master/test.dat`)\n",
    "#run(`cat test.dat`)\n",
    "T, c, h, K, d = readULS(\"test.dat\")"
   ]
  },
  {
   "cell_type": "markdown",
   "metadata": {},
   "source": [
    "## Uncapacitated Lot Sizing. Método 1. Estados asociados al nivel de inventario y recurrencia backward\n",
    "\n",
    "Éste sería el método tradicional para empezar en clase. Sabemos que en el periodo T+1 el costo es 0 y la última decisión corresponde al periodo T. "
   ]
  },
  {
   "cell_type": "code",
   "execution_count": null,
   "metadata": {},
   "outputs": [],
   "source": [
    "Pkg.add(\"OffsetArrays\")\n",
    "using OffsetArrays\n",
    "\n",
    "function DP_m1(T,c,h,K,d)\n",
    "    D=sum(d)\n",
    "    tableCosts = OffsetArray(Int64, 0:D, 1:T)\n",
    "    tablePath = OffsetArray(Int64, 0:D, 1:T)\n",
    "\n",
    "#    \n",
    "#    tableCosts=zeros(Int64,D+1,T) #tenemos que sumar 1 porque la posición 1 corresponde a inventario 0, ...\n",
    "#    tablePath=zeros(Int64,D+1,T)\n",
    "#    #la última decisión consiste en comprar si estoy por debajo de d[T] hasta d[T] o no comprar y pagar por sobrestock\n",
    "#    for i=1:d[T]\n",
    "#        tableCosts[1,i]=K[T]+c[T]*((d[T]+1)-i) #hacer un pedido y comprar lo que falta hasta d[T]\n",
    "#    end\n",
    "#    for i=d[T]+1:D+1\n",
    "#        tableCosts[1,i]=h[T]*(i-(d[T]+1))\n",
    "#    end\n",
    "#    #a partir de aquí empieza el proceso de analizar mejor opción\n",
    "#    for t=2:T #para cada etapa\n",
    "#        period=T-t+1\n",
    "#        for st=1:D+1 #para cada posible estado dentro de la etapa\n",
    "#            #hay que diferenciar dos casos, \n",
    "#            if (st-1)<d[period] #el primero en que es obligatorio comprar\n",
    "#                #iniciamos con la opción de comprar justo para la semana\n",
    "#                tableCosts[st,t]=K[period]+c[period]*(d[period]-(st-1))+tableCosts[1,t-1]\n",
    "#                tablePath[st,t]=1\n",
    "#                #pasamos por todo el resto de opciones de compra\n",
    "#                compraMin=d[period]-(st-1)\n",
    "#                compraMax=D-(st-1)\n",
    "#                for tr=(compraMin+1):compraMax\n",
    "#                    calCost=K[period]*c[period]*()+h[period]*() + tableCosts[ ,t-1]\n",
    "#                    if calCost<tableCosts[st,t]\n",
    "#                        tableCosts[st,t]=calCost\n",
    "#                        tablePath[st,t]=st+tr-d[period]\n",
    "#                    end\n",
    "#                end\n",
    "#            else #el segundo en que no es obligatorio comprar\n",
    "#                #inicializamos con la opción de no comprar\n",
    "#            \n",
    "#            end\n",
    "#        end\n",
    "#    end\n",
    "end\n",
    "DP_m1(T,c,h,K,d)\n"
   ]
  },
  {
   "cell_type": "markdown",
   "metadata": {},
   "source": [
    "## Uncapacitated Lot Sizing. Método 2. Estados asociados al nivel de inventario y recurrencia forward\n"
   ]
  },
  {
   "cell_type": "markdown",
   "metadata": {},
   "source": [
    "## Uncapacitated Lot Sizing. Método 3. Estados asociados al nivel de inventario, recurrencia forward y transiciones limitadas "
   ]
  },
  {
   "cell_type": "markdown",
   "metadata": {},
   "source": [
    "## Uncapacitated Lot Sizing. Método 4. Estados asociados a los periodos y recurrencia forward\n"
   ]
  },
  {
   "cell_type": "code",
   "execution_count": null,
   "metadata": {
    "collapsed": true
   },
   "outputs": [],
   "source": []
  }
 ],
 "metadata": {
  "kernelspec": {
   "display_name": "Julia 0.5.2",
   "language": "julia",
   "name": "julia-0.5"
  },
  "language_info": {
   "file_extension": ".jl",
   "mimetype": "application/julia",
   "name": "julia",
   "version": "0.5.2"
  }
 },
 "nbformat": 4,
 "nbformat_minor": 2
}
