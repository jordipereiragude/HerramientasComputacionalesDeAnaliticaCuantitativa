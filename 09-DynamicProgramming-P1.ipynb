{
 "cells": [
  {
   "cell_type": "code",
   "execution_count": 64,
   "metadata": {},
   "outputs": [],
   "source": [
    "#Pkg.add(\"OffsetArrays\") # -> Nos permitirá usar matrices que empiecen con índice 0 \n",
    "using OffsetArrays"
   ]
  },
  {
   "cell_type": "markdown",
   "metadata": {},
   "source": [
    "# Programación dinámica\n",
    "\n",
    "Veremos únicamente casos que se calificarían como programación dinámica determinista en horizonte finito (categoría en la que caen la mayoría de problemas de optimización combinatoria determinista).\n",
    "\n",
    "Utilizaremos dos ejemplos (knapsack y lot sizing) que ya hemos visto y que luego intentaremos combinar/comparar con los métodos expuestos con anterioridad. \n",
    "\n",
    "No voy a repasar los fundamentos de la programación dinámica. Si alguien necesita un repaso más allá del nivel introductorio, recomiendo el libro de Denardo porque es uno de los más accesibles y además es barato (E. Denardo, Dynamic Programming: Models and Applications)."
   ]
  },
  {
   "cell_type": "markdown",
   "metadata": {},
   "source": [
    "# Uncapacitated Lot sizing\n",
    "\n",
    "Este problema ya lo hemos visto en el diseño de cortes, así que hemos trasladado algunas funciones de la página anterior que nos resultarán útiles\n"
   ]
  },
  {
   "cell_type": "code",
   "execution_count": 84,
   "metadata": {},
   "outputs": [
    {
     "name": "stderr",
     "output_type": "stream",
     "text": [
      "WARNING: Method definition readULS(String) in module Main at In[76]:2 overwritten at In[84]:2.\n",
      "WARNING: Method definition readSimpleInstance() in module Main at In[76]:12 overwritten at In[84]:12.\n"
     ]
    },
    {
     "data": {
      "text/plain": [
       "readSimpleInstance (generic function with 1 method)"
      ]
     },
     "execution_count": 84,
     "metadata": {},
     "output_type": "execute_result"
    }
   ],
   "source": [
    "function readULS(path::String)\n",
    "    f = open(path,\"r\")\n",
    "    T = parse(Int64,readline(f)) \n",
    "    c=map(x->parse(Int64,x),split(strip(readline(f))))\n",
    "    h=map(x->parse(Int64,x),split(strip(readline(f))))\n",
    "    K=map(x->parse(Int64,x),split(strip(readline(f))))\n",
    "    d=map(x->parse(Int64,x),split(strip(readline(f))))\n",
    "    close(f)\n",
    "    T, c, h, K, d\n",
    "end\n",
    "function readSimpleInstance()\n",
    "    T=5\n",
    "    c=[10 10 10 10 10]\n",
    "    h=[2 2 2 2 2]\n",
    "    K=[75 75 75 75 75]\n",
    "    d=[5 6 7 12 8]\n",
    "    T,c,h,K,d\n",
    "end\n",
    "\n",
    "# T -> número de periodos\n",
    "# c_t -> costo de comprar una unidad en el periodo t\n",
    "# h_t -> costo de inventariar una unidad en el periodo t\n",
    "# K_t -> costo de realizar un pedido en el periodo t\n",
    "# d_t -> demanda en el periodo t"
   ]
  },
  {
   "cell_type": "code",
   "execution_count": 85,
   "metadata": {},
   "outputs": [
    {
     "ename": "LoadError",
     "evalue": "SystemError: opening file test.dat: No such file or directory",
     "output_type": "error",
     "traceback": [
      "SystemError: opening file test.dat: No such file or directory",
      "",
      " in #systemerror#51 at ./error.jl:34 [inlined]",
      " in systemerror(::String, ::Bool) at ./error.jl:34",
      " in open(::String, ::Bool, ::Bool, ::Bool, ::Bool, ::Bool) at ./iostream.jl:89",
      " in open(::String, ::String) at ./iostream.jl:101",
      " in readULS(::String) at ./In[84]:2",
      " in include_string(::String, ::String) at ./loading.jl:441"
     ]
    }
   ],
   "source": [
    "#run(`wget -O test.dat https://raw.githubusercontent.com/sbebo/julia-cuts/master/test.dat`)\n",
    "#run(`cat test.dat`)\n",
    "T, c, h, K, d = readULS(\"test.dat\")"
   ]
  },
  {
   "cell_type": "markdown",
   "metadata": {},
   "source": [
    "## Uncapacitated Lot Sizing. Método 1. Estados asociados al nivel de inventario y recurrencia backward\n",
    "\n",
    "Éste sería el método tradicional para explicar en clase. Sabemos que en el periodo T+1 el costo es 0 y la última decisión corresponde al periodo T. "
   ]
  },
  {
   "cell_type": "code",
   "execution_count": 98,
   "metadata": {},
   "outputs": [
    {
     "name": "stderr",
     "output_type": "stream",
     "text": [
      "WARNING: Method definition DP_m1(Any, Any, Any, Any, Any) in module Main at In[96]:4 overwritten at In[98]:4.\n"
     ]
    },
    {
     "data": {
      "text/plain": [
       "DP_m1 (generic function with 1 method)"
      ]
     },
     "execution_count": 98,
     "metadata": {},
     "output_type": "execute_result"
    }
   ],
   "source": [
    "#Pkg.add(\"OffsetArrays\")\n",
    "\n",
    "function DP_m1(T,c,h,K,d)\n",
    "    D=sum(d)\n",
    "    tableCosts = OffsetArray(Int64, 1:T, 0:D)\n",
    "    tablePath = OffsetArray(Int64, 1:T, 0:D)\n",
    "    for i=0:d[T]-1\n",
    "        tableCosts[1,i]=K[T]+c[T]*(d[T]-i) #hacer un pedido y comprar lo que falta hasta d[T]\n",
    "        tablePath[1,i]=0\n",
    "    end\n",
    "    for i=d[T]:D\n",
    "        tableCosts[1,i]=h[T]*(i-d[T]) #no pedir y pagar inventario\n",
    "        tablePath[1,i]=i-d[T] \n",
    "    end\n",
    "    for t=2:T #para cada etapa\n",
    "        period=T-t+1\n",
    "        for st=0:D\n",
    "            #hay que diferenciar dos casos\n",
    "            if st<d[period] #es obligatorio comprar\n",
    "                #iniciamos con la opción de comprar justo para la semana\n",
    "                tableCosts[t,st]=K[period]+c[period]*(d[period]-st)+tableCosts[t-1,0]\n",
    "                tablePath[t,st]=0\n",
    "                #resto de opciones consisten en comprar desde d[period]-st+1 hasta D-st\n",
    "                for tr=d[period]-st+1:D-st\n",
    "                    cost=K[period]+c[period]*tr+h[period]*(st+tr-d[period])+tableCosts[t-1,st+tr-d[period]]\n",
    "                    if cost < tableCosts[t,st]\n",
    "                        tableCosts[t,st]=cost\n",
    "                        tablePath[t,st]=st+tr-d[period]\n",
    "                    end\n",
    "                end\n",
    "            else\n",
    "                #inicializamos con la opción de no comprar\n",
    "                tableCosts[t,st]=h[period]*(st-d[period])+tableCosts[t-1,st-d[period]]\n",
    "                tablePath[t,st]=st-d[period]\n",
    "                #resto de opciones consisten en comprar desde 1 hasta D-st\n",
    "                for tr=1:D-st\n",
    "                    cost=K[period]+c[period]*tr+h[period]*(st+tr-d[period])+tableCosts[t-1,st+tr-d[period]]\n",
    "                    if cost<tableCosts[t,st]\n",
    "                        tableCosts[t,st]=cost\n",
    "                        tablePath[t,st]=st+tr-d[period]\n",
    "                    end\n",
    "                end\n",
    "            end\n",
    "        end\n",
    "    end\n",
    "    ySol=zeros(Int64,T)\n",
    "    xSol=zeros(Int64,T)\n",
    "    t=T\n",
    "    currentState=0\n",
    "    while t>=1\n",
    "        if tablePath[t,currentState] > currentState-d[T+1-t]\n",
    "            ySol[T+1-t]=1\n",
    "            xSol[T+1-t]=tablePath[t,currentState]+d[T+1-t]\n",
    "        end\n",
    "        currentState=tablePath[t,currentState]\n",
    "        t -= 1\n",
    "    end\n",
    "    return ySol,xSol,tableCosts[T,0]\n",
    "end"
   ]
  },
  {
   "cell_type": "code",
   "execution_count": 99,
   "metadata": {},
   "outputs": [
    {
     "name": "stdout",
     "output_type": "stream",
     "text": [
      "[1,0,0,1,0]\n",
      "[18,0,0,20,0]\n",
      "586\n"
     ]
    }
   ],
   "source": [
    "T,c,h,K,d=readSimpleInstance()\n",
    "ySol,xSol,totalCost = DP_m1(T,c,h,K,d)\n",
    "println(ySol)\n",
    "println(xSol)\n",
    "println(totalCost)"
   ]
  },
  {
   "cell_type": "markdown",
   "metadata": {},
   "source": [
    "## Uncapacitated Lot Sizing. Método 2. Estados asociados al nivel de inventario y recurrencia forward\n",
    "\n",
    "Para evitar demasiada similitud con el método anterior, aquí vamos a resolver la recurrencia de una forma diferente a la habitual en el papel (es más es una forma muy usada en implementaciones basadas en la existencia de menos transiciones).\n",
    "\n",
    "La idea es la siguiente. En el periodo 1 compramos un número de unidades (entre d[1] y D) en el periodo 2 estemos en el estado que estemos, podemos generar todos los descendientes dependiendo (comprando como mínimo d[2]-stock y como máximo sum(d[2:T]) y quedarnos con el mejor entre los generados\n",
    "\n",
    "Si seguimos así hasta el periodo T, en el periodo T podemos ver cómo llegar al estado final que no tiene inventario."
   ]
  },
  {
   "cell_type": "code",
   "execution_count": 94,
   "metadata": {},
   "outputs": [
    {
     "name": "stderr",
     "output_type": "stream",
     "text": [
      "WARNING: Method definition DP_m2(Any, Any, Any, Any, Any) in module Main at In[92]:2 overwritten at In[94]:2.\n"
     ]
    },
    {
     "data": {
      "text/plain": [
       "DP_m2 (generic function with 1 method)"
      ]
     },
     "execution_count": 94,
     "metadata": {},
     "output_type": "execute_result"
    }
   ],
   "source": [
    "function DP_m2(T,c,h,K,d)\n",
    "    tableCosts = OffsetArray(Int64, 2:T, 0:sum(d))\n",
    "    tablePath = OffsetArray(Int64, 2:T, 0:sum(d))\n",
    "    #etapa 1\n",
    "    for tr=d[1]:sum(d)\n",
    "        tableCosts[2,tr-d[1]]=K[1]+c[1]*tr+h[1]*(tr-d[1])\n",
    "        tablePath[2,tr-d[1]]=0\n",
    "    end\n",
    "    for t=2:T-1\n",
    "        #empiezo con estado stock=0 para inicializar tableCosts[t+1,:] y tablePath[t+1,:]\n",
    "        for tr=0:sum(d[t+1:T]) #se inicializa sumando costos hasta ese punto + costo de la compra en ese periodo\n",
    "            tableCosts[t+1,tr]=tableCosts[t,0]+K[t]+c[t]*(d[t]+tr)+h[t]*tr\n",
    "            tablePath[t+1,tr]=0\n",
    "        end\n",
    "        for s=1:sum(d[t:T]) #estados en los que me puedo encontrar\n",
    "            for tr=max(0,d[t]-s):max(0,sum(d[t:T])-s) #aqui una transición indica cuántas unidades se van a comprar\n",
    "                if tr==0\n",
    "                    cost=tableCosts[t,s]+h[t]*(s+tr-d[t])\n",
    "                else\n",
    "                    cost=tableCosts[t,s]+K[t]+c[t]*tr+h[t]*(s+tr-d[t])\n",
    "                end\n",
    "                if cost<tableCosts[t+1,s+tr-d[t]]\n",
    "                    tableCosts[t+1,s+tr-d[t]]=cost\n",
    "                    tablePath[t+1,s+tr-d[t]]=s\n",
    "                end\n",
    "            end\n",
    "        end\n",
    "    end\n",
    "   \n",
    "    ySol=zeros(Int64,T)\n",
    "    xSol=zeros(Int64,T)\n",
    "    totalCost=0\n",
    "    currentState=0\n",
    "    #el óptimo corresponde a tener exactamente 0 o d[T] unidades en inventario\n",
    "    if (tableCosts[T,0]+K[T]+c[T]*d[T]) < tableCosts[T,d[T]] \n",
    "        #interesa comprar en el ultimo periodo\n",
    "        ySol[T]=1\n",
    "        totalCost=tableCosts[T,0]+K[T]+c[t]*d[T]\n",
    "        currentState=tablePath[T,0]\n",
    "    else\n",
    "        #interesa comprar antes del último periodo\n",
    "        totalCost=tableCosts[T,d[T]]\n",
    "        currentState=tablePath[T,d[T]]\n",
    "    end\n",
    "    t=T-1\n",
    "    while t>=2\n",
    "        if currentState==0\n",
    "            ySol[t]=1\n",
    "        end\n",
    "        currentState=tablePath[t,currentState]\n",
    "        t -= 1\n",
    "    end\n",
    "    ySol[1]=1\n",
    "    for t=1:T\n",
    "        if ySol[t]==1\n",
    "            xSol[t] += d[t]\n",
    "            for tt=t+1:T\n",
    "                if ySol[tt]==1\n",
    "                    break\n",
    "                end\n",
    "                xSol[t] += d[tt]\n",
    "            end\n",
    "        end\n",
    "    end\n",
    "    return ySol,xSol,totalCost\n",
    "end"
   ]
  },
  {
   "cell_type": "code",
   "execution_count": 95,
   "metadata": {},
   "outputs": [
    {
     "data": {
      "text/plain": [
       "([1,0,0,1,0],[18,0,0,20,0],586)"
      ]
     },
     "execution_count": 95,
     "metadata": {},
     "output_type": "execute_result"
    }
   ],
   "source": [
    "T,c,h,K,d=readSimpleInstance()\n",
    "ySol,xSol,totalCost = DP_m2(T,c,h,K,d)\n",
    "#println(\"ySol: \",ySol)\n",
    "#println(xSol)\n",
    "#println(totalCost)"
   ]
  },
  {
   "cell_type": "markdown",
   "metadata": {},
   "source": [
    "## Uncapacitated Lot Sizing. Método 3. Estados asociados al nivel de inventario, recurrencia forward y transiciones limitadas \n",
    "\n",
    "Partiendo de las ideas ya vistas en el método 2, uno puede percibir que el conjunto de estados \"útiles\" es mucho más pequeño que el conjunto de estados \"posibles\". Por tanto, podríamos aprovechar que la solución es \"sparse\". \n",
    "\n",
    "Para ello vamos a necesitar estructuras de datos algo más complejas y vamos a proceder con la recurrencia forward por comodidad"
   ]
  },
  {
   "cell_type": "code",
   "execution_count": null,
   "metadata": {
    "collapsed": true
   },
   "outputs": [],
   "source": [
    "function DP_m3(T,c,h,K,d)\n",
    "    Vector{Vector{Float64}}(0)\n",
    "    ySol=zeros(Int64,T)\n",
    "    xSol=zeros(Int64,T)\n",
    "    totalCost=0\n",
    "    return ySol,xSol,totalCost\n",
    "end"
   ]
  },
  {
   "cell_type": "markdown",
   "metadata": {},
   "source": [
    "## Uncapacitated Lot Sizing. Método 4. Estados asociados a los periodos y recurrencia forward\n"
   ]
  },
  {
   "cell_type": "code",
   "execution_count": null,
   "metadata": {
    "collapsed": true
   },
   "outputs": [],
   "source": []
  },
  {
   "cell_type": "markdown",
   "metadata": {},
   "source": [
    "### Ejercicio Extra\n",
    "\n",
    "Hay dos cosas en las implementaciones 1 y 2 que son discutibles (sobretodo a nivel de tiempo de cómputo). \n",
    "\n",
    "La primera es el uso del paquete \"OffsetArrays\" que es más lento que una implementación directa. \n",
    "\n",
    "La segunda es el usar como primer índice el tiempo y como segundo el estado. Podría ser más rápido usar un orden inverso. \n",
    "\n",
    "¿Podría dar una respuesta teórica y validarla empíricamente?"
   ]
  },
  {
   "cell_type": "code",
   "execution_count": null,
   "metadata": {
    "collapsed": true
   },
   "outputs": [],
   "source": []
  }
 ],
 "metadata": {
  "kernelspec": {
   "display_name": "Julia 0.5.2",
   "language": "julia",
   "name": "julia-0.5"
  },
  "language_info": {
   "file_extension": ".jl",
   "mimetype": "application/julia",
   "name": "julia",
   "version": "0.5.2"
  }
 },
 "nbformat": 4,
 "nbformat_minor": 2
}
