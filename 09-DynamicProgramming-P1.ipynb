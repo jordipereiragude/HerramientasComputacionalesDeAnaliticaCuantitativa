{
 "cells": [
  {
   "cell_type": "code",
   "execution_count": 1,
   "metadata": {},
   "outputs": [
    {
     "name": "stderr",
     "output_type": "stream",
     "text": [
      "\u001b[1m\u001b[34mINFO: Cloning cache of OffsetArrays from https://github.com/JuliaArrays/OffsetArrays.jl.git\n",
      "\u001b[0m\u001b[1m\u001b[34mINFO: Installing OffsetArrays v0.3.0\n",
      "\u001b[0m\u001b[1m\u001b[34mINFO: Package database updated\n",
      "\u001b[0m\u001b[1m\u001b[34mINFO: METADATA is out-of-date — you may not have the latest version of OffsetArrays\n",
      "\u001b[0m\u001b[1m\u001b[34mINFO: Use `Pkg.update()` to get the latest versions of your packages\n",
      "\u001b[0m\u001b[1m\u001b[34mINFO: Precompiling module OffsetArrays.\n",
      "\u001b[0m"
     ]
    }
   ],
   "source": [
    "Pkg.add(\"OffsetArrays\") # -> Nos permitirá usar matrices que empiecen con índice 0 \n",
    "using OffsetArrays"
   ]
  },
  {
   "cell_type": "markdown",
   "metadata": {},
   "source": [
    "# Programación dinámica\n",
    "\n",
    "Veremos únicamente casos que se calificarían como programación dinámica determinista en horizonte finito (categoría en la que caen la mayoría de problemas de optimización combinatoria determinista).\n",
    "\n",
    "Utilizaremos dos ejemplos (knapsack y lot sizing) que ya hemos visto y que luego intentaremos combinar/comparar con los métodos expuestos con anterioridad. \n",
    "\n",
    "No voy a repasar los fundamentos de la programación dinámica. Si alguien necesita un repaso más allá del nivel introductorio, recomiendo el libro de Denardo porque es uno de los más accesibles y baratos (E. Denardo, Dynamic Programming: Models and Applications)."
   ]
  },
  {
   "cell_type": "markdown",
   "metadata": {},
   "source": [
    "# Uncapacitated Lot sizing\n",
    "\n",
    "Este problema ya lo hemos visto en el diseño de cortes, así que hemos trasladado algunas funciones de la página anterior que nos resultarán útiles\n"
   ]
  },
  {
   "cell_type": "code",
   "execution_count": 2,
   "metadata": {},
   "outputs": [
    {
     "data": {
      "text/plain": [
       "readSimpleInstance (generic function with 1 method)"
      ]
     },
     "execution_count": 2,
     "metadata": {},
     "output_type": "execute_result"
    }
   ],
   "source": [
    "function readULS(path::String)\n",
    "    f = open(path,\"r\")\n",
    "    T = parse(Int64,readline(f)) \n",
    "    c=map(x->parse(Int64,x),split(strip(readline(f))))\n",
    "    h=map(x->parse(Int64,x),split(strip(readline(f))))\n",
    "    K=map(x->parse(Int64,x),split(strip(readline(f))))\n",
    "    d=map(x->parse(Int64,x),split(strip(readline(f))))\n",
    "    close(f)\n",
    "    T, c, h, K, d\n",
    "end\n",
    "function readSimpleInstance()\n",
    "    T=5\n",
    "    c=[10 10 10 10 10]\n",
    "    h=[2 2 2 2 2]\n",
    "    K=[75 75 75 75 75]\n",
    "    d=[5 6 7 12 8]\n",
    "    T,c,h,K,d\n",
    "end\n",
    "\n",
    "# T -> número de periodos\n",
    "# c_t -> costo de comprar una unidad en el periodo t\n",
    "# h_t -> costo de inventariar una unidad en el periodo t\n",
    "# K_t -> costo de realizar un pedido en el periodo t\n",
    "# d_t -> demanda en el periodo t"
   ]
  },
  {
   "cell_type": "code",
   "execution_count": 3,
   "metadata": {},
   "outputs": [
    {
     "name": "stderr",
     "output_type": "stream",
     "text": [
      "--2017-11-09 19:53:07--  https://raw.githubusercontent.com/sbebo/julia-cuts/master/test.dat\n",
      "Resolving raw.githubusercontent.com (raw.githubusercontent.com)... 151.101.0.133, 151.101.64.133, 151.101.128.133, ...\n",
      "Connecting to raw.githubusercontent.com (raw.githubusercontent.com)|151.101.0.133|:443... connected.\n",
      "HTTP request sent, awaiting response... 200 OK\n",
      "Length: 1666 (1.6K) [text/plain]\n",
      "Saving to: ‘test.dat’\n",
      "\n",
      "     0K .                                                     100% 46.8M=0s\n",
      "\n",
      "2017-11-09 19:53:08 (46.8 MB/s) - ‘test.dat’ saved [1666/1666]\n",
      "\n"
     ]
    },
    {
     "name": "stdout",
     "output_type": "stream",
     "text": [
      "200\n",
      "1 4 1 2 4 4 1 4 1 3 1 4 2 1 4 4 1 1 2 4 2 2 4 2 2 1 4 1 4 1 3 4 1 1 4 1 3 4 1 3 1 2 4 3 4 3 1 4 1 2 4 2 3 1 2 2 4 2 1 3 2 2 4 1 1 2 2 1 4 1 3 1 2 3 2 1 4 3 2 2 2 2 4 4 3 1 3 4 2 3 2 1 1 1 1 1 1 4 1 3 3 3 1 1 2 3 3 3 3 2 3 2 2 2 4 1 3 4 1 3 2 2 4 4 1 1 2 3 4 4 4 3 1 1 2 2 3 3 1 4 1 1 4 1 4 1 2 1 4 3 3 2 2 3 4 2 3 4 1 4 2 4 4 3 3 1 4 4 2 4 1 4 2 1 3 3 4 3 3 4 4 1 4 4 4 3 1 1 3 2 2 1 1 1 4 3 3 3 3 2 \n",
      "2 3 2 2 3 2 3 2 1 1 1 1 2 1 1 3 3 2 2 1 1 3 1 1 3 2 2 1 1 1 3 1 3 3 1 3 1 1 2 1 1 1 1 1 1 3 2 1 2 3 3 3 3 2 2 3 3 2 3 1 3 2 3 2 1 2 2 3 1 1 2 2 2 1 3 3 3 3 2 3 3 1 1 1 2 2 2 2 1 1 3 1 1 2 3 2 2 2 1 1 2 1 1 3 2 1 3 2 2 3 2 3 1 1 2 1 1 2 3 3 3 2 1 2 2 1 1 3 2 1 2 3 1 3 1 3 2 2 1 3 1 1 1 3 1 3 3 2 1 2 2 1 2 1 3 2 3 2 3 1 2 2 3 3 1 2 2 3 3 3 1 1 3 1 3 2 2 3 2 1 2 3 2 1 1 2 1 3 1 1 3 2 2 1 2 3 1 1 2 1 \n",
      "10 8 6 6 10 8 9 5 10 10 5 7 8 10 5 7 6 5 8 6 8 10 9 6 9 10 5 5 10 6 9 8 10 10 10 10 7 5 9 7 10 8 9 10 8 7 9 7 10 10 8 9 5 9 5 8 8 10 5 9 5 5 7 9 9 9 9 7 7 7 10 5 5 7 9 9 6 7 7 7 9 6 8 8 8 10 9 6 9 10 10 5 5 10 6 7 6 10 6 10 9 9 7 9 5 7 10 5 8 5 6 8 8 10 8 5 5 9 7 8 5 8 9 8 6 5 10 6 6 5 10 5 6 8 5 8 6 7 8 9 10 9 5 10 10 6 7 10 10 7 7 6 6 8 10 8 10 8 10 6 8 6 5 6 8 10 6 6 5 9 6 10 10 10 5 8 8 10 9 8 5 8 8 8 8 5 5 7 7 9 7 9 6 6 7 7 7 5 7 10 \n",
      "4 10 5 4 9 7 2 8 4 7 6 3 7 3 3 3 7 2 3 7 1 3 2 8 7 7 8 3 10 5 6 2 1 9 6 9 10 2 8 5 9 5 9 1 2 2 7 10 4 7 2 1 9 7 1 9 9 5 10 5 2 6 3 1 9 9 6 2 5 4 3 3 2 6 4 5 9 5 9 8 7 5 5 6 8 3 6 9 9 1 1 9 1 1 5 7 10 7 3 3 3 6 1 3 5 7 7 3 2 6 5 2 7 3 9 8 2 10 5 9 8 2 1 7 4 1 6 1 9 9 8 3 7 2 6 9 3 4 1 9 5 5 5 2 6 7 4 3 5 8 5 10 8 1 2 6 6 9 8 9 10 2 5 2 9 9 3 9 8 8 8 9 3 7 6 4 10 1 7 4 1 1 5 7 10 10 6 7 10 10 9 4 2 2 10 10 4 7 8 3 \n"
     ]
    },
    {
     "data": {
      "text/plain": [
       "(200,[1,4,1,2,4,4,1,4,1,3  …  2,1,1,1,4,3,3,3,3,2],[2,3,2,2,3,2,3,2,1,1  …  3,2,2,1,2,3,1,1,2,1],[10,8,6,6,10,8,9,5,10,10  …  7,9,6,6,7,7,7,5,7,10],[4,10,5,4,9,7,2,8,4,7  …  9,4,2,2,10,10,4,7,8,3])"
      ]
     },
     "execution_count": 3,
     "metadata": {},
     "output_type": "execute_result"
    }
   ],
   "source": [
    "run(`wget -O test.dat https://raw.githubusercontent.com/sbebo/julia-cuts/master/test.dat`)\n",
    "run(`cat test.dat`)\n",
    "T, c, h, K, d = readULS(\"test.dat\")"
   ]
  },
  {
   "cell_type": "markdown",
   "metadata": {},
   "source": [
    "## Uncapacitated Lot Sizing. Método 1. Estados asociados al nivel de inventario y recurrencia backward\n",
    "\n",
    "Éste sería el método tradicional para explicar en clase. Sabemos que en el periodo T+1 el costo es 0 y la última decisión corresponde al periodo T. \n",
    "\n",
    "Los estados $s$ representan el nivel de inventario\n",
    "\n",
    "Las Transiciones $x$ indican el número  unidades que compramos en este periodo.\n",
    "\n",
    "La función de recurrencia es la siguiente:\n",
    "\n",
    "\\begin{equation}\n",
    "f^N(s)=\\min_{\\max\\{0,d_{T+1-N}-s \\} \\leq x\\leq D} \\left\\{ f^{N+1}\\left(s+x-d_{T+1-N}\\right) + K_{T+1-N}  sgn(x)  + h_{T+1-N}  (s+x-d_{T+1-N}) + c_{T+1-N}   x \\right\\}\n",
    "\\end{equation}\n",
    "\n",
    "La estructura del cálculo se inicia cuando quedan N=1 decisiones por tomar. En tal caso sabemos que compramos hasta la demanda si tenemos menos inventario que demanda o 0 si tenemos más inventario que demanda (corresponde a las líneas 5 a 12)\n",
    "\n",
    "A partir de ahí miramos cuando quedan 2, 3, ..., N decisiones por tomar. Calculamos cada estado $st$ mirando todas sus alternativas como tenemos que escoger el máximo de las opciones, primero seleccionamos una (que depende de si $s\\geq d_{T+1-N}$) y luego evaluamos todas las demás para ver si alguna mejora (filas 13 a 43).\n",
    "\n",
    "Guardamos dos tablas. La primera guarda los costos, la segunda guarda la traza para la reconstrucción.\n",
    "\n",
    "Finalmente usamos la tabla de traza para reconstruir la solución."
   ]
  },
  {
   "cell_type": "code",
   "execution_count": null,
   "metadata": {
    "collapsed": true
   },
   "outputs": [],
   "source": [
    "function DP_m1(T,c,h,K,d)\n",
    "    D=sum(d)\n",
    "    tableCosts = OffsetArray(Int64, 1:T, 0:D)\n",
    "    tablePath = OffsetArray(Int64, 1:T, 0:D)\n",
    "    for i=0:d[T]-1\n",
    "        tableCosts[1,i]=K[T]+c[T]*(d[T]-i) #hacer un pedido y comprar lo que falta hasta d[T]\n",
    "        tablePath[1,i]=0\n",
    "    end\n",
    "    for i=d[T]:D\n",
    "        tableCosts[1,i]=h[T]*(i-d[T]) #no pedir y pagar inventario\n",
    "        tablePath[1,i]=i-d[T] \n",
    "    end\n",
    "    for t=2:T #para cada etapa\n",
    "        period=T-t+1\n",
    "        for st=0:D\n",
    "            #hay que diferenciar dos casos\n",
    "            if st<d[period] #es obligatorio comprar\n",
    "                #iniciamos con la opción de comprar justo para la semana\n",
    "                tableCosts[t,st]=K[period]+c[period]*(d[period]-st)+tableCosts[t-1,0]\n",
    "                tablePath[t,st]=0\n",
    "                #resto de opciones consisten en comprar desde d[period]-st+1 hasta D-st\n",
    "                for tr=d[period]-st+1:D-st\n",
    "                    cost=K[period]+c[period]*tr+h[period]*(st+tr-d[period])+tableCosts[t-1,st+tr-d[period]]\n",
    "                    if cost < tableCosts[t,st]\n",
    "                        tableCosts[t,st]=cost\n",
    "                        tablePath[t,st]=st+tr-d[period]\n",
    "                    end\n",
    "                end\n",
    "            else\n",
    "                #inicializamos con la opción de no comprar\n",
    "                tableCosts[t,st]=h[period]*(st-d[period])+tableCosts[t-1,st-d[period]]\n",
    "                tablePath[t,st]=st-d[period]\n",
    "                #resto de opciones consisten en comprar desde 1 hasta D-st\n",
    "                for tr=1:D-st\n",
    "                    cost=K[period]+c[period]*tr+h[period]*(st+tr-d[period])+tableCosts[t-1,st+tr-d[period]]\n",
    "                    if cost<tableCosts[t,st]\n",
    "                        tableCosts[t,st]=cost\n",
    "                        tablePath[t,st]=st+tr-d[period]\n",
    "                    end\n",
    "                end\n",
    "            end\n",
    "        end\n",
    "    end\n",
    "    ySol=zeros(Int64,T)\n",
    "    xSol=zeros(Int64,T)\n",
    "    t=T\n",
    "    currentState=0\n",
    "    while t>=1\n",
    "        if tablePath[t,currentState] > currentState-d[T+1-t]\n",
    "            ySol[T+1-t]=1\n",
    "            xSol[T+1-t]=tablePath[t,currentState]+d[T+1-t]\n",
    "        end\n",
    "        currentState=tablePath[t,currentState]\n",
    "        t -= 1\n",
    "    end\n",
    "    return ySol,xSol,tableCosts[T,0]\n",
    "end"
   ]
  },
  {
   "cell_type": "code",
   "execution_count": null,
   "metadata": {
    "collapsed": true
   },
   "outputs": [],
   "source": [
    "#T,c,h,K,d=readSimpleInstance()\n",
    "ySol,xSol,totalCost = DP_m1(T,c,h,K,d)\n",
    "println(ySol)\n",
    "println(xSol)\n",
    "println(totalCost)"
   ]
  },
  {
   "cell_type": "markdown",
   "metadata": {},
   "source": [
    "## Uncapacitated Lot Sizing. Método 2. Estados asociados al nivel de inventario y recurrencia forward\n",
    "\n",
    "Aunque existe una recurrencia en sentido forward mimética a la mostrada en el método 1, aquí se opta por organizar los cálculos de una manera distinta (para mostrar la variedad de implementaciones).\n",
    "\n",
    "Si en el caso anterior se evaluaban todas las opciones de llegar a un estado y se seleccionaba la mejor, ahora se evaluarán todas las opciones que pueden generarse desde un estado y se mantendrá siempre la mejor.\n",
    "\n",
    "Esto se hace para mostrar varias alternativas de resolución de las recurrencias (no siempre es trivial ver cuál es mejor y además no siempre conviene resolver las recurrencias como se haría en papel).\n",
    "\n",
    "La idea es la siguiente: \n",
    "\n",
    "* En el periodo 1 compramos un número de unidades (entre d[1] y D) \n",
    "* En el periodo 2 podemos encontrarnos en diferentes niveles de inventario. En cualquiera de ellos podemos optar por comprar cantidades diferentes. Compremos lo que compremos estamos generando un posible estado del periodo 3 y podemos llegar a ese valor de muchas y distintas maneras (por ejemplo por comprar x en el periodo 1 e y en el periodo 2, o y en el periodo 1 y x en el periodo 2; en cualquiera de los dos casos empezaremos el periodo 3 con la misma cantidad de inventario).\n",
    "\n",
    "La clave ahora es que cada vez que generemos un estado de una etapa, verifiquemos si el nuevo método para alcanzar ese estado es mejor o peor y actualicemos consecuentemente los costes y la traza.\n",
    "\n",
    "Finalmente, en el periodo T resulta trivial determinar cuál es la mejor opción (siempre procede de tener el inventario justo suficiente o de comprar la demanda justa de ese periodo).\n",
    "\n",
    "El código se estructura como sigue:\n",
    "\n",
    "Las transiciones desde el único estado de la etapa 1 se resuelve en las líneas 5 a 8. \n",
    "\n",
    "De las líneas 9 a 28 se evalúa la recurrencia, primero generando transiciones desde el estado asociado a 0 inventarios (líneas 11 a 14) y luego desde el resto de estados (líneas 15 a 27)\n",
    "\n",
    "Para ahorrar cálculos se eliminan transiciones que sabemos que nunca se podrían alcanzar (más inventario de la demanda que resta hasta el final del periodo)."
   ]
  },
  {
   "cell_type": "code",
   "execution_count": null,
   "metadata": {
    "collapsed": true
   },
   "outputs": [],
   "source": [
    "function DP_m2(T,c,h,K,d)\n",
    "    tableCosts = OffsetArray(Int64, 2:T, 0:sum(d))\n",
    "    tablePath = OffsetArray(Int64, 2:T, 0:sum(d))\n",
    "    #etapa 1\n",
    "    for tr=d[1]:sum(d)\n",
    "        tableCosts[2,tr-d[1]]=K[1]+c[1]*tr+h[1]*(tr-d[1])\n",
    "        tablePath[2,tr-d[1]]=0\n",
    "    end\n",
    "    for t=2:T-1\n",
    "        #empiezo con estado stock=0 para inicializar tableCosts[t+1,:] y tablePath[t+1,:]\n",
    "        for tr=0:sum(d[t+1:T]) #se inicializa sumando costos hasta ese punto + costo de la compra en ese periodo\n",
    "            tableCosts[t+1,tr]=tableCosts[t,0]+K[t]+c[t]*(d[t]+tr)+h[t]*tr\n",
    "            tablePath[t+1,tr]=0\n",
    "        end\n",
    "        for s=1:sum(d[t:T]) #estados en los que me puedo encontrar\n",
    "            for tr=max(0,d[t]-s):max(0,sum(d[t:T])-s) #aqui una transición indica cuántas unidades se van a comprar\n",
    "                if tr==0\n",
    "                    cost=tableCosts[t,s]+h[t]*(s+tr-d[t])\n",
    "                else\n",
    "                    cost=tableCosts[t,s]+K[t]+c[t]*tr+h[t]*(s+tr-d[t])\n",
    "                end\n",
    "                if cost<tableCosts[t+1,s+tr-d[t]]\n",
    "                    tableCosts[t+1,s+tr-d[t]]=cost\n",
    "                    tablePath[t+1,s+tr-d[t]]=s\n",
    "                end\n",
    "            end\n",
    "        end\n",
    "    end\n",
    "   \n",
    "    ySol=zeros(Int64,T)\n",
    "    xSol=zeros(Int64,T)\n",
    "    totalCost=0\n",
    "    currentState=0\n",
    "    #el óptimo corresponde a tener exactamente 0 o d[T] unidades en inventario\n",
    "    if (tableCosts[T,0]+K[T]+c[T]*d[T]) < tableCosts[T,d[T]] \n",
    "        #interesa comprar en el ultimo periodo\n",
    "        ySol[T]=1\n",
    "        totalCost=tableCosts[T,0]+K[T]+c[t]*d[T]\n",
    "        currentState=tablePath[T,0]\n",
    "    else\n",
    "        #interesa comprar antes del último periodo\n",
    "        totalCost=tableCosts[T,d[T]]\n",
    "        currentState=tablePath[T,d[T]]\n",
    "    end\n",
    "    t=T-1\n",
    "    while t>=2\n",
    "        if currentState==0\n",
    "            ySol[t]=1\n",
    "        end\n",
    "        currentState=tablePath[t,currentState]\n",
    "        t -= 1\n",
    "    end\n",
    "    ySol[1]=1\n",
    "    for t=1:T\n",
    "        if ySol[t]==1\n",
    "            xSol[t] += d[t]\n",
    "            for tt=t+1:T\n",
    "                if ySol[tt]==1\n",
    "                    break\n",
    "                end\n",
    "                xSol[t] += d[tt]\n",
    "            end\n",
    "        end\n",
    "    end\n",
    "    return ySol,xSol,totalCost\n",
    "end"
   ]
  },
  {
   "cell_type": "code",
   "execution_count": null,
   "metadata": {
    "collapsed": true
   },
   "outputs": [],
   "source": [
    "#T,c,h,K,d=readSimpleInstance()\n",
    "ySol,xSol,totalCost = DP_m2(T,c,h,K,d)\n",
    "println(\"ySol: \",ySol)\n",
    "println(\"xSol: \",xSol)\n",
    "println(\"Cost: \",totalCost)"
   ]
  },
  {
   "cell_type": "markdown",
   "metadata": {},
   "source": [
    "## Uncapacitated Lot Sizing. Método 3. Estados asociados al nivel de inventario, recurrencia forward y transiciones limitadas \n",
    "\n",
    "Partiendo de las ideas ya vistas en el método 2, uno puede percibir que el conjunto de estados \"útiles\" es mucho más pequeño que el conjunto de estados \"posibles\". Por tanto, podríamos aprovechar que la solución es \"sparse\". \n",
    "\n",
    "Para ello vamos a necesitar estructuras de datos algo más complejas y vamos a proceder con la recurrencia forward por comodidad.\n",
    "\n",
    "Usaremos dos listas, una con los estados de la etapa actual y otro con los estados de la etapa siguiente. Además mantendremos un diccionario con las transiciones generadas (esto será útil para reconstruir la solución)"
   ]
  },
  {
   "cell_type": "code",
   "execution_count": null,
   "metadata": {
    "collapsed": true
   },
   "outputs": [],
   "source": [
    "#usaremos un \"trick\" en stateSpace, un estado será etapa*10000+estado\n",
    "\n",
    "function DP_m3(T,c,h,K,d)\n",
    "    cte=10000\n",
    "    state = 0\n",
    "    stateSpace = Dict{Int64,Int64}() #todos los estados para hacer reconstruccion\n",
    "    currentStage = Dict{Int64,Int64}() #etapa actual\n",
    "    nextStage = Dict{Int64,Int64}() #etapa siguiente\n",
    "    \n",
    "    t=1\n",
    "    currentStage[0]=0\n",
    "    stateSpace[1*cte]=0\n",
    "    for t=1:T\n",
    "        for k in keys(currentStage)\n",
    "            if k==0 #si no tengo inventario, decisión de compra por periodos consecutivos\n",
    "                compro=0\n",
    "                costo = K[t] \n",
    "                for tt=t:T\n",
    "                    compro += d[tt]\n",
    "                    costo += c[t]*d[tt]\n",
    "                    nextState=compro-d[t]\n",
    "                    if haskey(nextStage,nextState)\n",
    "                        if nextStage[nextState]> (costo + h[t]*(compro-d[t]) + currentStage[k]) #mejora costo\n",
    "                            nextStage[nextState]= costo + h[t]*(compro-d[t]) + currentStage[k]\n",
    "                            stateSpace[(t+1)*cte+nextState]=t*cte+k\n",
    "                        end\n",
    "                    else\n",
    "                        nextStage[nextState]=costo + h[t]*(compro-d[t]) + currentStage[k]\n",
    "                        stateSpace[(t+1)*cte+nextState]=t*cte+k\n",
    "                    end\n",
    "                end\n",
    "            else #si tengo inventario la decisión es no comprar\n",
    "                nextState=k-d[t]\n",
    "                if haskey(nextStage,nextState)\n",
    "                    if nextStage[nextState] > ( currentStage[k] + h[t]*(k-d[t]) )\n",
    "                        nextStage[nextState] = currentStage[k] + h[t]*(k-d[t])\n",
    "                        stateSpace[(t+1)*cte+nextState]=t*cte+k\n",
    "                    end                        \n",
    "                else\n",
    "                    nextStage[nextState] = currentStage[k] + h[t]*(k-d[t])\n",
    "                    stateSpace[(t+1)*cte+nextState]=t*cte+k\n",
    "                end\n",
    "            end\n",
    "            delete!(currentStage,k) #lo elimino\n",
    "        end\n",
    "        nextStage,currentStage = currentStage,nextStage\n",
    "    end\n",
    "    st=(T+1)*cte\n",
    "    ySol=zeros(Int64,T)\n",
    "    xSol=zeros(Int64,T)\n",
    "    st=stateSpace[st]\n",
    "    while st!=0\n",
    "        stage=trunc(Int, st/cte+0.00001)\n",
    "        remaining=st%cte\n",
    "        if remaining==0 && stage>0\n",
    "            ySol[stage]=1\n",
    "        end\n",
    "        st=stateSpace[st]\n",
    "    end\n",
    "    for t=1:T\n",
    "        if ySol[t]==1\n",
    "            xSol[t] += d[t]\n",
    "            for tt=t+1:T\n",
    "                if ySol[tt]==1\n",
    "                    break\n",
    "                end\n",
    "                xSol[t] += d[tt]\n",
    "            end\n",
    "        end\n",
    "    end\n",
    "    #hay un único estado en currentStage que es el estado con 0 stock (sol. final)\n",
    "    return ySol,xSol,currentStage[0]\n",
    "end"
   ]
  },
  {
   "cell_type": "code",
   "execution_count": null,
   "metadata": {
    "collapsed": true
   },
   "outputs": [],
   "source": [
    "#T,c,h,K,d=readSimpleInstance()\n",
    "ySol,xSol,totalCost = DP_m3(T,c,h,K,d)\n",
    "println(\"ySol: \",ySol)\n",
    "println(\"xSol: \",xSol)\n",
    "println(\"Cost: \",totalCost)"
   ]
  },
  {
   "cell_type": "markdown",
   "metadata": {},
   "source": [
    "## Uncapacitated Lot Sizing. Método 4. Estados asociados a los periodos y recurrencia forward\n",
    "\n",
    "En este, el conjunto de estados es todavía mucho menor y podemos operar sobre los periodos en que se realizará una compra.\n",
    "\n",
    "En tal caso el problema conviene tratarlo como un problema de caminos (un caso particular de un problema de programación dinámica)."
   ]
  },
  {
   "cell_type": "code",
   "execution_count": null,
   "metadata": {
    "collapsed": true
   },
   "outputs": [],
   "source": [
    "function DP_m4(T,c,h,K,d)\n",
    "    ∞=10000000\n",
    "    costs=fill(∞,T+1)\n",
    "    path=zeros(Int64,T+1)\n",
    "    costs[1]=0\n",
    "    for t in 1:T\n",
    "        costAc=costs[t]+K[t]+c[t]*d[t]\n",
    "        hAc=h[t]\n",
    "        for tt=t+1:T+1\n",
    "            if costAc<costs[tt]\n",
    "                costs[tt]=costAc\n",
    "                path[tt]=t\n",
    "            end\n",
    "            if tt<=T\n",
    "                costAc +=c[t]*d[tt]+hAc*d[tt]\n",
    "                hAc += h[tt]\n",
    "            end\n",
    "        end\n",
    "    end\n",
    "    \n",
    "    ySol=zeros(Int64,T)\n",
    "    xSol=zeros(Int64,T)\n",
    "    st=T+1\n",
    "    while st!=1\n",
    "        st=path[st]\n",
    "        ySol[st]=1\n",
    "    end\n",
    "    for t=1:T\n",
    "        if ySol[t]==1\n",
    "            xSol[t] += d[t]\n",
    "            for tt=t+1:T\n",
    "                if ySol[tt]==1\n",
    "                    break\n",
    "                end\n",
    "                xSol[t] += d[tt]\n",
    "            end\n",
    "        end\n",
    "    end\n",
    "    return ySol,xSol,costs[T+1]\n",
    "end"
   ]
  },
  {
   "cell_type": "code",
   "execution_count": null,
   "metadata": {
    "collapsed": true
   },
   "outputs": [],
   "source": [
    "#T,c,h,K,d=readSimpleInstance()\n",
    "ySol,xSol,totalCost = DP_m4(T,c,h,K,d)\n",
    "println(\"ySol: \",ySol)\n",
    "println(\"xSol: \",xSol)\n",
    "println(\"Cost: \",totalCost)"
   ]
  },
  {
   "cell_type": "markdown",
   "metadata": {},
   "source": [
    "### Ejercicio Extra\n",
    "\n",
    "Hay dos cosas en las implementaciones 1 y 2 que son discutibles (sobretodo a nivel de tiempo de cómputo). \n",
    "\n",
    "La primera es el uso del paquete \"OffsetArrays\" que es más lento que una implementación directa. \n",
    "\n",
    "La segunda es el usar como primer índice el tiempo y como segundo el estado. Podría ser más rápido usar un orden inverso. \n",
    "\n",
    "¿Podría dar una respuesta teórica y validarla empíricamente?\n",
    "\n",
    "Otra opción es plantearse cómo resolver el problema de forma más eficiente (estos algoritmos son $n^2$ pero podríamos resolver el problema en $n \\log(n)$ (ver 10.1287/opre.41.3.549, 10.1287/mnsc.37.8.909 o 10.1287/opre.40.1.S145)"
   ]
  }
 ],
 "metadata": {
  "kernelspec": {
   "display_name": "Julia 0.5.2",
   "language": "julia",
   "name": "julia-0.5"
  },
  "language_info": {
   "file_extension": ".jl",
   "mimetype": "application/julia",
   "name": "julia",
   "version": "0.5.2"
  }
 },
 "nbformat": 4,
 "nbformat_minor": 2
}
