{
 "cells": [
  {
   "cell_type": "markdown",
   "metadata": {},
   "source": [
    "# Spanning Tree\n",
    "\n",
    "Aunque no sea parte del temario de grafos. Veamos cómo hacer un árbol de expansión mínima "
   ]
  },
  {
   "cell_type": "code",
   "execution_count": 1,
   "metadata": {},
   "outputs": [],
   "source": [
    "type grafo\n",
    "    vertices::Int64\n",
    "    aristas::Array{Int,2}\n",
    "end"
   ]
  },
  {
   "cell_type": "code",
   "execution_count": null,
   "metadata": {},
   "outputs": [],
   "source": [
    "srand(0)\n",
    "vertices=1000\n",
    "aristas=Array{Int64}(vertices,vertices)\n",
    "for i in 1:vertices\n",
    "    aristas[i,i]=0\n",
    "    for j in i+1:vertices\n",
    "       aristas[i,j]=aristas[j,i]=rand(1:1000)\n",
    "    end\n",
    "end\n",
    "instancia=grafo(vertices,aristas) #creamos un grafo denso\n",
    "#println(instancia)"
   ]
  },
  {
   "cell_type": "markdown",
   "metadata": {},
   "source": [
    "## Prim:\n",
    "\n",
    "* empieza con un conjunto formado por un único vértice (el 1 por ejemplo)\n",
    "* va añadiendo vértices al conjunto (uno a uno)\n",
    "* el vértice que añade es uno con arista de coste mínima entre él y cualquier miembro del conjunto\n",
    "\n"
   ]
  },
  {
   "cell_type": "code",
   "execution_count": 29,
   "metadata": {},
   "outputs": [
    {
     "name": "stderr",
     "output_type": "stream",
     "text": [
      "WARNING: Method definition mst_version1(Any) in module Main at In[25]:3 overwritten at In[29]:3.\n",
      "WARNING: Method definition mst_version2(Any) in module Main at In[25]:32 overwritten at In[29]:32.\n"
     ]
    },
    {
     "data": {
      "text/plain": [
       "mst_version2 (generic function with 1 method)"
      ]
     },
     "execution_count": 29,
     "metadata": {},
     "output_type": "execute_result"
    }
   ],
   "source": [
    "#Versión 1. Guardaremos el conjunto de los que pertenencen como un vector y miraremos todas las parejas una vez\n",
    "function mst_version1(instancia)\n",
    "    inSpanningTree=Array{Bool}(instancia.vertices)\n",
    "    inSpanningTree[1]=true\n",
    "    for i in 2:instancia.vertices\n",
    "        inSpanningTree[i]=false\n",
    "    end\n",
    "    totalCost=0\n",
    "    for iteracion in 1:instancia.vertices-1 #hay que repetir el bucle vertices-1 veces\n",
    "        bestCost=typemax(Int64)\n",
    "        best=0\n",
    "        for i in 1:instancia.vertices\n",
    "            if inSpanningTree[i]==true\n",
    "                for j in 1:instancia.vertices\n",
    "                    if (inSpanningTree[j]==false) && (bestCost > instancia.aristas[i,j])\n",
    "                        best = j\n",
    "                        bestCost = instancia.aristas[i,j]\n",
    "                    end\n",
    "                end\n",
    "            end\n",
    "        end\n",
    "        @assert(best != 0)\n",
    "        #println(\"seleccionamos \",best,\" con costo \",bestCost)\n",
    "        totalCost += bestCost\n",
    "        inSpanningTree[best]=true\n",
    "    end\n",
    "    println(\"costo Total \",totalCost)\n",
    "    return totalCost\n",
    "end\n",
    "#Versión 2. Miraremos mejor candidato para cada uno\n",
    "function mst_version2(instancia)\n",
    "    costCandidate=Array{Int64}(vertices)\n",
    "    inSpanningTree=Array{Bool}(vertices)\n",
    "    costCandidate[1]=0\n",
    "    inSpanningTree[1]=true\n",
    "    for i in 2:instancia.vertices #inicialización\n",
    "        costCandidate[i]=instancia.aristas[i,1]\n",
    "        inSpanningTree[i]=false\n",
    "    end\n",
    "    totalCost=0\n",
    "    for iteracion in 1:instancia.vertices-1\n",
    "        best=0\n",
    "        for ii in 2:instancia.vertices\n",
    "            if inSpanningTree[ii]==false\n",
    "                best=ii\n",
    "                break\n",
    "            end\n",
    "        end\n",
    "        for i in best+1:instancia.vertices\n",
    "            if inSpanningTree[i]==false && costCandidate[best]>costCandidate[i]\n",
    "                best=i\n",
    "            end\n",
    "        end\n",
    "        @assert(costCandidate[best]<typemax(Int64))\n",
    "        #println(\"seleccionamos \",best,\" con costo \",costCandidate[best])\n",
    "        inSpanningTree[best]=true\n",
    "        totalCost += costCandidate[best]\n",
    "        costCandidate[best]=typemax(Int64)\n",
    "        for i in 2:instancia.vertices\n",
    "            if inSpanningTree[i]==false && costCandidate[i]>instancia.aristas[i,best]\n",
    "                costCandidate[i]=instancia.aristas[i,best]\n",
    "            end\n",
    "        end\n",
    "    end\n",
    "    println(\"costo Total \",totalCost)\n",
    "    return totalCost\n",
    "end"
   ]
  },
  {
   "cell_type": "code",
   "execution_count": null,
   "metadata": {},
   "outputs": [],
   "source": [
    "@time(mst_version1(instancia))\n",
    "\n",
    "@time(mst_version2(instancia))"
   ]
  },
  {
   "cell_type": "code",
   "execution_count": null,
   "metadata": {
    "collapsed": true
   },
   "outputs": [],
   "source": []
  }
 ],
 "metadata": {
  "kernelspec": {
   "display_name": "Julia 0.5.2",
   "language": "julia",
   "name": "julia-0.5"
  },
  "language_info": {
   "file_extension": ".jl",
   "mimetype": "application/julia",
   "name": "julia",
   "version": "0.5.2"
  }
 },
 "nbformat": 4,
 "nbformat_minor": 2
}
