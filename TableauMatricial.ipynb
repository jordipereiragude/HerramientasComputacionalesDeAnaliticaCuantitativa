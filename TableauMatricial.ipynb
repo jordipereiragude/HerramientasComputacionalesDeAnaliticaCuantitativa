{
 "cells": [
  {
   "cell_type": "code",
   "execution_count": 1,
   "metadata": {
    "collapsed": false
   },
   "outputs": [],
   "source": [
    "type Tableau\n",
    "    c::Array{Float64}\n",
    "    b::Array{Float64}\n",
    "    A::Array{Float64}\n",
    "    obj::Float64\n",
    "    basicas::Array{Int16}\n",
    "end\n",
    "\n"
   ]
  },
  {
   "cell_type": "code",
   "execution_count": 95,
   "metadata": {
    "collapsed": false
   },
   "outputs": [
    {
     "data": {
      "text/plain": [
       "Tableau(1x5 Array{Float64,2}:\n",
       " 2500.0  4000.0  0.0  0.0  0.0,[200.0,100.0,750.0],3x5 Array{Float64,2}:\n",
       " 1.0  0.0  1.0  0.0  0.0\n",
       " 0.0  1.0  0.0  1.0  0.0\n",
       " 3.0  5.0  0.0  0.0  1.0,0.0,1x3 Array{Int16,2}:\n",
       " 3  4  5)"
      ]
     },
     "execution_count": 95,
     "metadata": {},
     "output_type": "execute_result"
    }
   ],
   "source": [
    "#introducimos datos\n",
    "data=Tableau([2500 4000 0 0 0], [200; 100; 750], [1 0 1 0 0; 0 1 0 1 0; 3 5 0 0 1],0.0,[3 4 5])"
   ]
  },
  {
   "cell_type": "code",
   "execution_count": 96,
   "metadata": {
    "collapsed": false
   },
   "outputs": [
    {
     "data": {
      "text/plain": [
       "printTableau (generic function with 1 method)"
      ]
     },
     "execution_count": 96,
     "metadata": {},
     "output_type": "execute_result"
    }
   ],
   "source": [
    "function selectPivote(data)\n",
    "    #println(\"costosBasicos: \",data.c)\n",
    "    colIn = indmax(data.c) #devuelve posicion con mayor costo reducido\n",
    "    if data.c[colIn] <= 0.0\n",
    "        println(\"=====================================================\")\n",
    "        println(\"Solucion Optima\")\n",
    "        return -1,-1\n",
    "    end\n",
    "    #println(\"\\tEntra En Base:\",colIn)\n",
    "    maxVal = typemax(Float64)\n",
    "    rowOut = -1\n",
    "    for i in 1:size(data.A,1)\n",
    "        if(data.A[i,colIn]>0.0) && (maxVal > data.b[i]/data.A[i,colIn])\n",
    "            maxVal = data.b[i]/data.A[i,colIn]\n",
    "            rowOut=i\n",
    "        end\n",
    "    end\n",
    "    if rowOut == -1\n",
    "        println(\"=====================================================\")\n",
    "        println(\"Problema no acotado\") \n",
    "        return -1,-1\n",
    "    end\n",
    "    #println(\"entra columna \",colIn,\" sale fila \",rowOut)\n",
    "    colIn,rowOut\n",
    "end\n",
    "\n",
    "function IteracionSimplex!(data)\n",
    "    variableIn,variableOut = selectPivote(data)\n",
    "    if variableIn == -1\n",
    "        return true\n",
    "    end\n",
    "    #cambiar variable de la base\n",
    "    data.basicas[variableOut]=variableIn\n",
    "    pivotValue=data.A[variableOut,variableIn]\n",
    "    #println(\"pivotValue: \",pivotValue)\n",
    "    #cambiar matriz A y vector b\n",
    "    data.A[variableOut,:]=data.A[variableOut,:]./pivotValue\n",
    "    data.b[variableOut]=data.b[variableOut]/pivotValue\n",
    "    for rows in 1:size(data.A,1)\n",
    "        if rows == variableOut\n",
    "            continue\n",
    "        end\n",
    "        if data.A[rows,variableOut] != 0.0\n",
    "            multiplier = data.A[rows,variableOut]\n",
    "            data.A[rows,:]=data.A[rows,:]-multiplier*data.A[variableOut,:]\n",
    "            data.b[rows]=data.b[rows]-multiplier*data.b[variableOut]\n",
    "        end\n",
    "    end\n",
    "    #actualizar obj\n",
    "    data.obj += data.c[variableIn]*data.b[variableOut]\n",
    "    data.c = data.c - data.c[variableIn]*data.A[variableOut,:]\n",
    "    #println(\"obj: \",data.obj)\n",
    "    #println(\"vectorC: \",data.c)\n",
    "    #println(\"matriz A:\")\n",
    "    #println(data.A)\n",
    "    #println(\"vector B:\")\n",
    "    #println(data.A)\n",
    "    return false\n",
    "end\n",
    "\n",
    "function printTableau(data)\n",
    "    println(\"=====================================================\")\n",
    "    println(\"obj: \",data.obj,\" size \",size(data.c,2), \" basicas \",size(data.A,1))\n",
    "    for i in 1:size(data.c,2)\n",
    "        if i>1 \n",
    "            print(\" + \")\n",
    "        end\n",
    "        print(data.c[i],\"*x_\",i,\" \")\n",
    "    end\n",
    "    print(\"\\n\")\n",
    "    for i in 1:size(data.A,1)\n",
    "        print(data.basicas[i],\" \")\n",
    "        for j in 1:size(data.A,2)\n",
    "            if j>1 \n",
    "                print(\" + \")\n",
    "            end\n",
    "            @printf(\"%5.2f*x_%d \",data.A[i,j],j)\n",
    "        end\n",
    "        print(\" = \",data.b[i],\"\\n\")\n",
    "    end\n",
    "end"
   ]
  },
  {
   "cell_type": "code",
   "execution_count": 97,
   "metadata": {
    "collapsed": false
   },
   "outputs": [
    {
     "name": "stdout",
     "output_type": "stream",
     "text": [
      "=====================================================\n",
      "obj: 0.0 size 5 basicas 3\n",
      "2500.0*x_1  + 4000.0*x_2  + 0.0*x_3  + 0.0*x_4  + 0.0*x_5 \n",
      "3  1.00*x_1  +  0.00*x_2  +  1.00*x_3  +  0.00*x_4  +  0.00*x_5  = 200.0\n",
      "4  0.00*x_1  +  1.00*x_2  +  0.00*x_3  +  1.00*x_4  +  0.00*x_5  = 100.0\n",
      "5  3.00*x_1  +  5.00*x_2  +  0.00*x_3  +  0.00*x_4  +  1.00*x_5  = 750.0\n",
      "=====================================================\n",
      "obj: 400000.0 size 5 basicas 3\n",
      "2500.0*x_1  + 0.0*x_2  + 0.0*x_3  + -4000.0*x_4  + 0.0*x_5 \n",
      "3  1.00*x_1  +  0.00*x_2  +  1.00*x_3  +  0.00*x_4  +  0.00*x_5  = 200.0\n",
      "2  0.00*x_1  +  1.00*x_2  +  0.00*x_3  +  1.00*x_4  +  0.00*x_5  = 100.0\n",
      "5  3.00*x_1  +  0.00*x_2  +  0.00*x_3  + -5.00*x_4  +  1.00*x_5  = 250.0\n",
      "=====================================================\n",
      "obj: 608333.3333333333 size 5 basicas 3\n",
      "0.0*x_1  + 0.0*x_2  + 0.0*x_3  + 166.66666666666697*x_4  + -833.3333333333333*x_5 \n",
      "3  0.00*x_1  +  0.00*x_2  +  1.00*x_3  +  1.67*x_4  + -0.33*x_5  = 116.66666666666667\n",
      "2  0.00*x_1  +  1.00*x_2  +  0.00*x_3  +  1.00*x_4  +  0.00*x_5  = 100.0\n",
      "1  1.00*x_1  +  0.00*x_2  +  0.00*x_3  + -1.67*x_4  +  0.33*x_5  = 83.33333333333333\n",
      "=====================================================\n",
      "obj: 620000.0 size 5 basicas 3\n",
      "0.0*x_1  + 0.0*x_2  + -100.00000000000018*x_3  + 0.0*x_4  + -799.9999999999999*x_5 \n",
      "4  0.00*x_1  +  0.00*x_2  +  0.60*x_3  +  1.00*x_4  + -0.20*x_5  = 70.0\n",
      "2  0.00*x_1  +  1.00*x_2  +  0.00*x_3  +  1.00*x_4  +  0.00*x_5  = 100.0\n",
      "1  1.00*x_1  +  0.00*x_2  + -0.60*x_3  + -2.67*x_4  +  0.53*x_5  = 13.333333333333329\n",
      "Solucion Optima\n"
     ]
    }
   ],
   "source": [
    "printTableau(data)\n",
    "while true\n",
    "    if IteracionSimplex!(data)\n",
    "        break\n",
    "    else\n",
    "        printTableau(data)\n",
    "    end\n",
    "end"
   ]
  },
  {
   "cell_type": "code",
   "execution_count": null,
   "metadata": {
    "collapsed": true
   },
   "outputs": [],
   "source": []
  }
 ],
 "metadata": {
  "kernelspec": {
   "display_name": "Julia 0.4.7",
   "language": "julia",
   "name": "julia-0.4"
  },
  "language_info": {
   "file_extension": ".jl",
   "mimetype": "application/julia",
   "name": "julia",
   "version": "0.4.7"
  }
 },
 "nbformat": 4,
 "nbformat_minor": 2
}
