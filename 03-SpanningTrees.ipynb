{
 "cells": [
  {
   "cell_type": "markdown",
   "metadata": {},
   "source": [
    "# Spanning Tree\n",
    "\n",
    "Aunque no sea parte del temario de grafos. Veamos cómo hacer un árbol de expansión mínima "
   ]
  },
  {
   "cell_type": "code",
   "execution_count": null,
   "metadata": {
    "collapsed": true
   },
   "outputs": [],
   "source": [
    "type grafo\n",
    "    vertices::Int64\n",
    "    aristas::Array{Int,2}\n",
    "end"
   ]
  },
  {
   "cell_type": "code",
   "execution_count": null,
   "metadata": {},
   "outputs": [],
   "source": [
    "srand(1)\n",
    "vertices=2500\n",
    "aristas=Array{Int64}(vertices,vertices)\n",
    "for i in 1:vertices\n",
    "    aristas[i,i]=0\n",
    "    for j in i+1:vertices\n",
    "       aristas[i,j]=aristas[j,i]=rand(1:1000)\n",
    "    end\n",
    "end\n",
    "instancia=grafo(vertices,aristas) #creamos un grafo denso\n",
    "#println(instancia)"
   ]
  },
  {
   "cell_type": "markdown",
   "metadata": {},
   "source": [
    "## Prim:\n",
    "\n",
    "* empieza con un conjunto formado por un único vértice (el 1 por ejemplo)\n",
    "* va añadiendo vértices al conjunto (uno a uno)\n",
    "* el vértice que añade es uno con arista de coste mínima entre él y cualquier miembro del conjunto\n",
    "\n"
   ]
  },
  {
   "cell_type": "code",
   "execution_count": null,
   "metadata": {},
   "outputs": [],
   "source": [
    "#Versión 1. Guardaremos el conjunto de los que pertenencen como un vector y miraremos todas las parejas una vez\n",
    "function Prim_version1(instancia)\n",
    "    inSpanningTree=Array{Bool}(instancia.vertices)\n",
    "    inSpanningTree[1]=true\n",
    "    for i in 2:instancia.vertices\n",
    "        inSpanningTree[i]=false\n",
    "    end\n",
    "    totalCost=0\n",
    "    for iteracion in 1:instancia.vertices-1 #hay que repetir el bucle vertices-1 veces\n",
    "        bestCost=typemax(Int64)\n",
    "        best=0\n",
    "        for i in 1:instancia.vertices\n",
    "            if inSpanningTree[i]==true\n",
    "                for j in 1:instancia.vertices\n",
    "                    if (inSpanningTree[j]==false) && (bestCost > instancia.aristas[i,j])\n",
    "                        best = j\n",
    "                        bestCost = instancia.aristas[i,j]\n",
    "                    end\n",
    "                end\n",
    "            end\n",
    "        end\n",
    "        @assert(best != 0)\n",
    "        #println(\"seleccionamos \",best,\" con costo \",bestCost)\n",
    "        totalCost += bestCost\n",
    "        inSpanningTree[best]=true\n",
    "    end\n",
    "    println(\"costo Total \",totalCost)\n",
    "    return totalCost\n",
    "end\n",
    "#Versión 2. Miraremos mejor candidato para cada uno\n",
    "function Prim_version2(instancia)\n",
    "    #sólo para demostrar los problemas de las variables globales, sustituyan instancia.vertices por vertices\n",
    "    costCandidate=Array{Int64}(instancia.vertices) \n",
    "    inSpanningTree=Array{Bool}(instancia.vertices)\n",
    "    costCandidate[1]=0\n",
    "    inSpanningTree[1]=true\n",
    "    for i in 2:instancia.vertices #inicialización\n",
    "        costCandidate[i]=instancia.aristas[i,1]\n",
    "        inSpanningTree[i]=false\n",
    "    end\n",
    "    totalCost=0\n",
    "    for iteracion in 1:instancia.vertices-1\n",
    "        best=0\n",
    "        for ii in 2:instancia.vertices\n",
    "            if inSpanningTree[ii]==false\n",
    "                best=ii\n",
    "                break\n",
    "            end\n",
    "        end\n",
    "        for i in best+1:instancia.vertices\n",
    "            if inSpanningTree[i]==false && costCandidate[best]>costCandidate[i]\n",
    "                best=i\n",
    "            end\n",
    "        end\n",
    "        @assert(costCandidate[best]<typemax(Int64))\n",
    "        #println(\"seleccionamos \",best,\" con costo \",costCandidate[best])\n",
    "        inSpanningTree[best]=true\n",
    "        totalCost += costCandidate[best]\n",
    "        costCandidate[best]=typemax(Int64)\n",
    "        for i in 2:instancia.vertices\n",
    "            if inSpanningTree[i]==false && costCandidate[i]>instancia.aristas[i,best]\n",
    "                costCandidate[i]=instancia.aristas[i,best]\n",
    "            end\n",
    "        end\n",
    "    end\n",
    "    println(\"costo Total \",totalCost)\n",
    "    return totalCost\n",
    "end"
   ]
  },
  {
   "cell_type": "code",
   "execution_count": null,
   "metadata": {},
   "outputs": [],
   "source": [
    "@time(Prim_version1(instancia))\n",
    "\n",
    "@time(Prim_version2(instancia))"
   ]
  },
  {
   "cell_type": "markdown",
   "metadata": {},
   "source": [
    "# Ejercicio\n",
    "\n",
    "Existen alternativas a las dos implementaciones mostradas. Yo normalmente uso la 2, excepto en grafo \"sparse\" que requieren implementaciones dependientes de la estructura de los datos (es más, para esos grafos casi siempre uso Kruskal)"
   ]
  },
  {
   "cell_type": "markdown",
   "metadata": {
    "collapsed": true
   },
   "source": [
    "## Kruskal:\n",
    "\n",
    "* empieza con cada vértice formando un grupo\n",
    "* va uniendo conjuntos\n",
    "* el conjunto que une es el asociado a la arista de mínimo costo entre dos conjuntos diferentes\n",
    "\n",
    "\n",
    "\n"
   ]
  },
  {
   "cell_type": "code",
   "execution_count": null,
   "metadata": {},
   "outputs": [],
   "source": [
    "#Versión 1. Guardaremos el conjunto de los que pertenencen como un vector y miraremos todas las parejas una vez\n",
    "function kruskal_version1(instancia)\n",
    "    grupo=Array{Int64}(instancia.vertices) \n",
    "    for i in 1:instancia.vertices\n",
    "        grupo[i]=i\n",
    "    end\n",
    "    totalCost=0\n",
    "    for iteracion in 1:instancia.vertices-1\n",
    "        bestCost=typemax(Int64)\n",
    "        v1=v2=0\n",
    "        for i in 1:instancia.vertices\n",
    "            for j in i+1:instancia.vertices\n",
    "                if grupo[i]!=grupo[j] && instancia.aristas[i,j]<bestCost\n",
    "                    bestCost=instancia.aristas[i,j]\n",
    "                    v1=i\n",
    "                    v2=j\n",
    "                end\n",
    "            end\n",
    "        end\n",
    "        @assert(v1!=0)\n",
    "        totalCost+=bestCost\n",
    "        grupoConservar=min(grupo[v1],grupo[v2])\n",
    "        grupoEliminar=max(grupo[v1],grupo[v2])\n",
    "        for i in 1:instancia.vertices\n",
    "            if grupo[i]>grupoEliminar \n",
    "                grupo[i]=grupo[i]-1\n",
    "            else\n",
    "                if grupo[i]==grupoEliminar\n",
    "                    grupo[i]=grupoConservar\n",
    "                end\n",
    "            end\n",
    "        end\n",
    "    end\n",
    "    println(\"costo Total \",totalCost)\n",
    "    return totalCost\n",
    "end\n",
    "    \n",
    "#Versión 2. Vamos a ordenar las aristas para evitar pasar varias veces por ellas\n",
    "#struct arista #utilizable desde Julia 0.6\n",
    "#immutable arista\n",
    "type arista\n",
    "    v1::Int64\n",
    "    v2::Int64\n",
    "    length::Int64\n",
    "end\n",
    "\n",
    "function kruskal_version2(instancia)\n",
    "    grupo=Array{Int64}(instancia.vertices) \n",
    "    ordenAristas=Array{arista}(0)\n",
    "    for i in 1:instancia.vertices\n",
    "        grupo[i]=i\n",
    "    end\n",
    "    totalCost=0\n",
    "    numGrupos=instancia.vertices\n",
    "    for i in 1:instancia.vertices\n",
    "        for j in i+1:instancia.vertices\n",
    "            push!(ordenAristas,arista(i,j,instancia.aristas[i,j]))\n",
    "        end\n",
    "    end\n",
    "    sort!(ordenAristas,by=a->a.length) #https://rosettacode.org/wiki/Sort_an_array_of_composite_structures#Julia\n",
    "    #for p in ordenAristas\n",
    "    #    println(p.v1,\"\\t\",p.v2,\"\\t\",p.length)\n",
    "    #end\n",
    "    totalCost=0\n",
    "    for arista in ordenAristas\n",
    "        if grupo[arista.v1]!=grupo[arista.v2]\n",
    "            totalCost += arista.length\n",
    "            \n",
    "            grupoConservar=min(grupo[arista.v1],grupo[arista.v2])\n",
    "            grupoEliminar=max(grupo[arista.v1],grupo[arista.v2])\n",
    "            for i in 1:instancia.vertices\n",
    "                if grupo[i]>grupoEliminar \n",
    "                    grupo[i]=grupo[i]-1\n",
    "                else\n",
    "                    if grupo[i]==grupoEliminar\n",
    "                        grupo[i]=grupoConservar\n",
    "                    end\n",
    "                end\n",
    "            end\n",
    "\n",
    "        end\n",
    "    end\n",
    "    return totalCost\n",
    "end"
   ]
  },
  {
   "cell_type": "code",
   "execution_count": null,
   "metadata": {},
   "outputs": [],
   "source": [
    "#@time(kruskal_version1(instancia))\n",
    "\n",
    "@time(kruskal_version2(instancia))"
   ]
  },
  {
   "cell_type": "code",
   "execution_count": null,
   "metadata": {
    "collapsed": true
   },
   "outputs": [],
   "source": [
    "@time(kruskal_version1(instancia))"
   ]
  },
  {
   "cell_type": "code",
   "execution_count": null,
   "metadata": {
    "collapsed": true
   },
   "outputs": [],
   "source": []
  }
 ],
 "metadata": {
  "kernelspec": {
   "display_name": "Julia 0.5.2",
   "language": "julia",
   "name": "julia-0.5"
  },
  "language_info": {
   "file_extension": ".jl",
   "mimetype": "application/julia",
   "name": "julia",
   "version": "0.5.2"
  }
 },
 "nbformat": 4,
 "nbformat_minor": 2
}
