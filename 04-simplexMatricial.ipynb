{
 "cells": [
  {
   "cell_type": "markdown",
   "metadata": {},
   "source": [
    "Recordemos:\n",
    "\n",
    "$\\mbox{[MAX]} c^T x$\n",
    "\n",
    "subject to:\n",
    "\n",
    "$Ax=b$\n",
    "\n",
    "Dividimos en básicas y no básicas\n",
    "\n",
    "$c_B x_B + c_N x_N$\n",
    "\n",
    "sujeto a:\n",
    "\n",
    "$B x_B + N x_N = b$\n",
    "\n",
    "operando las restricciones: $x_B = B^{-1} b - B^{-1} N x_N$\n",
    "\n",
    "y sustituyendo en la función objetivo: $C_B (B^{-1} b - B^{-1} N x_N) + c_N x_N$\n",
    "\n",
    "Por lo que el modelo se puede escribir como:\n",
    "\n",
    "$\\mbox{[MAX]}~c_B B^{-1} b + (c_N - c_B B^{-1} N) x_N$\n",
    "\n",
    "sujeto a:\n",
    "\n",
    "$x_B + B^{-1} N x_N = B^{-1} b$\n",
    "\n",
    "Entrará la de mayor coste reducido (maximo cRed)\n",
    "Saldrá la de coeficiente"
   ]
  },
  {
   "cell_type": "code",
   "execution_count": 60,
   "metadata": {},
   "outputs": [
    {
     "data": {
      "text/plain": [
       "3x5 Array{Int64,2}:\n",
       " 1  0  1  0  0\n",
       " 0  1  0  1  0\n",
       " 3  5  0  0  1"
      ]
     },
     "execution_count": 60,
     "metadata": {},
     "output_type": "execute_result"
    }
   ],
   "source": [
    "#introducimos datos\n",
    "c=[2500 4000 0 0 0] \n",
    "b=[200; 100; 750]\n",
    "A=[1 0 1 0 0; 0 1 0 1 0; 3 5 0 0 1]"
   ]
  },
  {
   "cell_type": "code",
   "execution_count": 70,
   "metadata": {},
   "outputs": [
    {
     "data": {
      "text/plain": [
       "iteracionSimplex (generic function with 1 method)"
      ]
     },
     "execution_count": 70,
     "metadata": {},
     "output_type": "execute_result"
    }
   ],
   "source": [
    "#seleccionar variable que entra y sale\n",
    "function selectPivote(costosBasicos,matrizN,rhs)\n",
    "    #println(\"matrizN: \",matrizN)\n",
    "    #println(\"rhs: \",rhs)\n",
    "    println(\"costosBasicos: \",costosBasicos)\n",
    "    minCol = indmax(costosBasicos) #devuelve posicion con mayor costo reducido\n",
    "    if costosBasicos[minCol] <= 0.0\n",
    "        println(\"Solucion Optima\")\n",
    "        return -1,-1\n",
    "    end\n",
    "    #println(\"\\tEntra En Base:\",minCol)\n",
    "    maxVal = typemax(Float64)\n",
    "    newCol = -1\n",
    "    for i in 1:size(matrizN,1)\n",
    "        #println(\"entro i: \",i,\" \",rhs[i],\" \",matrizN[i,minCol],\"\\t\",maxVal)\n",
    "        if (matrizN[i,minCol] > 0.0) && (maxVal > rhs[i]/matrizN[i,minCol])\n",
    "            maxVal = rhs[i]/matrizN[i,minCol]\n",
    "            newCol = i\n",
    "        end\n",
    "    end\n",
    "    if newCol == -1\n",
    "        println(\"Problema no acotado\") \n",
    "        return -1,-1\n",
    "    end\n",
    "    println(\"entra columna \",minCol,\" sale \",newCol)\n",
    "    minCol,newCol\n",
    "end\n",
    "\n",
    "#realizar operaciones de una iteración del simplex\n",
    "function iteracionSimplex(B,cB,N,cN,b,basicas,nobasicas)\n",
    "    #iteración del simplex\n",
    "    Binv=B^-1\n",
    "    obj=cB*Binv*b\n",
    "    println(\"obj: \",obj)\n",
    "    cRed=cN-cB*Binv*N\n",
    "    #println(\"costos reducidos:\",cRed)\n",
    "    sol=Binv*b\n",
    "    #println(\"solucion:\",sol)\n",
    "    Nprima=Binv*N\n",
    "    #println(\"Nprima:\",Nprima)\n",
    "    v1,v2 = selectPivote(cRed,Nprima,sol)\n",
    "    obj,v1,v2\n",
    "end"
   ]
  },
  {
   "cell_type": "code",
   "execution_count": 80,
   "metadata": {},
   "outputs": [
    {
     "name": "stdout",
     "output_type": "stream",
     "text": [
      "1 2 "
     ]
    }
   ],
   "source": [
    "#construimos base inicial\n",
    "basicas = Array{Int16}(3)\n",
    "basicas = [3, 4, 5]\n",
    "nobasicas = Array{Int16}(2)\n",
    "nobasicas = [1, 2]\n",
    "#vamos a dimensionar valores de calculo\n",
    "B=Array{Float64}(size(A,1),size(A,1))\n",
    "cB=Array{Float64}(1,size(A,1))\n",
    "N=Array{Float64}(size(A,1),size(A,2)-size(A,1))\n",
    "cN=Array{Float64}(1,size(A,2)-size(A,1))\n",
    "\n",
    "#inicializamos B, cB, N, cN\n",
    "j=1\n",
    "for i in basicas\n",
    "    B[:,j]=A[:,i]\n",
    "    cB[1,j]=c[1,i]\n",
    "    j=j+1\n",
    "end\n",
    "j=1\n",
    "for i in nobasicas\n",
    "    print(i,\" \")   \n",
    "    N[:,j]=A[:,i]\n",
    "    cN[1,j]=c[1,i]\n",
    "    j=j+1\n",
    "end    "
   ]
  },
  {
   "cell_type": "code",
   "execution_count": 72,
   "metadata": {},
   "outputs": [
    {
     "name": "stdout",
     "output_type": "stream",
     "text": [
      "obj: [0.0]\n",
      "costosBasicos: [2500.0 4000.0]\n",
      "entra columna 2 sale 2\n",
      "obj: 0.0 cB: [0.0 4000.0 0.0] cN: [2500.0 0.0] basicas: [3,2,5] noBasicas [1,4]\n",
      "obj: [400000.0]\n",
      "costosBasicos: [2500.0 -4000.0]\n",
      "entra columna 1 sale 3\n",
      "obj: 400000.0 cB: [0.0 4000.0 2500.0] cN: [0.0 0.0] basicas: [3,2,1] noBasicas [5,4]\n",
      "obj: [608333.3333333334]\n",
      "costosBasicos: [-833.3333333333333 166.66666666666606]\n",
      "entra columna 2 sale 1\n",
      "obj: 608333.3333333334 cB: [0.0 4000.0 2500.0] cN: [0.0 0.0] basicas: [4,2,1] noBasicas [5,3]\n",
      "obj: [619999.9999999999]\n",
      "costosBasicos: [-800.0 -99.99999999999955]\n",
      "Solucion Optima\n",
      "obj: 619999.9999999999 basicas: [4,2,1] valores [70.0,29.999999999999986,200.0]\n"
     ]
    }
   ],
   "source": [
    "#Box para hacer una iteración\n",
    "while true\n",
    "    obj,variableIn,variableOut = iteracionSimplex(B,cB,N,cN,b,basicas,nobasicas)\n",
    "    if variableIn != -1\n",
    "        basicas[variableOut] , nobasicas[variableIn] = nobasicas[variableIn] , basicas[variableOut]\n",
    "        cB[1,variableOut] , cN[1,variableIn] = cN[1,variableIn] , cB[1,variableOut] \n",
    "        B[:, variableOut],  N[:,variableIn] = N[:,variableIn] , B[:,variableOut]\n",
    "        println(\"obj: \",obj[1],\" cB: \", cB, \" cN: \",cN,\" basicas: \",basicas,\" noBasicas \",nobasicas)\n",
    "        #println(\"=========== matriz B ===========\")\n",
    "        #println(B)\n",
    "        #println(\"=========== matriz N ===========\")\n",
    "        #println(N)\n",
    "    else\n",
    "        println(\"obj: \",obj[1],\" basicas: \",basicas,\" valores \",B^(-1)*b)\n",
    "        break\n",
    "    end\n",
    "end"
   ]
  },
  {
   "cell_type": "code",
   "execution_count": null,
   "metadata": {
    "collapsed": true
   },
   "outputs": [],
   "source": []
  }
 ],
 "metadata": {
  "kernelspec": {
   "display_name": "Julia 0.5.2",
   "language": "julia",
   "name": "julia-0.5"
  },
  "language_info": {
   "file_extension": ".jl",
   "mimetype": "application/julia",
   "name": "julia",
   "version": "0.5.2"
  }
 },
 "nbformat": 4,
 "nbformat_minor": 2
}
