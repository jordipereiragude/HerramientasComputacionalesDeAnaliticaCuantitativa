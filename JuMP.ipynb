{
 "cells": [
  {
   "cell_type": "code",
   "execution_count": 5,
   "metadata": {
    "collapsed": true
   },
   "outputs": [],
   "source": [
    "using JuMP\n",
    "#using GLPKMathProgInterface\n",
    "using CPLEX"
   ]
  },
  {
   "cell_type": "markdown",
   "metadata": {},
   "source": [
    "# Modelo simple\n",
    "\n",
    "\\begin{align}\n",
    "\\text{minimize} \\qquad & x+y \\\\\n",
    " \\text{subject to} \\quad \\quad & x+y \\geq 1 \\\\\n",
    " \\qquad \\qquad & x \\geq 0, y \\geq 0 \\\\\n",
    " \\qquad \\qquad & x,y \\in \\mathbb{R}\n",
    "\\end{align}\n",
    "\n"
   ]
  },
  {
   "cell_type": "code",
   "execution_count": 26,
   "metadata": {},
   "outputs": [
    {
     "name": "stdout",
     "output_type": "stream",
     "text": [
      "Min x + y\n",
      "Subject to\n",
      " x + y ≥ 1\n",
      " x ≥ 0\n",
      " y ≥ 0\n",
      "Tried aggregator 1 time.\n",
      "LP Presolve eliminated 1 rows and 2 columns.\n",
      "All rows and columns eliminated.\n",
      "Presolve time = 0.00 sec. (0.00 ticks)\n",
      "Status: Optimal Objective value: 1.0\n",
      "x = 0.0\n",
      "y = 1.0\n",
      "CPLEX Error  3003: Not a mixed-integer problem.\n"
     ]
    }
   ],
   "source": [
    "#m = Model(solver = GLPKSolverMIP())\n",
    "#m = Model(solver = GLPKSolverLP())\n",
    "\n",
    "#creamos un modelo\n",
    "m = Model(solver = CplexSolver())\n",
    "\n",
    "#y sus variables\n",
    "@variable(m, x >= 0 )\n",
    "@variable(m, y >= 0 )\n",
    "\n",
    "#función objetivo a minimizar\n",
    "@objective(m, Min, x + y )\n",
    "\n",
    "#restricción\n",
    "@constraint(m, x + y >= 1.0 )\n",
    "\n",
    "#escribimos el modelo\n",
    "print(m)\n",
    "\n",
    "#resolvemos\n",
    "status = solve(m)\n",
    "\n",
    "#mostramos resultados\n",
    "println(\"Status: \",status,\" Objective value: \", getobjectivevalue(m))\n",
    "println(\"x = \", getvalue(x))\n",
    "println(\"y = \", getvalue(y))"
   ]
  },
  {
   "cell_type": "markdown",
   "metadata": {},
   "source": [
    "# Un programa lineal en formato estándar\n",
    "\n",
    "Un PL en formato estándar se expresa como:\n",
    "\n",
    "$$\n",
    "\\begin{align}\n",
    "& \\text{min} && c^T x \\\\\n",
    "& \\text{subject to} && A x = b \\\\\n",
    "&                   && x \\succeq 0 \\\\\n",
    "&                   && x \\in \\mathbb{R}^n\n",
    "\\end{align}\n",
    "$$\n"
   ]
  },
  {
   "cell_type": "code",
   "execution_count": 26,
   "metadata": {},
   "outputs": [
    {
     "data": {
      "text/plain": [
       "(3,5)"
      ]
     },
     "execution_count": 26,
     "metadata": {},
     "output_type": "execute_result"
    }
   ],
   "source": [
    "#Datos\n",
    "#----------\n",
    "\n",
    "#INPUT DATA\n",
    "#----------\n",
    "\n",
    "c=[2500; 4000; 0; 0; 0] \n",
    "b=[200; 100; 750]\n",
    "A=[1 0 1 0 0; 0 1 0 1 0; 3 5 0 0 1]\n",
    "m, n = size(A) # m = filas n = columnas"
   ]
  },
  {
   "cell_type": "code",
   "execution_count": 28,
   "metadata": {},
   "outputs": [
    {
     "name": "stdout",
     "output_type": "stream",
     "text": [
      "Tried aggregator 1 time.\n",
      "LP Presolve eliminated 3 rows and 5 columns.\n",
      "All rows and columns eliminated.\n",
      "Presolve time = 0.00 sec. (0.00 ticks)\n",
      "CPLEX Error  3003: Not a mixed-integer problem.\n"
     ]
    },
    {
     "data": {
      "text/plain": [
       ":Optimal"
      ]
     },
     "execution_count": 28,
     "metadata": {},
     "output_type": "execute_result"
    }
   ],
   "source": [
    "modelo = Model(solver = CplexSolver())\n",
    "@variable(modelo, x[1:n] >= 0) # Models x >=0\n",
    "for i in 1:m # filas\n",
    "    @constraint(modelo, sum(A[i, j]*x[j] for j in 1:n) == b[i]) # i-ésima restricción \n",
    "end \n",
    "@objective(modelo,Min,sum(c[i]*x[i] for i in 1:n))\n",
    "status = solve(modelo) # solves the model  "
   ]
  },
  {
   "cell_type": "markdown",
   "metadata": {
    "collapsed": true
   },
   "source": [
    "# Un modelo algo más complejo\n",
    "\n",
    "Obviamente, el modelo anterior no tiene mayor dificultad. Alternativamente podríamos intentar resolver algún modelo con algo más de historia (como por ejemplo el Uncapacitated Lot Sizing Problem).\n",
    "\n",
    "\\begin{align}\n",
    "\\text{minimize} \\qquad & \\sum_{t\\in T} c_s s_t+ \\sum_{t\\in T} c_K y_t \\\\\n",
    " \\text{subject to} \\quad \\quad & s_{t-1} + x_t = s_t + d_t \\\\\n",
    " \\qquad \\qquad & x_t \\leq M y_t \\\\\n",
    " \\qquad \\qquad & s_0 = 0 \\\\\n",
    " \\qquad \\qquad & x_t, s_t \\in \\mathbb{R}^+ \\forall t\\in T\\\\\n",
    " \\qquad \\qquad & y_t \\in \\{0,1\\}\n",
    "\\end{align}\n",
    "\n",
    "$c_s$ y $c_K$ son los costes de inventario (unidad por periodo) y de realizar un pedido en un periodo y $d_t$ la demanda de cada periodo. El conjunto de periodos es $T$. $x_t$ es la cantidad que se recibe en el periodo $t$, mientras que $y_t$ equivale a si se realiza un pedido en el periodo $t$ o no y $s_t$ es el inventario al final del periodo $t$.\n",
    "\n",
    "El objetivo minimiza la suma de costos de inventario y pedido (el costo por unidad no se tiene en cuenta porque la solución óptima siempre compra exactamente la demanda, $\\sum_{t\\in T} d_t$.\n",
    "\n",
    "La primera restricción asegura el cumplimiento de la demanda de cada periodo. La segunda restricción asegura que sólo se compran unidades si se ha realizado un pedido ($M$ es un valor lo suficientemente grande, en este caso basta con $\\sum_{t\\in T} d_t$). La tercera restricción inicializa el inventario y el resto de restricciones definen el problema."
   ]
  },
  {
   "cell_type": "code",
   "execution_count": 13,
   "metadata": {},
   "outputs": [
    {
     "data": {
      "text/plain": [
       "108"
      ]
     },
     "execution_count": 13,
     "metadata": {},
     "output_type": "execute_result"
    }
   ],
   "source": [
    "T=10\n",
    "d=[5; 10; 7; 11; 13; 14; 2; 8; 17; 21]\n",
    "cK=50\n",
    "cs=2\n",
    "M=sum(d)"
   ]
  },
  {
   "cell_type": "code",
   "execution_count": 24,
   "metadata": {},
   "outputs": [
    {
     "name": "stdout",
     "output_type": "stream",
     "text": [
      "Min 2 s[1] + 2 s[2] + 2 s[3] + 2 s[4] + 2 s[5] + 2 s[6] + 2 s[7] + 2 s[8] + 2 s[9] + 2 s[10] + 50 y[1] + 50 y[2] + 50 y[3] + 50 y[4] + 50 y[5] + 50 y[6] + 50 y[7] + 50 y[8] + 50 y[9] + 50 y[10]\n",
      "Subject to\n",
      " s[0] + x[1] - s[1] = 5\n",
      " s[1] + x[2] - s[2] = 10\n",
      " s[2] + x[3] - s[3] = 7\n",
      " s[3] + x[4] - s[4] = 11\n",
      " s[4] + x[5] - s[5] = 13\n",
      " s[5] + x[6] - s[6] = 14\n",
      " s[6] + x[7] - s[7] = 2\n",
      " s[7] + x[8] - s[8] = 8\n",
      " s[8] + x[9] - s[9] = 17\n",
      " s[9] + x[10] - s[10] = 21\n",
      " x[1] - 108 y[1] ≤ 0\n",
      " x[2] - 108 y[2] ≤ 0\n",
      " x[3] - 108 y[3] ≤ 0\n",
      " x[4] - 108 y[4] ≤ 0\n",
      " x[5] - 108 y[5] ≤ 0\n",
      " x[6] - 108 y[6] ≤ 0\n",
      " x[7] - 108 y[7] ≤ 0\n",
      " x[8] - 108 y[8] ≤ 0\n",
      " x[9] - 108 y[9] ≤ 0\n",
      " x[10] - 108 y[10] ≤ 0\n",
      " s[0] = 0\n",
      " x[i] ≥ 0 ∀ i ∈ {1,2,…,9,10}\n",
      " y[i] ∈ {0,1} ∀ i ∈ {1,2,…,9,10}\n",
      " s[i] ≥ 0 ∀ i ∈ {0,1,…,9,10}\n",
      "Found incumbent of value 378.000000 after 0.00 sec. (0.00 ticks)\n",
      "Tried aggregator 1 time.\n",
      "MIP Presolve eliminated 3 rows and 3 columns.\n",
      "Reduced MIP has 18 rows, 28 columns, and 45 nonzeros.\n",
      "Reduced MIP has 9 binaries, 0 generals, 0 SOSs, and 0 indicators.\n",
      "Presolve time = 0.00 sec. (0.02 ticks)\n",
      "Probing time = 0.00 sec. (0.01 ticks)\n",
      "Tried aggregator 1 time.\n",
      "Reduced MIP has 18 rows, 28 columns, and 45 nonzeros.\n",
      "Reduced MIP has 9 binaries, 0 generals, 0 SOSs, and 0 indicators.\n",
      "Presolve time = 0.00 sec. (0.03 ticks)\n",
      "Probing time = 0.00 sec. (0.01 ticks)\n",
      "MIP emphasis: balance optimality and feasibility.\n",
      "MIP search method: dynamic search.\n",
      "Parallel mode: deterministic, using up to 2 threads.\n",
      "Root relaxation solution time = 0.00 sec. (0.03 ticks)\n",
      "\n",
      "        Nodes                                         Cuts/\n",
      "   Node  Left     Objective  IInf  Best Integer    Best Bound    ItCnt     Gap\n",
      "\n",
      "*     0+    0                          378.0000       50.0000            86.77%\n",
      "      0     0       97.6852     9      378.0000       97.6852        9   74.16%\n",
      "      0     0      279.6781     8      378.0000      Cuts: 27       18   26.01%\n",
      "      0     0      341.4913     7      378.0000      Cuts: 19       27    9.66%\n",
      "*     0     0      integral     0      352.0000      Cuts: 16       29    0.00%\n",
      "      0     0        cutoff            352.0000      352.0000       29    0.00%\n",
      "Elapsed time = 0.01 sec. (0.66 ticks, tree = 0.01 MB, solutions = 2)\n",
      "**** Status: Optimal Objective value: 351.99999999999955\n",
      "**** x = [22.0,0.0,0.0,24.0,0.0,24.0,1.26121e-13,0.0,38.0,0.0]\n",
      "**** y = [1.0,0.0,0.0,1.0,0.0,1.0,0.0,0.0,1.0,0.0]\n",
      "**** s = s: 1 dimensions:\n",
      "[ 0] = 0.0\n",
      "[ 1] = 16.999999999999943\n",
      "[ 2] = 6.999999999999943\n",
      "[ 3] = 0.0\n",
      "[ 4] = 13.0\n",
      "[ 5] = 0.0\n",
      "[ 6] = 9.999999999999874\n",
      "[ 7] = 8.0\n",
      "[ 8] = 0.0\n",
      "[ 9] = 20.999999999999996\n",
      "[10] = 0.0\n",
      "\n",
      "Implied bound cuts applied:  6\n",
      "Flow cuts applied:  6\n",
      "Mixed integer rounding cuts applied:  13\n",
      "Flow path cuts applied:  3\n",
      "Gomory fractional cuts applied:  6\n",
      "\n",
      "Root node processing (before b&c):\n",
      "  Real time             =    0.01 sec. (0.66 ticks)\n",
      "Parallel b&c, 2 threads:\n",
      "  Real time             =    0.00 sec. (0.00 ticks)\n",
      "  Sync time (average)   =    0.00 sec.\n",
      "  Wait time (average)   =    0.00 sec.\n",
      "                          ------------\n",
      "Total (root+branch&cut) =    0.01 sec. (0.66 ticks)\n"
     ]
    }
   ],
   "source": [
    "modelo=Model(solver = CplexSolver())\n",
    "@variable(modelo, x[1:T]>= 0)\n",
    "@variable(modelo, y[1:T],Bin)\n",
    "@variable(modelo, s[0:T]>=0)\n",
    "\n",
    "#función objetivo a minimizar\n",
    "@objective(modelo, Min, sum(cs*s[t] for t in 1:T)+sum(cK*y[t] for t in 1:T))\n",
    "\n",
    "for t in 1:T\n",
    "    @constraint(modelo,s[t-1]+x[t]==d[t]+s[t])\n",
    "end\n",
    "for t in 1:T\n",
    "    @constraint(modelo,x[t]<=M*y[t])\n",
    "end\n",
    "@constraint(modelo,s[0]==0)\n",
    "\n",
    "#escribimos el modelo\n",
    "print(modelo)\n",
    "\n",
    "#resolvemos\n",
    "status = solve(modelo)\n",
    "\n",
    "#mostramos resultados\n",
    "println(\"**** Status: \",status,\" Objective value: \", getobjectivevalue(modelo))\n",
    "println(\"**** x = \", getvalue(x))\n",
    "println(\"**** y = \", getvalue(y))\n",
    "println(\"**** s = \", getvalue(s))"
   ]
  },
  {
   "cell_type": "markdown",
   "metadata": {},
   "source": []
  }
 ],
 "metadata": {
  "kernelspec": {
   "display_name": "Julia 0.5.2",
   "language": "julia",
   "name": "julia-0.5"
  },
  "language_info": {
   "file_extension": ".jl",
   "mimetype": "application/julia",
   "name": "julia",
   "version": "0.5.2"
  }
 },
 "nbformat": 4,
 "nbformat_minor": 2
}
