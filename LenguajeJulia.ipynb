{
 "cells": [
  {
   "cell_type": "markdown",
   "metadata": {},
   "source": [
    "# Julia como calculadora "
   ]
  },
  {
   "cell_type": "code",
   "execution_count": 1,
   "metadata": {},
   "outputs": [
    {
     "data": {
      "text/plain": [
       "0.375"
      ]
     },
     "execution_count": 1,
     "metadata": {},
     "output_type": "execute_result"
    }
   ],
   "source": [
    "# operaciones básicas\n",
    "# 1 + 1 # => 2\n",
    "# 1 - 1 # => 0\n",
    "# 5*7 # => 35\n",
    " 3/8 # => 0.375\n",
    "# 7%3 => 1\n",
    "# 2 ^ 3 # => 8\n"
   ]
  },
  {
   "cell_type": "markdown",
   "metadata": {},
   "source": [
    "Es posible usar notación LISP"
   ]
  },
  {
   "cell_type": "code",
   "execution_count": 2,
   "metadata": {},
   "outputs": [
    {
     "data": {
      "text/plain": [
       "8"
      ]
     },
     "execution_count": 2,
     "metadata": {},
     "output_type": "execute_result"
    }
   ],
   "source": [
    "+(3, 5)\n",
    "# (6, +(3, 5))\n",
    "# /(22, +(pi, 5))"
   ]
  },
  {
   "cell_type": "markdown",
   "metadata": {},
   "source": [
    "O matrices. Importante ver la diferencia en usar punto o no antes de una operación con matrices (o vectores)"
   ]
  },
  {
   "cell_type": "code",
   "execution_count": 3,
   "metadata": {},
   "outputs": [
    {
     "data": {
      "text/plain": [
       "2×2 Array{Int64,2}:\n",
       "  2  3\n",
       " 20  8"
      ]
     },
     "execution_count": 3,
     "metadata": {},
     "output_type": "execute_result"
    }
   ],
   "source": [
    "#[2 3; 5 4]+[1 1; 4 2]\n",
    "# [2 3; 5 4]*[1 1; 4 2]\n",
    "[2 3; 5 4].*[1 1; 4 2]\n",
    "#[2 3; 5 4]^(-1)\n",
    "# inv([2 3; 5 4])"
   ]
  },
  {
   "cell_type": "markdown",
   "metadata": {},
   "source": [
    "Y produce errores en caso de imposibilidad"
   ]
  },
  {
   "cell_type": "code",
   "execution_count": 4,
   "metadata": {},
   "outputs": [
    {
     "ename": "LoadError",
     "evalue": "Base.LinAlg.SingularException(2)",
     "output_type": "error",
     "traceback": [
      "Base.LinAlg.SingularException(2)",
      "",
      " in inv! at ./linalg/lu.jl:232 [inlined]",
      " in inv(::Base.LinAlg.LU{Float64,Array{Float64,2}}) at ./linalg/lu.jl:233",
      " in inv(::Array{Int64,2}) at ./linalg/dense.jl:364",
      " in include_string(::String, ::String) at ./loading.jl:441"
     ]
    }
   ],
   "source": [
    "#inv([2 4 6; 1 3 4])\n",
    "inv([2 4 6; 4 8 12; 1 2 3])"
   ]
  },
  {
   "cell_type": "code",
   "execution_count": 5,
   "metadata": {},
   "outputs": [
    {
     "data": {
      "text/plain": [
       "1"
      ]
     },
     "execution_count": 5,
     "metadata": {},
     "output_type": "execute_result"
    }
   ],
   "source": [
    "rank([2 4 6; 4 8 12; 1 2 3])"
   ]
  },
  {
   "cell_type": "markdown",
   "metadata": {},
   "source": [
    "# Matrices\n",
    "\n",
    "Debido a las particularidades de Julia y del área, es práctico introducir matrices y vectores pronto."
   ]
  },
  {
   "cell_type": "code",
   "execution_count": 6,
   "metadata": {},
   "outputs": [
    {
     "data": {
      "text/plain": [
       "1×3 Array{Int64,2}:\n",
       " 112  14  16"
      ]
     },
     "execution_count": 6,
     "metadata": {},
     "output_type": "execute_result"
    }
   ],
   "source": [
    "a=[112 14 16] #un vector de 3 columnas y 1 fila"
   ]
  },
  {
   "cell_type": "code",
   "execution_count": 7,
   "metadata": {},
   "outputs": [
    {
     "data": {
      "text/plain": [
       "3-element Array{Int64,1}:\n",
       " 112\n",
       "  14\n",
       "  16"
      ]
     },
     "execution_count": 7,
     "metadata": {},
     "output_type": "execute_result"
    }
   ],
   "source": [
    "b=[112; 14; 16] # un vector de 1 columna y 3 filas (la forma estándar de anotar un vector)"
   ]
  },
  {
   "cell_type": "code",
   "execution_count": 8,
   "metadata": {},
   "outputs": [
    {
     "data": {
      "text/plain": [
       "3×3 Array{Int64,2}:\n",
       " 4  2  3\n",
       " 7  1  6\n",
       " 6  2  4"
      ]
     },
     "execution_count": 8,
     "metadata": {},
     "output_type": "execute_result"
    }
   ],
   "source": [
    "# a*b\n",
    "# a+transpose(b)\n",
    "# transpose(a)+b\n",
    "C=[4 2 3; 7 1 6; 6 2 4]\n",
    "#a*C\n",
    "#C*b"
   ]
  },
  {
   "cell_type": "markdown",
   "metadata": {},
   "source": [
    "Es importante ver que el sistema nos informa de tipo de \"array\" utilizado, en el caso de C resulta que es una matriz de números enteros (de longitud 64 bits) con 2 dimensiones. También podemos consultarlo (útil por motivos que se explicarán luego)"
   ]
  },
  {
   "cell_type": "code",
   "execution_count": 9,
   "metadata": {},
   "outputs": [
    {
     "data": {
      "text/plain": [
       "Array{Int64,1}"
      ]
     },
     "execution_count": 9,
     "metadata": {},
     "output_type": "execute_result"
    }
   ],
   "source": [
    "typeof(b)"
   ]
  },
  {
   "cell_type": "markdown",
   "metadata": {},
   "source": [
    "Resolver un sistema de ecuaciones:"
   ]
  },
  {
   "cell_type": "code",
   "execution_count": 10,
   "metadata": {},
   "outputs": [
    {
     "data": {
      "text/plain": [
       "3-element Array{Float64,1}:\n",
       " -97.5\n",
       " 102.5\n",
       "  99.0"
      ]
     },
     "execution_count": 10,
     "metadata": {},
     "output_type": "execute_result"
    }
   ],
   "source": [
    "C^(-1)*b\n",
    "#C\\b"
   ]
  },
  {
   "cell_type": "markdown",
   "metadata": {},
   "source": [
    "regresión lineal $\\hat{\\beta} = (X^T X)^{-1} X^T y$"
   ]
  },
  {
   "cell_type": "code",
   "execution_count": 11,
   "metadata": {},
   "outputs": [
    {
     "data": {
      "text/plain": [
       "2-element Array{Float64,1}:\n",
       " -0.102397\n",
       " 19.5403  "
      ]
     },
     "execution_count": 11,
     "metadata": {},
     "output_type": "execute_result"
    }
   ],
   "source": [
    "X=[2 4; 1 3; 9 1]\n",
    "y=b\n",
    "inv(X'*X)*X'*y"
   ]
  },
  {
   "cell_type": "markdown",
   "metadata": {
    "collapsed": true
   },
   "source": [
    "Hay varias maneras de construir una matriz paso a paso. Por ejemplo:"
   ]
  },
  {
   "cell_type": "code",
   "execution_count": 12,
   "metadata": {},
   "outputs": [
    {
     "name": "stdout",
     "output_type": "stream",
     "text": [
      "vector0: [1,2,3]\n",
      "vector: Int64[]\n",
      "vectorDefinido: [140543631189712,140543541870704]\n",
      "otro Vector: [2,2]\n",
      "vector Columna: [2 2]\n",
      "matriz de 10x10: [140543658968848 140543658969296 140543658971984 140543658974448 140543658977136 140543658983184 140543658977808 140543658980496 140543659477872 140543658970640; 140543658968848 140543658969520 140543658972432 140543658974672 140543658977360 140543659474960 140543658978032 140543658980720 140543659478096 140543658981392; 140543658968848 140543658969744 140543658971760 140543658974896 140543658977584 140543659475184 140543658978256 140543658979600 140543531810848 140543658981616; 140543658968848 140543658969968 140543658972656 140543658975120 140543658976464 140543659475408 140543658978480 140543658980944 140543531810848 140543658981616; 140543658968848 140543658970192 140543658973104 140543658975344 140543658981840 140543659475632 140543658978704 140543658981168 140543531810848 140543658981616; 140543658968848 140543658970416 140543658973328 140543658975568 140543658982064 140543659475856 140543658979152 140543658978928 140543659478320 140543658981616; 140543658968848 140543658970864 140543658973552 140543658975792 140543658982288 140543659476080 140543658979376 140543659476976 140543659478544 140543658981616; 140543658968848 140543658971088 140543658973776 140543658976240 140543658982512 140543659476304 140543658979824 140543659477200 140543659478992 140543658981616; 140543658968848 140543658971312 140543658974000 140543658976688 140543658982736 140543659476528 140543658980048 140543659477424 140543659479216 140543658981616; 140543658969072 140543658971536 140543658974224 140543658976912 140543658982960 140543659476752 140543658980272 140543659477648 140543659479440 0]\n"
     ]
    }
   ],
   "source": [
    "vector0 = [1, 2, 3]\n",
    "println(\"vector0: \",vector0)\n",
    "vector = Int64[]\n",
    "println(\"vector: \",vector)\n",
    "vectorDefinido = Array{Int64}(2)\n",
    "println(\"vectorDefinido: \",vectorDefinido)\n",
    "otroVector = Int64[2, 2]\n",
    "println(\"otro Vector: \",otroVector)\n",
    "vectorColumna=Int64[2 2]\n",
    "println(\"vector Columna: \",vectorColumna)\n",
    "matriz = Array{Int64}(10,10) #matriz de 2x2\n",
    "println(\"matriz de 10x10: \",matriz)"
   ]
  },
  {
   "cell_type": "markdown",
   "metadata": {
    "collapsed": true
   },
   "source": [
    "Varias operaciones básicas:"
   ]
  },
  {
   "cell_type": "code",
   "execution_count": 13,
   "metadata": {},
   "outputs": [
    {
     "name": "stdout",
     "output_type": "stream",
     "text": [
      "typeof: Array{Int64,2}\n",
      "vectores iniciales: [1,2,3] [1,2,3]\n",
      "tras push: 1 10\ty el otro: 1 10\n",
      "tras pop: 1 3\ty el otro: 1 3\n"
     ]
    }
   ],
   "source": [
    "println(\"typeof: \",typeof(vectorColumna))\n",
    "vector=vector0\n",
    "println(\"vectores iniciales: \",vector,\" \",vector0)\n",
    "push!(vector,10)\n",
    "println(\"tras push: \",vector[1],\" \",vector[end],\"\\ty el otro: \",vector0[1],\" \",vector0[end]) #sorpresa!\n",
    "pop!(vector)\n",
    "println(\"tras pop: \",vector[1],\" \",vector[end],\"\\ty el otro: \",vector0[1],\" \",vector0[end])"
   ]
  },
  {
   "cell_type": "code",
   "execution_count": 14,
   "metadata": {},
   "outputs": [
    {
     "name": "stdout",
     "output_type": "stream",
     "text": [
      "tras copy: [1,2,3] [1,2,3]\n",
      "tras push: 1 10\ty el otro: 1 3\n",
      "tras pop: 1 3\ty el otro: 1 3\n",
      "vector: [1,2,3,1,2,3]\n"
     ]
    }
   ],
   "source": [
    "vector=copy(vector0)\n",
    "println(\"tras copy: \",vector,\" \",vector0)\n",
    "push!(vector,10)\n",
    "println(\"tras push: \",vector[1],\" \",vector[end],\"\\ty el otro: \",vector0[1],\" \",vector0[end]) #sorpresa!\n",
    "pop!(vector)\n",
    "println(\"tras pop: \",vector[1],\" \",vector[end],\"\\ty el otro: \",vector0[1],\" \",vector0[end])\n",
    "append!(vector,vector0)\n",
    "println(\"vector: \",vector)"
   ]
  },
  {
   "cell_type": "markdown",
   "metadata": {
    "collapsed": true
   },
   "source": [
    "Se puede recortar algunas partes de un vector o matriz fácilmente:"
   ]
  },
  {
   "cell_type": "code",
   "execution_count": 15,
   "metadata": {},
   "outputs": [
    {
     "name": "stdout",
     "output_type": "stream",
     "text": [
      "mini: [2,3,1]\n",
      "mini: [10,3,1] vector: [1,2,3,1,2,3]\n",
      "numero de entradas: 3\n"
     ]
    }
   ],
   "source": [
    "mini=vector[2:4]\n",
    "println(\"mini: \",mini)\n",
    "mini[1]=10\n",
    "println(\"mini: \",mini,\" vector: \",vector) #curioso ¿no?\n",
    "println(\"numero de entradas: \",length(mini))"
   ]
  },
  {
   "cell_type": "code",
   "execution_count": 16,
   "metadata": {},
   "outputs": [
    {
     "name": "stdout",
     "output_type": "stream",
     "text": [
      "matriz anteriormente definida:[140543658968848 140543658969296 140543658971984 140543658974448 140543658977136 140543658983184 140543658977808 140543658980496 140543659477872 140543658970640; 140543658968848 140543658969520 140543658972432 140543658974672 140543658977360 140543659474960 140543658978032 140543658980720 140543659478096 140543658981392; 140543658968848 140543658969744 140543658971760 140543658974896 140543658977584 140543659475184 140543658978256 140543658979600 140543531810848 140543658981616; 140543658968848 140543658969968 140543658972656 140543658975120 140543658976464 140543659475408 140543658978480 140543658980944 140543531810848 140543658981616; 140543658968848 140543658970192 140543658973104 140543658975344 140543658981840 140543659475632 140543658978704 140543658981168 140543531810848 140543658981616; 140543658968848 140543658970416 140543658973328 140543658975568 140543658982064 140543659475856 140543658979152 140543658978928 140543659478320 140543658981616; 140543658968848 140543658970864 140543658973552 140543658975792 140543658982288 140543659476080 140543658979376 140543659476976 140543659478544 140543658981616; 140543658968848 140543658971088 140543658973776 140543658976240 140543658982512 140543659476304 140543658979824 140543659477200 140543659478992 140543658981616; 140543658968848 140543658971312 140543658974000 140543658976688 140543658982736 140543659476528 140543658980048 140543659477424 140543659479216 140543658981616; 140543658969072 140543658971536 140543658974224 140543658976912 140543658982960 140543659476752 140543658980272 140543659477648 140543659479440 0]\n"
     ]
    },
    {
     "data": {
      "text/plain": [
       "2×2 Array{Int64,2}:\n",
       " 140543658969296  140543658971984\n",
       " 140543658969520  140543658972432"
      ]
     },
     "execution_count": 16,
     "metadata": {},
     "output_type": "execute_result"
    }
   ],
   "source": [
    "println(\"matriz anteriormente definida:\" , matriz)\n",
    "matriz[1:2,2:3]"
   ]
  },
  {
   "cell_type": "markdown",
   "metadata": {},
   "source": [
    "## Variables\n",
    "\n",
    "Algunas cosas anteriores no se aplican a variables simples (motivo, uso de memoria)"
   ]
  },
  {
   "cell_type": "code",
   "execution_count": 17,
   "metadata": {},
   "outputs": [
    {
     "name": "stdout",
     "output_type": "stream",
     "text": [
      "i: 3 j: 3\n",
      "i: 3 j: 4\n"
     ]
    }
   ],
   "source": [
    "i=3\n",
    "j=i\n",
    "println(\"i: \",i,\" j: \",j)\n",
    "j=j+1\n",
    "println(\"i: \",i,\" j: \",j)"
   ]
  },
  {
   "cell_type": "markdown",
   "metadata": {},
   "source": [
    "Se pueden utilizar símbolos especiales para clarificar el significado de variables (por ejemplo escribe \"\\pi\" y tabulador)"
   ]
  },
  {
   "cell_type": "code",
   "execution_count": 18,
   "metadata": {},
   "outputs": [
    {
     "name": "stdout",
     "output_type": "stream",
     "text": [
      "perímetro: 31.41592\n"
     ]
    }
   ],
   "source": [
    "π=3.141592\n",
    "r=5\n",
    "perímetro=2*π*r\n",
    "println(\"perímetro: \",perímetro)"
   ]
  },
  {
   "cell_type": "markdown",
   "metadata": {
    "collapsed": true
   },
   "source": [
    "# Estructuras de datos\n",
    "\n",
    "Finalmente, falta analizar algunas formas de matener información que resultarán convenientes (Nota: Restaría ver <b>dataframes</b>)\n",
    "\n",
    "## Conjuntos\n",
    "\n",
    "Podemos tener conjuntos de enteros o conjuntos generales (https://docs.julialang.org/en/release-0.4/stdlib/collections/):"
   ]
  },
  {
   "cell_type": "code",
   "execution_count": 19,
   "metadata": {},
   "outputs": [
    {
     "name": "stdout",
     "output_type": "stream",
     "text": [
      "en conjunto: 1\n",
      "en conjunto: 3\n",
      "en conjunto: 5\n",
      "Set: IntSet([1, 3, 5])\n",
      "Intersección: IntSet([3, 5])\n",
      "Unión: IntSet([1, 3, 4, 5, 6])\n",
      "Set: IntSet([1, 4, 5, 6])\n",
      "Set: IntSet([1, 4, 5])\n"
     ]
    }
   ],
   "source": [
    "conjunto =IntSet()\n",
    "push!(conjunto,5)\n",
    "push!(conjunto,1)\n",
    "push!(conjunto,3)\n",
    "for i in conjunto\n",
    "    println(\"en conjunto: \",i)\n",
    "end\n",
    "push!(conjunto,1)\n",
    "println(\"Set: \",conjunto)\n",
    "otroConjunto = IntSet([3, 4, 5, 6])\n",
    "println(\"Intersección: \",intersect(conjunto,otroConjunto))\n",
    "union!(conjunto, otroConjunto)\n",
    "println(\"Unión: \",conjunto)\n",
    "pop!(conjunto,3)\n",
    "println(\"Set: \",conjunto)\n",
    "pop!(conjunto)\n",
    "println(\"Set: \",conjunto)\n"
   ]
  },
  {
   "cell_type": "markdown",
   "metadata": {
    "collapsed": true
   },
   "source": [
    "## Diccionarios\n",
    "\n",
    "Equivalente al <i>map</i> en C++ o a un <i>hash table</i>\n",
    "\n",
    "Sirve para almacenar estructuras con un key y un valor "
   ]
  },
  {
   "cell_type": "code",
   "execution_count": 20,
   "metadata": {},
   "outputs": [
    {
     "name": "stdout",
     "output_type": "stream",
     "text": [
      "Diccionario:Dict(\"B\"=>2,\"A\"=>1)\n",
      "comprobación 1: true\n",
      "comprobación 2: false\n",
      "comprobación 3: true\n",
      "comprobación 4: false\n",
      "comprobación 5:KeyError(\"C\")\n",
      "comprobación 6:2\n"
     ]
    }
   ],
   "source": [
    "Diccionario = Dict{String,Int64}()\n",
    "Diccionario[\"A\"]=1\n",
    "Diccionario[\"B\"]=2\n",
    "println(\"Diccionario:\",Diccionario)\n",
    "\n",
    "# Comprobaciones varias\n",
    "println(\"comprobación 1: \",in((\"A\" => 1), Diccionario)) # => true\n",
    "println(\"comprobación 2: \",in((\"B\" => 3), Diccionario)) # => false\n",
    "println(\"comprobación 3: \",haskey(Diccionario, \"A\")) # => true\n",
    "println(\"comprobación 4: \",haskey(Diccionario, \"C\")) # => false\n",
    "# Miremos si hay o no un key\n",
    "try\n",
    "    println(\"comprobación 5:\",Diccionario[\"C\"]) # => ERROR: key not found: four in getindex at dict.jl:489\n",
    "catch e\n",
    "    println(\"comprobación 5:\",e)\n",
    "end\n",
    "# Miremos si hay o no un key\n",
    "try\n",
    "    println(\"comprobación 6:\",Diccionario[\"B\"]) # => ERROR: key not found: four in getindex at dict.jl:489\n",
    "catch e\n",
    "    println(\"comprobación 6:\",e)\n",
    "end"
   ]
  },
  {
   "cell_type": "markdown",
   "metadata": {
    "collapsed": true
   },
   "source": [
    "## Bitarray\n",
    "\n",
    "Un vector para bits (alternativa Array{Bool}(4)"
   ]
  },
  {
   "cell_type": "code",
   "execution_count": 21,
   "metadata": {},
   "outputs": [
    {
     "name": "stdout",
     "output_type": "stream",
     "text": [
      "bitarray: Bool[true,false,false,true]\n",
      "Array: Bool[true,false,false,true]\n"
     ]
    }
   ],
   "source": [
    "pattern = BitArray(4)\n",
    "pattern[1]=true\n",
    "pattern[2]=false\n",
    "pattern[3]=false\n",
    "pattern[4]=true\n",
    "println(\"bitarray: \",pattern)\n",
    "patternAlternativo = Array{Bool}(4)\n",
    "patternAlternativo[1]=true\n",
    "patternAlternativo[2]=false\n",
    "patternAlternativo[3]=false\n",
    "patternAlternativo[4]=true\n",
    "println(\"Array: \",patternAlternativo)"
   ]
  },
  {
   "cell_type": "code",
   "execution_count": 22,
   "metadata": {},
   "outputs": [
    {
     "ename": "LoadError",
     "evalue": "syntax: extra token \"podemos\" after end of expression",
     "output_type": "error",
     "traceback": [
      "syntax: extra token \"podemos\" after end of expression",
      "",
      " in include_string(::String, ::String) at ./loading.jl:441"
     ]
    }
   ],
   "source": [
    "## Tipos propios\n",
    "\n",
    "También podemos definir nuestros tipos"
   ]
  },
  {
   "cell_type": "code",
   "execution_count": 23,
   "metadata": {
    "collapsed": true
   },
   "outputs": [],
   "source": [
    "type tipoEjemplo\n",
    "    a::Array{Float64}\n",
    "    b::Float64\n",
    "    c::Int32\n",
    "end"
   ]
  },
  {
   "cell_type": "code",
   "execution_count": 24,
   "metadata": {},
   "outputs": [
    {
     "name": "stdout",
     "output_type": "stream",
     "text": [
      "Variable: tipoEjemplo([1.2,2.1,3.9],1.1,24)\n",
      "Variable: tipoEjemplo([2.0,3.0,4.0],2.2,46)\n",
      "Variable Bis Bis: tipoEjemplo([1.2,2.1,3.9,12.0],1.1,24)\n",
      "Otro ejemplo de lo visto con anterioridad: tipoEjemplo([1.2,2.1,3.9,12.0],1.1,24)\n",
      "Version 2 Bis Bis: tipoEjemplo([1.8,2.1,3.9,12.0,12.0],1.1,24)\n",
      "Version 2 Propio: tipoEjemplo([1.2,2.1,3.9,12.0],1.1,24)\n"
     ]
    }
   ],
   "source": [
    "tipoPropio=tipoEjemplo([1.2, 2.1, 3.9],1.1,24)\n",
    "#variable.a=[1, 2, 3]\n",
    "#variable.b=1.1\n",
    "#variable.c=24\n",
    "println(\"Variable: \",tipoPropio)\n",
    "tipoPropioBis = tipoEjemplo([],0.0,0) #llama a un constructor\n",
    "tipoPropioBis.a=[2,3,4]\n",
    "tipoPropioBis.b=2.2\n",
    "tipoPropioBis.c=46\n",
    "println(\"Variable: \",tipoPropioBis)\n",
    "tipoPropioBisBis = tipoPropio\n",
    "push!(tipoPropioBisBis.a,12.0)\n",
    "println(\"Variable Bis Bis: \",tipoPropioBisBis)\n",
    "println(\"Otro ejemplo de lo visto con anterioridad: \",tipoPropio)\n",
    "tipoPropioBisBis=deepcopy(tipoPropio)\n",
    "push!(tipoPropioBisBis.a,12.0)\n",
    "println(\"Version 2 Bis Bis: \",tipoPropioBisBis)\n",
    "println(\"Version 2 Propio: \",tipoPropio)"
   ]
  },
  {
   "cell_type": "markdown",
   "metadata": {},
   "source": [
    "# Gráficos\n",
    "\n",
    "Es posible dibujar utilizando PyPlot/matplotlib (https://matplotlib.org/api/pyplot_api.html, ejemplos en: http://nbviewer.jupyter.org/github/gizmaa/Julia_Examples/tree/master/)"
   ]
  },
  {
   "cell_type": "code",
   "execution_count": 25,
   "metadata": {},
   "outputs": [
    {
     "name": "stderr",
     "output_type": "stream",
     "text": [
      "\u001b[1m\u001b[34mINFO: Precompiling module PyPlot.\n",
      "\u001b[0m"
     ]
    },
    {
     "data": {
      "image/png": "[encoded data removed]",
      "text/plain": [
       "PyPlot.Figure(PyObject <matplotlib.figure.Figure object at 0x7fd2b7d49cc0>)"
      ]
     },
     "metadata": {},
     "output_type": "display_data"
    }
   ],
   "source": [
    "#Pkg.add(\"PyPlot\")\n",
    "using PyPlot\n",
    "ioff() # Interactive plotting OFF, necessary for inline plotting in IJulia\n",
    "\n",
    "x = randn(10000) # Values\n",
    "nbins = 10; # Number of bins\n",
    "\n",
    "#fig = figure(\"pyplot_histogram\",figsize=(5,5)) # Not strictly required\n",
    "ax = axes() # Not strictly required\n",
    "h = plt[:hist](x,nbins) # Histogram\n",
    "title(\"Normal\")"
   ]
  },
  {
   "cell_type": "markdown",
   "metadata": {},
   "source": [
    "Alternativamente podemos utilizar otras librerías gráficas (ver https://juliaplots.github.io/ )"
   ]
  },
  {
   "cell_type": "code",
   "execution_count": 26,
   "metadata": {},
   "outputs": [
    {
     "name": "stderr",
     "output_type": "stream",
     "text": [
      "\u001b[1m\u001b[34mINFO: Precompiling module FixedSizeArrays.\n",
      "\u001b[0m\u001b[1m\u001b[34mINFO: Precompiling module RecipesBase.\n",
      "\u001b[0m\u001b[1m\u001b[34mINFO: Precompiling module PlotUtils.\n",
      "\u001b[0m\u001b[1m\u001b[34mINFO: Precompiling module PlotThemes.\n",
      "\u001b[0mWARNING: using Plots.h in module Main conflicts with an existing identifier.\n"
     ]
    },
    {
     "data": {
      "text/html": [
       "<img src=\"data:image/png;base64,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\" />"
      ]
     },
     "execution_count": 26,
     "metadata": {},
     "output_type": "execute_result"
    }
   ],
   "source": [
    "#Pkg.add(\"Plots\")\n",
    "using Plots\n",
    "Plots.plot(x, color=\"blue\")"
   ]
  },
  {
   "cell_type": "markdown",
   "metadata": {},
   "source": [
    "# Control de flujo de un programa\n",
    "\n",
    "Tenemos comandos condicionales (<b>if</b>) y repetición (<b>for</b>, <b>while</b>)\""
   ]
  },
  {
   "cell_type": "code",
   "execution_count": 55,
   "metadata": {},
   "outputs": [
    {
     "name": "stdout",
     "output_type": "stream",
     "text": [
      "igual o mayor a seis\n",
      "(6,12]\n",
      "9 8 7 6 5 4 3 2 1  fin\n",
      "1\t2\t3\t4\t5\t6\t7\t8\t9\t10\tend\n",
      "1\t4\t7\t10\t13\t16\t19\t22\t25\t28\t31\t34\t37\t40\t43\t46\t49\t52\t55\t58\t61\t64\t67\t70\t73\t76\t79\t82\t85\t88\t91\t94\t97\t100\tend\n"
     ]
    }
   ],
   "source": [
    "variable = 9\n",
    "if variable < 6\n",
    "    println(\"menor que seis\")\n",
    "else\n",
    "    println(\"igual o mayor a seis\")\n",
    "end\n",
    "\n",
    "if variable > 6 && variable <= 12\n",
    "    println(\"(6,12]\")\n",
    "elseif variable<=6\n",
    "    println(\"(-∞,6]\")\n",
    "else\n",
    "    println(\"(12,∞)\")\n",
    "end\n",
    "\n",
    "while variable > 0\n",
    "    print(variable,\" \")\n",
    "    variable = variable -1\n",
    "end\n",
    "println(\" fin\")\n",
    "for i in 1:10\n",
    "    print(i,\"\\t\")\n",
    "end\n",
    "println(\"end\")\n",
    "for i in 1:3:101\n",
    "    print(i,\"\\t\")\n",
    "end\n",
    "println(\"end\")"
   ]
  },
  {
   "cell_type": "code",
   "execution_count": 52,
   "metadata": {},
   "outputs": [
    {
     "name": "stdout",
     "output_type": "stream",
     "text": [
      "Hola Barcelona\n",
      "Hola Mataró\n"
     ]
    }
   ],
   "source": [
    "words = [\"Barcelona\", \"Mataró\"]\n",
    "for word in words\n",
    "    println(\"Hola $word\")\n",
    "end"
   ]
  },
  {
   "cell_type": "markdown",
   "metadata": {
    "collapsed": true
   },
   "source": [
    "# Funciones\n",
    "\n",
    "Antes de dar por acabado un repaso de los conceptos básicos del lenguaje nos faltaría ver el uso de funciones para mejorar la estructura y la reutilización de código"
   ]
  },
  {
   "cell_type": "code",
   "execution_count": 10,
   "metadata": {},
   "outputs": [
    {
     "data": {
      "text/plain": [
       "120"
      ]
     },
     "execution_count": 10,
     "metadata": {},
     "output_type": "execute_result"
    }
   ],
   "source": [
    "function miFactorial(n::Int64)\n",
    "    retorno = 1\n",
    "    for i = 1:n\n",
    "        retorno = retorno * i\n",
    "    end\n",
    "    retorno\n",
    "end\n",
    "\n",
    "miFactorial(5)"
   ]
  },
  {
   "cell_type": "code",
   "execution_count": 1,
   "metadata": {},
   "outputs": [
    {
     "data": {
      "text/plain": [
       "6"
      ]
     },
     "execution_count": 1,
     "metadata": {},
     "output_type": "execute_result"
    }
   ],
   "source": [
    "function factorialRecursivo(n::Int64)\n",
    "    if n==1\n",
    "        return 1\n",
    "    else\n",
    "        return n*factorialRecursivo(n-1)\n",
    "    end\n",
    "end\n",
    "\n",
    "factorialRecursivo(3)\n",
    "#factorialRecursivo(3.2)"
   ]
  },
  {
   "cell_type": "markdown",
   "metadata": {},
   "source": [
    "En ocasiones conviene llamar a una función repetidas veces para todos los términos de un vector. La principal ventaja de estas funciones es que son más fáciles de optimizar para el compilador interno de Julia. \n",
    "\n",
    "En este caso nos servirá con usar la notación de punto (ya vista con anterioridad)."
   ]
  },
  {
   "cell_type": "code",
   "execution_count": 53,
   "metadata": {},
   "outputs": [
    {
     "name": "stderr",
     "output_type": "stream",
     "text": [
      "WARNING: Method definition testPi(Int64) in module Main at In[40]:2 overwritten at In[53]:2.\n",
      "WARNING: Method definition testPi(Int64, Any) in module Main at In[40]:2 overwritten at In[53]:2.\n"
     ]
    },
    {
     "data": {
      "text/plain": [
       "testPi (generic function with 3 methods)"
      ]
     },
     "execution_count": 53,
     "metadata": {},
     "output_type": "execute_result"
    }
   ],
   "source": [
    "function testPi(randomSeed::Int64,repeticiones=1000000)\n",
    "    count=0\n",
    "    srand(randomSeed)\n",
    "    for i in 1:repeticiones\n",
    "        x=rand()\n",
    "        y=rand()\n",
    "        if x^2+y^2 <= 1.0 \n",
    "            count+= 1\n",
    "        end\n",
    "    end\n",
    "    4*count / repeticiones\n",
    "end"
   ]
  },
  {
   "cell_type": "code",
   "execution_count": 54,
   "metadata": {},
   "outputs": [
    {
     "name": "stdout",
     "output_type": "stream",
     "text": [
      "  1.137376 seconds (331 allocations: 22.313 KB)\n",
      "  1.653050 seconds (1.68 k allocations: 86.817 KB)\n"
     ]
    },
    {
     "name": "stderr",
     "output_type": "stream",
     "text": [
      "WARNING: Method definition repetir(Any) in module Main at In[41]:5 overwritten at In[54]:5.\n"
     ]
    }
   ],
   "source": [
    "miVectorRandomSeeds = collect(1:100)\n",
    "@time(testPi.(miVectorRandomSeeds))\n",
    "\n",
    "function repetir(count)\n",
    "    for i in 1:count\n",
    "       testPi(i)\n",
    "    end\n",
    "end\n",
    "\n",
    "@time(repetir(100))"
   ]
  },
  {
   "cell_type": "markdown",
   "metadata": {},
   "source": [
    "# Lectura y escritura de archivos\n",
    "\n",
    "Finalmente, es conveniente comunicarse con el mundo, normalmente a través de ficheros (también mediante línea de comando pero eso queda fuera del alcance de una hoja de Jupyter)\n",
    "\n",
    "Empezaremos por escribir un archivo de texto (usaremos una de las múltiples técnicas disponibles)"
   ]
  },
  {
   "cell_type": "code",
   "execution_count": 56,
   "metadata": {},
   "outputs": [
    {
     "name": "stdout",
     "output_type": "stream",
     "text": [
      "2 -> 1\n",
      "\n",
      "2 -> 2\n",
      "\n",
      "2 -> 3\n",
      "\n",
      "2 -> 4\n",
      "\n",
      "2 -> 5\n",
      "\n",
      "2 -> 6\n",
      "\n",
      "2 -> 7\n",
      "\n",
      "2 -> 8\n",
      "\n",
      "2 -> 9\n",
      "\n",
      "3 -> 10\n",
      "\n",
      "3 -> 11\n",
      "\n",
      "3 -> 12\n",
      "\n",
      "3 -> 13\n",
      "\n",
      "3 -> 14\n",
      "\n",
      "3 -> 15\n",
      "\n",
      "3 -> 16\n",
      "\n",
      "3 -> 17\n",
      "\n",
      "3 -> 18\n",
      "\n",
      "3 -> 19\n",
      "\n",
      "3 -> 20\n",
      "\n",
      "3 -> 21\n",
      "\n",
      "3 -> 22\n",
      "\n",
      "3 -> 23\n",
      "\n",
      "3 -> 24\n",
      "\n",
      "3 -> 25\n",
      "\n",
      "3 -> 26\n",
      "\n",
      "3 -> 27\n",
      "\n",
      "3 -> 28\n",
      "\n",
      "3 -> 29\n",
      "\n",
      "3 -> 30\n",
      "\n",
      "3 -> 31\n",
      "\n",
      "3 -> 32\n",
      "\n",
      "3 -> 33\n",
      "\n",
      "3 -> 34\n",
      "\n",
      "3 -> 35\n",
      "\n",
      "3 -> 36\n",
      "\n",
      "3 -> 37\n",
      "\n",
      "3 -> 38\n",
      "\n",
      "3 -> 39\n",
      "\n",
      "3 -> 40\n",
      "\n",
      "3 -> 41\n",
      "\n",
      "3 -> 42\n",
      "\n",
      "3 -> 43\n",
      "\n",
      "3 -> 44\n",
      "\n",
      "3 -> 45\n",
      "\n",
      "3 -> 46\n",
      "\n",
      "3 -> 47\n",
      "\n",
      "3 -> 48\n",
      "\n",
      "3 -> 49\n",
      "\n",
      "3 -> 50\n",
      "\n",
      "3 -> 51\n",
      "\n",
      "3 -> 52\n",
      "\n",
      "3 -> 53\n",
      "\n",
      "3 -> 54\n",
      "\n",
      "3 -> 55\n",
      "\n",
      "3 -> 56\n",
      "\n",
      "3 -> 57\n",
      "\n",
      "3 -> 58\n",
      "\n",
      "3 -> 59\n",
      "\n",
      "3 -> 60\n",
      "\n",
      "3 -> 61\n",
      "\n",
      "3 -> 62\n",
      "\n",
      "3 -> 63\n",
      "\n",
      "3 -> 64\n",
      "\n",
      "3 -> 65\n",
      "\n",
      "3 -> 66\n",
      "\n",
      "3 -> 67\n",
      "\n",
      "3 -> 68\n",
      "\n",
      "3 -> 69\n",
      "\n",
      "3 -> 70\n",
      "\n",
      "3 -> 71\n",
      "\n",
      "3 -> 72\n",
      "\n",
      "3 -> 73\n",
      "\n",
      "3 -> 74\n",
      "\n",
      "3 -> 75\n",
      "\n",
      "3 -> 76\n",
      "\n",
      "3 -> 77\n",
      "\n",
      "3 -> 78\n",
      "\n",
      "3 -> 79\n",
      "\n",
      "3 -> 80\n",
      "\n",
      "3 -> 81\n",
      "\n",
      "3 -> 82\n",
      "\n",
      "3 -> 83\n",
      "\n",
      "3 -> 84\n",
      "\n",
      "3 -> 85\n",
      "\n",
      "3 -> 86\n",
      "\n",
      "3 -> 87\n",
      "\n",
      "3 -> 88\n",
      "\n",
      "3 -> 89\n",
      "\n",
      "3 -> 90\n",
      "\n",
      "3 -> 91\n",
      "\n",
      "3 -> 92\n",
      "\n",
      "3 -> 93\n",
      "\n",
      "3 -> 94\n",
      "\n",
      "3 -> 95\n",
      "\n",
      "3 -> 96\n",
      "\n",
      "3 -> 97\n",
      "\n",
      "3 -> 98\n",
      "\n",
      "3 -> 99\n",
      "\n",
      "4 -> 100\n",
      "\n"
     ]
    }
   ],
   "source": [
    "f = open(\"archivo.txt\",\"w\")\n",
    "for i in 1:100\n",
    "    write(f, \"$i\\n\")\n",
    "end\n",
    "close(f)\n",
    "\n",
    "ff = open(\"archivo.txt\")\n",
    "for ln in eachline(ff)\n",
    "       println(\"$(length(ln)) -> $ln\")\n",
    "end"
   ]
  },
  {
   "cell_type": "markdown",
   "metadata": {
    "collapsed": true
   },
   "source": [
    "# Notas finales\n",
    "\n",
    "* Julia no tiene orientación a objetos\n",
    "* Existen punteros pero su uso se ciñe normalmente a comunicarse con otros lenguajes (como C). Adicionalmente el fenómeno comentado anteriormente cumple con algunos de los usos de un puntero. \n",
    "* Nos faltan cubrir varios temas (conviene repasar algunos puntos). "
   ]
  },
  {
   "cell_type": "markdown",
   "metadata": {},
   "source": [
    "## Basado en:\n",
    "* Lectures in quatitative economics (https://lectures.quantecon.org/jl/)\n",
    "* Julia Programming for Operations Research\n",
    "* Learn X in Y minutes (https://learnxinyminutes.com/docs/julia/)\n",
    "* The docs (https://docs.julialang.org/en/stable/)\n"
   ]
  },
  {
   "cell_type": "markdown",
   "metadata": {},
   "source": [
    "# Ejercicio propuesto\n",
    "\n",
    "Escriba en Julia una versión recursiva del código de enumeración para el problema de las n-reinas (https://en.wikipedia.org/wiki/Eight_queens_puzzle) que provea de <b>todas</b> las combinaciones factibles."
   ]
  },
  {
   "cell_type": "code",
   "execution_count": null,
   "metadata": {
    "collapsed": true
   },
   "outputs": [],
   "source": []
  }
 ],
 "metadata": {
  "kernelspec": {
   "display_name": "Julia 0.5.2",
   "language": "julia",
   "name": "julia-0.5"
  },
  "language_info": {
   "file_extension": ".jl",
   "mimetype": "application/julia",
   "name": "julia",
   "version": "0.5.2"
  }
 },
 "nbformat": 4,
 "nbformat_minor": 2
}
