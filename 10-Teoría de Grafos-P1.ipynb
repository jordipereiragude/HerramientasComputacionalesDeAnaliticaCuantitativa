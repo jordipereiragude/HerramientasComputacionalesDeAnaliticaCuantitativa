{
 "cells": [
  {
   "cell_type": "code",
   "execution_count": null,
   "metadata": {
    "collapsed": true
   },
   "outputs": [],
   "source": [
    "# declaraciones de librerías\n",
    "using DataStructures"
   ]
  },
  {
   "cell_type": "markdown",
   "metadata": {},
   "source": [
    "# Grafos\n",
    "\n",
    "Antes de explicar y desarrollar algoritmos específicos, debemos comentar un poco las diferentes estructuras y algunas decisiones de implementación realizadas, así como implementar un par de generadores de grafos.\n",
    "\n",
    "## Limitaciones\n",
    "\n",
    "* Los códigos que vamos a desarrollar son explicativos, prima la claridad y la exposición de algunas limitaciones sobre la versatilidad.\n",
    "* Existen librerías para grafos en Julia (https://github.com/JuliaGraphs/LightGraphs.jl y https://github.com/JuliaArchive/Graphs.jl entre otras).\n",
    "* Reimplementaremos muchas cosas. Es el precio a pagar por intentar explicar algoritmos y no hacer una librería de grafos.\n",
    "* Trataremos un grafo no dirigido como un grafo dirigido con los arcos. Esto es una solución válida para los problemas y algoritmos que veremos aquí pero muy discutible para otros problemas (como Spanning Tree)\n",
    "\n",
    "## Tipos de grafos\n",
    "\n",
    "Veremos tres tipos principales de grafos\n",
    "\n",
    "* Grafos densos. En un grafo denso (ratio grande de arcos / aristas) es conveniente guardar la informaión de los arcos a través de una matriz.\n",
    "* Grafos \"sparse\" tipo (I). Son los grafos en que analizaremos arcos pensando en su vértice origen. De forma similar podríamos discutir aquellos grafos en que los arcos se analizan pensando en su vértice destino.\n",
    "* Grafos \"sparse\" tipo (II). Queremos referenciarnos a un arco tanto por su origen como por su destino.\n",
    "\n",
    "## Algoritmos analizados\n",
    "\n",
    "Veremos los siguientes problemas y algoritmos:\n",
    "\n",
    "* Caminos extremos desde un vértice origen\n",
    "    - Dijkstra\n",
    "    - Bellman-Ford\n",
    "* Caminos extremos entre toda pareja de vértices\n",
    "    - Floyd-Warshall\n",
    "* Problemas de flujos máximos\n",
    "    - Ford-Fulkerson\n",
    "    - Edmonds-Karp\n",
    "    - Dinic\n",
    "    - Goldberg-Tarjan (Push-relabel)\n",
    "* Problemas de flujos máximos a costo mínimo\n",
    "    - Minimum mean cycle-cancelling\n",
    "    - Successive shortest path\n",
    "    - Capacity Scaling\n",
    "    - Orlin\n",
    "\n",
    "## Otros\n",
    "\n",
    "Por primera vez vamos a llamar otro archivo desde uno de nuestros libros. El código empieza a ser demasiado grande como para usar una hoja de Jupyter\n",
    "\n",
    "## Referencias\n",
    "\n",
    "Hay mucha literatura sobre el tema:\n",
    "\n",
    "* Posiblemente el libro más completo es \"Network Flows: Theory, Algorithms, and Applications\" de Ahuja, Magnanti y Orlin.\n",
    "* Alternativamente y si no se ne esita trabajar con costes \"Introduction to algorithms\" de Cormen, Leiserson, Rivest y Stein es bastante más claro, menos enciclopédico y, a mi entender, contiene más información que hacen de él un muy buen libro de referencia.\n",
    "* Finalmente, yo uso mucho \"Combinatorial Optimization. Theory and Algorithms\" de Korte y Vygen. El material de estas clases se basa principalmente en este tercer libro."
   ]
  },
  {
   "cell_type": "markdown",
   "metadata": {},
   "source": [
    "# Grafo\n",
    "\n",
    "Como mínimo, un grafo queda definido por su número de vértices, y por la existencia de un arco entre pareja de vértices. \n",
    "\n",
    "Nota: esta definición es incompleta y directamente falsa, pero será la que usemos en el tema. Estamos descartando entre otros, grafos en los que hay arcos que unen varios vértices (más de dos) y grafos en que hay más de un arco o arista uniendo una pareja de vértices"
   ]
  },
  {
   "cell_type": "code",
   "execution_count": null,
   "metadata": {
    "collapsed": true
   },
   "outputs": [],
   "source": [
    "type gSimple\n",
    "    vertices::Int64\n",
    "    arcos::Array{Bool,2} #arco[i,j]=true indica que existe un arco entre i y j \n",
    "end"
   ]
  },
  {
   "cell_type": "code",
   "execution_count": null,
   "metadata": {
    "collapsed": true
   },
   "outputs": [],
   "source": [
    "function generarGrafoSimple(n::Int64,sp::Float64)\n",
    "    a=Array{Bool}(n,n)\n",
    "    for i in 1:n\n",
    "        for j in 1:n\n",
    "            if rand()<sp\n",
    "                a[i,j]=true\n",
    "            else\n",
    "                a[i,j]=false\n",
    "            end\n",
    "        end\n",
    "    end\n",
    "    return gSimple(n,a) \n",
    "end\n",
    "\n",
    "\n",
    "g=generarGrafoSimple(5,0.2)\n",
    "println(\"estoy En: \",g)"
   ]
  },
  {
   "cell_type": "markdown",
   "metadata": {},
   "source": [
    "Este tipo de grafos ya nos nos permitirá probar dos ideas generales en grafos. La primera es la exploración primero en profundidad (depth-first) y la segunda es la exploración primero en anchura (breadth-first). \n",
    "\n",
    "Usaremos ambos métodos para testear conectividad."
   ]
  },
  {
   "cell_type": "code",
   "execution_count": null,
   "metadata": {
    "collapsed": true
   },
   "outputs": [],
   "source": [
    "function DFS_visit(G::gSimple,u::Int64,color::BitArray{1},d::Array{Int64,1},π::Array{Int64,1},depth::Int64)\n",
    "    d[u]=depth\n",
    "    color[u]=true\n",
    "    for v in 1:G.vertices\n",
    "        if color[v]==false && G.arcos[u,v]==true\n",
    "            π[v]=u\n",
    "            DFS_visit(G,v,color,d,π,depth+1)\n",
    "        end\n",
    "    end\n",
    "end\n",
    "\n",
    "function conectividadDepthFirst(G::gSimple,origen::Int64)\n",
    "    color=falses(G.vertices)\n",
    "    π=Array(Int64,G.vertices)\n",
    "    d=Array(Int64,G.vertices)\n",
    "    fill!(d,-1)\n",
    "    color[origen]=true\n",
    "    d[origen]=0\n",
    "    for i in 1:G.vertices\n",
    "        if color[i]==false && G.arcos[origen,i]==true\n",
    "            DFS_visit(G, i,color,d,π,1)\n",
    "        end\n",
    "    end\n",
    "    return color\n",
    "end\n",
    "\n",
    "function conectividadBreadthFirst(G::gSimple,origen::Int64)\n",
    "    ∞=1000000\n",
    "    #arrays para construir evaluación\n",
    "    color=falses(G.vertices)\n",
    "    println(\"color: \",color)\n",
    "    d=Array(Int64,G.vertices)\n",
    "    fill!(d,∞)\n",
    "    π=Array(Int64,G.vertices)\n",
    "    fill!(d,-1)\n",
    "    #inicializamos para el vertice\n",
    "    color[origen]=true\n",
    "    d[origen]=0\n",
    "    Q = Deque{Int64}()\n",
    "    push!(Q,origen)\n",
    "    while isempty(Q)==false\n",
    "        u=shift!(Q)\n",
    "        for i in 1:G.vertices\n",
    "            #println(\"\\t\",i,\"\\t\",u,\"\\t\",G.arcos[u,i])\n",
    "            if color[i]==false && G.arcos[u,i]==true\n",
    "                color[i]=true\n",
    "                d[i]=d[u]+1\n",
    "                π[i]=u\n",
    "                push!(Q,i)\n",
    "            end\n",
    "        end\n",
    "    end\n",
    "    return color\n",
    "end\n",
    "\n",
    "srand(0)\n",
    "G = generarGrafoSimple(10,0.15)\n",
    "conectados = conectividadBreadthFirst(G,1)\n",
    "println(\"conectados a \",1,\" : \",countnz(conectados))\n",
    "#println(conectados)\n",
    "conectadosBis = conectividadDepthFirst(G,1)\n",
    "println(\"conectados a \",1,\" : \",countnz(conectadosBis))\n",
    "#println(conectadosBis)\n",
    "\n"
   ]
  },
  {
   "cell_type": "markdown",
   "metadata": {
    "collapsed": true
   },
   "source": [
    "## Grafo disperso\n",
    "\n",
    "Una alternativa sería tener en cuenta grafos dispersos (aquellos que tiene muchos menos arcos de lo que podrían tener)\n",
    "\n",
    "En tal caso la estructura sería un tanto diferente. Empezaremos por una versión simple, como en el caso anterior"
   ]
  },
  {
   "cell_type": "code",
   "execution_count": null,
   "metadata": {
    "collapsed": true
   },
   "outputs": [],
   "source": [
    "type gSimpleSparse\n",
    "    vertices::Int64\n",
    "    aristas::Int64\n",
    "    pOrigen::Array{Int64,1}\n",
    "    destino::Array{Int64,1}\n",
    "end"
   ]
  },
  {
   "cell_type": "code",
   "execution_count": null,
   "metadata": {
    "collapsed": true
   },
   "outputs": [],
   "source": [
    "function generarGrafoSimpleSparse(n::Int64,sp::Float64)\n",
    "    a=1\n",
    "    pOrigen=Int64[]\n",
    "    destino=Int64[]\n",
    "    for i in 1:n\n",
    "        push!(pOrigen,a)\n",
    "        for j in 1:n\n",
    "            if rand()<sp\n",
    "                push!(destino,j)\n",
    "                a += 1\n",
    "            end\n",
    "        end\n",
    "    end\n",
    "    push!(pOrigen,a)\n",
    "    return(gSimpleSparse(n,a-1,pOrigen,destino))\n",
    "end\n",
    "\n",
    "\n",
    "g=generarGrafoSimpleSparse(5,0.2)\n",
    "println(\"estoy En: \",g)"
   ]
  },
  {
   "cell_type": "code",
   "execution_count": null,
   "metadata": {
    "collapsed": true
   },
   "outputs": [],
   "source": [
    "function DFS_visitSparse(G::gSimpleSparse,u::Int64,color::BitArray{1},d::Array{Int64,1},π::Array{Int64,1},depth::Int64)\n",
    "    d[u]=depth\n",
    "    color[u]=true\n",
    "    for c in G.pOrigen[u]:G.pOrigen[u+1]-1\n",
    "        v=G.destino[c]\n",
    "        if color[v]==false \n",
    "            π[v]=u\n",
    "            DFS_visitSparse(G,v,color,d,π,depth+1)\n",
    "        end\n",
    "    end\n",
    "end\n",
    "\n",
    "function conectividadDepthFirstSparse(G::gSimpleSparse,origen::Int64)\n",
    "    color=falses(G.vertices)\n",
    "    π=Array(Int64,G.vertices)\n",
    "    d=Array(Int64,G.vertices)\n",
    "    fill!(d,-1)\n",
    "    color[origen]=true\n",
    "    d[origen]=0\n",
    "    for c in G.pOrigen[origen]:G.pOrigen[origen+1]-1\n",
    "        i=G.destino[c]\n",
    "        if color[i]==false\n",
    "            DFS_visitSparse(G, i,color,d,π,1)\n",
    "        end\n",
    "    end\n",
    "    return color\n",
    "end\n",
    "\n",
    "function conectividadBreadthFirstSparse(G::gSimpleSparse,origen::Int64)\n",
    "    ∞=1000000\n",
    "    #arrays para construir evaluación\n",
    "    color=falses(G.vertices)\n",
    "    d=Array(Int64,G.vertices)\n",
    "    fill!(d,∞)\n",
    "    π=Array(Int64,G.vertices)\n",
    "    fill!(d,-1)\n",
    "    #inicializamos para el vertice\n",
    "    color[origen]=true\n",
    "    d[origen]=0\n",
    "    Q = Deque{Int64}()\n",
    "    push!(Q,origen)\n",
    "    while isempty(Q)==false\n",
    "        u=pop!(Q)\n",
    "        for c in G.pOrigen[u]:G.pOrigen[u+1]-1\n",
    "            i=G.destino[c]\n",
    "            #println(\"\\t\",i,\"\\t\",u,\"\\t\",G.arcos[u,i])\n",
    "            if color[i]==false\n",
    "                color[i]=true\n",
    "                d[i]=d[u]+1\n",
    "                π[i]=u\n",
    "                push!(Q,i)\n",
    "            end\n",
    "        end\n",
    "    end\n",
    "    return color\n",
    "end\n",
    "\n",
    "srand(0)\n",
    "G = generarGrafoSimpleSparse(10,0.15)\n",
    "conectados = conectividadBreadthFirstSparse(G,1)\n",
    "println(\"conectados a \",1,\" : \",countnz(conectados))\n",
    "println(conectados)\n",
    "\n",
    "conectadosBis = conectividadDepthFirstSparse(G,1)\n",
    "println(\"conectados a \",1,\" : \",countnz(conectadosBis))\n",
    "println(conectadosBis)\n"
   ]
  },
  {
   "cell_type": "markdown",
   "metadata": {},
   "source": [
    "### Ejercicios\n",
    "\n",
    "¿Podría implementarse depth first sin recursividad? ¿Cómo?"
   ]
  },
  {
   "cell_type": "markdown",
   "metadata": {
    "collapsed": true
   },
   "source": [
    "## Estructuras\n",
    "\n",
    "En varias ocasiones vamos a necesitar estructuras de datos con mayor información o información expresada de otras maneras. \n",
    "\n",
    "Primero, debemos pensar si el grafo va a ser completo o sparse. La estructura para grafos densos siempre se basará en matrices (puede que triangulares superiores). \n",
    "\n",
    "Por ejemplo para shortest paths:"
   ]
  },
  {
   "cell_type": "code",
   "execution_count": null,
   "metadata": {
    "collapsed": true
   },
   "outputs": [],
   "source": [
    "type gPaths\n",
    "    vertices::Int64\n",
    "    arcos::Array{Int64,2} #arco[i,j] indica la distancia entre i y j \n",
    "end\n",
    "\n",
    "type arcoPaths\n",
    "    origen::Int64\n",
    "    destino::Int64\n",
    "    longitud::Int64\n",
    "end\n",
    "\n",
    "type gPathsSparse\n",
    "    nVertices::Int64\n",
    "    nArcos::Int64\n",
    "    pOrigen::Array{Int64,1}\n",
    "    arcos::Array{arcoPaths,1} #arco[i,j] indica la distancia entre i y j \n",
    "end\n",
    "\n",
    "function generarGrafoDense(n::Int64,maxValue::Int64)\n",
    "    a=Array{Int64}(n,n)\n",
    "    rand!(a,1:maxValue)\n",
    "    for i in 1:n\n",
    "        a[i,i]=0\n",
    "    end\n",
    "    return gPaths(n,a) \n",
    "end\n",
    "\n",
    "function generarGrafoSparse(n::Int64,sp::Float64,maxValue::Int64)\n",
    "    a=arcoPaths[]\n",
    "    pOrigen=Int64[]\n",
    "    nArcos=1\n",
    "    for i in 1:n\n",
    "        push!(pOrigen,nArcos)\n",
    "        for j in 1:n\n",
    "            if i!=j\n",
    "                if rand()<sp\n",
    "                    push!(a,arcoPaths(i,j,rand(1:maxValue)))\n",
    "                    nArcos += 1\n",
    "                end\n",
    "            end\n",
    "        end\n",
    "    end\n",
    "    return gPathsSparse(n,nArcos-1,pOrigen,a) \n",
    "end\n"
   ]
  },
  {
   "cell_type": "code",
   "execution_count": null,
   "metadata": {
    "collapsed": true
   },
   "outputs": [],
   "source": [
    "println(generarGrafoDense(5,1000))\n",
    "println(generarGrafoSparse(5,0.25,1000))"
   ]
  },
  {
   "cell_type": "code",
   "execution_count": null,
   "metadata": {
    "collapsed": true
   },
   "outputs": [],
   "source": []
  }
 ],
 "metadata": {
  "kernelspec": {
   "display_name": "Julia 0.5.2",
   "language": "julia",
   "name": "julia-0.5"
  },
  "language_info": {
   "file_extension": ".jl",
   "mimetype": "application/julia",
   "name": "julia",
   "version": "0.5.2"
  }
 },
 "nbformat": 4,
 "nbformat_minor": 2
}
