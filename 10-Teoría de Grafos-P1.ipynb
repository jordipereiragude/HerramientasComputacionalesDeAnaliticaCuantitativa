{
 "cells": [
  {
   "cell_type": "markdown",
   "metadata": {},
   "source": [
    "# Grafos\n",
    "\n",
    "Antes de explicar y desarrollar algoritmos específicos, debemos comentar un poco las diferentes estructuras y algunas decisiones de implementación realizadas, así como implementar un par de generadores de grafos.\n",
    "\n",
    "## Limitaciones\n",
    "\n",
    "* Los códigos que vamos a desarrollar son explicativos, prima la claridad y la exposición de algunas limitaciones sobre la versatilidad.\n",
    "* Existen librerías para grafos en Julia (https://github.com/JuliaGraphs/LightGraphs.jl y https://github.com/JuliaArchive/Graphs.jl entre otras).\n",
    "* Reimplementaremos muchas cosas. Es el precio a pagar por intentar explicar algoritmos y no hacer una librería de grafos.\n",
    "* Trataremos un grafo no dirigido como un grafo dirigido con los arcos. Esto es una solución válida para los problemas y algoritmos que veremos aquí pero muy discutible para otros problemas (como Spanning Tree)\n",
    "\n",
    "## Tipos de grafos\n",
    "\n",
    "Veremos tres tipos principales de grafos\n",
    "\n",
    "* Grafos densos. En un grafo denso (ratio grande de arcos / aristas) es conveniente guardar la informaión de los arcos a través de una matriz.\n",
    "* Grafos \"sparse\" tipo (I). Son los grafos en que analizaremos arcos pensando en su vértice origen. De forma similar podríamos discutir aquellos grafos en que los arcos se analizan pensando en su vértice destino.\n",
    "* Grafos \"sparse\" tipo (II). Queremos referenciarnos a un arco tanto por su origen como por su destino.\n",
    "\n",
    "## Algoritmos analizados\n",
    "\n",
    "Veremos los siguientes problemas y algoritmos:\n",
    "\n",
    "* Caminos extremos desde un vértice origen\n",
    "    - Dijkstra\n",
    "    - Bellman-Ford\n",
    "* Caminos extremos entre toda pareja de vértices\n",
    "    - Floyd-Warshall\n",
    "* Problemas de flujos máximos\n",
    "    - Ford-Fulkerson\n",
    "    - Edmonds-Karp\n",
    "    - Dinic\n",
    "    - Goldberg-Tarjan (Push-relabel)\n",
    "* Problemas de flujos máximos a costo mínimo\n",
    "    - Minimum mean cycle-cancelling\n",
    "    - Successive shortest path\n",
    "    - Capacity Scaling\n",
    "    - Orlin\n",
    "\n",
    "## Otros\n",
    "\n",
    "Por primera vez vamos a llamar otro archivo desde uno de nuestros libros. El código empieza a ser demasiado grande como para usar una hoja de Jupyter\n",
    "\n",
    "## Referencias\n",
    "\n",
    "Hay mucha literatura sobre el tema:\n",
    "\n",
    "* Posiblemente el libro más completo es \"Network Flows: Theory, Algorithms, and Applications\" de Ahuja, Magnanti y Orlin.\n",
    "* Alternativamente y si no se ne esita trabajar con costes \"Introduction to algorithms\" de Cormen, Leiserson, Rivest y Stein es bastante más claro, menos enciclopédico y, a mi entender, contiene más información que hacen de él un muy buen libro de referencia.\n",
    "* Finalmente, yo uso mucho \"Combinatorial Optimization. Theory and Algorithms\" de Korte y Vygen. El material de estas clases se basa principalmente en este tercer libro."
   ]
  },
  {
   "cell_type": "markdown",
   "metadata": {},
   "source": [
    "# Grafo\n",
    "\n",
    "Como mínimo, un grafo queda definido por su número de vértices, y por la existencia de un arco entre pareja de vértices. \n",
    "\n",
    "Nota: esta definición es incompleta y directamente falsa, pero será la que usemos en el tema. Estamos descartando entre otros, grafos en los que hay arcos que unen varios vértices (más de dos) y grafos en que hay más de un arco o arista uniendo una pareja de vértices"
   ]
  },
  {
   "cell_type": "code",
   "execution_count": 24,
   "metadata": {},
   "outputs": [
    {
     "ename": "LoadError",
     "evalue": "syntax: extra token \"grafoSimple\" after end of expression",
     "output_type": "error",
     "traceback": [
      "syntax: extra token \"grafoSimple\" after end of expression",
      "",
      " in include_string(::String, ::String) at ./loading.jl:441"
     ]
    }
   ],
   "source": [
    "struct grafoSimple\n",
    "    n::Int64\n",
    "    arco::Array{Bool,2} #arco[i,j]=true indica que existe un arco entre i y j \n",
    "end\n",
    "\n",
    "function generarGrafoSimple(n::Int64,sp::Float64)\n",
    "    aristas=Array{Bool}(n,n)\n",
    "    for i in 1:n\n",
    "        for j in 1:n\n",
    "            if rand()<sp\n",
    "                aristas[i,j]=true\n",
    "            else\n",
    "                aristas[i,j]=false\n",
    "            end\n",
    "        end\n",
    "    end\n",
    "    return 0 #grafoSimple(n,aristas) \n",
    "end\n",
    "\n",
    "\n",
    "generarGrafoSimple(5,0.2)"
   ]
  },
  {
   "cell_type": "markdown",
   "metadata": {},
   "source": [
    "Este tipo de grafos ya nos nos permitirá probar dos ideas generales en grafos. La primera es la exploración primero en profundidad (depth-first) y la segunda es la exploración primero en anchura (breadth-first). \n",
    "\n",
    "Usaremos ambos métodos para testear conectividad."
   ]
  },
  {
   "cell_type": "code",
   "execution_count": 19,
   "metadata": {},
   "outputs": [
    {
     "name": "stderr",
     "output_type": "stream",
     "text": [
      "WARNING: Method definition conectividadDepthFirst(Main.grafoSimple, Int64) in module Main at In[17]:2 overwritten at In[19]:2.\n",
      "WARNING: Method definition conectividadBreadthFirst(Main.grafoSimple, Int64) in module Main at In[17]:6 overwritten at In[19]:6.\n"
     ]
    },
    {
     "ename": "LoadError",
     "evalue": "UndefVarError: generarGrafoSimple not defined",
     "output_type": "error",
     "traceback": [
      "UndefVarError: generarGrafoSimple not defined",
      "",
      " in include_string(::String, ::String) at ./loading.jl:441"
     ]
    }
   ],
   "source": [
    "function conectividadDepthFirst(G::grafoSimple,origen::Int64)\n",
    "    return 0\n",
    "end\n",
    "\n",
    "function conectividadBreadthFirst(G::grafoSimple,origen::Int64)\n",
    "    return 0\n",
    "end\n",
    "\n",
    "srand(0)\n",
    "grafo = generarGrafoSimple(n=5,sp=0.25)\n",
    "println(\"grafo: \",grafo)\n",
    "conectividadDepthFirst(grafo,1)\n",
    "conectividadBreadthFirst(grafo,1)"
   ]
  },
  {
   "cell_type": "code",
   "execution_count": null,
   "metadata": {
    "collapsed": true
   },
   "outputs": [],
   "source": []
  },
  {
   "cell_type": "code",
   "execution_count": null,
   "metadata": {
    "collapsed": true
   },
   "outputs": [],
   "source": []
  }
 ],
 "metadata": {
  "kernelspec": {
   "display_name": "Julia 0.5.2",
   "language": "julia",
   "name": "julia-0.5"
  },
  "language_info": {
   "file_extension": ".jl",
   "mimetype": "application/julia",
   "name": "julia",
   "version": "0.5.2"
  }
 },
 "nbformat": 4,
 "nbformat_minor": 2
}
