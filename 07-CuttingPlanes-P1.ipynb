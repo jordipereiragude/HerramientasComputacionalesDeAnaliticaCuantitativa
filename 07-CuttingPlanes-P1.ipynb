{
 "cells": [
  {
   "cell_type": "code",
   "execution_count": 1,
   "metadata": {
    "collapsed": true
   },
   "outputs": [],
   "source": [
    "using JuMP\n",
    "#using GLPKMathProgInterface\n",
    "using CPLEX"
   ]
  },
  {
   "cell_type": "markdown",
   "metadata": {},
   "source": [
    "# Usar callbacks\n",
    "\n",
    "Una de las grandes ventajas de JuMP es la facilidad con la que podemos llamar a callbacks. Construiremos dos ejemplos.\n"
   ]
  },
  {
   "cell_type": "markdown",
   "metadata": {},
   "source": [
    "## Uncapacitated lot-sizing problem\n",
    "\n",
    "El modelo es el siguiente:\n",
    "\n",
    "$\\mbox{[MIN]} \\sum_{t\\in T} (K_t y_t + c_t x_t + h_t s_t )$ \n",
    "\n",
    "$s_{t-1}+x_t = s_t+d_t \\qquad t\\in T$\n",
    "\n",
    "$0\\leq x_t\\leq My_t \\qquad t\\in T$\n",
    "\n",
    "$x_t,s_t \\geq 0\\qquad t\\in T$\n",
    "\n",
    "$y_t \\in \\{0,1\\}\\qquad t\\in T$\n",
    "\n",
    "Hay un conjunto de desigualdades para este problema que cumplen:\n",
    "\n",
    "\\begin{equation}\n",
    "\\sum_{j\\in L\\setminus S}x_j + \\sum_{j\\in S}d_{jl} y_{j} \\geq d_{1l},\\qquad \\forall L\\in \\{1,...,l\\}, S\\subseteq L\n",
    "\\end{equation}\n",
    "\n",
    "(Explicación de la restricción en: http://www.dcc.fc.up.pt/~jpp/WOW/Wolsey-LS2.pdf página 16, podemos mirarlo como lo que se fabrica en unos periodos más lo máximo que se puede fabricar en otros debe cubrir la demanda hasta un periodo). Específicamente, conviene recordar que $d_{jl}=\\sum_{t=j}^{l} d_t$.\n",
    "\n",
    "Ejemplo tomado de: http://sbebo.github.io/blog/blog/2015/06/10/julia/"
   ]
  },
  {
   "cell_type": "code",
   "execution_count": null,
   "metadata": {
    "collapsed": true
   },
   "outputs": [],
   "source": [
    "function separate(T::Int64, sumd::Array{Float64, 2}, y_val, x_val, y, x)\n",
    "    TOL=1E-6\n",
    "    S = zeros(Bool, T)\n",
    "    for l in 1:T\n",
    "        fill!(S, false)\n",
    "        lhsvalue = 0.  #x(L\\S) + sum{d[j:l]*y[j] for j in S}\n",
    "        empty = true\n",
    "        for j in 1:l\n",
    "            if x_val[j] > sumd[j,l]*y_val[j] + TOL\n",
    "                S[j] = true\n",
    "                empty = false\n",
    "                lhsvalue += sumd[j,l]*y_val[j]\n",
    "            else\n",
    "                lhsvalue += x_val[j]\n",
    "            end\n",
    "        end\n",
    "        if empty #fuerza que haya algo en S, si no la igualdad es trivial\n",
    "            continue\n",
    "        end\n",
    "        if lhsvalue < sumd[1,l] - TOL\n",
    "            lhs = sum(x[1:l])\n",
    "            for j = (1:T)[S]\n",
    "                lhs += sumd[j,l]*y[j] - x[j]\n",
    "            end\n",
    "            return lhs - sumd[1,l] #para retornar mayor que 0\n",
    "        end\n",
    "    end\n",
    "    return\n",
    "end\n",
    "\n",
    "function readULS(path::String)\n",
    "    f = open(path,\"r\")\n",
    "    T = parse(Int64,readline(f))\n",
    "    c = map(float,split(strip(readline(f))))\n",
    "    h = map(float,split(strip(readline(f))))\n",
    "    K = map(float,split(strip(readline(f))))\n",
    "    d = map(float,split(strip(readline(f))))\n",
    "    close(f)\n",
    "    T, c, h, K, d\n",
    "end\n",
    "\n",
    "function solveULS(path::String; solver=CplexSolver(), valid::Bool = true)\n",
    "\n",
    "    T, c, h, K, d = readULS(path)\n",
    "    m = Model(solver = solver)\n",
    "    @variable(m, y[1:T], Bin)\n",
    "    @variable(m, x[i = 1:T] >= 0)\n",
    "    @variable(m, s[1:T] >= 0)\n",
    "\n",
    "    @objective(m, Min, sum(c[t]*x[t] + K[t]*y[t] + h[t]*s[t] for t in 1:T))\n",
    "    @constraint(m, activation[t = 1:T], x[t] <= sum(d[t:T])*y[t])\n",
    "    @constraint(m, balance[t = 1:T], (t>1?s[t-1]:0) + x[t] == s[t] + d[t])\n",
    "\n",
    "    #precompute sum(d[j:l])\n",
    "    sumd = zeros(Float64, T, T)\n",
    "    for l = 1:T, j = 1:l\n",
    "        sumd[j,l] = sum(d[j:l])\n",
    "    end\n",
    "    \n",
    "    separationtime = 0.\n",
    "    separated = 0\n",
    "    called = 0\n",
    "    function lSgenerator(cb)\n",
    "        tt = time()\n",
    "        called += 1\n",
    "        y_val = getvalue(y)\n",
    "        x_val = getvalue(x)\n",
    "     \n",
    "        expr = separate(T, sumd, y_val, x_val, y, x)\n",
    "        if expr != nothing\n",
    "            @usercut(cb, expr >= 0)\n",
    "            separated += 1\n",
    "        end\n",
    "        separationtime += time()-tt\n",
    "    end\n",
    "    if valid\n",
    "        addcutcallback(m, lSgenerator)\n",
    "    end\n",
    "    status = solve(m)\n",
    "    println(\"Objective value: \", getobjectivevalue(m))\n",
    "    println(\"Separation time: $separationtime seconds\")\n",
    "    println(\"Separated: $separated\")\n",
    "    status\n",
    "end"
   ]
  },
  {
   "cell_type": "code",
   "execution_count": null,
   "metadata": {
    "collapsed": true
   },
   "outputs": [],
   "source": [
    "run(`wget -O test.dat https://raw.githubusercontent.com/sbebo/julia-cuts/master/test.dat`)"
   ]
  },
  {
   "cell_type": "code",
   "execution_count": null,
   "metadata": {
    "collapsed": true
   },
   "outputs": [],
   "source": [
    "run(`cat test.dat`)"
   ]
  },
  {
   "cell_type": "code",
   "execution_count": null,
   "metadata": {
    "collapsed": true
   },
   "outputs": [],
   "source": [
    "#solveULS(\"test.dat\",solver=CplexSolver(CPX_PARAM_CUTSFACTOR=1,CPX_PARAM_SCRIND=0),valid=false)\n",
    "solveULS(\"test.dat\",solver=CplexSolver(CPX_PARAM_CUTSFACTOR=1,CPX_PARAM_SCRIND=1),valid=true)"
   ]
  },
  {
   "cell_type": "markdown",
   "metadata": {
    "collapsed": true
   },
   "source": [
    "## Introducir una heurística\n",
    "\n",
    "El ejemplo anterior hace uso de las \"cut callback\", ahora vamos a ver cómo introducir una heurística. Repetiremos gran parte del código del ejemplo anterior y usaremos una heurística \"simple\" (retornaremos a las posibles soluciones a este problema cuando veamos programación dinámica)\n",
    "\n",
    "La heurística evaluará las variables $y$ desde el último instante hasta el primero. Cada vez que tengamos un acumulado mayor a 1 haremos un \"trigger\" de pedido y compraremos la suma de las demandas hasta el siguiente periodo de pedido. Esta heurística no es un método recomendado para resolver el problema (el problema es fácil como se verá al final de estas sesiones), pero se incluye como ejemplo"
   ]
  },
  {
   "cell_type": "code",
   "execution_count": null,
   "metadata": {
    "collapsed": true
   },
   "outputs": [],
   "source": [
    "function solveULSwithHeuristic(path::String; solver=CplexSolver(), valid::Bool = true)\n",
    "\n",
    "    T, c, h, K, d = readULS(path)\n",
    "    m = Model(solver = solver)\n",
    "    @variable(m, y[1:T], Bin)\n",
    "    @variable(m, x[i = 1:T] >= 0)\n",
    "    @variable(m, s[1:T] >= 0)\n",
    "\n",
    "    @objective(m, Min, sum(c[t]*x[t] + K[t]*y[t] + h[t]*s[t] for t in 1:T))\n",
    "    @constraint(m, activation[t = 1:T], x[t] <= sum(d[t:T])*y[t])\n",
    "    @constraint(m, balance[t = 1:T], (t>1?s[t-1]:0) + x[t] == s[t] + d[t])\n",
    "\n",
    "    #precompute sum(d[j:l])\n",
    "    sumd = zeros(Float64, T, T)\n",
    "    for l = 1:T, j = 1:l\n",
    "        sumd[j,l] = sum(d[j:l])\n",
    "    end\n",
    "    \n",
    "    separationtime = 0.\n",
    "    separated = 0\n",
    "    called = 0\n",
    "    function lSgenerator(cb)\n",
    "        tt = time()\n",
    "        called += 1\n",
    "        y_val = getvalue(y)\n",
    "        x_val = getvalue(x)\n",
    "     \n",
    "        expr = separate(T, sumd, y_val, x_val, y, x)\n",
    "        if expr != nothing\n",
    "            @usercut(cb, expr >= 0)\n",
    "            separated += 1\n",
    "        end\n",
    "        separationtime += time()-tt\n",
    "    end\n",
    "    function heuristic(cb)\n",
    "        y_val = getvalue(y)\n",
    "        y_calc=zeros(Int64,T)\n",
    "        x_calc=zeros(Float64,T)\n",
    "        #println(\"In heuristic y=$y_val\")\n",
    "        yAc=0.0\n",
    "        t=T\n",
    "        while t>=1\n",
    "            yAc += y_val[t]\n",
    "            #println(\"(\",t,\",\",y_val[t],\",\",yAc,\") \")\n",
    "            if yAc > 0.999\n",
    "                yAc -= 1.0\n",
    "                y_calc[t]=1\n",
    "            end\n",
    "            t -= 1\n",
    "        end\n",
    "        #println(\"\\n\")\n",
    "        y_calc[1]=1\n",
    "        xAc=0\n",
    "        t=T\n",
    "        while t>=1\n",
    "            xAc += d[t]\n",
    "            if y_calc[t] == 1\n",
    "                x_calc[t]=xAc\n",
    "                xAc=0\n",
    "            end\n",
    "            #println(t,\" .. \",y_calc[t],\"\\t\",d[t],\"\\t\",xAc,\"\\t\",x_calc[t],\"\\n\")\n",
    "            t -= 1\n",
    "        end\n",
    "        #println(\"y_calc=$y_calc x_calc=$x_calc\")\n",
    "        for t in 1:T\n",
    "            setsolutionvalue(cb, y[t], y_calc[t])\n",
    "        end\n",
    "        for t in 1:T\n",
    "            setsolutionvalue(cb, x[t], x_calc[t])\n",
    "        end\n",
    "        addsolution(cb)\n",
    "    end\n",
    "    if valid\n",
    "        addcutcallback(m, lSgenerator)\n",
    "        addheuristiccallback(m, heuristic)\n",
    "    end\n",
    "\n",
    "    status = solve(m)\n",
    "    println(\"Objective value: \", getobjectivevalue(m))\n",
    "    println(\"Separation time: $separationtime seconds\")\n",
    "    println(\"Separated: $separated\")\n",
    "    status\n",
    "end"
   ]
  },
  {
   "cell_type": "code",
   "execution_count": null,
   "metadata": {
    "collapsed": true
   },
   "outputs": [],
   "source": [
    "solveULSwithHeuristic(\"test.dat\",solver=CplexSolver(CPX_PARAM_CUTSFACTOR=1,CPX_PARAM_SCRIND=1),valid=true)"
   ]
  }
 ],
 "metadata": {
  "kernelspec": {
   "display_name": "Julia 0.5.2",
   "language": "julia",
   "name": "julia-0.5"
  },
  "language_info": {
   "file_extension": ".jl",
   "mimetype": "application/julia",
   "name": "julia",
   "version": "0.5.2"
  }
 },
 "nbformat": 4,
 "nbformat_minor": 2
}
