{
 "cells": [
  {
   "cell_type": "code",
   "execution_count": 1,
   "metadata": {
    "collapsed": true
   },
   "outputs": [],
   "source": [
    "using JuMP\n",
    "#using GLPKMathProgInterface\n",
    "using CPLEX"
   ]
  },
  {
   "cell_type": "markdown",
   "metadata": {},
   "source": [
    "# Usar callbacks\n",
    "\n",
    "Una de las grandes ventajas de JuMP es la facilidad con la que podemos llamar a callbacks. Construiremos dos ejemplos.\n"
   ]
  },
  {
   "cell_type": "markdown",
   "metadata": {},
   "source": [
    "## Uncapacitated lot-sizing problem\n",
    "\n",
    "El modelo es el siguiente:\n",
    "\n",
    "$\\mbox{[MIN]} \\sum_{t\\in T} (K_t y_t + c_t x_t + h_t s_t )$ \n",
    "\n",
    "$s_{t-1}+x_t = s_t+d_t \\qquad t\\in T$\n",
    "\n",
    "$0\\leq x_t\\leq My_t \\qquad t\\in T$\n",
    "\n",
    "$x_t,s_t \\geq 0\\qquad t\\in T$\n",
    "\n",
    "$y_t \\in \\{0,1\\}\\qquad t\\in T$\n",
    "\n",
    "Hay un conjunto de desigualdades para este problema que cumplen:\n",
    "\n",
    "\\begin{equation}\n",
    "\\sum_{j\\in L\\setminus S}x_j + \\sum_{j\\in S}d_{jl} y_{j} \\geq d_{1l},\\qquad \\forall L\\in \\{1,...,l\\}, S\\subseteq L\n",
    "\\end{equation}\n",
    "\n",
    "(Explicación de la restricción en: http://www.dcc.fc.up.pt/~jpp/WOW/Wolsey-LS2.pdf página 16, podemos mirarlo como lo que se fabrica en unos periodos más lo máximo que se puede fabricar en otros debe cubrir la demanda hasta un periodo). Específicamente, conviene recordar que $d_{jl}=\\sum_{t=j}^{l} d_t$.\n",
    "\n",
    "Ejemplo tomado de: http://sbebo.github.io/blog/blog/2015/06/10/julia/"
   ]
  },
  {
   "cell_type": "code",
   "execution_count": 2,
   "metadata": {},
   "outputs": [
    {
     "data": {
      "text/plain": [
       "solveULS (generic function with 1 method)"
      ]
     },
     "execution_count": 2,
     "metadata": {},
     "output_type": "execute_result"
    }
   ],
   "source": [
    "function separate(T::Int64, sumd::Array{Float64, 2}, y_val, x_val, y, x)\n",
    "    TOL=1E-6\n",
    "    S = zeros(Bool, T)\n",
    "    for l in 1:T\n",
    "        fill!(S, false)\n",
    "        lhsvalue = 0.  #x(L\\S) + sum{d[j:l]*y[j] for j in S}\n",
    "        empty = true\n",
    "        for j in 1:l\n",
    "            if x_val[j] > sumd[j,l]*y_val[j] + TOL\n",
    "                S[j] = true\n",
    "                empty = false\n",
    "                lhsvalue += sumd[j,l]*y_val[j]\n",
    "            else\n",
    "                lhsvalue += x_val[j]\n",
    "            end\n",
    "        end\n",
    "        if empty #fuerza que haya algo en S, si no la igualdad es trivial\n",
    "            continue\n",
    "        end\n",
    "        if lhsvalue < sumd[1,l] - TOL\n",
    "            lhs = sum(x[1:l])\n",
    "            for j = (1:T)[S]\n",
    "                lhs += sumd[j,l]*y[j] - x[j]\n",
    "            end\n",
    "            return lhs - sumd[1,l] #para retornar mayor que 0\n",
    "        end\n",
    "    end\n",
    "    return\n",
    "end\n",
    "\n",
    "function readULS(path::String)\n",
    "    f = open(path,\"r\")\n",
    "    T = parse(Int64,readline(f))\n",
    "    c = map(float,split(strip(readline(f))))\n",
    "    h = map(float,split(strip(readline(f))))\n",
    "    K = map(float,split(strip(readline(f))))\n",
    "    d = map(float,split(strip(readline(f))))\n",
    "    close(f)\n",
    "    T, c, h, K, d\n",
    "end\n",
    "\n",
    "function solveULS(path::String; solver=CplexSolver(), valid::Bool = true)\n",
    "\n",
    "    T, c, h, K, d = readULS(path)\n",
    "    m = Model(solver = solver)\n",
    "    @variable(m, y[1:T], Bin)\n",
    "    @variable(m, x[i = 1:T] >= 0)\n",
    "    @variable(m, s[1:T] >= 0)\n",
    "\n",
    "    @objective(m, Min, sum(c[t]*x[t] + K[t]*y[t] + h[t]*s[t] for t in 1:T))\n",
    "    @constraint(m, activation[t = 1:T], x[t] <= sum(d[t:T])*y[t])\n",
    "    @constraint(m, balance[t = 1:T], (t>1?s[t-1]:0) + x[t] == s[t] + d[t])\n",
    "\n",
    "    #precompute sum(d[j:l])\n",
    "    sumd = zeros(Float64, T, T)\n",
    "    for l = 1:T, j = 1:l\n",
    "        sumd[j,l] = sum(d[j:l])\n",
    "    end\n",
    "    \n",
    "    separationtime = 0.\n",
    "    separated = 0\n",
    "    called = 0\n",
    "    function lSgenerator(cb)\n",
    "        tt = time()\n",
    "        called += 1\n",
    "        y_val = getvalue(y)\n",
    "        x_val = getvalue(x)\n",
    "     \n",
    "        expr = separate(T, sumd, y_val, x_val, y, x)\n",
    "        if expr != nothing\n",
    "            @usercut(cb, expr >= 0)\n",
    "            separated += 1\n",
    "        end\n",
    "        separationtime += time()-tt\n",
    "    end\n",
    "    if valid\n",
    "        addcutcallback(m, lSgenerator)\n",
    "    end\n",
    "    status = solve(m)\n",
    "    println(\"Objective value: \", getobjectivevalue(m))\n",
    "    println(\"Separation time: $separationtime seconds\")\n",
    "    println(\"Separated: $separated\")\n",
    "    status\n",
    "end"
   ]
  },
  {
   "cell_type": "code",
   "execution_count": 3,
   "metadata": {},
   "outputs": [
    {
     "name": "stderr",
     "output_type": "stream",
     "text": [
      "--2017-11-02 18:48:39--  https://raw.githubusercontent.com/sbebo/julia-cuts/master/test.dat\n",
      "Resolving raw.githubusercontent.com (raw.githubusercontent.com)... 151.101.0.133, 151.101.64.133, 151.101.128.133, ...\n",
      "Connecting to raw.githubusercontent.com (raw.githubusercontent.com)|151.101.0.133|:443... connected.\n",
      "HTTP request sent, awaiting response... 200 OK\n",
      "Length: 1666 (1.6K) [text/plain]\n",
      "Saving to: ‘test.dat’\n",
      "\n",
      "     0K .                                                     100% 76.5M=0s\n",
      "\n",
      "2017-11-02 18:48:41 (76.5 MB/s) - ‘test.dat’ saved [1666/1666]\n",
      "\n"
     ]
    }
   ],
   "source": [
    "run(`wget -O test.dat https://raw.githubusercontent.com/sbebo/julia-cuts/master/test.dat`)"
   ]
  },
  {
   "cell_type": "code",
   "execution_count": 4,
   "metadata": {},
   "outputs": [
    {
     "name": "stdout",
     "output_type": "stream",
     "text": [
      "200\n",
      "1 4 1 2 4 4 1 4 1 3 1 4 2 1 4 4 1 1 2 4 2 2 4 2 2 1 4 1 4 1 3 4 1 1 4 1 3 4 1 3 1 2 4 3 4 3 1 4 1 2 4 2 3 1 2 2 4 2 1 3 2 2 4 1 1 2 2 1 4 1 3 1 2 3 2 1 4 3 2 2 2 2 4 4 3 1 3 4 2 3 2 1 1 1 1 1 1 4 1 3 3 3 1 1 2 3 3 3 3 2 3 2 2 2 4 1 3 4 1 3 2 2 4 4 1 1 2 3 4 4 4 3 1 1 2 2 3 3 1 4 1 1 4 1 4 1 2 1 4 3 3 2 2 3 4 2 3 4 1 4 2 4 4 3 3 1 4 4 2 4 1 4 2 1 3 3 4 3 3 4 4 1 4 4 4 3 1 1 3 2 2 1 1 1 4 3 3 3 3 2 \n",
      "2 3 2 2 3 2 3 2 1 1 1 1 2 1 1 3 3 2 2 1 1 3 1 1 3 2 2 1 1 1 3 1 3 3 1 3 1 1 2 1 1 1 1 1 1 3 2 1 2 3 3 3 3 2 2 3 3 2 3 1 3 2 3 2 1 2 2 3 1 1 2 2 2 1 3 3 3 3 2 3 3 1 1 1 2 2 2 2 1 1 3 1 1 2 3 2 2 2 1 1 2 1 1 3 2 1 3 2 2 3 2 3 1 1 2 1 1 2 3 3 3 2 1 2 2 1 1 3 2 1 2 3 1 3 1 3 2 2 1 3 1 1 1 3 1 3 3 2 1 2 2 1 2 1 3 2 3 2 3 1 2 2 3 3 1 2 2 3 3 3 1 1 3 1 3 2 2 3 2 1 2 3 2 1 1 2 1 3 1 1 3 2 2 1 2 3 1 1 2 1 \n",
      "10 8 6 6 10 8 9 5 10 10 5 7 8 10 5 7 6 5 8 6 8 10 9 6 9 10 5 5 10 6 9 8 10 10 10 10 7 5 9 7 10 8 9 10 8 7 9 7 10 10 8 9 5 9 5 8 8 10 5 9 5 5 7 9 9 9 9 7 7 7 10 5 5 7 9 9 6 7 7 7 9 6 8 8 8 10 9 6 9 10 10 5 5 10 6 7 6 10 6 10 9 9 7 9 5 7 10 5 8 5 6 8 8 10 8 5 5 9 7 8 5 8 9 8 6 5 10 6 6 5 10 5 6 8 5 8 6 7 8 9 10 9 5 10 10 6 7 10 10 7 7 6 6 8 10 8 10 8 10 6 8 6 5 6 8 10 6 6 5 9 6 10 10 10 5 8 8 10 9 8 5 8 8 8 8 5 5 7 7 9 7 9 6 6 7 7 7 5 7 10 \n",
      "4 10 5 4 9 7 2 8 4 7 6 3 7 3 3 3 7 2 3 7 1 3 2 8 7 7 8 3 10 5 6 2 1 9 6 9 10 2 8 5 9 5 9 1 2 2 7 10 4 7 2 1 9 7 1 9 9 5 10 5 2 6 3 1 9 9 6 2 5 4 3 3 2 6 4 5 9 5 9 8 7 5 5 6 8 3 6 9 9 1 1 9 1 1 5 7 10 7 3 3 3 6 1 3 5 7 7 3 2 6 5 2 7 3 9 8 2 10 5 9 8 2 1 7 4 1 6 1 9 9 8 3 7 2 6 9 3 4 1 9 5 5 5 2 6 7 4 3 5 8 5 10 8 1 2 6 6 9 8 9 10 2 5 2 9 9 3 9 8 8 8 9 3 7 6 4 10 1 7 4 1 1 5 7 10 10 6 7 10 10 9 4 2 2 10 10 4 7 8 3 \n"
     ]
    }
   ],
   "source": [
    "run(`cat test.dat`)"
   ]
  },
  {
   "cell_type": "code",
   "execution_count": 5,
   "metadata": {},
   "outputs": [
    {
     "name": "stdout",
     "output_type": "stream",
     "text": [
      "CPXPARAM_Preprocessing_Linear                    0\n",
      "CPXPARAM_MIP_Limits_CutsFactor                   1\n",
      "CPXPARAM_MIP_Strategy_CallbackReducedLP          0\n",
      "Warning: Control callbacks may disable some MIP features.\n",
      "Tried aggregator 2 times.\n",
      "MIP Presolve eliminated 2 rows and 2 columns.\n",
      "Aggregator did 1 substitutions.\n",
      "Reduced MIP has 397 rows, 597 columns, and 993 nonzeros.\n",
      "Reduced MIP has 199 binaries, 0 generals, 0 SOSs, and 0 indicators.\n",
      "Presolve time = 0.05 sec. (0.63 ticks)\n",
      "Found incumbent of value 2.9264526e+07 after 0.09 sec. (1.15 ticks)\n",
      "Probing time = 0.01 sec. (2.32 ticks)\n",
      "Tried aggregator 1 time.\n",
      "Reduced MIP has 397 rows, 597 columns, and 993 nonzeros.\n",
      "Reduced MIP has 199 binaries, 0 generals, 0 SOSs, and 0 indicators.\n",
      "Presolve time = 0.00 sec. (0.61 ticks)\n",
      "Probing time = 0.01 sec. (2.22 ticks)\n",
      "MIP emphasis: balance optimality and feasibility.\n",
      "MIP search method: traditional branch-and-cut.\n",
      "Parallel mode: none, using 1 thread.\n",
      "Root relaxation solution time = 0.03 sec. (0.81 ticks)\n",
      "\n",
      "        Nodes                                         Cuts/\n",
      "   Node  Left     Objective  IInf  Best Integer    Best Bound    ItCnt     Gap\n",
      "\n",
      "*     0+    0                       2.92645e+07       -2.0000           100.00%\n",
      "*     0+    0                         3847.0000       -2.0000           100.05%\n",
      "      0     0     2680.4530   160     3847.0000     2680.4530      248   30.32%\n",
      "*     0+    0                         3791.0000     2680.4530            29.29%\n",
      "      0     2     2686.4255   159     3791.0000     2695.2476      249   28.90%\n",
      "Elapsed time = 1.09 sec. (30.48 ticks, tree = 0.01 MB, solutions = 3)\n",
      "*    50+   50                         3772.0000     2731.3865            27.59%\n",
      "*    70+   70                         3762.0000     2731.3865            27.40%\n",
      "*   100+  100                         3755.0000     2731.3865            27.26%\n",
      "*   119   114      integral     0     3738.0000     2731.3865      616   26.93%\n",
      "*   140+  127                         3700.0000     2739.1246            25.97%\n",
      "    169   157     3683.3230     6     3700.0000     2739.1246      877   25.97%\n",
      "*   172   157      integral     0     3699.0000     2739.1246      884   25.95%\n",
      "*   180+  154                         3678.0000     2744.7493            25.37%\n",
      "*   189   161      integral     0     3672.0000     2744.7493     1076   25.25%\n",
      "*   190+  159                         3668.0000     2744.7493            25.17%\n",
      "*   199   164      integral     0     3664.0000     2772.7736     1266   24.32%\n",
      "*   200   161      integral     0     3662.0000     2772.7736     1267   24.28%\n",
      "*   218   148      integral     0     3636.0000     2871.4304     2820   21.03%\n",
      "    310    56        cutoff           3636.0000     3472.8570     5995    4.49%\n",
      "Objective value: \n",
      "User cuts applied:  213\n",
      "\n",
      "Root node processing (before b&c):\n",
      "  Real time             =    1.09 sec. (30.59 ticks)\n",
      "Sequential b&c:\n",
      "  Real time             =    0.67 sec. (750.03 ticks)\n",
      "                          ------------\n",
      "Total (root+branch&cut) =    1.77 sec. (780.62 ticks)\n",
      "3636.0000000000005\n",
      "Separation time: 0.839357852935791 seconds\n",
      "Separated: 213\n"
     ]
    },
    {
     "data": {
      "text/plain": [
       ":Optimal"
      ]
     },
     "execution_count": 5,
     "metadata": {},
     "output_type": "execute_result"
    }
   ],
   "source": [
    "#solveULS(\"test.dat\",solver=CplexSolver(CPX_PARAM_CUTSFACTOR=1,CPX_PARAM_SCRIND=0),valid=false)\n",
    "solveULS(\"test.dat\",solver=CplexSolver(CPX_PARAM_CUTSFACTOR=1,CPX_PARAM_SCRIND=1),valid=true)"
   ]
  },
  {
   "cell_type": "markdown",
   "metadata": {
    "collapsed": true
   },
   "source": [
    "## Introducir una heurística\n",
    "\n",
    "El ejemplo anterior hace uso de las \"cut callback\", ahora vamos a ver cómo introducir una heurística. Repetiremos gran parte del código del ejemplo anterior y usaremos una heurística \"simple\" (retornaremos a las posibles soluciones a este problema cuando veamos programación dinámica)\n",
    "\n",
    "La heurística evaluará las variables $y$ desde el último instante hasta el primero. Cada vez que tengamos un acumulado mayor a 1 haremos un \"trigger\" de pedido y compraremos la suma de las demandas hasta el siguiente periodo de pedido. Esta heurística no es un método recomendado para resolver el problema (el problema es fácil como se verá al final de estas sesiones), pero se incluye como ejemplo"
   ]
  },
  {
   "cell_type": "code",
   "execution_count": 6,
   "metadata": {},
   "outputs": [
    {
     "data": {
      "text/plain": [
       "solveULSwithHeuristic (generic function with 1 method)"
      ]
     },
     "execution_count": 6,
     "metadata": {},
     "output_type": "execute_result"
    }
   ],
   "source": [
    "function solveULSwithHeuristic(path::String; solver=CplexSolver(), valid::Bool = true)\n",
    "\n",
    "    T, c, h, K, d = readULS(path)\n",
    "    m = Model(solver = solver)\n",
    "    @variable(m, y[1:T], Bin)\n",
    "    @variable(m, x[i = 1:T] >= 0)\n",
    "    @variable(m, s[1:T] >= 0)\n",
    "\n",
    "    @objective(m, Min, sum(c[t]*x[t] + K[t]*y[t] + h[t]*s[t] for t in 1:T))\n",
    "    @constraint(m, activation[t = 1:T], x[t] <= sum(d[t:T])*y[t])\n",
    "    @constraint(m, balance[t = 1:T], (t>1?s[t-1]:0) + x[t] == s[t] + d[t])\n",
    "\n",
    "    #precompute sum(d[j:l])\n",
    "    sumd = zeros(Float64, T, T)\n",
    "    for l = 1:T, j = 1:l\n",
    "        sumd[j,l] = sum(d[j:l])\n",
    "    end\n",
    "    \n",
    "    separationtime = 0.\n",
    "    separated = 0\n",
    "    called = 0\n",
    "    function lSgenerator(cb)\n",
    "        tt = time()\n",
    "        called += 1\n",
    "        y_val = getvalue(y)\n",
    "        x_val = getvalue(x)\n",
    "     \n",
    "        expr = separate(T, sumd, y_val, x_val, y, x)\n",
    "        if expr != nothing\n",
    "            @usercut(cb, expr >= 0)\n",
    "            separated += 1\n",
    "        end\n",
    "        separationtime += time()-tt\n",
    "    end\n",
    "    function heuristic(cb)\n",
    "        y_val = getvalue(y)\n",
    "        y_calc=zeros(Int64,T)\n",
    "        x_calc=zeros(Float64,T)\n",
    "        #println(\"In heuristic y=$y_val\")\n",
    "        yAc=0.0\n",
    "        #t=T\n",
    "        for t=T:-1:1\n",
    "        #while t>=1\n",
    "            yAc += y_val[t]\n",
    "            #println(\"(\",t,\",\",y_val[t],\",\",yAc,\") \")\n",
    "            if yAc > 0.999\n",
    "                yAc -= 1.0\n",
    "                y_calc[t]=1\n",
    "            end\n",
    "        #    t -= 1\n",
    "        end\n",
    "        #println(\"\\n\")\n",
    "        y_calc[1]=1\n",
    "        xAc=0\n",
    "        t=T\n",
    "        while t>=1\n",
    "            xAc += d[t]\n",
    "            if y_calc[t] == 1\n",
    "                x_calc[t]=xAc\n",
    "                xAc=0\n",
    "            end\n",
    "            #println(t,\" .. \",y_calc[t],\"\\t\",d[t],\"\\t\",xAc,\"\\t\",x_calc[t],\"\\n\")\n",
    "            t -= 1\n",
    "        end\n",
    "        #println(\"y_calc=$y_calc x_calc=$x_calc\")\n",
    "        for t in 1:T\n",
    "            setsolutionvalue(cb, y[t], y_calc[t])\n",
    "        end\n",
    "        for t in 1:T\n",
    "            setsolutionvalue(cb, x[t], x_calc[t])\n",
    "        end\n",
    "        addsolution(cb)\n",
    "    end\n",
    "    if valid\n",
    "        addcutcallback(m, lSgenerator)\n",
    "        addheuristiccallback(m, heuristic)\n",
    "    end\n",
    "\n",
    "    status = solve(m)\n",
    "    println(\"Objective value: \", getobjectivevalue(m))\n",
    "    println(\"Separation time: $separationtime seconds\")\n",
    "    println(\"Separated: $separated\")\n",
    "    status\n",
    "end"
   ]
  },
  {
   "cell_type": "code",
   "execution_count": 7,
   "metadata": {},
   "outputs": [
    {
     "name": "stdout",
     "output_type": "stream",
     "text": [
      "CPXPARAM_Preprocessing_Linear                    0\n",
      "CPXPARAM_MIP_Limits_CutsFactor                   1\n",
      "CPXPARAM_MIP_Strategy_CallbackReducedLP          0\n",
      "Warning: Control callbacks may disable some MIP features.\n",
      "Tried aggregator 2 times.\n",
      "MIP Presolve eliminated 2 rows and 2 columns.\n",
      "Aggregator did 1 substitutions.\n",
      "Reduced MIP has 397 rows, 597 columns, and 993 nonzeros.\n",
      "Reduced MIP has 199 binaries, 0 generals, 0 SOSs, and 0 indicators.\n",
      "Presolve time = 0.00 sec. (0.63 ticks)\n",
      "Found incumbent of value 2.9264526e+07 after 0.00 sec. (1.15 ticks)\n",
      "Probing time = 0.00 sec. (2.32 ticks)\n",
      "Tried aggregator 1 time.\n",
      "Reduced MIP has 397 rows, 597 columns, and 993 nonzeros.\n",
      "Reduced MIP has 199 binaries, 0 generals, 0 SOSs, and 0 indicators.\n",
      "Presolve time = 0.00 sec. (0.61 ticks)\n",
      "Probing time = 0.00 sec. (2.22 ticks)\n",
      "MIP emphasis: balance optimality and feasibility.\n",
      "MIP search method: traditional branch-and-cut.\n",
      "Parallel mode: none, using 1 thread.\n",
      "Root relaxation solution time = 0.00 sec. (0.81 ticks)\n",
      "\n",
      "        Nodes                                         Cuts/\n",
      "   Node  Left     Objective  IInf  Best Integer    Best Bound    ItCnt     Gap\n",
      "\n",
      "*     0+    0                       2.92645e+07       -2.0000           100.00%\n",
      "*     0+    0                         3847.0000       -2.0000           100.05%\n",
      "      0     0     2680.4530   160     3847.0000     2680.4530      248   30.32%\n",
      "*     0+    0                         3791.0000     2680.4530            29.29%\n",
      "      0     2     2686.4255   159     3791.0000     2695.2476      249   28.90%\n",
      "Elapsed time = 0.15 sec. (30.62 ticks, tree = 0.01 MB, solutions = 3)\n",
      "*    50+   50                         3772.0000     2731.3865            27.59%\n",
      "*    70+   70                         3762.0000     2731.3865            27.40%\n",
      "*   100+  100                         3755.0000     2731.3865            27.26%\n",
      "*   119   114      integral     0     3738.0000     2731.3865      615   26.93%\n",
      "*   140+  127                         3700.0000     2739.1246            25.97%\n",
      "    160   149     3631.9206    16     3700.0000     2739.1246      854   25.97%\n",
      "*   173   157      integral     0     3699.0000     2739.1246      893   25.95%\n",
      "*   180+  157                         3682.0000     2744.7493            25.45%\n",
      "*   190   162      integral     0     3672.0000     2744.7493     1083   25.25%\n",
      "*   199   161      integral     0     3662.0000     2772.7736     1275   24.28%\n",
      "    214   155     3657.2172     2     3662.0000     2845.4799     2505   22.30%\n",
      "*   217   147      integral     0     3636.0000     2871.4304     2823   21.03%\n",
      "    247   116        cutoff           3636.0000     3160.7048     5884   13.07%\n",
      "Objective value: 3636.0000000000073\n",
      "Separation time: 0.0764012336730957 seconds\n",
      "Separated: 211\n",
      "\n",
      "User cuts applied:  211\n",
      "\n",
      "Root node processing (before b&c):\n",
      "  Real time             =    0.15 sec. (30.72 ticks)\n",
      "Sequential b&c:\n",
      "  Real time             =    0.72 sec. (754.76 ticks)\n",
      "                          ------------\n",
      "Total (root+branch&cut) =    0.86 sec. (785.48 ticks)\n"
     ]
    },
    {
     "data": {
      "text/plain": [
       ":Optimal"
      ]
     },
     "execution_count": 7,
     "metadata": {},
     "output_type": "execute_result"
    }
   ],
   "source": [
    "solveULSwithHeuristic(\"test.dat\",solver=CplexSolver(CPX_PARAM_CUTSFACTOR=1,CPX_PARAM_SCRIND=1),valid=true)"
   ]
  },
  {
   "cell_type": "code",
   "execution_count": null,
   "metadata": {
    "collapsed": true
   },
   "outputs": [],
   "source": []
  }
 ],
 "metadata": {
  "kernelspec": {
   "display_name": "Julia 0.5.2",
   "language": "julia",
   "name": "julia-0.5"
  },
  "language_info": {
   "file_extension": ".jl",
   "mimetype": "application/julia",
   "name": "julia",
   "version": "0.5.2"
  }
 },
 "nbformat": 4,
 "nbformat_minor": 2
}
