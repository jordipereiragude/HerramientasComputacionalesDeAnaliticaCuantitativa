{
 "cells": [
  {
   "cell_type": "code",
   "execution_count": null,
   "metadata": {
    "collapsed": true
   },
   "outputs": [],
   "source": [
    "using JuMP\n",
    "#using GLPKMathProgInterface\n",
    "using CPLEX"
   ]
  },
  {
   "cell_type": "markdown",
   "metadata": {},
   "source": [
    "# Modelo simple\n",
    "\n",
    "\\begin{align}\n",
    "\\text{minimize} \\qquad & x+y \\\\\n",
    " \\text{subject to} \\quad \\quad & x+y \\geq 1 \\\\\n",
    " \\qquad \\qquad & x \\geq 0, y \\geq 0 \\\\\n",
    " \\qquad \\qquad & x,y \\in \\mathbb{R}\n",
    "\\end{align}\n",
    "\n"
   ]
  },
  {
   "cell_type": "code",
   "execution_count": null,
   "metadata": {
    "collapsed": true
   },
   "outputs": [],
   "source": [
    "#m = Model(solver = GLPKSolverMIP())\n",
    "#m = Model(solver = GLPKSolverLP())\n",
    "\n",
    "#creamos un modelo\n",
    "m = Model(solver = CplexSolver())\n",
    "\n",
    "#y sus variables\n",
    "@variable(m, x >= 0 )\n",
    "@variable(m, y >= 0 )\n",
    "\n",
    "#función objetivo a minimizar\n",
    "@objective(m, Min, x + y )\n",
    "\n",
    "#restricción\n",
    "@constraint(m, x + y >= 1.0 )\n",
    "\n",
    "#escribimos el modelo\n",
    "print(m)\n",
    "\n",
    "#resolvemos\n",
    "status = solve(m)\n",
    "\n",
    "#mostramos resultados\n",
    "println(\"Status: \",status,\" Objective value: \", getobjectivevalue(m))\n",
    "println(\"x = \", getvalue(x))\n",
    "println(\"y = \", getvalue(y))"
   ]
  },
  {
   "cell_type": "markdown",
   "metadata": {},
   "source": [
    "# Un programa lineal en formato estándar\n",
    "\n",
    "Un PL en formato estándar se expresa como:\n",
    "\n",
    "$$\n",
    "\\begin{align}\n",
    "& \\text{min} && c^T x \\\\\n",
    "& \\text{subject to} && A x = b \\\\\n",
    "&                   && x \\succeq 0 \\\\\n",
    "&                   && x \\in \\mathbb{R}^n\n",
    "\\end{align}\n",
    "$$\n"
   ]
  },
  {
   "cell_type": "code",
   "execution_count": null,
   "metadata": {
    "collapsed": true
   },
   "outputs": [],
   "source": [
    "#Datos\n",
    "#----------\n",
    "\n",
    "#INPUT DATA\n",
    "#----------\n",
    "\n",
    "c=[2500; 4000; 0; 0; 0] \n",
    "b=[200; 100; 750]\n",
    "A=[1 0 1 0 0; 0 1 0 1 0; 3 5 0 0 1]\n",
    "m, n = size(A) # m = filas n = columnas"
   ]
  },
  {
   "cell_type": "code",
   "execution_count": null,
   "metadata": {
    "collapsed": true
   },
   "outputs": [],
   "source": [
    "modelo = Model(solver = CplexSolver())\n",
    "@variable(modelo, x[1:n] >= 0) # Models x >=0\n",
    "for i in 1:m # filas\n",
    "    @constraint(modelo, sum(A[i, j]*x[j] for j in 1:n) == b[i]) # i-ésima restricción \n",
    "end \n",
    "@objective(modelo,Max,sum(c[i]*x[i] for i in 1:n))\n",
    "status = solve(modelo) # solves the model  \n",
    "println(getobjectivevalue(modelo))"
   ]
  },
  {
   "cell_type": "markdown",
   "metadata": {
    "collapsed": true
   },
   "source": [
    "# Un modelo algo más complejo\n",
    "\n",
    "Obviamente, el modelo anterior no tiene mayor dificultad. Alternativamente podríamos intentar resolver algún modelo con algo más de historia (como por ejemplo el Uncapacitated Lot Sizing Problem).\n",
    "\n",
    "\\begin{align}\n",
    "\\text{minimize} \\qquad & \\sum_{t\\in T} c_s s_t+ \\sum_{t\\in T} c_K y_t \\\\\n",
    " \\text{subject to} \\quad \\quad & s_{t-1} + x_t = s_t + d_t \\\\\n",
    " \\qquad \\qquad & x_t \\leq M y_t \\\\\n",
    " \\qquad \\qquad & s_0 = 0 \\\\\n",
    " \\qquad \\qquad & x_t, s_t \\in \\mathbb{R}^+ \\forall t\\in T\\\\\n",
    " \\qquad \\qquad & y_t \\in \\{0,1\\}\n",
    "\\end{align}\n",
    "\n",
    "$c_s$ y $c_K$ son los costes de inventario (unidad por periodo) y de realizar un pedido en un periodo y $d_t$ la demanda de cada periodo. El conjunto de periodos es $T$. $x_t$ es la cantidad que se recibe en el periodo $t$, mientras que $y_t$ equivale a si se realiza un pedido en el periodo $t$ o no y $s_t$ es el inventario al final del periodo $t$.\n",
    "\n",
    "El objetivo minimiza la suma de costos de inventario y pedido (el costo por unidad no se tiene en cuenta porque la solución óptima siempre compra exactamente la demanda, $\\sum_{t\\in T} d_t$.\n",
    "\n",
    "La primera restricción asegura el cumplimiento de la demanda de cada periodo. La segunda restricción asegura que sólo se compran unidades si se ha realizado un pedido ($M$ es un valor lo suficientemente grande, en este caso basta con $\\sum_{t\\in T} d_t$). La tercera restricción inicializa el inventario y el resto de restricciones definen el problema."
   ]
  },
  {
   "cell_type": "code",
   "execution_count": null,
   "metadata": {
    "collapsed": true
   },
   "outputs": [],
   "source": [
    "T=10\n",
    "d=[5; 10; 7; 11; 13; 14; 2; 8; 17; 21]\n",
    "cK=50\n",
    "cs=2\n",
    "M=sum(d)"
   ]
  },
  {
   "cell_type": "code",
   "execution_count": null,
   "metadata": {
    "collapsed": true
   },
   "outputs": [],
   "source": [
    "modelo=Model(solver = CplexSolver())\n",
    "@variable(modelo, x[1:T]>= 0)\n",
    "@variable(modelo, y[1:T],Bin)\n",
    "@variable(modelo, s[0:T]>=0)\n",
    "\n",
    "#función objetivo a minimizar\n",
    "@objective(modelo, Min, sum(cs*s[t] for t in 1:T)+sum(cK*y[t] for t in 1:T))\n",
    "\n",
    "for t in 1:T\n",
    "    @constraint(modelo,s[t-1]+x[t]==d[t]+s[t])\n",
    "end\n",
    "for t in 1:T\n",
    "    @constraint(modelo,x[t]<=M*y[t])\n",
    "end\n",
    "@constraint(modelo,s[0]==0)\n",
    "\n",
    "#escribimos el modelo\n",
    "print(modelo)\n",
    "\n",
    "#resolvemos\n",
    "status = solve(modelo)\n",
    "\n",
    "#mostramos resultados\n",
    "println(\"**** Status: \",status,\" Objective value: \", getobjectivevalue(modelo))\n",
    "println(\"**** x = \", getvalue(x))\n",
    "println(\"**** y = \", getvalue(y))\n",
    "println(\"**** s = \", getvalue(s))"
   ]
  },
  {
   "cell_type": "markdown",
   "metadata": {},
   "source": [
    "# Set Covering Problem\n",
    "\n",
    "Veamos un ejemplo un poco más complejo en que es importante considerar que la mayoría de la matriz A está formada por ceros.\n",
    "\n",
    "El modelo es:\n",
    "\n",
    "\\begin{align}\n",
    "\\text{minimize} \\qquad & \\sum_{j=1}^{n} c_j x_j \\\\\n",
    " \\text{subject to} \\quad \\quad & \\sum_{i=1}^{m} a_{ij} x_j \\geq 1 \\forall i\\in 1,\\cdots,m \\\\\n",
    " \\qquad \\qquad & x_j \\in \\{0,1\\} \\forall j\\in 1,\\cdots,n\n",
    "\\end{align}\n",
    "\n",
    "Primero vamos a bajar un archivo de datos del mismo "
   ]
  },
  {
   "cell_type": "code",
   "execution_count": null,
   "metadata": {
    "collapsed": true
   },
   "outputs": [],
   "source": [
    "run(`wget -O scp41.txt http://people.brunel.ac.uk/~mastjjb/jeb/orlib/files/scp41.txt`)"
   ]
  },
  {
   "cell_type": "code",
   "execution_count": null,
   "metadata": {
    "collapsed": true
   },
   "outputs": [],
   "source": [
    "run(`cat scp41.txt`)"
   ]
  },
  {
   "cell_type": "markdown",
   "metadata": {},
   "source": [
    "La estructura de datos es algo confusa. Primero tenemos una línea con el número de restricciones (200) y en número de variables (1000). Los siguientes 1000 valores corresponden a los costos de las variables en la función objetivo y después hay la descripción de las 200 restricciones con esta forma (copio la primera)\n",
    "\n",
    " 17 \n",
    " 91 214 230 289 351 416 488 491 518 567 720 721 \n",
    " 735 753 768 928 990 \n",
    " \n",
    " Que significa que hay 17 no ceros y que las variables 91, ..., 990 adoptan valor en la restriccion.\n",
    " \n",
    " Como la estructura es un tanto oscura, vamos a tener que crear nuestro propio lector de instancias:"
   ]
  },
  {
   "cell_type": "code",
   "execution_count": null,
   "metadata": {
    "collapsed": true
   },
   "outputs": [],
   "source": [
    "function readFile(filename)\n",
    "    f=open(filename,\"r\")\n",
    "    s=readstring(f)\n",
    "    close(f)\n",
    "    s=replace(s,\"\\n\",\"\")\n",
    "    s=split(s,\" \")\n",
    "    nC=parse(Int64,s[2]) #number of constraints\n",
    "    nV=parse(Int64,s[3]) #number of variables\n",
    "    numCoefFo=0 #contadores para procesar la información\n",
    "    numCoef=0\n",
    "    numRow=0\n",
    "    c= Float64[] #coeficientes de la función objetivo\n",
    "    #método para almacenar una matriz (o un grafo) sparse\n",
    "    I=Int64[] #puntero a fila\n",
    "    J=Int64[] # puntero a columna\n",
    "    V=Float64[] # puntero a valor\n",
    "    for i in 4:length(s)\n",
    "        if s[i]!= \"\"\n",
    "            if numCoefFo < nV\n",
    "                push!(c,parse(Float64,s[i]))\n",
    "                numCoefFo += 1\n",
    "            else\n",
    "                if numCoef == 0\n",
    "                    numRow += 1\n",
    "                    numCoef = parse(Int64,s[i])\n",
    "                else\n",
    "                    numCoef -= 1\n",
    "                    push!(I,numRow)\n",
    "                    push!(J,parse(Int64,s[i]))\n",
    "                    push!(V,1.0)\n",
    "                end\n",
    "            end\n",
    "        end\n",
    "    end\n",
    "    A=sparse(I,J,V)\n",
    "    return nC,nV,c,A #,c,A\n",
    "end"
   ]
  },
  {
   "cell_type": "code",
   "execution_count": null,
   "metadata": {
    "collapsed": true
   },
   "outputs": [],
   "source": [
    "constraints,variables,c,A = readFile(\"scp41.txt\")\n",
    "\n",
    "println(\"\\n\\n\",constraints,\" \",variables)\n",
    "println(\"\\n\\n\",c)\n",
    "println(\"\\n\\n\",A)"
   ]
  },
  {
   "cell_type": "code",
   "execution_count": null,
   "metadata": {
    "collapsed": true
   },
   "outputs": [],
   "source": [
    "scp=Model(solver = CplexSolver())\n",
    "@variable(scp, x[1:variables],Bin)\n",
    "\n",
    "#función objetivo a minimizar\n",
    "@objective(scp, Min, sum(c[j]*x[j] for j in 1:variables))\n",
    "\n",
    "for i in 1:constraints\n",
    "    @constraint(scp,sum(A[i,j]*x[j] for j in 1:variables) >=1 )\n",
    "end\n",
    "\n",
    "#escribimos el modelo\n",
    "print(scp)\n",
    "\n",
    "#resolvemos\n",
    "status = solve(scp)\n",
    "\n",
    "#mostramos resultados\n",
    "println(\"**** Status: \",status,\" Objective value: \", getobjectivevalue(scp))\n",
    "println(\"**** x = \", getvalue(x))\n",
    "\n"
   ]
  },
  {
   "cell_type": "markdown",
   "metadata": {},
   "source": [
    "Otra alternativa (que en muchas ocasiones es más práctica) es construir la expresión asociada a cada restricción:"
   ]
  },
  {
   "cell_type": "code",
   "execution_count": null,
   "metadata": {
    "collapsed": true
   },
   "outputs": [],
   "source": [
    "scpAlt=Model(solver = CplexSolver())\n",
    "@variable(scpAlt, xAlt[1:variables],Bin)\n",
    "\n",
    "#función objetivo a minimizar\n",
    "Expr = AffExpr()\n",
    "for j in 1:variables\n",
    "    push!(Expr, c[j], xAlt[j])\n",
    "end\n",
    "@objective(scpAlt, Min, Expr)\n",
    "\n",
    "for i in 1:constraints\n",
    "    Expr = AffExpr()\n",
    "    for j in 1:variables\n",
    "        push!(Expr,A[i,j],xAlt[j])\n",
    "    end\n",
    "    @constraint(scpAlt,Expr >= 1)\n",
    "end\n",
    "#for i in 1:constraints\n",
    "#    @constraint(scp,sum(A[i,j]*x[j] for j in 1:variables) >=1 )\n",
    "#end\n",
    "\n",
    "#escribimos el modelo\n",
    "#print(scpAlt)\n",
    "\n",
    "#resolvemos\n",
    "status = solve(scpAlt)\n",
    "\n",
    "#mostramos resultados\n",
    "println(\"**** Status: \",status,\" Objective value: \", getobjectivevalue(scpAlt))\n",
    "#println(\"**** x = \", getvalue(xAlt))\n",
    "for i in 1:variables\n",
    "    if getvalue(xAlt[i])>0.99\n",
    "        println(i,\"\\t\",xAlt[i])\n",
    "    end\n",
    "end\n",
    "\n"
   ]
  },
  {
   "cell_type": "markdown",
   "metadata": {},
   "source": [
    "# Modificar el comportamiento del solver\n",
    "\n",
    "Antes de dar introducirnos en otros elementos más complejos, convendría ver cómo eliminar esos logs tan largos que ofrece Cplex (entre otros solvers).\n",
    "\n",
    "La idea es pasar un \"flag\" al solver (aquí hay una lista de los parámetros de cplex: https://www.ibm.com/support/knowledgecenter/SSSA5P_12.6.1/ilog.odms.cplex.help/CPLEX/Parameters/topics/introListAlpha.html)\n"
   ]
  },
  {
   "cell_type": "code",
   "execution_count": null,
   "metadata": {
    "collapsed": true
   },
   "outputs": [],
   "source": [
    "#creamos un modelo\n",
    "m = Model(solver = CplexSolver(CPX_PARAM_SCRIND=0))\n",
    "\n",
    "#y sus variables\n",
    "@variable(m, x >= 0 )\n",
    "@variable(m, y >= 0 )\n",
    "\n",
    "#función objetivo a minimizar\n",
    "@objective(m, Min, x + y )\n",
    "\n",
    "#restricción\n",
    "@constraint(m, x + y >= 1.0 )\n",
    "\n",
    "#escribimos el modelo\n",
    "print(m)\n",
    "\n",
    "#resolvemos\n",
    "status = solve(m)\n",
    "\n",
    "#mostramos resultados\n",
    "println(\"Status: \",status,\" Objective value: \", getobjectivevalue(m))\n",
    "println(\"x = \", getvalue(x))\n",
    "println(\"y = \", getvalue(y))"
   ]
  },
  {
   "cell_type": "code",
   "execution_count": null,
   "metadata": {
    "collapsed": true
   },
   "outputs": [],
   "source": []
  }
 ],
 "metadata": {
  "kernelspec": {
   "display_name": "Julia 0.5.2",
   "language": "julia",
   "name": "julia-0.5"
  },
  "language_info": {
   "file_extension": ".jl",
   "mimetype": "application/julia",
   "name": "julia",
   "version": "0.5.2"
  }
 },
 "nbformat": 4,
 "nbformat_minor": 2
}
