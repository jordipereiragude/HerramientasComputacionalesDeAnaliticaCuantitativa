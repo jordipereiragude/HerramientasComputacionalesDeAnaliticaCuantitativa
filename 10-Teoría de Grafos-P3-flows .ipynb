{
 "cells": [
  {
   "cell_type": "code",
   "execution_count": null,
   "metadata": {
    "collapsed": true
   },
   "outputs": [],
   "source": [
    "# declaraciones de librerías\n",
    "using DataStructures"
   ]
  },
  {
   "cell_type": "code",
   "execution_count": 2,
   "metadata": {},
   "outputs": [],
   "source": [
    "type gFlows\n",
    "    nVertices::Int64\n",
    "    capacidades::Array{Int64,2} #arco[i,j] indica la distancia entre i y j \n",
    "end\n",
    "\n",
    "type arcoFlow\n",
    "    origen::Int64\n",
    "    destino::Int64\n",
    "    capacidad::Int64\n",
    "end\n",
    "\n",
    "type gFlowsSparse\n",
    "    nVertices::Int64\n",
    "    nArcos::Int64\n",
    "    arcos::Array{arcoFlow,1} #arco[i,j] indica la distancia entre i y j \n",
    "end\n"
   ]
  },
  {
   "cell_type": "code",
   "execution_count": 3,
   "metadata": {},
   "outputs": [
    {
     "data": {
      "text/plain": [
       "fromSparseToDense (generic function with 1 method)"
      ]
     },
     "execution_count": 3,
     "metadata": {},
     "output_type": "execute_result"
    }
   ],
   "source": [
    "function generarGrafoDense(n::Int64,maxValue::Int64)\n",
    "    a=Array{Int64}(n,n)\n",
    "    rand!(a,1:maxValue)\n",
    "    for i in 1:n\n",
    "        a[i,i]=0\n",
    "    end\n",
    "    for i in 1:n\n",
    "        for j in i+1:n\n",
    "            if i!=j\n",
    "                if randn()<0.0\n",
    "                    a[i,j]=0.0\n",
    "                else\n",
    "                    a[j,i]=0.0\n",
    "                end\n",
    "            end\n",
    "        end\n",
    "    end\n",
    "    return gFlows(n,a) \n",
    "end\n",
    "\n",
    "function generarGrafoSparse(n::Int64,sp::Float64,maxValue::Int64)\n",
    "    nArcos=0\n",
    "    a=arcoFlow[]\n",
    "    for i in 1:n\n",
    "        for j in i+1:n\n",
    "            if rand() <= 2.0*sp\n",
    "                nArcos += 1\n",
    "                if randn() < 0.0\n",
    "                    push!(a,arcoFlow(i,j,rand(1:maxValue)))\n",
    "                else\n",
    "                    push!(a,arcoFlow(j,i,rand(1:maxValue)))\n",
    "                end\n",
    "            end\n",
    "        end\n",
    "    end\n",
    "    return gFlowsSparse(n,nArcos,a) \n",
    "end\n",
    "\n",
    "function fromDenseToSparse(g::gFlows)\n",
    "    a=arcoFlow[]\n",
    "    nArcos=0\n",
    "    for i in 1:g.nVertices\n",
    "        for j in 1:g.nVertices\n",
    "            if g.capacidades[i,j]>0\n",
    "                nArcos += 1\n",
    "                push!(a,arcoFlow(i,j,g.capacidades[i,j]))\n",
    "            end\n",
    "        end\n",
    "    end    \n",
    "    return gFlowsSparse(g.nVertices,nArcos,a)\n",
    "end\n",
    "\n",
    "function fromSparseToDense(g::gFlowsSparse)\n",
    "    a=zeros(Int64,g.nVertices,g.nVertices)\n",
    "    fill!(a,0)\n",
    "    for i in 1:g.nArcos\n",
    "        a[g.arcos[i].origen,g.arcos[i].destino]=g.arcos[i].capacidad\n",
    "    end\n",
    "    return gFlows(g.nVertices,a)\n",
    "end"
   ]
  },
  {
   "cell_type": "markdown",
   "metadata": {},
   "source": [
    "# Versión de Edmons y Karp del algoritmo de Ford-Fulkerson\n",
    "\n",
    "El algoritmo utiliza la idea de red residual. La red residual es aquella por la que puede pasarse flujo (ya sea avanzando flujo por la red o reduciendo flujo por la misma). En la red residual busca un camino (en el caso de Edmons-Karp, un camino con el número mínimo de arcos) y aumenta la cantidad transportada por los arcos del camino hasta saturarlo. Este camino se encuentra mediante un algoritmo tipo Breadth-first\n",
    "\n",
    "El proceso se repite hasta que no puede pasarse flujo y puede representarse a través del siguiente grafo:\n",
    "\n",
    "<b>P1. Inicialización:</b> Inicializamos los flujos a 0\n",
    "\n",
    "<b>P2. Buscar camino:</b> Buscamos un camino en la red residual usando BFS. Si no encontramos camino, Fin.\n",
    "\n",
    "<b>P3. Aumentamos flujo:</b> Buscamos el flujo máximo por el arco y actualizamos la red residual. Ir al paso 2. \n",
    "\n",
    "Vamos a ver tres versiones que se diferencian por el formato utilizado para almacenar y tratar los datos."
   ]
  },
  {
   "cell_type": "code",
   "execution_count": 4,
   "metadata": {},
   "outputs": [
    {
     "data": {
      "text/plain": [
       "ffDense (generic function with 1 method)"
      ]
     },
     "execution_count": 4,
     "metadata": {},
     "output_type": "execute_result"
    }
   ],
   "source": [
    "# Versión Dense \n",
    "\n",
    "function conectividadBreadthFirst(G::gFlows,flows::Array{Int64,2},origen::Int64,destino::Int64)\n",
    "    ∞=1000000\n",
    "    #arrays para construir evaluación\n",
    "    color=falses(G.nVertices)\n",
    "    π=Array(Int64,G.nVertices)\n",
    "    fill!(π,-1)\n",
    "    #inicializamos para el vertice\n",
    "    color[origen]=true\n",
    "    Q = Deque{Int64}()\n",
    "    push!(Q,origen)\n",
    "    while isempty(Q)==false\n",
    "        u=shift!(Q)\n",
    "        #println(\"\\t\",u)\n",
    "        for i in 1:G.nVertices\n",
    "            if color[i]==false && flows[u,i]>0\n",
    "                if i==destino\n",
    "                    π[i]=u\n",
    "                    return π\n",
    "                end\n",
    "                color[i]=true\n",
    "                π[i]=u\n",
    "                push!(Q,i)\n",
    "            end\n",
    "        end\n",
    "    end\n",
    "    return π\n",
    "end\n",
    "\n",
    "function ffDense(g::gFlows,origin::Int64,destination::Int64)\n",
    "    ∞=1000000\n",
    "    flow=deepcopy(g.capacidades)\n",
    "    #println(\"flow: \",flow)\n",
    "    maxFlow=0\n",
    "    π=conectividadBreadthFirst(g,flow,origin,destination)\n",
    "    while π[destination]!= -1\n",
    "        #print(\"pi: \",π)\n",
    "        extraFlow=∞\n",
    "        c=destination\n",
    "        while π[c] != -1\n",
    "            extraFlow=min(extraFlow,flow[π[c],c])\n",
    "            c=π[c]\n",
    "        end\n",
    "        c=destination\n",
    "        while π[c] != -1\n",
    "            flow[π[c],c] -= extraFlow\n",
    "            flow[c,π[c]] += extraFlow\n",
    "            c=π[c]\n",
    "        end\n",
    "        maxFlow += extraFlow\n",
    "        #println(\"\\t\",extraFlow,\"\\t\",maxFlow)\n",
    "        π=conectividadBreadthFirst(g,flow,origin,destination)\n",
    "    end\n",
    "    return maxFlow,flow\n",
    "end"
   ]
  },
  {
   "cell_type": "code",
   "execution_count": 59,
   "metadata": {},
   "outputs": [
    {
     "name": "stderr",
     "output_type": "stream",
     "text": [
      "WARNING: Method definition conectividadBreadthFirstMixed(Int64, Array{Int64, 2}, Array{Int64, 1}, Array{Int64, 1}, Int64, Int64) in module Main at In[5]:4 overwritten at In[59]:4.\n",
      "WARNING: Method definition prepararMixed(Main.gFlowsSparse) in module Main at In[5]:34 overwritten at In[59]:34.\n",
      "WARNING: Method definition ffMixed(Main.gFlowsSparse, Array{Int64, 2}, Array{Int64, 1}, Array{Int64, 1}, Int64, Int64) in module Main at In[5]:65 overwritten at In[59]:65.\n"
     ]
    },
    {
     "data": {
      "text/plain": [
       "ffMixed (generic function with 1 method)"
      ]
     },
     "execution_count": 59,
     "metadata": {},
     "output_type": "execute_result"
    }
   ],
   "source": [
    "# Versión Mixed sparse (arcos) y dense (flujos)\n",
    "\n",
    "function conectividadBreadthFirstMixed(n::Int64,flows::Array{Int64,2},pOrigen::Array{Int64,1},destinos::Array{Int64,1},origen::Int64,destino::Int64)\n",
    "    ∞=1000000\n",
    "    #arrays para construir evaluación\n",
    "    color=falses(n)\n",
    "    π=Array(Int64,n)\n",
    "    fill!(π,-1)\n",
    "    #inicializamos para el vertice\n",
    "    color[origen]=true\n",
    "    Q = Deque{Int64}()\n",
    "    push!(Q,origen)\n",
    "    while isempty(Q)==false\n",
    "        u=shift!(Q)\n",
    "        #println(\"\\t\",u)\n",
    "        for ii in pOrigen[u]:pOrigen[u+1]-1\n",
    "            i=destinos[ii]\n",
    "            if color[i]==false && flows[u,i]>0\n",
    "                if i==destino\n",
    "                    π[i]=u\n",
    "                    return π\n",
    "                end\n",
    "                color[i]=true\n",
    "                π[i]=u\n",
    "                push!(Q,i)\n",
    "            end\n",
    "        end\n",
    "    end\n",
    "    return π\n",
    "end\n",
    "\n",
    "function prepararMixed(g::gFlowsSparse)\n",
    "    #flow cubre la estructura dense de flujos\n",
    "    flow=zeros(Int64,g.nVertices,g.nVertices)\n",
    "    for i in 1:g.nArcos\n",
    "         flow[g.arcos[i].origen,g.arcos[i].destino]=g.arcos[i].capacidad\n",
    "    end\n",
    "    #pOrigen y destinos cubre la estructura sparse de arcos\n",
    "    pOrigen = Int64[]\n",
    "    destinos = Int64[] \n",
    "    nArcos=1\n",
    "    for i in 1:g.nVertices\n",
    "        push!(pOrigen,nArcos)\n",
    "        for nA in 1:g.nArcos\n",
    "            if g.arcos[nA].origen==i\n",
    "                push!(destinos,g.arcos[nA].destino)\n",
    "                nArcos += 1\n",
    "            end\n",
    "            if g.arcos[nA].destino==i\n",
    "                push!(destinos,g.arcos[nA].origen)\n",
    "                nArcos += 1\n",
    "            end\n",
    "        end\n",
    "    end\n",
    "    push!(pOrigen,nArcos)\n",
    "    return flow,pOrigen,destinos\n",
    "end\n",
    "\n",
    "function ffMixed(G::gFlowsSparse,\n",
    "                flows::Array{Int64,2},\n",
    "                pOrigen::Array{Int64,1},\n",
    "                destinos::Array{Int64,1},\n",
    "                origen::Int64, #s\n",
    "                destino::Int64) #t\n",
    "    ∞=10000000\n",
    "    maxFlow=0\n",
    "    π=conectividadBreadthFirstMixed(g.nVertices,flows,pOrigen,destinos,origen,destino)\n",
    "    while π[destino]!= -1\n",
    "        #print(\"pi: \",π)\n",
    "        extraFlow=∞\n",
    "        c=destino\n",
    "        while π[c] != -1\n",
    "            extraFlow=min(extraFlow,flow[π[c],c])\n",
    "            c=π[c]\n",
    "        end\n",
    "        c=destino\n",
    "        while π[c] != -1\n",
    "            flows[π[c],c] -= extraFlow\n",
    "            flows[c,π[c]] += extraFlow\n",
    "            c=π[c]\n",
    "        end\n",
    "        maxFlow += extraFlow\n",
    "        #println(\"\\t\",extraFlow,\"\\t\",maxFlow)\n",
    "        π=conectividadBreadthFirstMixed(g.nVertices,flows,pOrigen,destinos,origen,destino)\n",
    "    end\n",
    "    return maxFlow,flows\n",
    "end"
   ]
  },
  {
   "cell_type": "code",
   "execution_count": 60,
   "metadata": {},
   "outputs": [
    {
     "name": "stderr",
     "output_type": "stream",
     "text": [
      "WARNING: Method definition conectividadBreadthFirstSparse(Int64, Array{Int64, 1}, Array{Int64, 1}, Array{Int64, 1}, Array{Int64, 1}, Int64, Int64) in module Main at In[46]:11 overwritten at In[60]:11.\n",
      "WARNING: Method definition prepararSparse(Main.gFlowsSparse) in module Main at In[46]:42 overwritten at In[60]:42.\n",
      "WARNING: Method definition whichOne(Array{Int64, 1}, Array{Int64, 1}, Int64, Int64) in module Main at In[46]:75 overwritten at In[60]:75.\n",
      "WARNING: Method definition ffSparse(Main.gFlowsSparse, Array{Int64, 1}, Array{Int64, 1}, Array{Int64, 1}, Array{Int64, 1}, Array{Int64, 1}, Int64, Int64) in module Main at In[46]:92 overwritten at In[60]:92.\n"
     ]
    },
    {
     "data": {
      "text/plain": [
       "ffSparse (generic function with 1 method)"
      ]
     },
     "execution_count": 60,
     "metadata": {},
     "output_type": "execute_result"
    }
   ],
   "source": [
    "# Versión sparse (arcos y flujos)\n",
    "\n",
    "function conectividadBreadthFirstSparse(n::Int64,\n",
    "                            flows::Array{Int64,1},\n",
    "                            pOrigen::Array{Int64,1},\n",
    "                            destinos::Array{Int64,1},\n",
    "                            edge::Array{Int64,1},\n",
    "                            origen::Int64,\n",
    "                            destino::Int64)\n",
    "\n",
    "    ∞=1000000\n",
    "    #arrays para construir evaluación\n",
    "    color=falses(n)\n",
    "    π=Array(Int64,n)\n",
    "    fill!(π,-1)\n",
    "    #inicializamos para el vertice\n",
    "    color[origen]=true\n",
    "    Q = Deque{Int64}()\n",
    "    push!(Q,origen)\n",
    "    while isempty(Q)==false\n",
    "        u=shift!(Q)\n",
    "        #println(\"\\tanalizo:\",u)\n",
    "        for ii in pOrigen[u]:pOrigen[u+1]-1\n",
    "            #println(\"\\t\\conexión en arco: \",ii,\" destino: \",destinos[ii])\n",
    "            i=destinos[ii]\n",
    "            if color[i]==false && flows[edge[ii]]>0 #hemos cambiado aqui los flows.\n",
    "                if i==destino\n",
    "                    π[i]=u\n",
    "                    return π\n",
    "                end\n",
    "                color[i]=true\n",
    "                π[i]=u\n",
    "                push!(Q,i)\n",
    "            end\n",
    "        end\n",
    "    end\n",
    "    return π\n",
    "end\n",
    "\n",
    "function prepararSparse(g::gFlowsSparse)\n",
    "    #flows, edge y oppositeEdge cubren la estructura de flujos\n",
    "    flows=Int64[] \n",
    "    for i in 1:g.nArcos\n",
    "        push!(flows,g.arcos[i].capacidad) #el arco original es el +\n",
    "        push!(flows,0) #el arco opposite es el -\n",
    "    end\n",
    "    #pOrigen y destinos cubre la estructura sparse de arcos\n",
    "    pOrigen = Int64[]\n",
    "    destinos = Int64[] \n",
    "    edge = Int64[]\n",
    "    edgeOpposite = Int64[]\n",
    "    nArcos=1\n",
    "    for i in 1:g.nVertices\n",
    "        push!(pOrigen,nArcos)\n",
    "        for nA in 1:g.nArcos\n",
    "            if g.arcos[nA].origen==i\n",
    "                push!(destinos,g.arcos[nA].destino)\n",
    "                push!(edge,(nA-1)*2+1)\n",
    "                push!(edgeOpposite,nA*2)\n",
    "                nArcos += 1\n",
    "            end\n",
    "            if g.arcos[nA].destino==i\n",
    "                push!(destinos,g.arcos[nA].origen)\n",
    "                push!(edge,nA*2)\n",
    "                push!(edgeOpposite,(nA-1)*2+1)\n",
    "                nArcos += 1\n",
    "            end\n",
    "        end\n",
    "    end\n",
    "    push!(pOrigen,nArcos)\n",
    "    return flows,pOrigen,destinos,edge,edgeOpposite\n",
    "end\n",
    "\n",
    "function whichOne(pOrigen::Array{Int64,1},destinos::Array{Int64,1},or::Int64,des::Int64)\n",
    "    for i in pOrigen[or]:pOrigen[or+1]-1\n",
    "        if des==destinos[i]\n",
    "            return i\n",
    "        end\n",
    "    end\n",
    "    println(\"error\\n\")\n",
    "    return 0\n",
    "end\n",
    "\n",
    "function ffSparse(G::gFlowsSparse,\n",
    "                flows::Array{Int64,1},\n",
    "                pOrigen::Array{Int64,1},\n",
    "                destinos::Array{Int64,1},\n",
    "                edge::Array{Int64,1},\n",
    "                edgeOpposite::Array{Int64,1},\n",
    "                origen::Int64, #s\n",
    "                destino::Int64) #t\n",
    "    ∞=10000000\n",
    "    maxFlow=0\n",
    "    π=conectividadBreadthFirstSparse(G.nVertices,flows,pOrigen,destinos,edge,origen,destino)\n",
    "    while π[destino]!= -1\n",
    "        #print(\"pi: \",π,\"\\n\")\n",
    "        extraFlow=∞\n",
    "        c=destino\n",
    "        while π[c] != -1\n",
    "            arcNum=whichOne(pOrigen,destinos,π[c],c)\n",
    "            #println(\"\\t\\tarcNum sale como: \",arcNum,\" y hay: \",size(flows))\n",
    "            extraFlow=min(extraFlow,flows[edge[arcNum]])\n",
    "            c=π[c]\n",
    "        end\n",
    "        c=destino\n",
    "        while π[c] != -1\n",
    "            arcNum=whichOne(pOrigen,destinos,π[c],c)\n",
    "            flow[edge[arcNum]] -= extraFlow\n",
    "            flow[edgeOpposite[arcNum]] += extraFlow\n",
    "            c=π[c]\n",
    "        end\n",
    "        maxFlow += extraFlow\n",
    "        #println(\"\\t\",extraFlow,\"\\t\",maxFlow)\n",
    "        π=conectividadBreadthFirstSparse(G.nVertices,flows,pOrigen,destinos,edge,origen,destino)\n",
    "    end\n",
    "    return maxFlow,flow\n",
    "end"
   ]
  },
  {
   "cell_type": "code",
   "execution_count": 63,
   "metadata": {},
   "outputs": [
    {
     "name": "stdout",
     "output_type": "stream",
     "text": [
      "  0.191971 seconds (2.13 k allocations: 11.884 MB, 1.22% gc time)\n",
      "  0.042597 seconds (5.12 k allocations: 4.300 MB)\n",
      "  0.072369 seconds (4.93 k allocations: 4.297 MB)\n"
     ]
    },
    {
     "data": {
      "text/plain": [
       "(53198,[217,0,0,71,0,889,145,0,0,96  …  562,0,831,0,904,0,932,0,735,0])"
      ]
     },
     "execution_count": 63,
     "metadata": {},
     "output_type": "execute_result"
    }
   ],
   "source": [
    "#g=generarGrafoDense(10,100)\n",
    "#gS=fromDenseToSparse(g)\n",
    "gS=generarGrafoSparse(1000,0.1,1000)\n",
    "g=fromSparseToDense(gS)\n",
    "\n",
    "#maxFlow,flows=ffDense(g,1,2)\n",
    "#println(\"flujo (1): \",maxFlow)\n",
    "#flow,pOrigen,destinos=prepararMixed(gS)\n",
    "#maxFlowM,flowsM=ffMixed(gS,flow,pOrigen,destinos,1,2)\n",
    "#println(\"flujo (2): \",maxFlowM)\n",
    "#flow,pOrigen,destinos,edge,edgeOpposite=prepararSparse(gS)\n",
    "#maxFlowS,flowsS=ffSparse(gS,flow,pOrigen,destinos,edge,edgeOpposite,1,2)\n",
    "#println(\"flujo (3): \",maxFlowS)\n",
    "\n",
    "@time(ffDense(g,1,2))\n",
    "flow,pOrigen,destinos=prepararMixed(gS)\n",
    "@time(ffMixed(gS,flow,pOrigen,destinos,1,2))\n",
    "flow,pOrigen,destinos,edge,edgeOpposite=prepararSparse(gS)\n",
    "@time(ffSparse(gS,flow,pOrigen,destinos,edge,edgeOpposite,1,2))\n"
   ]
  },
  {
   "cell_type": "markdown",
   "metadata": {},
   "source": [
    "## Conclusiones y comentarios\n",
    "\n",
    "Como podemos observar existen diferencias significativas entre diferentes implementaciones y en algún caso hay algunos \"tradeoffs\".\n",
    "\n",
    "Es más, algunas implementaciones requieren tiempos extras."
   ]
  },
  {
   "cell_type": "markdown",
   "metadata": {},
   "source": [
    "# Algoritmo de Dinic\n",
    "\n",
    "Dinic intenta evitar la fase de construcción del camino aumentante aprovechando todos los caminos posibles de una longitud antes de pasar a la siguiente. \n",
    "\n",
    "El algoritmo queda como sigue:\n",
    "\n",
    "<b>P1. Inicialización:</b> Inicializamos los flujos a 0\n",
    "\n",
    "<b>P2. Construcción grafo nivel:</b> Construimos un grafo de nivel en el grafo residual usando BFS.\n",
    "\n",
    "<b>P3. Aumentos flujo:</b> Buscamos caminos que aumenten el usando DFS hasta que no existan más caminos aumentantes en el grafo de nivel.\n",
    "\n",
    "<b>P4. Aumentamos flujo:</b> Aplicamos todos los caminos encontrados y volvemos al paso 2. \n",
    "\n",
    "Este procedimiento lo vamos a implementar con una estructura un poco diferente. Obviamente se podría usar exactamente las mismas estructuras expuestas, pero el objetivo aquí es ver otras técnicas."
   ]
  },
  {
   "cell_type": "code",
   "execution_count": 64,
   "metadata": {},
   "outputs": [
    {
     "ename": "LoadError",
     "evalue": "too many parameters for type Int64",
     "output_type": "error",
     "traceback": [
      "too many parameters for type Int64",
      "",
      " in include_string(::String, ::String) at ./loading.jl:441"
     ]
    }
   ],
   "source": [
    "type Edge\n",
    "    v::Int64    # endpoint \n",
    "    flow::Int64 # flow\n",
    "    c::Int64    # capacity\n",
    "    rev::Int64  # index of reverse edge\n",
    "end\n",
    "\n",
    "type graph\n",
    "    n::Int64        # Number of nodes\n",
    "    level::Int64{Array}(1) # level of the nodes\n",
    "    adj::Int64{Array}(2) #adjacency\n",
    "end"
   ]
  },
  {
   "cell_type": "markdown",
   "metadata": {},
   "source": [
    "# Algoritmo de Goldberg y Tarjan (Push-relabel)"
   ]
  },
  {
   "cell_type": "code",
   "execution_count": null,
   "metadata": {
    "collapsed": true
   },
   "outputs": [],
   "source": []
  }
 ],
 "metadata": {
  "kernelspec": {
   "display_name": "Julia 0.5.2",
   "language": "julia",
   "name": "julia-0.5"
  },
  "language_info": {
   "file_extension": ".jl",
   "mimetype": "application/julia",
   "name": "julia",
   "version": "0.5.2"
  }
 },
 "nbformat": 4,
 "nbformat_minor": 2
}
