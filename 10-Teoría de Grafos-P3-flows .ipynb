{
 "cells": [
  {
   "cell_type": "code",
   "execution_count": 1,
   "metadata": {
    "collapsed": true
   },
   "outputs": [],
   "source": [
    "# declaraciones de librerías\n",
    "using DataStructures"
   ]
  },
  {
   "cell_type": "code",
   "execution_count": 2,
   "metadata": {},
   "outputs": [],
   "source": [
    "type gFlows\n",
    "    nVertices::Int64\n",
    "    capacidades::Array{Int64,2} #arco[i,j] indica la distancia entre i y j \n",
    "end\n",
    "\n",
    "type arcoFlow\n",
    "    origen::Int64\n",
    "    destino::Int64\n",
    "    capacidad::Int64\n",
    "end\n",
    "\n",
    "type gFlowsSparse\n",
    "    nVertices::Int64\n",
    "    cte::Int64\n",
    "    nArcos::Int64\n",
    "    arcos::Array{arcoFlow,1} #arco[i,j] indica la distancia entre i y j \n",
    "    pOrigen::Array{Int64,1}\n",
    "    destinos::Array{Int64,1}\n",
    "    pDestino::Array{Int64,1}\n",
    "    origenes::Array{Int64,1}\n",
    "    capacidad::Dict{Int64,Int64}\n",
    "end\n"
   ]
  },
  {
   "cell_type": "code",
   "execution_count": 3,
   "metadata": {},
   "outputs": [
    {
     "data": {
      "text/plain": [
       "generarGrafoDense (generic function with 1 method)"
      ]
     },
     "execution_count": 3,
     "metadata": {},
     "output_type": "execute_result"
    }
   ],
   "source": [
    "function generarGrafoDense(n::Int64,maxValue::Int64)\n",
    "    a=Array{Int64}(n,n)\n",
    "    rand!(a,1:maxValue)\n",
    "    for i in 1:n\n",
    "        a[i,i]=0\n",
    "    end\n",
    "    for i in 1:n\n",
    "        for j in i+1:n\n",
    "            if i!=j\n",
    "                if randn()<0.0\n",
    "                    a[i,j]=0.0\n",
    "                else\n",
    "                    a[j,i]=0.0\n",
    "                end\n",
    "            end\n",
    "        end\n",
    "    end\n",
    "    return gFlows(n,a) \n",
    "end"
   ]
  },
  {
   "cell_type": "markdown",
   "metadata": {},
   "source": [
    "# Versión de Edmons y Karp del algoritmo de Ford-Fulkerson\n",
    "\n",
    "El algoritmo utiliza la idea de red residual. La red residual es aquella por la que puede pasarse flujo (ya sea avanzando flujo por la red o reduciendo flujo por la misma). En la red residual busca un camino (en el caso de Edmons-Karp, un camino con el número mínimo de arcos) y aumenta la cantidad transportada por los arcos del camino hasta saturarlo. Este camino se encuentra mediante un algoritmo tipo Breadth-first\n",
    "\n",
    "El proceso se repite hasta que no puede pasarse flujo.\n"
   ]
  },
  {
   "cell_type": "code",
   "execution_count": 11,
   "metadata": {},
   "outputs": [
    {
     "name": "stderr",
     "output_type": "stream",
     "text": [
      "WARNING: Method definition conectividadBreadthFirst(Main.gFlows, Array{Int64, 2}, Int64, Int64) in module Main at In[9]:2 overwritten at In[11]:2.\n",
      "WARNING: Method definition ffDense(Main.gFlows, Int64, Int64) in module Main at In[9]:32 overwritten at In[11]:32.\n"
     ]
    },
    {
     "data": {
      "text/plain": [
       "ffDense (generic function with 1 method)"
      ]
     },
     "execution_count": 11,
     "metadata": {},
     "output_type": "execute_result"
    }
   ],
   "source": [
    "function conectividadBreadthFirst(G::gFlows,flows::Array{Int64,2},origen::Int64,destino::Int64)\n",
    "    ∞=1000000\n",
    "    #arrays para construir evaluación\n",
    "    color=falses(G.nVertices)\n",
    "    π=Array(Int64,G.nVertices)\n",
    "    fill!(π,-1)\n",
    "    #inicializamos para el vertice\n",
    "    color[origen]=true\n",
    "    Q = Deque{Int64}()\n",
    "    push!(Q,origen)\n",
    "    while isempty(Q)==false\n",
    "        u=shift!(Q)\n",
    "        #println(\"\\t\",u)\n",
    "        for i in 1:G.nVertices\n",
    "            if color[i]==false && flows[u,i]>0\n",
    "                if i==destino\n",
    "                    π[i]=u\n",
    "                    return π\n",
    "                end\n",
    "                color[i]=true\n",
    "                π[i]=u\n",
    "                push!(Q,i)\n",
    "            end\n",
    "        end\n",
    "    end\n",
    "    return π\n",
    "end\n",
    "\n",
    "\n",
    "function ffDense(g::gFlows,origin::Int64,destination::Int64)\n",
    "    #flows=Array{Int64}(g.nVertices,g.nVertices)\n",
    "    ∞=1000000\n",
    "    flow=deepcopy(g.capacidades)\n",
    "    #println(\"flow: \",flow)\n",
    "    maxFlow=0\n",
    "    π=conectividadBreadthFirst(g,flow,origin,destination)\n",
    "    while π[destination]!= -1\n",
    "        #print(\"pi: \",π)\n",
    "        extraFlow=∞\n",
    "        c=destination\n",
    "        while π[c] != -1\n",
    "            extraFlow=min(extraFlow,flow[π[c],c])\n",
    "            c=π[c]\n",
    "        end\n",
    "        c=destination\n",
    "        while π[c] != -1\n",
    "            flow[π[c],c] -= extraFlow\n",
    "            flow[c,π[c]] += extraFlow\n",
    "            c=π[c]\n",
    "        end\n",
    "        maxFlow += extraFlow\n",
    "        #println(\"\\t\",extraFlow,\"\\t\",maxFlow)\n",
    "        π=conectividadBreadthFirst(g,flow,origin,destination)\n",
    "    end\n",
    "    return maxFlow,flow\n",
    "end"
   ]
  },
  {
   "cell_type": "code",
   "execution_count": 12,
   "metadata": {},
   "outputs": [
    {
     "name": "stdout",
     "output_type": "stream",
     "text": [
      "flujo: 104\n"
     ]
    }
   ],
   "source": [
    "#g=generarGrafoDense(10,100)\n",
    "maxFlow,flows=ffDense(g,1,10)\n",
    "println(\"flujo: \",maxFlow)"
   ]
  },
  {
   "cell_type": "markdown",
   "metadata": {},
   "source": [
    "# Algoritmo de Dinic"
   ]
  },
  {
   "cell_type": "code",
   "execution_count": null,
   "metadata": {
    "collapsed": true
   },
   "outputs": [],
   "source": []
  },
  {
   "cell_type": "markdown",
   "metadata": {},
   "source": [
    "# Algoritmo de Goldberg y Tarjan (Push-relabel)"
   ]
  },
  {
   "cell_type": "code",
   "execution_count": null,
   "metadata": {
    "collapsed": true
   },
   "outputs": [],
   "source": []
  }
 ],
 "metadata": {
  "kernelspec": {
   "display_name": "Julia 0.5.2",
   "language": "julia",
   "name": "julia-0.5"
  },
  "language_info": {
   "file_extension": ".jl",
   "mimetype": "application/julia",
   "name": "julia",
   "version": "0.5.2"
  }
 },
 "nbformat": 4,
 "nbformat_minor": 2
}
