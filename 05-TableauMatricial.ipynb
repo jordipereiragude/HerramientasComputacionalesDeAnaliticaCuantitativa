{
 "cells": [
  {
   "cell_type": "code",
   "execution_count": null,
   "metadata": {},
   "outputs": [],
   "source": [
    "type Tableau\n",
    "    c::Array{Float64}\n",
    "    b::Array{Float64}\n",
    "    A::Array{Float64}\n",
    "    obj::Float64\n",
    "    basicas::Array{Int16}\n",
    "end\n",
    "\n"
   ]
  },
  {
   "cell_type": "code",
   "execution_count": null,
   "metadata": {},
   "outputs": [],
   "source": [
    "#introducimos datos\n",
    "data=Tableau([2500 4000 0 0 0], [200; 100; 750], [1 0 1 0 0; 0 1 0 1 0; 3 5 0 0 1],0.0,[3 4 5])"
   ]
  },
  {
   "cell_type": "code",
   "execution_count": null,
   "metadata": {},
   "outputs": [],
   "source": [
    "function selectPivote(data)\n",
    "    #println(\"costosBasicos: \",data.c)\n",
    "    colIn = indmax(data.c) #devuelve posicion con mayor costo reducido\n",
    "    if data.c[colIn] <= 0.0\n",
    "        println(\"=====================================================\")\n",
    "        println(\"Solucion Optima\")\n",
    "        return -1,-1\n",
    "    end\n",
    "    #println(\"\\tEntra En Base:\",colIn)\n",
    "    maxVal = typemax(Float64)\n",
    "    rowOut = -1\n",
    "    for i in 1:size(data.A,1)\n",
    "        if(data.A[i,colIn]>0.0) && (maxVal > data.b[i]/data.A[i,colIn])\n",
    "            maxVal = data.b[i]/data.A[i,colIn]\n",
    "            rowOut=i\n",
    "        end\n",
    "    end\n",
    "    if rowOut == -1\n",
    "        println(\"=====================================================\")\n",
    "        println(\"Problema no acotado\") \n",
    "        return -1,-1\n",
    "    end\n",
    "    #println(\"entra columna \",colIn,\" sale fila \",rowOut)\n",
    "    colIn,rowOut\n",
    "end\n",
    "\n",
    "function IteracionSimplex!(data)\n",
    "    variableIn,variableOut = selectPivote(data)\n",
    "    if variableIn == -1\n",
    "        return true\n",
    "    end\n",
    "    #cambiar variable de la base\n",
    "    data.basicas[variableOut]=variableIn\n",
    "    pivotValue=data.A[variableOut,variableIn]\n",
    "    #println(\"pivotValue: \",pivotValue)\n",
    "    #cambiar matriz A y vector b\n",
    "    data.A[variableOut,:]=data.A[variableOut,:]./pivotValue\n",
    "    data.b[variableOut]=data.b[variableOut]/pivotValue\n",
    "    for rows in 1:size(data.A,1)\n",
    "        if rows == variableOut\n",
    "            continue\n",
    "        end\n",
    "        if data.A[rows,variableOut] != 0.0\n",
    "            multiplier = data.A[rows,variableOut]\n",
    "            data.A[rows,:]=data.A[rows,:]-multiplier*data.A[variableOut,:]\n",
    "            data.b[rows]=data.b[rows]-multiplier*data.b[variableOut]\n",
    "        end\n",
    "    end\n",
    "    #actualizar obj\n",
    "    data.obj += data.c[variableIn]*data.b[variableOut]\n",
    "    data.c = data.c - data.c[variableIn]*data.A[variableOut,:]\n",
    "    #println(\"obj: \",data.obj)\n",
    "    #println(\"vectorC: \",data.c)\n",
    "    #println(\"matriz A:\")\n",
    "    #println(data.A)\n",
    "    #println(\"vector B:\")\n",
    "    #println(data.A)\n",
    "    return false\n",
    "end\n",
    "\n",
    "function printTableau(data)\n",
    "    println(\"=====================================================\")\n",
    "    println(\"obj: \",data.obj,\" size \",size(data.c,2), \" basicas \",size(data.A,1))\n",
    "    for i in 1:size(data.c,2)\n",
    "        if i>1 \n",
    "            print(\" + \")\n",
    "        end\n",
    "        print(data.c[i],\"*x_\",i,\" \")\n",
    "    end\n",
    "    print(\"\\n\")\n",
    "    for i in 1:size(data.A,1)\n",
    "        print(data.basicas[i],\" \")\n",
    "        for j in 1:size(data.A,2)\n",
    "            if j>1 \n",
    "                print(\" + \")\n",
    "            end\n",
    "            @printf(\"%5.2f*x_%d \",data.A[i,j],j)\n",
    "        end\n",
    "        print(\" = \",data.b[i],\"\\n\")\n",
    "    end\n",
    "end"
   ]
  },
  {
   "cell_type": "code",
   "execution_count": null,
   "metadata": {},
   "outputs": [],
   "source": [
    "printTableau(data)\n",
    "while true\n",
    "    if IteracionSimplex!(data)\n",
    "        break\n",
    "    else\n",
    "        printTableau(data)\n",
    "    end\n",
    "end"
   ]
  },
  {
   "cell_type": "code",
   "execution_count": null,
   "metadata": {
    "collapsed": true
   },
   "outputs": [],
   "source": []
  }
 ],
 "metadata": {
  "kernelspec": {
   "display_name": "Julia 0.5.2",
   "language": "julia",
   "name": "julia-0.5"
  },
  "language_info": {
   "file_extension": ".jl",
   "mimetype": "application/julia",
   "name": "julia",
   "version": "0.5.2"
  }
 },
 "nbformat": 4,
 "nbformat_minor": 2
}
