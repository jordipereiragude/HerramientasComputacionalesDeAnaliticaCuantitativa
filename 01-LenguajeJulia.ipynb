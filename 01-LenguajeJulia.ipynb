{
 "cells": [
  {
   "cell_type": "markdown",
   "metadata": {},
   "source": [
    "# Julia como calculadora "
   ]
  },
  {
   "cell_type": "code",
   "execution_count": 1,
   "metadata": {},
   "outputs": [
    {
     "data": {
      "text/plain": [
       "0.375"
      ]
     },
     "execution_count": 1,
     "metadata": {},
     "output_type": "execute_result"
    }
   ],
   "source": [
    "# operaciones básicas\n",
    "# 1 + 1 # => 2\n",
    "# 1 - 1 # => 0\n",
    "# 5*7 # => 35\n",
    " 3/8 # => 0.375\n",
    "# 7%3 => 1\n",
    "# 2 ^ 3 # => 8\n"
   ]
  },
  {
   "cell_type": "markdown",
   "metadata": {},
   "source": [
    "Es posible usar notación LISP"
   ]
  },
  {
   "cell_type": "code",
   "execution_count": 2,
   "metadata": {},
   "outputs": [
    {
     "data": {
      "text/plain": [
       "8"
      ]
     },
     "execution_count": 2,
     "metadata": {},
     "output_type": "execute_result"
    }
   ],
   "source": [
    "+(3, 5)\n",
    "# (6, +(3, 5))\n",
    "# /(22, +(pi, 5))"
   ]
  },
  {
   "cell_type": "markdown",
   "metadata": {},
   "source": [
    "O matrices. Importante ver la diferencia en usar punto o no antes de una operación con matrices (o vectores)"
   ]
  },
  {
   "cell_type": "code",
   "execution_count": 3,
   "metadata": {},
   "outputs": [
    {
     "data": {
      "text/plain": [
       "2×2 Array{Int64,2}:\n",
       "  2  3\n",
       " 20  8"
      ]
     },
     "execution_count": 3,
     "metadata": {},
     "output_type": "execute_result"
    }
   ],
   "source": [
    "#[2 3; 5 4]+[1 1; 4 2]\n",
    "# [2 3; 5 4]*[1 1; 4 2]\n",
    "[2 3; 5 4].*[1 1; 4 2]\n",
    "#[2 3; 5 4]^(-1)\n",
    "# inv([2 3; 5 4])"
   ]
  },
  {
   "cell_type": "markdown",
   "metadata": {},
   "source": [
    "Y produce errores en caso de imposibilidad"
   ]
  },
  {
   "cell_type": "code",
   "execution_count": 4,
   "metadata": {},
   "outputs": [
    {
     "ename": "LoadError",
     "evalue": "Base.LinAlg.SingularException(2)",
     "output_type": "error",
     "traceback": [
      "Base.LinAlg.SingularException(2)",
      "",
      " in inv! at ./linalg/lu.jl:232 [inlined]",
      " in inv(::Base.LinAlg.LU{Float64,Array{Float64,2}}) at ./linalg/lu.jl:233",
      " in inv(::Array{Int64,2}) at ./linalg/dense.jl:364",
      " in include_string(::String, ::String) at ./loading.jl:441"
     ]
    }
   ],
   "source": [
    "#inv([2 4 6; 1 3 4])\n",
    "inv([2 4 6; 4 8 12; 1 2 3])"
   ]
  },
  {
   "cell_type": "code",
   "execution_count": 5,
   "metadata": {},
   "outputs": [
    {
     "data": {
      "text/plain": [
       "1"
      ]
     },
     "execution_count": 5,
     "metadata": {},
     "output_type": "execute_result"
    }
   ],
   "source": [
    "rank([2 4 6; 4 8 12; 1 2 3])"
   ]
  },
  {
   "cell_type": "markdown",
   "metadata": {},
   "source": [
    "# Matrices\n",
    "\n",
    "Debido a las particularidades de Julia y del área, es práctico introducir matrices y vectores pronto."
   ]
  },
  {
   "cell_type": "code",
   "execution_count": 6,
   "metadata": {},
   "outputs": [
    {
     "data": {
      "text/plain": [
       "1×3 Array{Int64,2}:\n",
       " 112  14  16"
      ]
     },
     "execution_count": 6,
     "metadata": {},
     "output_type": "execute_result"
    }
   ],
   "source": [
    "a=[112 14 16] #un vector de 3 columnas y 1 fila"
   ]
  },
  {
   "cell_type": "code",
   "execution_count": 7,
   "metadata": {},
   "outputs": [
    {
     "data": {
      "text/plain": [
       "3-element Array{Int64,1}:\n",
       " 112\n",
       "  14\n",
       "  16"
      ]
     },
     "execution_count": 7,
     "metadata": {},
     "output_type": "execute_result"
    }
   ],
   "source": [
    "b=[112; 14; 16] # un vector de 1 columna y 3 filas (la forma estándar de anotar un vector)"
   ]
  },
  {
   "cell_type": "code",
   "execution_count": 8,
   "metadata": {},
   "outputs": [
    {
     "data": {
      "text/plain": [
       "3×3 Array{Int64,2}:\n",
       " 4  2  3\n",
       " 7  1  6\n",
       " 6  2  4"
      ]
     },
     "execution_count": 8,
     "metadata": {},
     "output_type": "execute_result"
    }
   ],
   "source": [
    "# a*b\n",
    "# a+transpose(b)\n",
    "# transpose(a)+b\n",
    "C=[4 2 3; 7 1 6; 6 2 4]\n",
    "#a*C\n",
    "#C*b"
   ]
  },
  {
   "cell_type": "markdown",
   "metadata": {},
   "source": [
    "Es importante ver que el sistema nos informa de tipo de \"array\" utilizado, en el caso de C resulta que es una matriz de números enteros (de longitud 64 bits) con 2 dimensiones. También podemos consultarlo (útil por motivos que se explicarán luego)"
   ]
  },
  {
   "cell_type": "code",
   "execution_count": 9,
   "metadata": {},
   "outputs": [
    {
     "data": {
      "text/plain": [
       "Array{Int64,1}"
      ]
     },
     "execution_count": 9,
     "metadata": {},
     "output_type": "execute_result"
    }
   ],
   "source": [
    "typeof(b)"
   ]
  },
  {
   "cell_type": "markdown",
   "metadata": {},
   "source": [
    "Resolver un sistema de ecuaciones:"
   ]
  },
  {
   "cell_type": "code",
   "execution_count": 10,
   "metadata": {},
   "outputs": [
    {
     "data": {
      "text/plain": [
       "3-element Array{Float64,1}:\n",
       " -97.5\n",
       " 102.5\n",
       "  99.0"
      ]
     },
     "execution_count": 10,
     "metadata": {},
     "output_type": "execute_result"
    }
   ],
   "source": [
    "C^(-1)*b\n",
    "#C\\b"
   ]
  },
  {
   "cell_type": "markdown",
   "metadata": {},
   "source": [
    "regresión lineal $\\hat{\\beta} = (X^T X)^{-1} X^T y$"
   ]
  },
  {
   "cell_type": "code",
   "execution_count": 11,
   "metadata": {},
   "outputs": [
    {
     "data": {
      "text/plain": [
       "2-element Array{Float64,1}:\n",
       " -0.102397\n",
       " 19.5403  "
      ]
     },
     "execution_count": 11,
     "metadata": {},
     "output_type": "execute_result"
    }
   ],
   "source": [
    "X=[2 4; 1 3; 9 1]\n",
    "y=b\n",
    "inv(X'*X)*X'*y"
   ]
  },
  {
   "cell_type": "markdown",
   "metadata": {
    "collapsed": true
   },
   "source": [
    "Hay varias maneras de construir una matriz paso a paso. Por ejemplo:"
   ]
  },
  {
   "cell_type": "code",
   "execution_count": 1,
   "metadata": {},
   "outputs": [
    {
     "name": "stdout",
     "output_type": "stream",
     "text": [
      "vector0: [1,2,3]\n",
      "vector: Int64[]\n",
      "vectorDefinido: [139957771801008,139957692252576]\n",
      "otro Vector: [2,2]\n",
      "vector Columna: [2 2]\n",
      "matriz de 10x10: [139957802260400 139957805305776 139957805305888 139957802261744 139957802262416 139957802262704 139957802262960 139957802263344 139957805306288 139957802264048; 139957805305744 139957802261072 139957805305904 139957802261872 139957802262448 139957805306032 139957805306128 139957805306208 139957805306304 139957805306368; 139957802260496 139957802261104 139957802261520 139957802261904 139957802262480 139957802262736 139957802262992 139957805306224 139957802263728 139957805306384; 139957802260656 139957802261136 139957802261552 139957802261936 139957802262544 139957805306048 139957805306144 139957802263408 139957805306320 139957805306400; 139957805305760 139957802261168 139957805305920 139957692252560 139957805305984 139957805306064 139957802263024 139957805306240 139957802263792 139957805306416; 139957802260688 139957802261200 139957802261584 139957802261968 139957805306000 139957805306080 139957802263120 139957802263440 139957805306336 139957802264080; 139957802260880 139957802261232 139957802261616 139957802262000 139957802262608 139957802262832 139957805306160 139957805306256 139957802263824 0; 139957802260912 139957805305824 139957802261648 139957802262032 139957805306016 139957802262896 139957805306176 139957802263472 139957805306352 0; 139957802261008 139957802261392 139957802261680 139957805305968 139957802262640 139957805306096 139957805306192 139957802263568 139957802263856 0; 139957802261040 139957805305872 139957802261712 139957802262064 139957802262672 139957805306112 139957802263280 139957805306272 139957802263888 0]\n"
     ]
    }
   ],
   "source": [
    "vector0 = [1, 2, 3]\n",
    "println(\"vector0: \",vector0)\n",
    "vector = Int64[]\n",
    "println(\"vector: \",vector)\n",
    "vectorDefinido = Array{Int64}(2)\n",
    "println(\"vectorDefinido: \",vectorDefinido)\n",
    "otroVector = Int64[2, 2]\n",
    "println(\"otro Vector: \",otroVector)\n",
    "vectorColumna=Int64[2 2]\n",
    "println(\"vector Columna: \",vectorColumna)\n",
    "matriz = Array{Int64}(10,10) #matriz de 2x2\n",
    "println(\"matriz de 10x10: \",matriz)"
   ]
  },
  {
   "cell_type": "markdown",
   "metadata": {
    "collapsed": true
   },
   "source": [
    "Varias operaciones básicas:"
   ]
  },
  {
   "cell_type": "code",
   "execution_count": 13,
   "metadata": {},
   "outputs": [
    {
     "name": "stdout",
     "output_type": "stream",
     "text": [
      "typeof: Array{Int64,2}\n",
      "vectores iniciales: [1,2,3] [1,2,3]\n",
      "tras push: 1 10\ty el otro: 1 10\n",
      "tras pop: 1 3\ty el otro: 1 3\n"
     ]
    }
   ],
   "source": [
    "println(\"typeof: \",typeof(vectorColumna))\n",
    "vector=vector0\n",
    "println(\"vectores iniciales: \",vector,\" \",vector0)\n",
    "push!(vector,10)\n",
    "println(\"tras push: \",vector[1],\" \",vector[end],\"\\ty el otro: \",vector0[1],\" \",vector0[end]) #sorpresa!\n",
    "pop!(vector)\n",
    "println(\"tras pop: \",vector[1],\" \",vector[end],\"\\ty el otro: \",vector0[1],\" \",vector0[end])"
   ]
  },
  {
   "cell_type": "code",
   "execution_count": 14,
   "metadata": {},
   "outputs": [
    {
     "name": "stdout",
     "output_type": "stream",
     "text": [
      "tras copy: [1,2,3] [1,2,3]\n",
      "tras push: 1 10\ty el otro: 1 3\n",
      "tras pop: 1 3\ty el otro: 1 3\n",
      "vector: [1,2,3,1,2,3]\n"
     ]
    }
   ],
   "source": [
    "vector=copy(vector0)\n",
    "println(\"tras copy: \",vector,\" \",vector0)\n",
    "push!(vector,10)\n",
    "println(\"tras push: \",vector[1],\" \",vector[end],\"\\ty el otro: \",vector0[1],\" \",vector0[end]) #sorpresa!\n",
    "pop!(vector)\n",
    "println(\"tras pop: \",vector[1],\" \",vector[end],\"\\ty el otro: \",vector0[1],\" \",vector0[end])\n",
    "append!(vector,vector0)\n",
    "println(\"vector: \",vector)"
   ]
  },
  {
   "cell_type": "markdown",
   "metadata": {
    "collapsed": true
   },
   "source": [
    "Se puede recortar algunas partes de un vector o matriz fácilmente:"
   ]
  },
  {
   "cell_type": "code",
   "execution_count": 15,
   "metadata": {},
   "outputs": [
    {
     "name": "stdout",
     "output_type": "stream",
     "text": [
      "mini: [2,3,1]\n",
      "mini: [10,3,1] vector: [1,2,3,1,2,3]\n",
      "numero de entradas: 3\n"
     ]
    }
   ],
   "source": [
    "mini=vector[2:4]\n",
    "println(\"mini: \",mini)\n",
    "mini[1]=10\n",
    "println(\"mini: \",mini,\" vector: \",vector) #curioso ¿no?\n",
    "println(\"numero de entradas: \",length(mini))"
   ]
  },
  {
   "cell_type": "code",
   "execution_count": 16,
   "metadata": {},
   "outputs": [
    {
     "name": "stdout",
     "output_type": "stream",
     "text": [
      "matriz anteriormente definida:[140543658968848 140543658969296 140543658971984 140543658974448 140543658977136 140543658983184 140543658977808 140543658980496 140543659477872 140543658970640; 140543658968848 140543658969520 140543658972432 140543658974672 140543658977360 140543659474960 140543658978032 140543658980720 140543659478096 140543658981392; 140543658968848 140543658969744 140543658971760 140543658974896 140543658977584 140543659475184 140543658978256 140543658979600 140543531810848 140543658981616; 140543658968848 140543658969968 140543658972656 140543658975120 140543658976464 140543659475408 140543658978480 140543658980944 140543531810848 140543658981616; 140543658968848 140543658970192 140543658973104 140543658975344 140543658981840 140543659475632 140543658978704 140543658981168 140543531810848 140543658981616; 140543658968848 140543658970416 140543658973328 140543658975568 140543658982064 140543659475856 140543658979152 140543658978928 140543659478320 140543658981616; 140543658968848 140543658970864 140543658973552 140543658975792 140543658982288 140543659476080 140543658979376 140543659476976 140543659478544 140543658981616; 140543658968848 140543658971088 140543658973776 140543658976240 140543658982512 140543659476304 140543658979824 140543659477200 140543659478992 140543658981616; 140543658968848 140543658971312 140543658974000 140543658976688 140543658982736 140543659476528 140543658980048 140543659477424 140543659479216 140543658981616; 140543658969072 140543658971536 140543658974224 140543658976912 140543658982960 140543659476752 140543658980272 140543659477648 140543659479440 0]\n"
     ]
    },
    {
     "data": {
      "text/plain": [
       "2×2 Array{Int64,2}:\n",
       " 140543658969296  140543658971984\n",
       " 140543658969520  140543658972432"
      ]
     },
     "execution_count": 16,
     "metadata": {},
     "output_type": "execute_result"
    }
   ],
   "source": [
    "println(\"matriz anteriormente definida:\" , matriz)\n",
    "matriz[1:2,2:3]"
   ]
  },
  {
   "cell_type": "markdown",
   "metadata": {},
   "source": [
    "## Variables\n",
    "\n",
    "Algunas cosas anteriores no se aplican a variables simples (motivo, uso de memoria)"
   ]
  },
  {
   "cell_type": "code",
   "execution_count": 2,
   "metadata": {},
   "outputs": [
    {
     "name": "stdout",
     "output_type": "stream",
     "text": [
      "i: 3 j: 3\n",
      "i: 3 j: 4\n"
     ]
    }
   ],
   "source": [
    "i=3\n",
    "j=i\n",
    "println(\"i: \",i,\" j: \",j)\n",
    "j=j+1\n",
    "println(\"i: \",i,\" j: \",j)"
   ]
  },
  {
   "cell_type": "markdown",
   "metadata": {},
   "source": [
    "Se pueden utilizar símbolos especiales para clarificar el significado de variables (por ejemplo escribe \"\\pi\" y tabulador)"
   ]
  },
  {
   "cell_type": "code",
   "execution_count": 4,
   "metadata": {},
   "outputs": [
    {
     "name": "stdout",
     "output_type": "stream",
     "text": [
      "perímetro: 18.849552000000003\n"
     ]
    }
   ],
   "source": [
    "π=3.141592\n",
    "r=3\n",
    "perímetro=2*π*r\n",
    "println(\"perímetro: \",perímetro)"
   ]
  },
  {
   "cell_type": "markdown",
   "metadata": {
    "collapsed": true
   },
   "source": [
    "# Estructuras de datos\n",
    "\n",
    "Finalmente, falta analizar algunas formas de matener información que resultarán convenientes (Nota: Restaría ver <b>dataframes</b>)\n",
    "\n",
    "## Conjuntos\n",
    "\n",
    "Podemos tener conjuntos de enteros o conjuntos generales (https://docs.julialang.org/en/release-0.4/stdlib/collections/):"
   ]
  },
  {
   "cell_type": "code",
   "execution_count": 5,
   "metadata": {},
   "outputs": [
    {
     "name": "stdout",
     "output_type": "stream",
     "text": [
      "en conjunto: 1\n",
      "en conjunto: 3\n",
      "en conjunto: 5\n",
      "Set: IntSet([1, 3, 5])\n",
      "Intersección: IntSet([3, 5])\n",
      "Unión: IntSet([1, 3, 4, 5, 6])\n",
      "Set: IntSet([1, 4, 5, 6])\n",
      "Set: IntSet([1, 4, 5])\n"
     ]
    }
   ],
   "source": [
    "conjunto =IntSet()\n",
    "push!(conjunto,5)\n",
    "push!(conjunto,1)\n",
    "push!(conjunto,3)\n",
    "for i in conjunto\n",
    "    println(\"en conjunto: \",i)\n",
    "end\n",
    "push!(conjunto,1)\n",
    "println(\"Set: \",conjunto)\n",
    "otroConjunto = IntSet([3, 4, 5, 6])\n",
    "println(\"Intersección: \",intersect(conjunto,otroConjunto))\n",
    "union!(conjunto, otroConjunto)\n",
    "println(\"Unión: \",conjunto)\n",
    "pop!(conjunto,3)\n",
    "println(\"Set: \",conjunto)\n",
    "pop!(conjunto)\n",
    "println(\"Set: \",conjunto)\n"
   ]
  },
  {
   "cell_type": "markdown",
   "metadata": {
    "collapsed": true
   },
   "source": [
    "## Diccionarios\n",
    "\n",
    "Equivalente al <i>map</i> en C++ o a un <i>hash table</i>\n",
    "\n",
    "Sirve para almacenar estructuras con un key y un valor "
   ]
  },
  {
   "cell_type": "code",
   "execution_count": 9,
   "metadata": {},
   "outputs": [
    {
     "name": "stdout",
     "output_type": "stream",
     "text": [
      "Diccionario:Dict(\"B\"=>2,\"A\"=>1)\n",
      "comprobación 1: true\n",
      "comprobación 2: false\n",
      "comprobación 3: true\n",
      "comprobación 4: false\n",
      "comprobación 5:KeyError(\"C\")\n",
      "comprobación 6:2\n"
     ]
    }
   ],
   "source": [
    "Diccionario = Dict{String,Int64}()\n",
    "Diccionario[\"A\"]=1\n",
    "Diccionario[\"B\"]=2\n",
    "println(\"Diccionario:\",Diccionario)\n",
    "\n",
    "# Comprobaciones varias\n",
    "println(\"comprobación 1: \",in((\"A\" => 1), Diccionario)) # => true\n",
    "println(\"comprobación 2: \",in((\"B\" => 3), Diccionario)) # => false\n",
    "println(\"comprobación 3: \",haskey(Diccionario, \"A\")) # => true\n",
    "println(\"comprobación 4: \",haskey(Diccionario, \"C\")) # => false\n",
    "# Miremos si hay o no un key\n",
    "\n",
    "#println(\"comprobación 5:\",Diccionario[\"C\"]) # => ERROR: key not found: four in getindex at dict.jl:489\n",
    "try\n",
    "    println(\"comprobación 5:\",Diccionario[\"C\"]) # => ERROR: key not found: four in getindex at dict.jl:489\n",
    "catch e\n",
    "    println(\"comprobación 5:\",e)\n",
    "end\n",
    "# Miremos si hay o no un key\n",
    "try\n",
    "    println(\"comprobación 6:\",Diccionario[\"B\"]) # => OK\n",
    "catch e\n",
    "    println(\"comprobación 6:\",e)\n",
    "end"
   ]
  },
  {
   "cell_type": "markdown",
   "metadata": {
    "collapsed": true
   },
   "source": [
    "## Bitarray\n",
    "\n",
    "Un vector para bits (alternativa Array{Bool}(4)"
   ]
  },
  {
   "cell_type": "code",
   "execution_count": 21,
   "metadata": {},
   "outputs": [
    {
     "name": "stdout",
     "output_type": "stream",
     "text": [
      "bitarray: Bool[true,false,false,true]\n",
      "Array: Bool[true,false,false,true]\n"
     ]
    }
   ],
   "source": [
    "pattern = BitArray(4)\n",
    "pattern[1]=true\n",
    "pattern[2]=false\n",
    "pattern[3]=false\n",
    "pattern[4]=true\n",
    "println(\"bitarray: \",pattern)\n",
    "patternAlternativo = Array{Bool}(4)\n",
    "patternAlternativo[1]=true\n",
    "patternAlternativo[2]=false\n",
    "patternAlternativo[3]=false\n",
    "patternAlternativo[4]=true\n",
    "println(\"Array: \",patternAlternativo)"
   ]
  },
  {
   "cell_type": "code",
   "execution_count": 22,
   "metadata": {},
   "outputs": [
    {
     "ename": "LoadError",
     "evalue": "syntax: extra token \"podemos\" after end of expression",
     "output_type": "error",
     "traceback": [
      "syntax: extra token \"podemos\" after end of expression",
      "",
      " in include_string(::String, ::String) at ./loading.jl:441"
     ]
    }
   ],
   "source": [
    "## Tipos propios\n",
    "\n",
    "También podemos definir nuestros tipos"
   ]
  },
  {
   "cell_type": "code",
   "execution_count": 10,
   "metadata": {
    "collapsed": true
   },
   "outputs": [],
   "source": [
    "type tipoEjemplo\n",
    "    a::Array{Float64}\n",
    "    b::Float64\n",
    "    c::Int32\n",
    "end"
   ]
  },
  {
   "cell_type": "code",
   "execution_count": 11,
   "metadata": {},
   "outputs": [
    {
     "name": "stdout",
     "output_type": "stream",
     "text": [
      "Variable: tipoEjemplo([1.9,2.1,3.9],1.1,24)\n",
      "Variable: tipoEjemplo([2.0,3.0,4.0],2.2,46)\n",
      "Variable Bis Bis: tipoEjemplo([1.2,2.1,3.9,12.0],1.1,24)\n",
      "Otro ejemplo de lo visto con anterioridad: tipoEjemplo([1.2,2.1,3.9,12.0],1.1,24)\n",
      "Version 2 Bis Bis: tipoEjemplo([1.2,2.1,3.9,12.0,12.0],1.1,24)\n",
      "Version 2 Propio: tipoEjemplo([1.2,2.1,3.9,12.0],1.1,24)\n"
     ]
    }
   ],
   "source": [
    "tipoPropio=tipoEjemplo([1.2, 2.1, 3.9],1.1,24)\n",
    "#variable.a=[1, 2, 3]\n",
    "#variable.b=1.1\n",
    "#variable.c=24\n",
    "println(\"Variable: \",tipoPropio)\n",
    "tipoPropioBis = tipoEjemplo([],0.0,0) #llama a un constructor\n",
    "tipoPropioBis.a=[2,3,4]\n",
    "tipoPropioBis.b=2.2\n",
    "tipoPropioBis.c=46\n",
    "println(\"Variable: \",tipoPropioBis)\n",
    "tipoPropioBisBis = tipoPropio\n",
    "push!(tipoPropioBisBis.a,12.0)\n",
    "println(\"Variable Bis Bis: \",tipoPropioBisBis)\n",
    "println(\"Otro ejemplo de lo visto con anterioridad: \",tipoPropio)\n",
    "tipoPropioBisBis=deepcopy(tipoPropio)\n",
    "push!(tipoPropioBisBis.a,12.0)\n",
    "println(\"Version 2 Bis Bis: \",tipoPropioBisBis)\n",
    "println(\"Version 2 Propio: \",tipoPropio)"
   ]
  },
  {
   "cell_type": "markdown",
   "metadata": {},
   "source": [
    "# Gráficos\n",
    "\n",
    "Es posible dibujar utilizando PyPlot/matplotlib (https://matplotlib.org/api/pyplot_api.html, ejemplos en: http://nbviewer.jupyter.org/github/gizmaa/Julia_Examples/tree/master/)"
   ]
  },
  {
   "cell_type": "code",
   "execution_count": 12,
   "metadata": {},
   "outputs": [
    {
     "name": "stderr",
     "output_type": "stream",
     "text": [
      "\u001b[1m\u001b[34mINFO: Precompiling module PyPlot.\n",
      "\u001b[0m"
     ]
    },
    {
     "data": {
      "image/png": "[encoded data removed]",
      "text/plain": [
       "PyPlot.Figure(PyObject <matplotlib.figure.Figure object at 0x7f4a5131fc88>)"
      ]
     },
     "metadata": {},
     "output_type": "display_data"
    }
   ],
   "source": [
    "#Pkg.add(\"PyPlot\")\n",
    "using PyPlot\n",
    "ioff() # Interactive plotting OFF, necessary for inline plotting in IJulia\n",
    "\n",
    "x = randn(10000) # Values\n",
    "nbins = 10; # Number of bins\n",
    "\n",
    "#fig = figure(\"pyplot_histogram\",figsize=(5,5)) # Not strictly required\n",
    "ax = axes() # Not strictly required\n",
    "h = plt[:hist](x,nbins) # Histogram\n",
    "title(\"Normal\")"
   ]
  },
  {
   "cell_type": "markdown",
   "metadata": {},
   "source": [
    "Alternativamente podemos utilizar otras librerías gráficas (ver https://juliaplots.github.io/ )"
   ]
  },
  {
   "cell_type": "code",
   "execution_count": 13,
   "metadata": {},
   "outputs": [
    {
     "name": "stderr",
     "output_type": "stream",
     "text": [
      "\u001b[1m\u001b[34mINFO: Precompiling module FixedSizeArrays.\n",
      "\u001b[0m\u001b[1m\u001b[34mINFO: Precompiling module RecipesBase.\n",
      "\u001b[0m\u001b[1m\u001b[34mINFO: Precompiling module PlotUtils.\n",
      "\u001b[0m\u001b[1m\u001b[34mINFO: Precompiling module PlotThemes.\n",
      "\u001b[0mWARNING: using Plots.h in module Main conflicts with an existing identifier.\n"
     ]
    },
    {
     "data": {
      "text/html": [
       "<img src=\"data:image/png;base64,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\" />"
      ]
     },
     "execution_count": 13,
     "metadata": {},
     "output_type": "execute_result"
    }
   ],
   "source": [
    "#Pkg.add(\"Plots\")\n",
    "using Plots\n",
    "Plots.plot(x, color=\"blue\")"
   ]
  },
  {
   "cell_type": "markdown",
   "metadata": {},
   "source": [
    "# Control de flujo de un programa\n",
    "\n",
    "Tenemos comandos condicionales (<b>if</b>) y repetición (<b>for</b>, <b>while</b>)\""
   ]
  },
  {
   "cell_type": "code",
   "execution_count": 55,
   "metadata": {},
   "outputs": [
    {
     "name": "stdout",
     "output_type": "stream",
     "text": [
      "igual o mayor a seis\n",
      "(6,12]\n",
      "9 8 7 6 5 4 3 2 1  fin\n",
      "1\t2\t3\t4\t5\t6\t7\t8\t9\t10\tend\n",
      "1\t4\t7\t10\t13\t16\t19\t22\t25\t28\t31\t34\t37\t40\t43\t46\t49\t52\t55\t58\t61\t64\t67\t70\t73\t76\t79\t82\t85\t88\t91\t94\t97\t100\tend\n"
     ]
    }
   ],
   "source": [
    "variable = 9\n",
    "if variable < 6\n",
    "    println(\"menor que seis\")\n",
    "else\n",
    "    println(\"igual o mayor a seis\")\n",
    "end\n",
    "\n",
    "if variable > 6 && variable <= 12\n",
    "    println(\"(6,12]\")\n",
    "elseif variable<=6\n",
    "    println(\"(-∞,6]\")\n",
    "else\n",
    "    println(\"(12,∞)\")\n",
    "end\n",
    "\n",
    "while variable > 0\n",
    "    print(variable,\" \")\n",
    "    variable = variable -1\n",
    "end\n",
    "println(\" fin\")\n",
    "for i in 1:10\n",
    "    print(i,\"\\t\")\n",
    "end\n",
    "println(\"end\")\n",
    "for i in 1:3:101\n",
    "    print(i,\"\\t\")\n",
    "end\n",
    "println(\"end\")"
   ]
  },
  {
   "cell_type": "code",
   "execution_count": 20,
   "metadata": {},
   "outputs": [
    {
     "name": "stdout",
     "output_type": "stream",
     "text": [
      "Hola Barcelona\n",
      "Hola Mataró\n",
      "7\n",
      "2\n",
      "3\n",
      "======================\n",
      "7\n",
      "2\n",
      "3\n"
     ]
    }
   ],
   "source": [
    "words = [\"Barcelona\", \"Mataró\"]\n",
    "for word in words\n",
    "    println(\"Hola $word\")\n",
    "end\n",
    "numeros=[7, 2, 3]\n",
    "for num in numeros\n",
    "    println(num)\n",
    "end\n",
    "print(\"======================\\n\")\n",
    "#no es necesario como ésta\n",
    "for i in 1:size(numeros,1)\n",
    "    println(numeros[i])\n",
    "end"
   ]
  },
  {
   "cell_type": "markdown",
   "metadata": {
    "collapsed": true
   },
   "source": [
    "# Funciones\n",
    "\n",
    "Antes de dar por acabado un repaso de los conceptos básicos del lenguaje nos faltaría ver el uso de funciones para mejorar la estructura y la reutilización de código"
   ]
  },
  {
   "cell_type": "code",
   "execution_count": 10,
   "metadata": {},
   "outputs": [
    {
     "data": {
      "text/plain": [
       "120"
      ]
     },
     "execution_count": 10,
     "metadata": {},
     "output_type": "execute_result"
    }
   ],
   "source": [
    "function miFactorial(n::Int64)\n",
    "    retorno = 1\n",
    "    for i = 1:n\n",
    "        retorno = retorno * i\n",
    "    end\n",
    "    retorno\n",
    "end\n",
    "\n",
    "miFactorial(5)"
   ]
  },
  {
   "cell_type": "code",
   "execution_count": 23,
   "metadata": {},
   "outputs": [
    {
     "ename": "LoadError",
     "evalue": "StackOverflowError:",
     "output_type": "error",
     "traceback": [
      "StackOverflowError:",
      "",
      " in factorialRecursivo(::Float64) at ./In[23]:5 (repeats 58136 times)",
      " in include_string(::String, ::String) at ./loading.jl:441"
     ]
    }
   ],
   "source": [
    "#function factorialRecursivo(n)\n",
    "function factorialRecursivo(n::Int64)\n",
    "    if n==1\n",
    "        return 1\n",
    "    else\n",
    "        return n*factorialRecursivo(n-1)\n",
    "    end\n",
    "end\n",
    "\n",
    "#factorialRecursivo(3)\n",
    "factorialRecursivo(3.2)"
   ]
  },
  {
   "cell_type": "markdown",
   "metadata": {},
   "source": [
    "En ocasiones conviene llamar a una función repetidas veces para todos los términos de un vector. La principal ventaja de estas funciones es que son más fáciles de optimizar para el compilador interno de Julia. \n",
    "\n",
    "En este caso nos servirá con usar la notación de punto (ya vista con anterioridad)."
   ]
  },
  {
   "cell_type": "code",
   "execution_count": 24,
   "metadata": {},
   "outputs": [
    {
     "data": {
      "text/plain": [
       "testPi (generic function with 2 methods)"
      ]
     },
     "execution_count": 24,
     "metadata": {},
     "output_type": "execute_result"
    }
   ],
   "source": [
    "function testPi(randomSeed::Int64,repeticiones=1000000)\n",
    "    count=0\n",
    "    srand(randomSeed)\n",
    "    for i in 1:repeticiones\n",
    "        x=rand()\n",
    "        y=rand()\n",
    "        if x^2+y^2 <= 1.0 \n",
    "            count+= 1\n",
    "        end\n",
    "    end\n",
    "    4*count / repeticiones\n",
    "end"
   ]
  },
  {
   "cell_type": "code",
   "execution_count": 27,
   "metadata": {},
   "outputs": [
    {
     "data": {
      "text/plain": [
       "3.14161456"
      ]
     },
     "execution_count": 27,
     "metadata": {},
     "output_type": "execute_result"
    }
   ],
   "source": [
    "testPi(1,100000000)"
   ]
  },
  {
   "cell_type": "code",
   "execution_count": 32,
   "metadata": {},
   "outputs": [
    {
     "name": "stdout",
     "output_type": "stream",
     "text": [
      "  1.033861 seconds (335 allocations: 22.438 KB)\n",
      "  1.921535 seconds (1.55 k allocations: 79.255 KB)\n"
     ]
    },
    {
     "name": "stderr",
     "output_type": "stream",
     "text": [
      "WARNING: Method definition repetir(Any) in module Main at In[31]:6 overwritten at In[32]:6.\n"
     ]
    }
   ],
   "source": [
    "miVectorRandomSeeds = collect(1:100)\n",
    "#testPi.(miVectorRandomSeeds)\n",
    "@time(testPi.(miVectorRandomSeeds))\n",
    "\n",
    "function repetir(count)\n",
    "    for i in 1:count\n",
    "       testPi(i)\n",
    "    end\n",
    "end\n",
    "\n",
    "@time(repetir(100))"
   ]
  },
  {
   "cell_type": "markdown",
   "metadata": {},
   "source": [
    "# Lectura y escritura de archivos\n",
    "\n",
    "Finalmente, es conveniente comunicarse con el mundo, normalmente a través de ficheros (también mediante línea de comando pero eso queda fuera del alcance de una hoja de Jupyter)\n",
    "\n",
    "Empezaremos por escribir un archivo de texto (usaremos una de las múltiples técnicas disponibles)"
   ]
  },
  {
   "cell_type": "code",
   "execution_count": 56,
   "metadata": {},
   "outputs": [
    {
     "name": "stdout",
     "output_type": "stream",
     "text": [
      "2 -> 1\n",
      "\n",
      "2 -> 2\n",
      "\n",
      "2 -> 3\n",
      "\n",
      "2 -> 4\n",
      "\n",
      "2 -> 5\n",
      "\n",
      "2 -> 6\n",
      "\n",
      "2 -> 7\n",
      "\n",
      "2 -> 8\n",
      "\n",
      "2 -> 9\n",
      "\n",
      "3 -> 10\n",
      "\n",
      "3 -> 11\n",
      "\n",
      "3 -> 12\n",
      "\n",
      "3 -> 13\n",
      "\n",
      "3 -> 14\n",
      "\n",
      "3 -> 15\n",
      "\n",
      "3 -> 16\n",
      "\n",
      "3 -> 17\n",
      "\n",
      "3 -> 18\n",
      "\n",
      "3 -> 19\n",
      "\n",
      "3 -> 20\n",
      "\n",
      "3 -> 21\n",
      "\n",
      "3 -> 22\n",
      "\n",
      "3 -> 23\n",
      "\n",
      "3 -> 24\n",
      "\n",
      "3 -> 25\n",
      "\n",
      "3 -> 26\n",
      "\n",
      "3 -> 27\n",
      "\n",
      "3 -> 28\n",
      "\n",
      "3 -> 29\n",
      "\n",
      "3 -> 30\n",
      "\n",
      "3 -> 31\n",
      "\n",
      "3 -> 32\n",
      "\n",
      "3 -> 33\n",
      "\n",
      "3 -> 34\n",
      "\n",
      "3 -> 35\n",
      "\n",
      "3 -> 36\n",
      "\n",
      "3 -> 37\n",
      "\n",
      "3 -> 38\n",
      "\n",
      "3 -> 39\n",
      "\n",
      "3 -> 40\n",
      "\n",
      "3 -> 41\n",
      "\n",
      "3 -> 42\n",
      "\n",
      "3 -> 43\n",
      "\n",
      "3 -> 44\n",
      "\n",
      "3 -> 45\n",
      "\n",
      "3 -> 46\n",
      "\n",
      "3 -> 47\n",
      "\n",
      "3 -> 48\n",
      "\n",
      "3 -> 49\n",
      "\n",
      "3 -> 50\n",
      "\n",
      "3 -> 51\n",
      "\n",
      "3 -> 52\n",
      "\n",
      "3 -> 53\n",
      "\n",
      "3 -> 54\n",
      "\n",
      "3 -> 55\n",
      "\n",
      "3 -> 56\n",
      "\n",
      "3 -> 57\n",
      "\n",
      "3 -> 58\n",
      "\n",
      "3 -> 59\n",
      "\n",
      "3 -> 60\n",
      "\n",
      "3 -> 61\n",
      "\n",
      "3 -> 62\n",
      "\n",
      "3 -> 63\n",
      "\n",
      "3 -> 64\n",
      "\n",
      "3 -> 65\n",
      "\n",
      "3 -> 66\n",
      "\n",
      "3 -> 67\n",
      "\n",
      "3 -> 68\n",
      "\n",
      "3 -> 69\n",
      "\n",
      "3 -> 70\n",
      "\n",
      "3 -> 71\n",
      "\n",
      "3 -> 72\n",
      "\n",
      "3 -> 73\n",
      "\n",
      "3 -> 74\n",
      "\n",
      "3 -> 75\n",
      "\n",
      "3 -> 76\n",
      "\n",
      "3 -> 77\n",
      "\n",
      "3 -> 78\n",
      "\n",
      "3 -> 79\n",
      "\n",
      "3 -> 80\n",
      "\n",
      "3 -> 81\n",
      "\n",
      "3 -> 82\n",
      "\n",
      "3 -> 83\n",
      "\n",
      "3 -> 84\n",
      "\n",
      "3 -> 85\n",
      "\n",
      "3 -> 86\n",
      "\n",
      "3 -> 87\n",
      "\n",
      "3 -> 88\n",
      "\n",
      "3 -> 89\n",
      "\n",
      "3 -> 90\n",
      "\n",
      "3 -> 91\n",
      "\n",
      "3 -> 92\n",
      "\n",
      "3 -> 93\n",
      "\n",
      "3 -> 94\n",
      "\n",
      "3 -> 95\n",
      "\n",
      "3 -> 96\n",
      "\n",
      "3 -> 97\n",
      "\n",
      "3 -> 98\n",
      "\n",
      "3 -> 99\n",
      "\n",
      "4 -> 100\n",
      "\n"
     ]
    }
   ],
   "source": [
    "f = open(\"archivo.txt\",\"w\")\n",
    "for i in 1:100\n",
    "    write(f, \"$i\\n\")\n",
    "end\n",
    "close(f)\n",
    "\n",
    "ff = open(\"archivo.txt\")\n",
    "for ln in eachline(ff)\n",
    "       println(\"$(length(ln)) -> $ln\")\n",
    "end"
   ]
  },
  {
   "cell_type": "markdown",
   "metadata": {
    "collapsed": true
   },
   "source": [
    "# Notas finales\n",
    "\n",
    "* Julia no tiene orientación a objetos\n",
    "* Existen punteros pero su uso se ciñe normalmente a comunicarse con otros lenguajes (como C). Adicionalmente el fenómeno comentado anteriormente cumple con algunos de los usos de un puntero. \n",
    "* Nos faltan cubrir varios temas (conviene repasar algunos puntos). "
   ]
  },
  {
   "cell_type": "markdown",
   "metadata": {},
   "source": [
    "## Basado en:\n",
    "* Lectures in quatitative economics (https://lectures.quantecon.org/jl/)\n",
    "* Julia Programming for Operations Research\n",
    "* Learn X in Y minutes (https://learnxinyminutes.com/docs/julia/)\n",
    "* The docs (https://docs.julialang.org/en/stable/)\n"
   ]
  },
  {
   "cell_type": "markdown",
   "metadata": {},
   "source": [
    "# Ejercicio propuesto\n",
    "\n",
    "Escriba en Julia una versión recursiva del código de enumeración para el problema de las n-reinas (https://en.wikipedia.org/wiki/Eight_queens_puzzle) que provea de <b>todas</b> las combinaciones factibles."
   ]
  },
  {
   "cell_type": "code",
   "execution_count": null,
   "metadata": {
    "collapsed": true
   },
   "outputs": [],
   "source": []
  }
 ],
 "metadata": {
  "kernelspec": {
   "display_name": "Julia 0.5.2",
   "language": "julia",
   "name": "julia-0.5"
  },
  "language_info": {
   "file_extension": ".jl",
   "mimetype": "application/julia",
   "name": "julia",
   "version": "0.5.2"
  }
 },
 "nbformat": 4,
 "nbformat_minor": 2
}
