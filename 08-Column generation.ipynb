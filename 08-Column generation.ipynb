{
 "cells": [
  {
   "cell_type": "code",
   "execution_count": 1,
   "metadata": {
    "collapsed": true
   },
   "outputs": [],
   "source": [
    "using JuMP\n",
    "#using GLPKMathProgInterface\n",
    "using CPLEX"
   ]
  },
  {
   "cell_type": "markdown",
   "metadata": {},
   "source": [
    "# Generación de columnas\n",
    "\n",
    "La generación de columnas no difiere mucho entre problemas. La idea básica siempre es:\n",
    "\n",
    "(1) Tenemos un modelo que puede dividirse en un problema tipo \"set cover\" o \"set packing\" y otro que genera los sets del modelo de set cover o set packing.\n",
    "\n",
    "Un ejemplo típico es el cutting stock. El modelo master resultante es:\n",
    "\n",
    "$\\mbox{[MIN]} \\sum_{j\\in \\mathcal{J}} x_j$ \n",
    "\n",
    "$\\sum_{j\\in \\mathcal{J}} a_{ij} x_j \\geq d_i \\qquad \\forall i\\in P$\n",
    "\n",
    "$x_j \\in \\mathbb{Z}_{\\geq0}\\qquad \\forall j\\in \\mathcal{J}$\n",
    "\n",
    "donde las variables indican el número de veces que se repite el patrón en rollos diferentes y se intenta minimizart el número de rollos utilizados para cumplir con la demanda $d_i$ de los $P$ productos.\n",
    "\n",
    "El problema de pricing usa los costes reducidos de las variables del dual para calcular el mejor rollo:\n",
    "\n",
    "$ \\mbox{[MIN]} 1 - \\sum_{i \\in P} {\\pi_i y_i}$\n",
    "\n",
    "sujeto a:\n",
    "\n",
    "$ \\sum_{i \\in P} w_i y_{i} \\leq W $\n",
    "\n",
    "$ y_i \\in \\mathbb{Z}_{\\geq0}\\qquad \\forall j\\in \\mathcal{J} $\n",
    "\n",
    "Que corresponde a un modelo de knapsack tradicional.\n",
    "\n",
    "Nota: Consultar http://www4.ncsu.edu/~kksivara/ma505/handouts/gilmore-gomory1.pdf para detalles de lo que estamos haciendo."
   ]
  },
  {
   "cell_type": "code",
   "execution_count": 3,
   "metadata": {},
   "outputs": [
    {
     "name": "stderr",
     "output_type": "stream",
     "text": [
      "WARNING: Method definition instanciaAleatoria(Int64) in module Main at In[2]:2 overwritten at In[3]:2.\n"
     ]
    },
    {
     "data": {
      "text/plain": [
       "instanciaAleatoria (generic function with 1 method)"
      ]
     },
     "execution_count": 3,
     "metadata": {},
     "output_type": "execute_result"
    }
   ],
   "source": [
    "function instanciaAleatoria(n::Int64)\n",
    "    w = rand(1:1000, n)\n",
    "    d=rand(1:50, n)\n",
    "    W=sum(w[1:n])/5\n",
    "    if W<maximum(w)\n",
    "        W=maximum(w)\n",
    "    end\n",
    "    return W,d,w\n",
    "end"
   ]
  },
  {
   "cell_type": "code",
   "execution_count": 7,
   "metadata": {},
   "outputs": [
    {
     "name": "stderr",
     "output_type": "stream",
     "text": [
      "WARNING: Method definition solveCG(Any, Any, Any, Any) in module Main at In[4]:2 overwritten at In[7]:2.\n",
      "WARNING: Method definition solveCG(Any, Any, Any, Any, Any) in module Main at In[4]:2 overwritten at In[7]:2.\n",
      "WARNING: Method definition solveCG(Any, Any, Any, Any, Any, Any) in module Main at In[4]:2 overwritten at In[7]:2.\n"
     ]
    },
    {
     "data": {
      "text/plain": [
       "solveCG (generic function with 3 methods)"
      ]
     },
     "execution_count": 7,
     "metadata": {},
     "output_type": "execute_result"
    }
   ],
   "source": [
    "function solveCG(n,W,d,w,solver=CplexSolver(),solverPricing=CplexSolver())\n",
    "    EPS=0.000001\n",
    "    model = Model(solver = solver)\n",
    "    @variable(model, x[1:n]>=0)\n",
    "    @objective(model,Min, sum(x[i] for i in 1:n) )\n",
    "    @constraint(model, demand[i=1:n], x[i] >= d[i])\n",
    "    \n",
    "    pricing = Model(solver = solverPricing)\n",
    "    @variable(pricing, y[1:n]>=0,Int)\n",
    "    @constraint(pricing,sum(w[i]*y[i] for i in 1:n)<=W)\n",
    "    numVariables=n\n",
    "    p=zeros(Float64,n)\n",
    "    while true\n",
    "        status = solve(model)\n",
    "        print(\"solucion: \",status,\"\\t\",getobjectivevalue(model),\"\\t\")\n",
    "        p=getdual(demand)\n",
    "        #el pricing sólo requiere un cambio de la función objetivo\n",
    "        @objective(pricing,Max,sum(p[i]*y[i] for i in 1:n))\n",
    "        status = solve(pricing)\n",
    "        println(\"\\tpricing:\\t\",getobjectivevalue(pricing))\n",
    "        if getobjectivevalue(pricing)<(1.0+EPS)\n",
    "            break\n",
    "        else\n",
    "            #new column\n",
    "            solvec=Float64[]\n",
    "            for i in 1:n\n",
    "                push!(solvec,getvalue(y)[i])\n",
    "            end\n",
    "            @variable(model, xNew>=0, objective = 1, inconstraints=demand, coefficients =solvec)\n",
    "            numVariables += 1\n",
    "            #setname(xNew, string(\"x[\",numVariables,\"]\")) \n",
    "        end\n",
    "    end    \n",
    "    println(\"\\nend\")\n",
    "    print(model)\n",
    "end"
   ]
  },
  {
   "cell_type": "code",
   "execution_count": 8,
   "metadata": {},
   "outputs": [
    {
     "name": "stdout",
     "output_type": "stream",
     "text": [
      "solucion: Optimal\t329.0\t\tpricing:\t49.0\n",
      "solucion: Optimal\t298.63265306122446\t\tpricing:\t25.020408163265305\n",
      "solucion: Optimal\t287.10285714285715\t\tpricing:\t25.0\n",
      "solucion: Optimal\t252.54285714285712\t\tpricing:\t25.0\n",
      "solucion: Optimal\t206.46285714285713\t\tpricing:\t21.0\n",
      "solucion: Optimal\t166.4628571428571\t\tpricing:\t19.0\n",
      "solucion: Optimal\t158.88390977443606\t\tpricing:\t18.047619047619047\n",
      "solucion: Optimal\t114.37068226120859\t\tpricing:\t16.020408163265305\n",
      "solucion: Optimal\t78.69721287345348\t\tpricing:\t12.0\n",
      "solucion: Optimal\t60.36387954012013\t\tpricing:\t11.059591836734695\n",
      "solucion: Optimal\t17.381987146799176\t\tpricing:\t1.0165270318653779\n",
      "solucion: Optimal\t17.373723630866486\t\tpricing:\t1.3450340136054423\n",
      "solucion: Optimal\t17.368290885040885\t\tpricing:\t1.0133333333333334\n",
      "solucion: Optimal\t17.340731170245878\t\tpricing:\t1.0119047619047619\n",
      "solucion: Optimal\t17.328425194136425\t\tpricing:\t1.0095238095238095\n",
      "solucion: Optimal\t17.30827946793691\t\tpricing:\t1.007875150060024\n",
      "solucion: Optimal\t17.295425096914684\t\tpricing:\t1.0063445067146028\n",
      "solucion: Optimal\t17.292628795955014\t\tpricing:\t1.0015915873274\n",
      "solucion: Optimal\t17.288308773209213\t\tpricing:\t1.6906662451970847\n",
      "solucion: Optimal\t17.28482949273555\t\tpricing:\t1.000438837340297\n",
      "solucion: Optimal\t17.284653682074914\t\tpricing:\t1.000416665539182\n",
      "solucion: Optimal\t17.284186493903437\t\tpricing:\t1.6903450753828624\n",
      "solucion: Optimal\t17.283157473882646\t\tpricing:\t1.000444848787174\n",
      "solucion: Optimal\t17.282891228526662\t\tpricing:\t1.0004458976930162\n",
      "solucion: Optimal\t17.28256233945691\t\tpricing:\t1.0001656067139264\n",
      "solucion: Optimal\t17.282475788364025\t\tpricing:\t1.0000592419060026\n",
      "solucion: Optimal\t17.282425414344512\t\tpricing:\t1.000034535840331\n",
      "solucion: Optimal\t17.28226462171911\t\tpricing:\t1.0000393607919884\n",
      "solucion: Optimal\t17.28225155031187\t\tpricing:\t1.000002886409054\n",
      "solucion: Optimal\t17.282249058285444\t\tpricing:\t1.8100013666151424\n",
      "solucion: Optimal\t17.282247353414878\t\tpricing:\t1.000028917461674\n",
      "solucion: Optimal\t17.282233096973933\t\tpricing:\t1.0\n",
      "\n",
      "end\n",
      "Min x[1] + x[2] + x[3] + x[4] + x[5] + x[6] + x[7] + x[8] + x[9] + x[10] + xNew + xNew + xNew + xNew + xNew + xNew + xNew + xNew + xNew + xNew + xNew + xNew + xNew + xNew + xNew + xNew + xNew + xNew + xNew + xNew + xNew + xNew + xNew + xNew + xNew + xNew + xNew + xNew + xNew + xNew + xNew\n",
      "Subject to\n",
      " x[1] + 25 xNew + xNew + xNew + 17 xNew + xNew + 5 xNew + xNew + xNew + 23 xNew + 16 xNew + xNew + xNew + 9 xNew + 7 xNew + 11 xNew ≥ 36\n",
      " x[2] + 49 xNew + xNew + xNew + xNew + xNew + 2 xNew + 46.99999999999997 xNew + xNew + 2 xNew + 2 xNew + 4 xNew + 2 xNew ≥ 31\n",
      " x[3] + 12 xNew + xNew + 4 xNew + 11 xNew + 8 xNew + 7.999999999999999 xNew ≥ 20\n",
      " x[4] + 11 xNew + 9 xNew + xNew + xNew + 4 xNew + 6 xNew + xNew + xNew ≥ 47\n",
      " x[5] + 16 xNew + 14 xNew + xNew + 2 xNew ≥ 38\n",
      " x[6] + 25 xNew + xNew + 5 xNew + 23 xNew + xNew + 4 xNew + xNew + 12 xNew + xNew + 5 xNew + 2 xNew + 2 xNew ≥ 48\n",
      " x[7] + 25 xNew + xNew + xNew + 20 xNew + 2 xNew + 3 xNew + 4 xNew + 2 xNew + 2 xNew ≥ 12\n",
      " x[8] + 19 xNew + 16 xNew + xNew + 17 xNew + 2 xNew ≥ 8\n",
      " x[9] + 18 xNew + xNew + xNew + xNew + 2 xNew + xNew + xNew + xNew + 7 xNew ≥ 47\n",
      " x[10] + 21 xNew + xNew + 2 xNew + xNew + 2 xNew + 17 xNew + xNew + xNew + xNew + 2 xNew + 4 xNew + 14 xNew + 12 xNew + 12 xNew + 11 xNew + 8 xNew ≥ 42\n",
      " x[i] ≥ 0 ∀ i ∈ {1,2,…,9,10}\n",
      " xNew ≥ 0\n",
      " xNew ≥ 0\n",
      " xNew ≥ 0\n",
      " xNew ≥ 0\n",
      " xNew ≥ 0\n",
      " xNew ≥ 0\n",
      " xNew ≥ 0\n",
      " xNew ≥ 0\n",
      " xNew ≥ 0\n",
      " xNew ≥ 0\n",
      " xNew ≥ 0\n",
      " xNew ≥ 0\n",
      " xNew ≥ 0\n",
      " xNew ≥ 0\n",
      " xNew ≥ 0\n",
      " xNew ≥ 0\n",
      " xNew ≥ 0\n",
      " xNew ≥ 0\n",
      " xNew ≥ 0\n",
      " xNew ≥ 0\n",
      " xNew ≥ 0\n",
      " xNew ≥ 0\n",
      " xNew ≥ 0\n",
      " xNew ≥ 0\n",
      " xNew ≥ 0\n",
      " xNew ≥ 0\n",
      " xNew ≥ 0\n",
      " xNew ≥ 0\n",
      " xNew ≥ 0\n",
      " xNew ≥ 0\n",
      " xNew ≥ 0\n"
     ]
    }
   ],
   "source": [
    "n=10\n",
    "W,d,w=instanciaAleatoria(100)\n",
    "solveCG(n,W,d,w,CplexSolver(CPX_PARAM_SCRIND=0),CplexSolver(CPX_PARAM_SCRIND=0))"
   ]
  },
  {
   "cell_type": "markdown",
   "metadata": {},
   "source": [
    "## Método como una heurística\n",
    "\n",
    "Una vez resuelto, podríamos aprovechar el método para usarlo como heurística, para ello tendremos que cambiar las variables para que pasen a ser enteras."
   ]
  },
  {
   "cell_type": "code",
   "execution_count": 9,
   "metadata": {},
   "outputs": [
    {
     "data": {
      "text/plain": [
       "solveCGHeur (generic function with 3 methods)"
      ]
     },
     "execution_count": 9,
     "metadata": {},
     "output_type": "execute_result"
    }
   ],
   "source": [
    "function solveCGHeur(n,W,d,w,solver=CplexSolver(),solverPricing=CplexSolver())\n",
    "    EPS=0.000001\n",
    "    model = Model(solver = solver)\n",
    "    newColumns=Variable[]\n",
    "    @variable(model, x[1:n]>=0)\n",
    "    @objective(model,Min, sum(x[i] for i in 1:n) )\n",
    "    @constraint(model, demand[i=1:n], x[i] >= d[i])\n",
    "    \n",
    "    pricing = Model(solver = solverPricing)\n",
    "    @variable(pricing, y[1:n]>=0,Int)\n",
    "    @constraint(pricing,sum(w[i]*y[i] for i in 1:n)<=W)\n",
    "    numVariables=n\n",
    "    p=zeros(Float64,n)\n",
    "    while true\n",
    "        status = solve(model)\n",
    "        print(\"solucion: \",status,\"\\t\",getobjectivevalue(model),\"\\t\")\n",
    "        p=getdual(demand)\n",
    "        #el pricing sólo requiere un cambio de la función objetivo\n",
    "        @objective(pricing,Max,sum(p[i]*y[i] for i in 1:n))\n",
    "        status = solve(pricing)\n",
    "        println(\"\\tpricing:\\t\",getobjectivevalue(pricing))\n",
    "        if getobjectivevalue(pricing)<(1.0+EPS)\n",
    "            break\n",
    "        else\n",
    "            #new column\n",
    "            solvec=Float64[]\n",
    "            for i in 1:n\n",
    "                push!(solvec,getvalue(y)[i])\n",
    "            end\n",
    "            @variable(model, xNew>=0, objective = 1, inconstraints=demand, coefficients =solvec)\n",
    "            numVariables += 1\n",
    "            setname(xNew, string(\"x[\",numVariables,\"]\")) \n",
    "            push!(newColumns, xNew)            \n",
    "        end\n",
    "    end    \n",
    "    println(\"\\nend Fase 1 con valor:\",getobjectivevalue(model))\n",
    "    for i=1:length(x)\n",
    "        setcategory(x[i], :Int)\n",
    "    end\n",
    "    for i=1:length(newColumns)\n",
    "        setcategory(newColumns[i], :Int)\n",
    "    end\n",
    "    function infocallback(m)\n",
    "        println(\"exploredNodes: \",MathProgBase.cbgetexplorednodes(m),\" obj: \",MathProgBase.cbgetobj(m), \" bestBound: \",MathProgBase.cbgetbestbound(m))        \n",
    "    end\n",
    "    addinfocallback(model, infocallback, when = :Intermediate)\n",
    "    status = solve(model)\n",
    "    println(\"\\nend Fase 2 con valor:\",getobjectivevalue(model))\n",
    "end"
   ]
  },
  {
   "cell_type": "code",
   "execution_count": null,
   "metadata": {},
   "outputs": [
    {
     "name": "stdout",
     "output_type": "stream",
     "text": [
      "solucion: Optimal\t329.0\t\tpricing:\t49.0\n",
      "solucion: Optimal\t298.63265306122446\t\tpricing:\t25.020408163265305\n",
      "solucion: Optimal\t287.10285714285715\t\tpricing:\t25.0\n",
      "solucion: Optimal\t252.54285714285712\t\tpricing:\t25.0\n",
      "solucion: Optimal\t206.46285714285713\t\tpricing:\t21.0\n",
      "solucion: Optimal\t166.4628571428571\t\tpricing:\t19.0\n",
      "solucion: Optimal\t158.88390977443606\t\tpricing:\t18.047619047619047\n",
      "solucion: Optimal\t114.37068226120859\t\tpricing:\t16.020408163265305\n",
      "solucion: Optimal\t78.69721287345348\t\tpricing:\t12.0\n",
      "solucion: Optimal\t60.36387954012013\t\tpricing:\t11.059591836734695\n",
      "solucion: Optimal\t17.381987146799176\t\tpricing:\t1.0165270318653779\n",
      "solucion: Optimal\t17.373723630866486\t\tpricing:\t1.0150340136054423\n",
      "solucion: Optimal\t17.368290885040885\t\tpricing:\t1.9533333333333334\n",
      "solucion: Optimal\t17.340731170245878\t\tpricing:\t1.0119047619047619\n",
      "solucion: Optimal\t17.328425194136425\t\tpricing:\t1.0095238095238095\n",
      "solucion: Optimal\t17.30827946793691\t\tpricing:\t1.007875150060024\n",
      "solucion: Optimal\t17.295425096914684\t\tpricing:\t1.0063445067146028\n",
      "solucion: Optimal\t17.292628795955014\t\tpricing:\t1.0015915873274\n",
      "solucion: Optimal\t17.288308773209213\t\tpricing:\t1.9806662451970847\n",
      "solucion: Optimal\t17.28482949273555\t\tpricing:\t1.000438837340297\n",
      "solucion: Optimal\t17.284653682074914\t\tpricing:\t1.000416665539182\n",
      "solucion: Optimal\t17.284186493903437\t\tpricing:\t1.0003450753828624\n",
      "solucion: Optimal\t17.283157473882646\t\tpricing:\t1.140444848787174\n",
      "solucion: Optimal\t17.282891228526662\t\tpricing:\t1.0004458976930162\n",
      "solucion: Optimal\t17.28256233945691\t\tpricing:\t1.0001656067139264\n",
      "solucion: Optimal\t17.282475788364025\t\tpricing:\t1.0000592419060026\n",
      "solucion: Optimal\t17.282425414344512\t\tpricing:\t1.000034535840331\n",
      "solucion: Optimal\t17.28226462171911\t\tpricing:\t1.0000393607919884\n",
      "solucion: Optimal\t17.28225155031187\t\tpricing:\t1.000002886409054\n",
      "solucion: Optimal\t17.282249058285444\t\tpricing:\t1.2300013666151424\n",
      "solucion: Optimal\t17.282247353414878\t\tpricing:\t1.000028917461674\n",
      "solucion: Optimal\t17.282233096973933\t\tpricing:\t1.0\n",
      "\n",
      "end Fase 1 con valor:17.282233096973933\n",
      "exploredNodes: "
     ]
    }
   ],
   "source": [
    "solveCGHeur(n,W,d,w,CplexSolver(CPX_PARAM_SCRIND=0),CplexSolver(CPX_PARAM_SCRIND=0))"
   ]
  },
  {
   "cell_type": "code",
   "execution_count": null,
   "metadata": {
    "collapsed": true
   },
   "outputs": [],
   "source": []
  }
 ],
 "metadata": {
  "kernelspec": {
   "display_name": "Julia 0.5.2",
   "language": "julia",
   "name": "julia-0.5"
  },
  "language_info": {
   "file_extension": ".jl",
   "mimetype": "application/julia",
   "name": "julia",
   "version": "0.5.2"
  }
 },
 "nbformat": 4,
 "nbformat_minor": 2
}
