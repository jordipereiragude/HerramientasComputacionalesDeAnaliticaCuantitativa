{
 "cells": [
  {
   "cell_type": "code",
   "execution_count": 1,
   "metadata": {
    "collapsed": true
   },
   "outputs": [],
   "source": [
    "using JuMP\n",
    "#using GLPKMathProgInterface\n",
    "using CPLEX"
   ]
  },
  {
   "cell_type": "markdown",
   "metadata": {},
   "source": [
    "# Generación de columnas\n",
    "\n",
    "La generación de columnas no difiere mucho entre problemas. La idea básica siempre es:\n",
    "\n",
    "(1) Tenemos un modelo que puede dividirse en un problema tipo \"set cover\" o \"set packing\" y otro que genera los sets del modelo de set cover o set packing.\n",
    "\n",
    "Un ejemplo típico es el cutting stock. El modelo master resultante es:\n",
    "\n",
    "$\\mbox{[MIN]} \\sum_{j\\in \\mathcal{J}} x_j$ \n",
    "\n",
    "$\\sum_{j\\in \\mathcal{J}} a_{ij} x_j \\geq d_i \\qquad \\forall i\\in P$\n",
    "\n",
    "$x_j \\in \\mathbb{Z}_{\\geq0}\\qquad \\forall j\\in \\mathcal{J}$\n",
    "\n",
    "donde las variables indican el número de veces que se repite el patrón en rollos diferentes y se intenta minimizart el número de rollos utilizados para cumplir con la demanda $d_i$ de los $P$ productos.\n",
    "\n",
    "El problema de pricing usa los costes reducidos de las variables del dual para calcular el mejor rollo:\n",
    "\n",
    "$ \\mbox{[MIN]} 1 - \\sum_{i \\in P} {\\pi_i y_i}$\n",
    "\n",
    "sujeto a:\n",
    "\n",
    "$ \\sum_{i \\in P} w_i y_{i} \\leq W $\n",
    "\n",
    "$ y_i \\in \\mathbb{Z}_{\\geq0}\\qquad \\forall j\\in \\mathcal{J} $\n",
    "\n",
    "Que corresponde a un modelo de knapsack tradicional.\n",
    "\n",
    "Nota: Consultar http://www4.ncsu.edu/~kksivara/ma505/handouts/gilmore-gomory1.pdf para detalles de lo que estamos haciendo."
   ]
  },
  {
   "cell_type": "code",
   "execution_count": 2,
   "metadata": {},
   "outputs": [
    {
     "data": {
      "text/plain": [
       "instanciaAleatoria (generic function with 1 method)"
      ]
     },
     "execution_count": 2,
     "metadata": {},
     "output_type": "execute_result"
    }
   ],
   "source": [
    "function instanciaAleatoria(n::Int64)\n",
    "    w = rand(1:1000, n)\n",
    "    d=rand(1:50, n)\n",
    "    W=sum(w[1:n])/5\n",
    "    if W<maximum(w)\n",
    "        W=maximum(w)\n",
    "    end\n",
    "    return W,d,w\n",
    "end"
   ]
  },
  {
   "cell_type": "code",
   "execution_count": 3,
   "metadata": {},
   "outputs": [
    {
     "data": {
      "text/plain": [
       "solveCG (generic function with 3 methods)"
      ]
     },
     "execution_count": 3,
     "metadata": {},
     "output_type": "execute_result"
    }
   ],
   "source": [
    "function solveCG(n,W,d,w,solver=CplexSolver(),solverPricing=CplexSolver())\n",
    "    EPS=0.000001\n",
    "    model = Model(solver = solver)\n",
    "    @variable(model, x[1:n]>=0)\n",
    "    @objective(model,Min, sum(x[i] for i in 1:n) )\n",
    "    @constraint(model, demand[i=1:n], x[i] >= d[i])\n",
    "    \n",
    "    pricing = Model(solver = solverPricing)\n",
    "    @variable(pricing, y[1:n]>=0,Int)\n",
    "    @constraint(pricing,sum(w[i]*y[i] for i in 1:n)<=W)\n",
    "    numVariables=n\n",
    "    p=zeros(Float64,n)\n",
    "    while true\n",
    "        status = solve(model)\n",
    "        print(\"solucion: \",status,\"\\t\",getobjectivevalue(model),\"\\t\")\n",
    "        p=getdual(demand)\n",
    "        #el pricing sólo requiere un cambio de la función objetivo\n",
    "        @objective(pricing,Max,sum(p[i]*y[i] for i in 1:n))\n",
    "        status = solve(pricing)\n",
    "        println(\"\\tpricing:\\t\",getobjectivevalue(pricing))\n",
    "        if getobjectivevalue(pricing)<(1.0+EPS)\n",
    "            break\n",
    "        else\n",
    "            #new column\n",
    "            solvec=Float64[]\n",
    "            for i in 1:n\n",
    "                push!(solvec,getvalue(y)[i])\n",
    "            end\n",
    "            @variable(model, xNew>=0, objective = 1, inconstraints=demand, coefficients =solvec)\n",
    "            numVariables += 1\n",
    "            setname(xNew, string(\"x[\",numVariables,\"]\")) \n",
    "        end\n",
    "    end    \n",
    "    println(\"\\nend\")\n",
    "    print(model)\n",
    "end"
   ]
  },
  {
   "cell_type": "code",
   "execution_count": 4,
   "metadata": {},
   "outputs": [
    {
     "name": "stdout",
     "output_type": "stream",
     "text": [
      "solucion: Optimal\t295.0\t\tpricing:\t569.0\n",
      "solucion: Optimal\t285.01757469244285\t\tpricing:\t225.0\n",
      "solucion: Optimal\t241.21313024799844\t\tpricing:\t18.044342901776997\n",
      "solucion: Optimal\t202.39234567901235\t\tpricing:\t18.022222222222222\n",
      "solucion: Optimal\t155.10839506172837\t\tpricing:\t16.035555555555554\n",
      "solucion: Optimal\t111.93055555555554\t\tpricing:\t14.0\n",
      "solucion: Optimal\t98.93055555555554\t\tpricing:\t12.0625\n",
      "solucion: Optimal\t59.28993055555555\t\tpricing:\t12.0\n",
      "solucion: Optimal\t45.53993055555556\t\tpricing:\t11.0\n",
      "solucion: Optimal\t30.99447601010101\t\tpricing:\t11.0\n",
      "solucion: Optimal\t16.449021464646464\t\tpricing:\t1.0429292929292928\n",
      "solucion: Optimal\t16.380442557602414\t\tpricing:\t1.039070494044132\n",
      "solucion: Optimal\t16.336697813878175\t\tpricing:\t1.0361679181977952\n",
      "solucion: Optimal\t16.334058401218833\t\tpricing:\t1.0262422112158491\n",
      "solucion: Optimal\t16.29886051474678\t\tpricing:\t1.0254615770872362\n",
      "solucion: Optimal\t16.286939251224965\t\tpricing:\t1.7589463314463314\n",
      "solucion: Optimal\t16.27648406385121\t\tpricing:\t1.0131592923772186\n",
      "solucion: Optimal\t16.264269694207048\t\tpricing:\t1.0099847428494175\n",
      "solucion: Optimal\t16.2642410557132\t\tpricing:\t1.009175465057818\n",
      "solucion: Optimal\t16.229596084987683\t\tpricing:\t1.0014414038896813\n",
      "solucion: Optimal\t16.229585676231345\t\tpricing:\t1.0009750583618864\n",
      "solucion: Optimal\t16.226770600371506\t\tpricing:\t1.0006858997336543\n",
      "solucion: Optimal\t16.226060773672287\t\tpricing:\t1.0006933336910453\n",
      "solucion: Optimal\t16.225554953469107\t\tpricing:\t1.0002801816425269\n",
      "solucion: Optimal\t16.225537148553162\t\tpricing:\t1.0002914130450271\n",
      "solucion: Optimal\t16.225339202150412\t\tpricing:\t1.8203170987331658\n",
      "solucion: Optimal\t16.225162223598517\t\tpricing:\t1.0001009225875697\n",
      "solucion: Optimal\t16.225150157548196\t\tpricing:\t1.0001303919030378\n",
      "solucion: Optimal\t16.22500819903432\t\tpricing:\t1.0002024089437025\n",
      "solucion: Optimal\t16.224276601645556\t\tpricing:\t1.0\n",
      "\n",
      "end\n",
      "Min x[1] + x[2] + x[3] + x[4] + x[5] + x[6] + x[7] + x[8] + x[9] + x[10] + x[11] + x[12] + x[13] + x[14] + x[15] + x[16] + x[17] + x[18] + x[19] + x[20] + x[21] + x[22] + x[23] + x[24] + x[25] + x[26] + x[27] + x[28] + x[29] + x[30] + x[31] + x[32] + x[33] + x[34] + x[35] + x[36] + x[37] + x[38] + x[39]\n",
      "Subject to\n",
      " x[1] + 12 x[17] + x[26] + 12 x[28] + 11 x[29] + x[31] + x[33] + 12 x[37] + 10 x[38] + 4 x[39] ≥ 43\n",
      " x[2] + 14 x[16] + x[26] + 14 x[27] + 13 x[32] + x[33] + x[35] ≥ 14\n",
      " x[3] + 12 x[18] + x[21] + 9 x[24] + 10 x[35] + 9 x[36] ≥ 15\n",
      " x[4] + 18 x[14] + x[26] + 17 x[31] + x[34] + x[35] ≥ 50\n",
      " x[5] + 16 x[15] + x[17] + 2 x[23] + x[29] + x[32] + 10 x[39] ≥ 46\n",
      " x[6] + 569 x[11] + 5 x[13] + 2 x[22] + 3 x[23] + 2 x[24] + 12 x[25] + 5 x[27] + 40 x[28] + x[30] + x[32] + x[33] + 4 x[34] + 6 x[35] + x[36] + 35 x[37] + x[38] ≥ 10\n",
      " x[7] + 225 x[12] + 8 x[13] + 5 x[14] + 8 x[15] + 8 x[22] + x[25] + x[27] + 213 x[30] + 5 x[32] + 12 x[33] + x[36] + 2 x[37] + 11 x[38] ≥ 44\n",
      " x[8] + 11 x[20] + x[21] + 3 x[24] + 11 x[25] + 9 x[26] + 9 x[33] + 10 x[34] + x[36] ≥ 16\n",
      " x[9] + 18 x[13] + 14 x[21] + x[30] + x[34] + x[35] ≥ 41\n",
      " x[10] + 11 x[19] + x[21] + 11 x[22] + 10 x[23] + x[29] + 2 x[36] + 2 x[38] + x[39] ≥ 16\n",
      " x[i] ≥ 0 ∀ i ∈ {1,2,…,9,10}\n",
      " x[11] ≥ 0\n",
      " x[12] ≥ 0\n",
      " x[13] ≥ 0\n",
      " x[14] ≥ 0\n",
      " x[15] ≥ 0\n",
      " x[16] ≥ 0\n",
      " x[17] ≥ 0\n",
      " x[18] ≥ 0\n",
      " x[19] ≥ 0\n",
      " x[20] ≥ 0\n",
      " x[21] ≥ 0\n",
      " x[22] ≥ 0\n",
      " x[23] ≥ 0\n",
      " x[24] ≥ 0\n",
      " x[25] ≥ 0\n",
      " x[26] ≥ 0\n",
      " x[27] ≥ 0\n",
      " x[28] ≥ 0\n",
      " x[29] ≥ 0\n",
      " x[30] ≥ 0\n",
      " x[31] ≥ 0\n",
      " x[32] ≥ 0\n",
      " x[33] ≥ 0\n",
      " x[34] ≥ 0\n",
      " x[35] ≥ 0\n",
      " x[36] ≥ 0\n",
      " x[37] ≥ 0\n",
      " x[38] ≥ 0\n",
      " x[39] ≥ 0\n"
     ]
    }
   ],
   "source": [
    "n=10\n",
    "W,d,w=instanciaAleatoria(100)\n",
    "solveCG(n,W,d,w,CplexSolver(CPX_PARAM_SCRIND=0),CplexSolver(CPX_PARAM_SCRIND=0))"
   ]
  },
  {
   "cell_type": "markdown",
   "metadata": {},
   "source": [
    "## Método como una heurística\n",
    "\n",
    "Una vez resuelto, podríamos aprovechar el método para usarlo como heurística, para ello tendremos que cambiar las variables para que pasen a ser enteras."
   ]
  },
  {
   "cell_type": "code",
   "execution_count": 7,
   "metadata": {},
   "outputs": [
    {
     "name": "stderr",
     "output_type": "stream",
     "text": [
      "WARNING: Method definition solveCGHeur(Any, Any, Any, Any) in module Main at In[5]:2 overwritten at In[7]:2.\n",
      "WARNING: Method definition solveCGHeur(Any, Any, Any, Any, Any) in module Main at In[5]:2 overwritten at In[7]:2.\n",
      "WARNING: Method definition solveCGHeur(Any, Any, Any, Any, Any, Any) in module Main at In[5]:2 overwritten at In[7]:2.\n"
     ]
    },
    {
     "data": {
      "text/plain": [
       "solveCGHeur (generic function with 3 methods)"
      ]
     },
     "execution_count": 7,
     "metadata": {},
     "output_type": "execute_result"
    }
   ],
   "source": [
    "function solveCGHeur(n,W,d,w,solver=CplexSolver(),solverPricing=CplexSolver())\n",
    "    EPS=0.000001\n",
    "    model = Model(solver = solver)\n",
    "    newColumns=Variable[]\n",
    "    @variable(model, x[1:n]>=0)\n",
    "    @objective(model,Min, sum(x[i] for i in 1:n) )\n",
    "    @constraint(model, demand[i=1:n], x[i] >= d[i])\n",
    "    \n",
    "    pricing = Model(solver = solverPricing)\n",
    "    @variable(pricing, y[1:n]>=0,Int)\n",
    "    @constraint(pricing,sum(w[i]*y[i] for i in 1:n)<=W)\n",
    "    numVariables=n\n",
    "    p=zeros(Float64,n)\n",
    "    while true\n",
    "        status = solve(model)\n",
    "        print(\"solucion: \",status,\"\\t\",getobjectivevalue(model),\"\\t\")\n",
    "        p=getdual(demand)\n",
    "        #el pricing sólo requiere un cambio de la función objetivo\n",
    "        @objective(pricing,Max,sum(p[i]*y[i] for i in 1:n))\n",
    "        status = solve(pricing)\n",
    "        println(\"\\tpricing:\\t\",getobjectivevalue(pricing))\n",
    "        if getobjectivevalue(pricing)<(1.0+EPS)\n",
    "            break\n",
    "        else\n",
    "            #new column\n",
    "            solvec=Float64[]\n",
    "            for i in 1:n\n",
    "                push!(solvec,getvalue(y)[i])\n",
    "            end\n",
    "            @variable(model, xNew>=0, objective = 1, inconstraints=demand, coefficients =solvec)\n",
    "            numVariables += 1\n",
    "            setname(xNew, string(\"x[\",numVariables,\"]\")) \n",
    "            push!(newColumns, xNew)            \n",
    "        end\n",
    "    end    \n",
    "    println(\"\\nend Fase 1 con valor:\",getobjectivevalue(model))\n",
    "    for i=1:length(x)\n",
    "        setcategory(x[i], :Int)\n",
    "    end\n",
    "    for i=1:length(newColumns)\n",
    "        setcategory(newColumns[i], :Int)\n",
    "    end\n",
    "\n",
    "    status = solve(model)\n",
    "    println(\"\\nend Fase 2 con valor:\",getobjectivevalue(model))\n",
    "end"
   ]
  },
  {
   "cell_type": "code",
   "execution_count": 8,
   "metadata": {},
   "outputs": [
    {
     "name": "stdout",
     "output_type": "stream",
     "text": [
      "solucion: Optimal\t295.0\t\tpricing:\t569.0\n",
      "solucion: Optimal\t285.01757469244285\t\tpricing:\t225.0\n",
      "solucion: Optimal\t241.21313024799844\t\tpricing:\t18.044342901776997\n",
      "solucion: Optimal\t202.39234567901235\t\tpricing:\t18.022222222222222\n",
      "solucion: Optimal\t155.10839506172837\t\tpricing:\t16.035555555555554\n",
      "solucion: Optimal\t111.93055555555554\t\tpricing:\t14.0\n",
      "solucion: Optimal\t98.93055555555554\t\tpricing:\t12.0625\n",
      "solucion: Optimal\t59.28993055555555\t\tpricing:\t12.0\n",
      "solucion: Optimal\t45.53993055555556\t\tpricing:\t11.0\n",
      "solucion: Optimal\t30.99447601010101\t\tpricing:\t11.0\n",
      "solucion: Optimal\t16.449021464646464\t\tpricing:\t1.0429292929292928\n",
      "solucion: Optimal\t16.380442557602414\t\tpricing:\t1.039070494044132\n",
      "solucion: Optimal\t16.336697813878175\t\tpricing:\t1.0361679181977952\n",
      "solucion: Optimal\t16.334058401218833\t\tpricing:\t1.0262422112158491\n",
      "solucion: Optimal\t16.29886051474678\t\tpricing:\t1.0254615770872362\n",
      "solucion: Optimal\t16.286939251224965\t\tpricing:\t1.9789463314463314\n",
      "solucion: Optimal\t16.27648406385121\t\tpricing:\t1.0131592923772186\n",
      "solucion: Optimal\t16.264269694207048\t\tpricing:\t1.0099847428494175\n",
      "solucion: Optimal\t16.2642410557132\t\tpricing:\t1.009175465057818\n",
      "solucion: Optimal\t16.229596084987683\t\tpricing:\t1.0014414038896813\n",
      "solucion: Optimal\t16.229585676231345\t\tpricing:\t1.0009750583618864\n",
      "solucion: Optimal\t16.226770600371506\t\tpricing:\t1.0006858997336543\n",
      "solucion: Optimal\t16.226060773672287\t\tpricing:\t1.0006933336910453\n",
      "solucion: Optimal\t16.225554953469107\t\tpricing:\t1.0002801816425269\n",
      "solucion: Optimal\t16.225537148553162\t\tpricing:\t1.0002914130450271\n",
      "solucion: Optimal\t16.225339202150412\t\tpricing:\t1.0003170987331658\n",
      "solucion: Optimal\t16.225162223598517\t\tpricing:\t1.0001009225875697\n",
      "solucion: Optimal\t16.225150157548196\t\tpricing:\t1.0001303919030378\n",
      "solucion: Optimal\t16.22500819903432\t\tpricing:\t1.0002024089437025\n",
      "solucion: Optimal\t16.224276601645556\t\tpricing:\t1.0\n",
      "\n",
      "end Fase 1 con valor:16.224276601645556\n",
      "\n",
      "end Fase 2 con valor:17.0\n"
     ]
    }
   ],
   "source": [
    "solveCGHeur(n,W,d,w,CplexSolver(CPX_PARAM_SCRIND=0),CplexSolver(CPX_PARAM_SCRIND=0))"
   ]
  },
  {
   "cell_type": "code",
   "execution_count": null,
   "metadata": {
    "collapsed": true
   },
   "outputs": [],
   "source": []
  }
 ],
 "metadata": {
  "kernelspec": {
   "display_name": "Julia 0.5.2",
   "language": "julia",
   "name": "julia-0.5"
  },
  "language_info": {
   "file_extension": ".jl",
   "mimetype": "application/julia",
   "name": "julia",
   "version": "0.5.2"
  }
 },
 "nbformat": 4,
 "nbformat_minor": 2
}
