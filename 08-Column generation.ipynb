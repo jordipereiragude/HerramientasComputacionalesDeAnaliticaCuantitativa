{
 "cells": [
  {
   "cell_type": "code",
   "execution_count": 1,
   "metadata": {
    "collapsed": true
   },
   "outputs": [],
   "source": [
    "using JuMP\n",
    "#using GLPKMathProgInterface\n",
    "using CPLEX"
   ]
  },
  {
   "cell_type": "markdown",
   "metadata": {},
   "source": [
    "# Generación de columnas\n",
    "\n",
    "La generación de columnas no difiere mucho entre problemas. La idea básica siempre es:\n",
    "\n",
    "(1) Tenemos un modelo que puede dividirse en un problema tipo \"set cover\" o \"set packing\" y otro que genera los sets del modelo de set cover o set packing.\n",
    "\n",
    "Un ejemplo típico es el cutting stock. El modelo master resultante es:\n",
    "\n",
    "$\\mbox{[MIN]} \\sum_{j\\in \\mathcal{J}} x_j$ \n",
    "\n",
    "$\\sum_{j\\in \\mathcal{J}} a_{ij} x_j \\geq d_i \\qquad \\forall i\\in P$\n",
    "\n",
    "$x_j \\in \\mathbb{Z}_{\\geq0}\\qquad \\forall j\\in \\mathcal{J}$\n",
    "\n",
    "donde las variables indican el número de veces que se repite el patrón en rollos diferentes y se intenta minimizart el número de rollos utilizados para cumplir con la demanda $d_i$ de los $P$ productos.\n",
    "\n",
    "El problema de pricing usa los costes reducidos de las variables del dual para calcular el mejor rollo:\n",
    "\n",
    "$ \\mbox{[MIN]} 1 - \\sum_{i \\in P} {\\pi_i y_i}$\n",
    "\n",
    "sujeto a:\n",
    "\n",
    "$ \\sum_{i \\in P} w_i y_{i} \\leq W $\n",
    "\n",
    "$ y_i \\in \\mathbb{Z}_{\\geq0}\\qquad \\forall j\\in \\mathcal{J} $\n",
    "\n",
    "Que corresponde a un modelo de knapsack tradicional.\n",
    "\n",
    "Nota: Consultar http://www4.ncsu.edu/~kksivara/ma505/handouts/gilmore-gomory1.pdf para detalles de lo que estamos haciendo."
   ]
  },
  {
   "cell_type": "code",
   "execution_count": 2,
   "metadata": {},
   "outputs": [
    {
     "data": {
      "text/plain": [
       "instanciaAleatoria (generic function with 1 method)"
      ]
     },
     "execution_count": 2,
     "metadata": {},
     "output_type": "execute_result"
    }
   ],
   "source": [
    "function instanciaAleatoria(n::Int64)\n",
    "    w = rand(1:1000, n)\n",
    "    d=rand(1:50, n)\n",
    "    W=sum(w[1:n])/2\n",
    "    return W,d,w\n",
    "end"
   ]
  },
  {
   "cell_type": "code",
   "execution_count": 9,
   "metadata": {},
   "outputs": [
    {
     "name": "stderr",
     "output_type": "stream",
     "text": [
      "\u001b[1m\u001b[31mWARNING: @defVar is deprecated, use @variable instead.\u001b[0m\n",
      " in depwarn(::String, ::Symbol) at ./deprecated.jl:64\n",
      " in @defVar(::Symbol, ::Vararg{Any,N}) at /opt/julia/v0.5/JuMP/src/deprecated.jl:18\n",
      " in include_string(::String, ::String) at ./loading.jl:441\n",
      " in include_string(::Module, ::String, ::String) at /opt/julia/v0.5/Compat/src/Compat.jl:464\n",
      " in execute_request(::ZMQ.Socket, ::IJulia.Msg) at /opt/julia/v0.5/IJulia/src/execute_request.jl:154\n",
      " in invokelatest(::Function, ::ZMQ.Socket, ::Vararg{Any,N}) at /opt/julia/v0.5/Compat/src/Compat.jl:475\n",
      " in eventloop(::ZMQ.Socket) at /opt/julia/v0.5/IJulia/src/eventloop.jl:8\n",
      " in (::IJulia.##18#24)() at ./task.jl:360\n",
      "while loading In[9], in expression starting on line 1\n",
      "WARNING: Method definition solveCG(Any, Any, Any, Any) in module Main at In[7]:2 overwritten at In[9]:2.\n",
      "WARNING: Method definition solveCG(Any, Any, Any, Any, Any) in module Main at In[7]:2 overwritten at In[9]:2.\n"
     ]
    },
    {
     "data": {
      "text/plain": [
       "solveCG (generic function with 2 methods)"
      ]
     },
     "execution_count": 9,
     "metadata": {},
     "output_type": "execute_result"
    }
   ],
   "source": [
    "function solveCG(n,W,d,w,solver=CplexSolver())\n",
    "    model = Model(solver = solver)\n",
    "    @variable(model, x[1:n]>=0)\n",
    "    @objective(model,Min, sum(x[i] for i in 1:n) )\n",
    "    \n",
    "    @constraint(model, demand[i = 1:n], x[i] == d[i])\n",
    "    status = solve(model)\n",
    "    print(\"solucion: \",status,\"\\n\\n\\n\")\n",
    "    valor=getobjectivevalue(model)\n",
    "\n",
    "    @defVar(model, xx, 1,0, [2 0 0 0 0], [1.0 1.0 1.0 1.0 1.0])\n",
    "    status = solve(model)\n",
    "    print(\"solucion: \",status,\"\\n\\n\\n\")\n",
    "    valor=getobjectivevalue(model)\n",
    "end\n",
    "\n"
   ]
  },
  {
   "cell_type": "code",
   "execution_count": 8,
   "metadata": {},
   "outputs": [
    {
     "name": "stdout",
     "output_type": "stream",
     "text": [
      "Tried aggregator 1 time.\n",
      "LP Presolve eliminated 100 rows and 100 columns.\n",
      "All rows and columns eliminated.\n",
      "Presolve time = 0.00 sec. (0.03 ticks)\n",
      "solucion: Optimal\n",
      "\n",
      "\n",
      "CPLEX Error  3003: Not a mixed-integer problem.\n"
     ]
    },
    {
     "data": {
      "text/plain": [
       "2328.0"
      ]
     },
     "execution_count": 8,
     "metadata": {},
     "output_type": "execute_result"
    }
   ],
   "source": [
    "n=5\n",
    "W,d,w=instanciaAleatoria(100)\n",
    "solveCG(n,W,d,w,CplexSolver())"
   ]
  },
  {
   "cell_type": "code",
   "execution_count": null,
   "metadata": {
    "collapsed": true
   },
   "outputs": [],
   "source": []
  }
 ],
 "metadata": {
  "kernelspec": {
   "display_name": "Julia 0.5.2",
   "language": "julia",
   "name": "julia-0.5"
  },
  "language_info": {
   "file_extension": ".jl",
   "mimetype": "application/julia",
   "name": "julia",
   "version": "0.5.2"
  }
 },
 "nbformat": 4,
 "nbformat_minor": 2
}
