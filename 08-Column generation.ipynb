{
 "cells": [
  {
   "cell_type": "markdown",
   "metadata": {},
   "source": [
    "# Generación de columnas\n",
    "\n",
    "La generación de columnas no difiere mucho entre problemas. La idea básica siempre es:\n",
    "\n",
    "(1) Tenemos un modelo que puede dividirse en un problema tipo \"set cover\" o \"set packing\" y otro que genera los sets del modelo de set cover o set packing.\n",
    "\n",
    "Un ejemplo típico es el cutting stock. El modelo master resultante es:\n",
    "\n",
    "$\\mbox{[MIN]} \\sum_{j\\in \\mathcal{J}} x_j$ \n",
    "\n",
    "$\\sum_{j\\in \\mathcal{J}} a_{ij} x_j \\geq d_i \\qquad \\forall i\\in P$\n",
    "\n",
    "$x_j \\in \\mathbb{Z}_{\\geq0}\\qquad \\forall j\\in \\mathcal{J}$\n",
    "\n",
    "donde las variables indican el número de veces que se repite el patrón en rollos diferentes y se intenta minimizart el número de rollos utilizados para cumplir con la demanda $d_i$ de los $P$ productos.\n",
    "\n",
    "El problema de pricing usa los costes reducidos de las variables del dual para calcular el mejor rollo:\n",
    "\n",
    "$ \\mbox{[MIN]} 1 - \\sum_{i \\in P} \\quad {\\pi_i y_i}$\n",
    "\n",
    "sujeto a:\n",
    "\n",
    "$ \\sum_{i \\in P} w_i y_{i} \\leq W $\n",
    "\n",
    "$ y_i \\in \\mathbb{Z}_{\\geq0}\\qquad \\forall j\\in \\mathcal{J} $\n",
    "\n",
    "Que corresponde a un modelo de knapsack tradicional.\n",
    "\n",
    "Nota: Consultar http://www4.ncsu.edu/~kksivara/ma505/handouts/gilmore-gomory1.pdf para detalles de lo que estamos haciendo."
   ]
  },
  {
   "cell_type": "code",
   "execution_count": null,
   "metadata": {
    "collapsed": true
   },
   "outputs": [],
   "source": []
  },
  {
   "cell_type": "code",
   "execution_count": null,
   "metadata": {
    "collapsed": true
   },
   "outputs": [],
   "source": []
  }
 ],
 "metadata": {
  "kernelspec": {
   "display_name": "Julia 0.5.2",
   "language": "julia",
   "name": "julia-0.5"
  },
  "language_info": {
   "file_extension": ".jl",
   "mimetype": "application/julia",
   "name": "julia",
   "version": "0.5.2"
  }
 },
 "nbformat": 4,
 "nbformat_minor": 2
}
