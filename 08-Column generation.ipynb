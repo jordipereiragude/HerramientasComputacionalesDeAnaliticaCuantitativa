{
 "cells": [
  {
   "cell_type": "code",
   "execution_count": null,
   "metadata": {
    "collapsed": true
   },
   "outputs": [],
   "source": [
    "using JuMP\n",
    "#using GLPKMathProgInterface\n",
    "using CPLEX"
   ]
  },
  {
   "cell_type": "markdown",
   "metadata": {},
   "source": [
    "# Generación de columnas\n",
    "\n",
    "La generación de columnas no difiere mucho entre problemas. La idea básica siempre es:\n",
    "\n",
    "(1) Tenemos un modelo que puede dividirse en un problema tipo \"set cover\" o \"set packing\" y otro que genera los sets del modelo de set cover o set packing.\n",
    "\n",
    "Un ejemplo típico es el cutting stock. El modelo master resultante es:\n",
    "\n",
    "$\\mbox{[MIN]} \\sum_{j\\in \\mathcal{J}} x_j$ \n",
    "\n",
    "$\\sum_{j\\in \\mathcal{J}} a_{ij} x_j \\geq d_i \\qquad \\forall i\\in P$\n",
    "\n",
    "$x_j \\in \\mathbb{Z}_{\\geq0}\\qquad \\forall j\\in \\mathcal{J}$\n",
    "\n",
    "donde las variables indican el número de veces que se repite el patrón en rollos diferentes y se intenta minimizart el número de rollos utilizados para cumplir con la demanda $d_i$ de los $P$ productos.\n",
    "\n",
    "El problema de pricing usa los costes reducidos de las variables del dual para calcular el mejor rollo:\n",
    "\n",
    "$ \\mbox{[MIN]} 1 - \\sum_{i \\in P} {\\pi_i y_i}$\n",
    "\n",
    "sujeto a:\n",
    "\n",
    "$ \\sum_{i \\in P} w_i y_{i} \\leq W $\n",
    "\n",
    "$ y_i \\in \\mathbb{Z}_{\\geq0}\\qquad \\forall j\\in \\mathcal{J} $\n",
    "\n",
    "Que corresponde a un modelo de knapsack tradicional.\n",
    "\n",
    "Nota: Consultar http://www4.ncsu.edu/~kksivara/ma505/handouts/gilmore-gomory1.pdf para detalles de lo que estamos haciendo."
   ]
  },
  {
   "cell_type": "code",
   "execution_count": null,
   "metadata": {},
   "outputs": [],
   "source": [
    "function instanciaAleatoria(n::Int64)\n",
    "    w = rand(1:1000, n)\n",
    "    d=rand(1:50, n)\n",
    "    W=sum(w[1:n])/5\n",
    "    if W<maximum(w)\n",
    "        W=maximum(w)\n",
    "    end\n",
    "    return W,d,w\n",
    "end"
   ]
  },
  {
   "cell_type": "code",
   "execution_count": null,
   "metadata": {},
   "outputs": [],
   "source": [
    "function solveCG(n,W,d,w,solver=CplexSolver(),solverPricing=CplexSolver())\n",
    "    EPS=0.000001\n",
    "    model = Model(solver = solver)\n",
    "    @variable(model, x[1:n]>=0)\n",
    "    @objective(model,Min, sum(x[i] for i in 1:n) )\n",
    "    @constraint(model, demand[i=1:n], x[i] >= d[i])\n",
    "    \n",
    "    pricing = Model(solver = solverPricing)\n",
    "    @variable(pricing, y[1:n]>=0,Int)\n",
    "    @constraint(pricing,sum(w[i]*y[i] for i in 1:n)<=W)\n",
    "    numVariables=n\n",
    "    p=zeros(Float64,n)\n",
    "    while true\n",
    "        status = solve(model)\n",
    "        print(\"solucion: \",status,\"\\t\",getobjectivevalue(model),\"\\t\")\n",
    "        p=getdual(demand)\n",
    "        #el pricing sólo requiere un cambio de la función objetivo\n",
    "        @objective(pricing,Max,sum(p[i]*y[i] for i in 1:n))\n",
    "        status = solve(pricing)\n",
    "        println(\"\\tpricing:\\t\",getobjectivevalue(pricing))\n",
    "        if getobjectivevalue(pricing)<(1.0+EPS)\n",
    "            break\n",
    "        else\n",
    "            #new column\n",
    "            solvec=Float64[]\n",
    "            for i in 1:n\n",
    "                push!(solvec,getvalue(y)[i])\n",
    "            end\n",
    "            @variable(model, xNew>=0, objective = 1, inconstraints=demand, coefficients =solvec)\n",
    "            numVariables += 1\n",
    "            setname(xNew, string(\"x[\",numVariables,\"]\")) \n",
    "        end\n",
    "    end    \n",
    "    println(\"\\nend\")\n",
    "    print(model)\n",
    "end"
   ]
  },
  {
   "cell_type": "code",
   "execution_count": null,
   "metadata": {},
   "outputs": [],
   "source": [
    "n=10\n",
    "W,d,w=instanciaAleatoria(100)\n",
    "solveCG(n,W,d,w,CplexSolver(CPX_PARAM_SCRIND=0),CplexSolver(CPX_PARAM_SCRIND=0))"
   ]
  },
  {
   "cell_type": "markdown",
   "metadata": {},
   "source": [
    "## Método como una heurística\n",
    "\n",
    "Una vez resuelto, podríamos aprovechar el método para usarlo como heurística, para ello tendremos que cambiar las variables para que pasen a ser enteras."
   ]
  },
  {
   "cell_type": "code",
   "execution_count": null,
   "metadata": {},
   "outputs": [],
   "source": [
    "function solveCGHeur(n,W,d,w,solver=CplexSolver(),solverPricing=CplexSolver())\n",
    "    EPS=0.000001\n",
    "    model = Model(solver = solver)\n",
    "    newColumns=Variable[]\n",
    "    @variable(model, x[1:n]>=0)\n",
    "    @objective(model,Min, sum(x[i] for i in 1:n) )\n",
    "    @constraint(model, demand[i=1:n], x[i] >= d[i])\n",
    "    \n",
    "    pricing = Model(solver = solverPricing)\n",
    "    @variable(pricing, y[1:n]>=0,Int)\n",
    "    @constraint(pricing,sum(w[i]*y[i] for i in 1:n)<=W)\n",
    "    numVariables=n\n",
    "    p=zeros(Float64,n)\n",
    "    while true\n",
    "        status = solve(model)\n",
    "        print(\"solucion: \",status,\"\\t\",getobjectivevalue(model),\"\\t\")\n",
    "        p=getdual(demand)\n",
    "        #el pricing sólo requiere un cambio de la función objetivo\n",
    "        @objective(pricing,Max,sum(p[i]*y[i] for i in 1:n))\n",
    "        status = solve(pricing)\n",
    "        println(\"\\tpricing:\\t\",getobjectivevalue(pricing))\n",
    "        if getobjectivevalue(pricing)<(1.0+EPS)\n",
    "            break\n",
    "        else\n",
    "            #new column\n",
    "            solvec=Float64[]\n",
    "            for i in 1:n\n",
    "                push!(solvec,getvalue(y)[i])\n",
    "            end\n",
    "            @variable(model, xNew>=0, objective = 1, inconstraints=demand, coefficients =solvec)\n",
    "            numVariables += 1\n",
    "            setname(xNew, string(\"x[\",numVariables,\"]\")) \n",
    "            push!(newColumns, xNew)            \n",
    "        end\n",
    "    end    \n",
    "    println(\"\\nend Fase 1 con valor:\",getobjectivevalue(model))\n",
    "    for i=1:length(x)\n",
    "        setcategory(x[i], :Int)\n",
    "    end\n",
    "    for i=1:length(newColumns)\n",
    "        setcategory(newColumns[i], :Int)\n",
    "    end\n",
    "\n",
    "    status = solve(model)\n",
    "    println(\"\\nend Fase 2 con valor:\",getobjectivevalue(model))\n",
    "end"
   ]
  },
  {
   "cell_type": "code",
   "execution_count": null,
   "metadata": {},
   "outputs": [],
   "source": [
    "solveCGHeur(n,W,d,w,CplexSolver(CPX_PARAM_SCRIND=0),CplexSolver(CPX_PARAM_SCRIND=0))"
   ]
  },
  {
   "cell_type": "code",
   "execution_count": null,
   "metadata": {
    "collapsed": true
   },
   "outputs": [],
   "source": []
  }
 ],
 "metadata": {
  "kernelspec": {
   "display_name": "Julia 0.5.2",
   "language": "julia",
   "name": "julia-0.5"
  },
  "language_info": {
   "file_extension": ".jl",
   "mimetype": "application/julia",
   "name": "julia",
   "version": "0.5.2"
  }
 },
 "nbformat": 4,
 "nbformat_minor": 2
}
