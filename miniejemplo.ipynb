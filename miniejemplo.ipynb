{
 "cells": [
  {
   "cell_type": "code",
   "execution_count": 3,
   "metadata": {},
   "outputs": [],
   "source": [
    "#Pkg.add(\"JuMP\")\n",
    "#Pkg.add(\"GLPKMathProgInterface\")\n",
    "using JuMP\n",
    "using GLPKMathProgInterface\n",
    "#using CPLEX"
   ]
  },
  {
   "cell_type": "code",
   "execution_count": 7,
   "metadata": {},
   "outputs": [
    {
     "name": "stdout",
     "output_type": "stream",
     "text": [
      "Max 5 x + 3 y\n",
      "Subject to\n",
      " x + 5 y ≤ 3\n",
      " 0 ≤ x ≤ 2\n",
      " 0 ≤ y ≤ 30\n",
      "Tried aggregator 1 time.\n",
      "LP Presolve eliminated 1 rows and 2 columns.\n",
      "All rows and columns eliminated.\n",
      "Presolve time = 0.01 sec. (0.00 ticks)\n",
      "Status: Optimal Objective value: 10.600000000000001\n",
      "x = 2.0\n",
      "y = 0.2\n",
      "CPLEX Error  3003: Not a mixed-integer problem.\n"
     ]
    }
   ],
   "source": [
    "#GLPKSolver[LP|MIP]()\n",
    "m = Model(solver = GLPKSolverLP())\n",
    "#m = Model(solver = CplexSolver())\n",
    "@variable(m, 0 <= x <= 2 )\n",
    "@variable(m, 0 <= y <= 30 )\n",
    "\n",
    "@objective(m, Max, 5x + 3*y )\n",
    "@constraint(m, 1x + 5y <= 3.0 )\n",
    "\n",
    "print(m)\n",
    "\n",
    "status = solve(m)\n",
    "\n",
    "println(\"Status: \",status,\" Objective value: \", getobjectivevalue(m))\n",
    "println(\"x = \", getvalue(x))\n",
    "println(\"y = \", getvalue(y))"
   ]
  },
  {
   "cell_type": "code",
   "execution_count": null,
   "metadata": {
    "collapsed": true
   },
   "outputs": [],
   "source": []
  }
 ],
 "metadata": {
  "kernelspec": {
   "display_name": "Julia 0.5.2",
   "language": "julia",
   "name": "julia-0.5"
  },
  "language_info": {
   "file_extension": ".jl",
   "mimetype": "application/julia",
   "name": "julia",
   "version": "0.5.2"
  }
 },
 "nbformat": 4,
 "nbformat_minor": 2
}
